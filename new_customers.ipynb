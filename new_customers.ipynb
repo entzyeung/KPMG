{
 "cells": [
  {
   "cell_type": "code",
   "execution_count": 107,
   "outputs": [],
   "source": [
    "#Get all packages needed\n",
    "import pandas as pd\n",
    "import numpy as np\n",
    "import datetime as dt\n",
    "import plotly.graph_objects as go\n",
    "\n",
    "import plotly.express as px # for color setting\n",
    "\n",
    "\n",
    "from matplotlib.ticker import FuncFormatter\n",
    "import matplotlib.pyplot as plt\n",
    "import warnings\n",
    "import math as ma\n",
    "warnings.filterwarnings(\"ignore\")\n",
    "pd.set_option('display.float_format', '{:.2f}'.format) #Get rid of scientific notation\n",
    "\n",
    "\n",
    "\n",
    "\n",
    "\n"
   ],
   "metadata": {
    "collapsed": false,
    "pycharm": {
     "name": "#%%\n"
    }
   }
  },
  {
   "cell_type": "code",
   "execution_count": 108,
   "outputs": [
    {
     "data": {
      "text/plain": "Index(['first_name', 'last_name', 'gender',\n       'past_3_years_bike_related_purchases', 'DOB', 'job_title',\n       'job_industry_category', 'wealth_segment', 'deceased_indicator',\n       'owns_car', 'tenure', 'address', 'postcode', 'state', 'country',\n       'property_valuation', 'Unnamed: 16', 'Unnamed: 17', 'Unnamed: 18',\n       'Unnamed: 19', 'Unnamed: 20', 'Rank', 'Value'],\n      dtype='object')"
     },
     "execution_count": 108,
     "metadata": {},
     "output_type": "execute_result"
    }
   ],
   "source": [
    "df = pd.read_excel('KPMG_VI_New_raw_data_update_final.xlsx', sheetname=\"NewCustomerList\",\n",
    "                   skiprows=1,\n",
    "                   comment='#',\n",
    "                   sep='\\t',\n",
    "                   header=0,\n",
    "                   parse_dates=True )\n",
    "\n",
    "df.columns"
   ],
   "metadata": {
    "collapsed": false,
    "pycharm": {
     "name": "#%%\n"
    }
   }
  },
  {
   "cell_type": "code",
   "execution_count": 109,
   "outputs": [],
   "source": [
    "# rename for easier analysis\n",
    "df.rename(columns={\"first_name\":\"fname\",\n",
    "                   \"last_name\":\"lname\",\n",
    "                   \"gender\":\"gender\",\n",
    "                   \"past_3_years_bike_related_purchases\":\"3y_bike_purchases\",\n",
    "                   \"DOB\":\"DOB\",\n",
    "                   \"job_title\":\"JT\"}, inplace = True)\n",
    "df.rename(columns={\"job_industry_category\":\"Category\",\n",
    "                   \"wealth_segment\":\"wealth_segment\",\n",
    "                   \"deceased_indicator\":\"D_Indicator\",\n",
    "                   \"default\":\"default\",\n",
    "                   \"owns_car\":\"owns_car\",\n",
    "                   \"tenure\":\"tenure\"}, inplace = True)"
   ],
   "metadata": {
    "collapsed": false,
    "pycharm": {
     "name": "#%%\n"
    }
   }
  },
  {
   "cell_type": "code",
   "execution_count": 110,
   "outputs": [
    {
     "data": {
      "text/plain": "     fname      lname  gender  3y_bike_purchases        DOB  \\\n0  Chickie    Brister    Male                 86 1957-07-12   \n1    Morly     Genery    Male                 69 1970-03-22   \n2  Ardelis  Forrester  Female                 10 1974-08-28   \n3   Lucine      Stutt  Female                 64 1979-01-28   \n4  Melinda     Hadlee  Female                 34 1965-09-21   \n\n                           JT            Category     wealth_segment  \\\n0             General Manager       Manufacturing      Mass Customer   \n1         Structural Engineer            Property      Mass Customer   \n2      Senior Cost Accountant  Financial Services  Affluent Customer   \n3  Account Representative III       Manufacturing  Affluent Customer   \n4           Financial Analyst  Financial Services  Affluent Customer   \n\n  D_Indicator owns_car  ...  state    country  property_valuation Unnamed: 16  \\\n0           N      Yes  ...    QLD  Australia                   6        0.56   \n1           N       No  ...    NSW  Australia                  11        0.89   \n2           N       No  ...    VIC  Australia                   5        1.01   \n3           N      Yes  ...    QLD  Australia                   1        0.87   \n4           N       No  ...    NSW  Australia                   9        0.52   \n\n  Unnamed: 17  Unnamed: 18  Unnamed: 19  Unnamed: 20  Rank  Value  \n0        0.70         0.88         0.74            1     1   1.72  \n1        0.89         1.11         0.95            1     1   1.72  \n2        1.01         1.01         1.01            1     1   1.72  \n3        1.09         1.09         1.09            4     4   1.70  \n4        0.52         0.65         0.65            4     4   1.70  \n\n[5 rows x 23 columns]",
      "text/html": "<div>\n<style scoped>\n    .dataframe tbody tr th:only-of-type {\n        vertical-align: middle;\n    }\n\n    .dataframe tbody tr th {\n        vertical-align: top;\n    }\n\n    .dataframe thead th {\n        text-align: right;\n    }\n</style>\n<table border=\"1\" class=\"dataframe\">\n  <thead>\n    <tr style=\"text-align: right;\">\n      <th></th>\n      <th>fname</th>\n      <th>lname</th>\n      <th>gender</th>\n      <th>3y_bike_purchases</th>\n      <th>DOB</th>\n      <th>JT</th>\n      <th>Category</th>\n      <th>wealth_segment</th>\n      <th>D_Indicator</th>\n      <th>owns_car</th>\n      <th>...</th>\n      <th>state</th>\n      <th>country</th>\n      <th>property_valuation</th>\n      <th>Unnamed: 16</th>\n      <th>Unnamed: 17</th>\n      <th>Unnamed: 18</th>\n      <th>Unnamed: 19</th>\n      <th>Unnamed: 20</th>\n      <th>Rank</th>\n      <th>Value</th>\n    </tr>\n  </thead>\n  <tbody>\n    <tr>\n      <th>0</th>\n      <td>Chickie</td>\n      <td>Brister</td>\n      <td>Male</td>\n      <td>86</td>\n      <td>1957-07-12</td>\n      <td>General Manager</td>\n      <td>Manufacturing</td>\n      <td>Mass Customer</td>\n      <td>N</td>\n      <td>Yes</td>\n      <td>...</td>\n      <td>QLD</td>\n      <td>Australia</td>\n      <td>6</td>\n      <td>0.56</td>\n      <td>0.70</td>\n      <td>0.88</td>\n      <td>0.74</td>\n      <td>1</td>\n      <td>1</td>\n      <td>1.72</td>\n    </tr>\n    <tr>\n      <th>1</th>\n      <td>Morly</td>\n      <td>Genery</td>\n      <td>Male</td>\n      <td>69</td>\n      <td>1970-03-22</td>\n      <td>Structural Engineer</td>\n      <td>Property</td>\n      <td>Mass Customer</td>\n      <td>N</td>\n      <td>No</td>\n      <td>...</td>\n      <td>NSW</td>\n      <td>Australia</td>\n      <td>11</td>\n      <td>0.89</td>\n      <td>0.89</td>\n      <td>1.11</td>\n      <td>0.95</td>\n      <td>1</td>\n      <td>1</td>\n      <td>1.72</td>\n    </tr>\n    <tr>\n      <th>2</th>\n      <td>Ardelis</td>\n      <td>Forrester</td>\n      <td>Female</td>\n      <td>10</td>\n      <td>1974-08-28</td>\n      <td>Senior Cost Accountant</td>\n      <td>Financial Services</td>\n      <td>Affluent Customer</td>\n      <td>N</td>\n      <td>No</td>\n      <td>...</td>\n      <td>VIC</td>\n      <td>Australia</td>\n      <td>5</td>\n      <td>1.01</td>\n      <td>1.01</td>\n      <td>1.01</td>\n      <td>1.01</td>\n      <td>1</td>\n      <td>1</td>\n      <td>1.72</td>\n    </tr>\n    <tr>\n      <th>3</th>\n      <td>Lucine</td>\n      <td>Stutt</td>\n      <td>Female</td>\n      <td>64</td>\n      <td>1979-01-28</td>\n      <td>Account Representative III</td>\n      <td>Manufacturing</td>\n      <td>Affluent Customer</td>\n      <td>N</td>\n      <td>Yes</td>\n      <td>...</td>\n      <td>QLD</td>\n      <td>Australia</td>\n      <td>1</td>\n      <td>0.87</td>\n      <td>1.09</td>\n      <td>1.09</td>\n      <td>1.09</td>\n      <td>4</td>\n      <td>4</td>\n      <td>1.70</td>\n    </tr>\n    <tr>\n      <th>4</th>\n      <td>Melinda</td>\n      <td>Hadlee</td>\n      <td>Female</td>\n      <td>34</td>\n      <td>1965-09-21</td>\n      <td>Financial Analyst</td>\n      <td>Financial Services</td>\n      <td>Affluent Customer</td>\n      <td>N</td>\n      <td>No</td>\n      <td>...</td>\n      <td>NSW</td>\n      <td>Australia</td>\n      <td>9</td>\n      <td>0.52</td>\n      <td>0.52</td>\n      <td>0.65</td>\n      <td>0.65</td>\n      <td>4</td>\n      <td>4</td>\n      <td>1.70</td>\n    </tr>\n  </tbody>\n</table>\n<p>5 rows × 23 columns</p>\n</div>"
     },
     "execution_count": 110,
     "metadata": {},
     "output_type": "execute_result"
    }
   ],
   "source": [
    "df.head()"
   ],
   "metadata": {
    "collapsed": false,
    "pycharm": {
     "name": "#%%\n"
    }
   }
  },
  {
   "cell_type": "code",
   "execution_count": 111,
   "outputs": [
    {
     "data": {
      "text/plain": "array(['Male', 'Female', 'U'], dtype=object)"
     },
     "execution_count": 111,
     "metadata": {},
     "output_type": "execute_result"
    }
   ],
   "source": [
    "df.gender.unique()\n"
   ],
   "metadata": {
    "collapsed": false,
    "pycharm": {
     "name": "#%%\n"
    }
   }
  },
  {
   "cell_type": "markdown",
   "source": [
    "<h1>Remap the gender"
   ],
   "metadata": {
    "collapsed": false,
    "pycharm": {
     "name": "#%% md\n"
    }
   }
  },
  {
   "cell_type": "code",
   "execution_count": 112,
   "outputs": [],
   "source": [
    "gen = {'M':\"Male\", 'F':'Female', 'Male':\"Male\", 'Female':'Female', 'Femal':'Female', 'U': 'Unknown'}\n",
    "df['gender'] = df['gender'].map(gen)"
   ],
   "metadata": {
    "collapsed": false,
    "pycharm": {
     "name": "#%%\n"
    }
   }
  },
  {
   "cell_type": "code",
   "execution_count": 113,
   "outputs": [
    {
     "data": {
      "text/plain": "     fname      lname  gender  3y_bike_purchases        DOB  \\\n0  Chickie    Brister    Male                 86 1957-07-12   \n1    Morly     Genery    Male                 69 1970-03-22   \n2  Ardelis  Forrester  Female                 10 1974-08-28   \n3   Lucine      Stutt  Female                 64 1979-01-28   \n4  Melinda     Hadlee  Female                 34 1965-09-21   \n\n                           JT            Category     wealth_segment  \\\n0             General Manager       Manufacturing      Mass Customer   \n1         Structural Engineer            Property      Mass Customer   \n2      Senior Cost Accountant  Financial Services  Affluent Customer   \n3  Account Representative III       Manufacturing  Affluent Customer   \n4           Financial Analyst  Financial Services  Affluent Customer   \n\n  D_Indicator owns_car  ...  state    country  property_valuation Unnamed: 16  \\\n0           N      Yes  ...    QLD  Australia                   6        0.56   \n1           N       No  ...    NSW  Australia                  11        0.89   \n2           N       No  ...    VIC  Australia                   5        1.01   \n3           N      Yes  ...    QLD  Australia                   1        0.87   \n4           N       No  ...    NSW  Australia                   9        0.52   \n\n  Unnamed: 17  Unnamed: 18  Unnamed: 19  Unnamed: 20  Rank  Value  \n0        0.70         0.88         0.74            1     1   1.72  \n1        0.89         1.11         0.95            1     1   1.72  \n2        1.01         1.01         1.01            1     1   1.72  \n3        1.09         1.09         1.09            4     4   1.70  \n4        0.52         0.65         0.65            4     4   1.70  \n\n[5 rows x 23 columns]",
      "text/html": "<div>\n<style scoped>\n    .dataframe tbody tr th:only-of-type {\n        vertical-align: middle;\n    }\n\n    .dataframe tbody tr th {\n        vertical-align: top;\n    }\n\n    .dataframe thead th {\n        text-align: right;\n    }\n</style>\n<table border=\"1\" class=\"dataframe\">\n  <thead>\n    <tr style=\"text-align: right;\">\n      <th></th>\n      <th>fname</th>\n      <th>lname</th>\n      <th>gender</th>\n      <th>3y_bike_purchases</th>\n      <th>DOB</th>\n      <th>JT</th>\n      <th>Category</th>\n      <th>wealth_segment</th>\n      <th>D_Indicator</th>\n      <th>owns_car</th>\n      <th>...</th>\n      <th>state</th>\n      <th>country</th>\n      <th>property_valuation</th>\n      <th>Unnamed: 16</th>\n      <th>Unnamed: 17</th>\n      <th>Unnamed: 18</th>\n      <th>Unnamed: 19</th>\n      <th>Unnamed: 20</th>\n      <th>Rank</th>\n      <th>Value</th>\n    </tr>\n  </thead>\n  <tbody>\n    <tr>\n      <th>0</th>\n      <td>Chickie</td>\n      <td>Brister</td>\n      <td>Male</td>\n      <td>86</td>\n      <td>1957-07-12</td>\n      <td>General Manager</td>\n      <td>Manufacturing</td>\n      <td>Mass Customer</td>\n      <td>N</td>\n      <td>Yes</td>\n      <td>...</td>\n      <td>QLD</td>\n      <td>Australia</td>\n      <td>6</td>\n      <td>0.56</td>\n      <td>0.70</td>\n      <td>0.88</td>\n      <td>0.74</td>\n      <td>1</td>\n      <td>1</td>\n      <td>1.72</td>\n    </tr>\n    <tr>\n      <th>1</th>\n      <td>Morly</td>\n      <td>Genery</td>\n      <td>Male</td>\n      <td>69</td>\n      <td>1970-03-22</td>\n      <td>Structural Engineer</td>\n      <td>Property</td>\n      <td>Mass Customer</td>\n      <td>N</td>\n      <td>No</td>\n      <td>...</td>\n      <td>NSW</td>\n      <td>Australia</td>\n      <td>11</td>\n      <td>0.89</td>\n      <td>0.89</td>\n      <td>1.11</td>\n      <td>0.95</td>\n      <td>1</td>\n      <td>1</td>\n      <td>1.72</td>\n    </tr>\n    <tr>\n      <th>2</th>\n      <td>Ardelis</td>\n      <td>Forrester</td>\n      <td>Female</td>\n      <td>10</td>\n      <td>1974-08-28</td>\n      <td>Senior Cost Accountant</td>\n      <td>Financial Services</td>\n      <td>Affluent Customer</td>\n      <td>N</td>\n      <td>No</td>\n      <td>...</td>\n      <td>VIC</td>\n      <td>Australia</td>\n      <td>5</td>\n      <td>1.01</td>\n      <td>1.01</td>\n      <td>1.01</td>\n      <td>1.01</td>\n      <td>1</td>\n      <td>1</td>\n      <td>1.72</td>\n    </tr>\n    <tr>\n      <th>3</th>\n      <td>Lucine</td>\n      <td>Stutt</td>\n      <td>Female</td>\n      <td>64</td>\n      <td>1979-01-28</td>\n      <td>Account Representative III</td>\n      <td>Manufacturing</td>\n      <td>Affluent Customer</td>\n      <td>N</td>\n      <td>Yes</td>\n      <td>...</td>\n      <td>QLD</td>\n      <td>Australia</td>\n      <td>1</td>\n      <td>0.87</td>\n      <td>1.09</td>\n      <td>1.09</td>\n      <td>1.09</td>\n      <td>4</td>\n      <td>4</td>\n      <td>1.70</td>\n    </tr>\n    <tr>\n      <th>4</th>\n      <td>Melinda</td>\n      <td>Hadlee</td>\n      <td>Female</td>\n      <td>34</td>\n      <td>1965-09-21</td>\n      <td>Financial Analyst</td>\n      <td>Financial Services</td>\n      <td>Affluent Customer</td>\n      <td>N</td>\n      <td>No</td>\n      <td>...</td>\n      <td>NSW</td>\n      <td>Australia</td>\n      <td>9</td>\n      <td>0.52</td>\n      <td>0.52</td>\n      <td>0.65</td>\n      <td>0.65</td>\n      <td>4</td>\n      <td>4</td>\n      <td>1.70</td>\n    </tr>\n  </tbody>\n</table>\n<p>5 rows × 23 columns</p>\n</div>"
     },
     "execution_count": 113,
     "metadata": {},
     "output_type": "execute_result"
    }
   ],
   "source": [
    "df.head()\n"
   ],
   "metadata": {
    "collapsed": false,
    "pycharm": {
     "name": "#%%\n"
    }
   }
  },
  {
   "cell_type": "code",
   "execution_count": 113,
   "outputs": [],
   "source": [],
   "metadata": {
    "collapsed": false,
    "pycharm": {
     "name": "#%%\n"
    }
   }
  },
  {
   "cell_type": "code",
   "execution_count": 114,
   "outputs": [
    {
     "name": "stdout",
     "output_type": "stream",
     "text": [
      "<class 'pandas.core.frame.DataFrame'>\n",
      "RangeIndex: 1000 entries, 0 to 999\n",
      "Data columns (total 23 columns):\n",
      "fname                 1000 non-null object\n",
      "lname                 971 non-null object\n",
      "gender                1000 non-null object\n",
      "3y_bike_purchases     1000 non-null int64\n",
      "DOB                   983 non-null datetime64[ns]\n",
      "JT                    894 non-null object\n",
      "Category              835 non-null object\n",
      "wealth_segment        1000 non-null object\n",
      "D_Indicator           1000 non-null object\n",
      "owns_car              1000 non-null object\n",
      "tenure                1000 non-null int64\n",
      "address               1000 non-null object\n",
      "postcode              1000 non-null int64\n",
      "state                 1000 non-null object\n",
      "country               1000 non-null object\n",
      "property_valuation    1000 non-null int64\n",
      "Unnamed: 16           1000 non-null float64\n",
      "Unnamed: 17           1000 non-null float64\n",
      "Unnamed: 18           1000 non-null float64\n",
      "Unnamed: 19           1000 non-null float64\n",
      "Unnamed: 20           1000 non-null int64\n",
      "Rank                  1000 non-null int64\n",
      "Value                 1000 non-null float64\n",
      "dtypes: datetime64[ns](1), float64(5), int64(6), object(11)\n",
      "memory usage: 179.8+ KB\n"
     ]
    }
   ],
   "source": [
    "df.info()"
   ],
   "metadata": {
    "collapsed": false,
    "pycharm": {
     "name": "#%%\n"
    }
   }
  },
  {
   "cell_type": "markdown",
   "source": [
    "<h1>Check missing data percentage"
   ],
   "metadata": {
    "collapsed": false,
    "pycharm": {
     "name": "#%% md\n"
    }
   }
  },
  {
   "cell_type": "code",
   "execution_count": 115,
   "outputs": [
    {
     "name": "stdout",
     "output_type": "stream",
     "text": [
      "fname - 0.0%\n",
      "lname - 3.0%\n",
      "gender - 0.0%\n",
      "3y_bike_purchases - 0.0%\n",
      "DOB - 2.0%\n",
      "JT - 11.0%\n",
      "Category - 16.0%\n",
      "wealth_segment - 0.0%\n",
      "D_Indicator - 0.0%\n",
      "owns_car - 0.0%\n",
      "tenure - 0.0%\n",
      "address - 0.0%\n",
      "postcode - 0.0%\n",
      "state - 0.0%\n",
      "country - 0.0%\n",
      "property_valuation - 0.0%\n",
      "Unnamed: 16 - 0.0%\n",
      "Unnamed: 17 - 0.0%\n",
      "Unnamed: 18 - 0.0%\n",
      "Unnamed: 19 - 0.0%\n",
      "Unnamed: 20 - 0.0%\n",
      "Rank - 0.0%\n",
      "Value - 0.0%\n"
     ]
    }
   ],
   "source": [
    "for col in df.columns:\n",
    "    pct_missing = np.mean(df[col].isnull())\n",
    "    print('{} - {}%'.format(col, round(pct_missing*100)))\n"
   ],
   "metadata": {
    "collapsed": false,
    "pycharm": {
     "name": "#%%\n"
    }
   }
  },
  {
   "cell_type": "code",
   "execution_count": 116,
   "outputs": [
    {
     "data": {
      "text/plain": "fname                 False\nlname                  True\ngender                False\n3y_bike_purchases     False\nDOB                    True\nJT                     True\nCategory               True\nwealth_segment        False\nD_Indicator           False\nowns_car              False\ntenure                False\naddress               False\npostcode              False\nstate                 False\ncountry               False\nproperty_valuation    False\nUnnamed: 16           False\nUnnamed: 17           False\nUnnamed: 18           False\nUnnamed: 19           False\nUnnamed: 20           False\nRank                  False\nValue                 False\ndtype: bool"
     },
     "execution_count": 116,
     "metadata": {},
     "output_type": "execute_result"
    }
   ],
   "source": [
    "df.isna().any()"
   ],
   "metadata": {
    "collapsed": false,
    "pycharm": {
     "name": "#%%\n"
    }
   }
  },
  {
   "cell_type": "code",
   "execution_count": 117,
   "outputs": [
    {
     "data": {
      "text/plain": "fname                0.00\nlname                0.03\ngender               0.00\n3y_bike_purchases    0.00\nDOB                  0.02\nJT                   0.11\nCategory             0.17\nwealth_segment       0.00\nD_Indicator          0.00\nowns_car             0.00\ntenure               0.00\naddress              0.00\npostcode             0.00\nstate                0.00\ncountry              0.00\nproperty_valuation   0.00\nUnnamed: 16          0.00\nUnnamed: 17          0.00\nUnnamed: 18          0.00\nUnnamed: 19          0.00\nUnnamed: 20          0.00\nRank                 0.00\nValue                0.00\ndtype: float64"
     },
     "execution_count": 117,
     "metadata": {},
     "output_type": "execute_result"
    }
   ],
   "source": [
    "df.isnull().sum()/len(df)\n",
    "\n"
   ],
   "metadata": {
    "collapsed": false,
    "pycharm": {
     "name": "#%%\n"
    }
   }
  },
  {
   "cell_type": "code",
   "execution_count": 118,
   "outputs": [
    {
     "data": {
      "text/plain": "             fname        lname   gender  3y_bike_purchases        DOB  \\\n12            Olag          NaN     Male                 60 1990-05-13   \n15           Dukie        Swire     Male                 88 1954-03-31   \n22            Otis        Ottey     Male                 26 1998-02-05   \n23        Tabbatha      Averill   Female                  5 1977-12-17   \n25          Rourke     Gillbard     Male                 11 1945-08-03   \n29           Rhona    De Freyne   Female                 45 1960-11-22   \n30         Sharron    Claibourn   Female                 62 1980-01-26   \n33           Mikel       McNess     Male                 71 1981-09-22   \n36          Farlie      Petford     Male                 76 1968-03-25   \n37        Mitchell     MacCague     Male                 58 1979-04-11   \n38           Garik     Whitwell     Male                 44 1955-06-13   \n39         Antonin        Britt     Male                 64 1993-08-28   \n40           Vinny      Incogna   Female                 73 1953-02-13   \n42           Neile       Argent   Female                 79 1946-10-25   \n43         Corinna       Suggey   Female                 52 1966-09-18   \n44          Brooke       Arling     Male                 76 1961-12-05   \n47          Jobina      Gobourn   Female                 85 1994-12-04   \n50        Heinrick    Shilstone     Male                 60 1978-02-11   \n53          Odessa    Mc Andrew   Female                 97 1981-12-01   \n57         Marylou       Kirkup   Female                 51 1972-10-31   \n58       Whittaker          NaN     Male                 64 1966-07-29   \n59           Normy     Goodinge  Unknown                  5        NaT   \n69        Vivienne      Crayden   Female                 82 1988-09-18   \n73           Yancy    Clementet     Male                  5 1968-02-16   \n74         Mabelle   Wellbelove   Female                 76 1958-04-21   \n82          Esther       Rooson   Female                 14 1981-02-22   \n85          Pietra    Buckleigh   Female                  9 1949-04-29   \n87        Kahaleel          NaN     Male                  5 1942-11-01   \n90        Ludovico       Juster     Male                 93 1992-04-19   \n92      Andromache   Bonafacino   Female                 84 1977-09-01   \n..             ...          ...      ...                ...        ...   \n882           Judi     Cazereau   Female                 22 1997-03-03   \n883          Shara     Bramhill  Unknown                 24        NaT   \n888     Antoinette          NaN   Female                 72 1980-07-28   \n889           Carr    Hopkynson     Male                 64 1971-10-18   \n893          Jesse       Alflat     Male                 31 1984-09-01   \n899         Penrod  Tomasicchio     Male                  5 1968-05-28   \n900         Pancho         Edis     Male                  1 1970-12-30   \n904           Roth         Crum  Unknown                  0        NaT   \n906         Conway       Juarez     Male                 27 1967-03-02   \n907            Dru      Crellim   Female                 57 1963-03-04   \n910         Aleece        Feige   Female                 49 1975-09-16   \n913     Hildegarde         Bamb   Female                 16 1961-02-10   \n914         Launce         Gale     Male                 86 1939-01-15   \n920  Sheilakathryn         Huff   Female                 45 1958-05-15   \n923         Wilone     Champley   Female                 22 1983-11-06   \n929          Diane       Furman   Female                 67 1993-08-11   \n941         Angele       Cadore   Female                  5 1954-09-06   \n950          Liane    Abelevitz   Female                 26 1976-11-25   \n952          Candy          NaN   Female                 23 1977-12-08   \n953          Noami        Cokly   Female                 74 1962-09-17   \n954        Lyndell      Jereatt   Female                 14 1994-11-28   \n957         Rhodie      Gaskall   Female                 83 1964-02-01   \n959       Blondell      Dibdall   Female                 62 1967-01-03   \n971         Frieda      Tavinor   Female                 43 1999-03-04   \n972        Ellwood       Budden     Male                 82 1998-06-03   \n975           Amby       Bodega     Male                 63 1968-06-12   \n980           Tyne      Anshell   Female                 71 1992-04-08   \n983        Augusta        Munns   Female                  5 1951-09-17   \n984        Pauline     Dallosso  Unknown                 82        NaT   \n989         Kellen     Pawelski   Female                 83 1945-07-26   \n\n                                 JT            Category     wealth_segment  \\\n12          Human Resources Manager  Telecommunications      Mass Customer   \n15                              NaN       Manufacturing  Affluent Customer   \n22                 Quality Engineer                 NaN      Mass Customer   \n23       Quality Control Specialist                 NaN  Affluent Customer   \n25                              NaN            Property      Mass Customer   \n29                              NaN              Health     High Net Worth   \n30                              NaN  Financial Services     High Net Worth   \n33                            Nurse                 NaN      Mass Customer   \n36               Recruiting Manager                 NaN     High Net Worth   \n37                              NaN       Manufacturing      Mass Customer   \n38                              NaN            Property      Mass Customer   \n39                              NaN       Manufacturing  Affluent Customer   \n40                              NaN              Health     High Net Worth   \n42                              NaN              Retail      Mass Customer   \n43                  Design Engineer                 NaN  Affluent Customer   \n44                              NaN                 NaN     High Net Worth   \n47               VP Quality Control                 NaN     High Net Worth   \n50                              NaN       Manufacturing  Affluent Customer   \n53                              NaN            Property      Mass Customer   \n57            VP Product Management                 NaN      Mass Customer   \n58                Media Manager III                 NaN      Mass Customer   \n59              Associate Professor                  IT      Mass Customer   \n69              Associate Professor                 NaN     High Net Worth   \n73      Mechanical Systems Engineer                 NaN     High Net Worth   \n74                              NaN  Financial Services  Affluent Customer   \n82                              NaN  Financial Services      Mass Customer   \n85                     Engineer III                 NaN     High Net Worth   \n87          GIS Technical Architect                 NaN     High Net Worth   \n90         Environmental Specialist                 NaN  Affluent Customer   \n92                              NaN              Retail      Mass Customer   \n..                              ...                 ...                ...   \n882         GIS Technical Architect                 NaN  Affluent Customer   \n883                             NaN                  IT  Affluent Customer   \n888    Structural Analysis Engineer  Financial Services  Affluent Customer   \n889                             NaN       Manufacturing  Affluent Customer   \n893             Executive Secretary                 NaN     High Net Worth   \n899                             NaN              Health     High Net Worth   \n900             Assistant Professor                 NaN      Mass Customer   \n904                 Legal Assistant                  IT      Mass Customer   \n906            Help Desk Technician                 NaN  Affluent Customer   \n907                             NaN                 NaN      Mass Customer   \n910                             NaN       Manufacturing      Mass Customer   \n913              Help Desk Operator                 NaN     High Net Worth   \n914                             NaN                 NaN      Mass Customer   \n920               Assistant Manager                 NaN     High Net Worth   \n923                             NaN       Manufacturing     High Net Worth   \n929                             NaN       Manufacturing  Affluent Customer   \n941           Chief Design Engineer                 NaN      Mass Customer   \n950                        Operator                 NaN      Mass Customer   \n952                             NaN  Financial Services      Mass Customer   \n953                             NaN       Manufacturing      Mass Customer   \n954  Payment Adjustment Coordinator                 NaN     High Net Worth   \n957              VP Quality Control                 NaN      Mass Customer   \n959                  Programmer III                 NaN      Mass Customer   \n971                             NaN                 NaN  Affluent Customer   \n972                             NaN              Health      Mass Customer   \n975                       Recruiter                 NaN  Affluent Customer   \n980     Mechanical Systems Engineer                 NaN      Mass Customer   \n983      Quality Control Specialist                 NaN      Mass Customer   \n984      Desktop Support Technician                  IT  Affluent Customer   \n989                             NaN       Manufacturing     High Net Worth   \n\n    D_Indicator owns_car  ...  state    country  property_valuation  \\\n12            N       No  ...    NSW  Australia                  11   \n15            N      Yes  ...    NSW  Australia                   8   \n22            N       No  ...    QLD  Australia                   4   \n23            N      Yes  ...    NSW  Australia                   8   \n25            N       No  ...    QLD  Australia                   4   \n29            N       No  ...    VIC  Australia                  10   \n30            N      Yes  ...    NSW  Australia                   8   \n33            N       No  ...    QLD  Australia                   9   \n36            N       No  ...    NSW  Australia                  10   \n37            N       No  ...    VIC  Australia                   8   \n38            N      Yes  ...    VIC  Australia                   2   \n39            N      Yes  ...    NSW  Australia                   9   \n40            N       No  ...    NSW  Australia                   8   \n42            N       No  ...    NSW  Australia                  10   \n43            N       No  ...    NSW  Australia                   8   \n44            N       No  ...    VIC  Australia                   5   \n47            N      Yes  ...    QLD  Australia                   4   \n50            N       No  ...    VIC  Australia                   8   \n53            N       No  ...    NSW  Australia                  10   \n57            N       No  ...    VIC  Australia                   9   \n58            N      Yes  ...    VIC  Australia                   5   \n59            N       No  ...    VIC  Australia                   5   \n69            N      Yes  ...    QLD  Australia                   7   \n73            N       No  ...    NSW  Australia                   9   \n74            N      Yes  ...    NSW  Australia                   9   \n82            N       No  ...    NSW  Australia                   9   \n85            N       No  ...    NSW  Australia                  10   \n87            N       No  ...    NSW  Australia                  12   \n90            N       No  ...    NSW  Australia                  10   \n92            N       No  ...    NSW  Australia                   9   \n..          ...      ...  ...    ...        ...                 ...   \n882           N      Yes  ...    VIC  Australia                   3   \n883           N       No  ...    NSW  Australia                  10   \n888           N       No  ...    VIC  Australia                   9   \n889           N       No  ...    NSW  Australia                   6   \n893           N       No  ...    NSW  Australia                   9   \n899           N       No  ...    NSW  Australia                   9   \n900           N       No  ...    VIC  Australia                   7   \n904           N       No  ...    NSW  Australia                   6   \n906           N       No  ...    QLD  Australia                   5   \n907           N       No  ...    VIC  Australia                   7   \n910           N       No  ...    NSW  Australia                  10   \n913           N      Yes  ...    VIC  Australia                   9   \n914           N       No  ...    NSW  Australia                   9   \n920           N      Yes  ...    NSW  Australia                   6   \n923           N       No  ...    NSW  Australia                  10   \n929           N      Yes  ...    VIC  Australia                   9   \n941           N      Yes  ...    QLD  Australia                   7   \n950           N       No  ...    VIC  Australia                   7   \n952           N       No  ...    VIC  Australia                   3   \n953           N      Yes  ...    NSW  Australia                  11   \n954           N       No  ...    NSW  Australia                  12   \n957           N      Yes  ...    QLD  Australia                   9   \n959           N       No  ...    VIC  Australia                   4   \n971           N       No  ...    VIC  Australia                   6   \n972           N      Yes  ...    NSW  Australia                  10   \n975           N      Yes  ...    VIC  Australia                   6   \n980           N      Yes  ...    NSW  Australia                   8   \n983           N       No  ...    NSW  Australia                  11   \n984           N      Yes  ...    NSW  Australia                  10   \n989           N      Yes  ...    NSW  Australia                   8   \n\n    Unnamed: 16 Unnamed: 17  Unnamed: 18  Unnamed: 19  Unnamed: 20  Rank  \\\n12         0.43        0.43         0.54         0.46           13    13   \n15         0.58        0.72         0.91         0.91           16    16   \n22         1.02        1.02         1.02         0.87           23    23   \n23         0.72        0.90         0.90         0.90           23    23   \n25         0.59        0.59         0.59         0.50           26    26   \n29         0.73        0.73         0.91         0.91           30    30   \n30         0.71        0.89         0.89         0.89           30    30   \n33         0.70        0.70         0.88         0.74           32    32   \n36         0.86        0.86         1.07         1.07           36    36   \n37         0.62        0.62         0.62         0.53           38    38   \n38         0.88        1.10         1.10         0.94           38    38   \n39         0.43        0.54         0.67         0.67           40    40   \n40         0.62        0.62         0.62         0.62           40    40   \n42         0.83        0.83         1.04         0.88           42    42   \n43         0.89        0.89         0.89         0.89           44    44   \n44         0.97        0.97         0.97         0.97           44    44   \n47         0.48        0.60         0.75         0.75           46    46   \n50         0.43        0.43         0.43         0.43           50    50   \n53         0.62        0.62         0.78         0.66           54    54   \n57         0.66        0.66         0.83         0.70           57    57   \n58         0.98        1.23         1.23         1.04           57    57   \n59         0.78        0.78         0.78         0.66           57    57   \n69         1.01        1.26         1.58         1.58           68    68   \n73         0.50        0.50         0.62         0.62           72    72   \n74         0.85        1.06         1.33         1.33           72    72   \n82         0.62        0.62         0.78         0.66           78    78   \n85         0.48        0.48         0.60         0.60           85    85   \n87         0.84        0.84         1.05         1.05           88    88   \n90         1.07        1.07         1.34         1.34           89    89   \n92         0.71        0.71         0.89         0.75           89    89   \n..          ...         ...          ...          ...          ...   ...   \n882        1.09        1.36         1.36         1.36          883   883   \n883        0.44        0.44         0.55         0.55          883   883   \n888        0.89        0.89         1.11         1.11          888   888   \n889        0.70        0.70         0.70         0.70          888   888   \n893        0.60        0.60         0.75         0.75          893   893   \n899        0.65        0.65         0.81         0.81          899   899   \n900        0.90        0.90         0.90         0.77          899   899   \n904        0.62        0.62         0.62         0.53          904   904   \n906        0.78        0.78         0.78         0.78          904   904   \n907        0.41        0.41         0.41         0.35          904   904   \n910        1.01        1.01         1.26         1.07          904   904   \n913        0.95        1.19         1.48         1.48          913   913   \n914        0.63        0.63         0.79         0.67          913   913   \n920        1.06        1.32         1.32         1.32          921   921   \n923        0.99        0.99         1.24         1.24          924   924   \n929        0.91        1.14         1.42         1.42          930   930   \n941        0.85        1.06         1.06         0.90          939   939   \n950        0.73        0.73         0.73         0.62          951   951   \n952        1.03        1.03         1.03         0.88          951   951   \n953        0.43        0.54         0.67         0.57          954   954   \n954        0.50        0.50         0.62         0.62          954   954   \n957        0.84        1.05         1.31         1.12          956   956   \n959        0.95        0.95         0.95         0.81          960   960   \n971        0.49        0.49         0.49         0.49          972   972   \n972        0.99        1.24         1.55         1.31          972   972   \n975        0.49        0.61         0.61         0.61          974   974   \n980        0.51        0.64         0.64         0.54          979   979   \n983        0.87        0.87         1.09         0.92          983   983   \n984        0.68        0.85         1.06         1.06          985   985   \n989        1.00        1.25         1.56         1.56          988   988   \n\n     Value  \n12    1.61  \n15    1.56  \n22    1.50  \n23    1.50  \n25    1.47  \n29    1.46  \n30    1.46  \n33    1.45  \n36    1.45  \n37    1.44  \n38    1.44  \n39    1.43  \n40    1.43  \n42    1.42  \n43    1.42  \n44    1.42  \n47    1.41  \n50    1.41  \n53    1.38  \n57    1.38  \n58    1.38  \n59    1.38  \n69    1.35  \n73    1.35  \n74    1.35  \n82    1.34  \n85    1.32  \n87    1.31  \n90    1.31  \n92    1.31  \n..     ...  \n882   0.53  \n883   0.53  \n888   0.53  \n889   0.53  \n893   0.52  \n899   0.51  \n900   0.51  \n904   0.50  \n906   0.50  \n907   0.50  \n910   0.50  \n913   0.50  \n914   0.50  \n920   0.49  \n923   0.49  \n929   0.48  \n941   0.47  \n950   0.45  \n952   0.45  \n953   0.45  \n954   0.45  \n957   0.45  \n959   0.44  \n971   0.43  \n972   0.43  \n975   0.42  \n980   0.42  \n983   0.41  \n984   0.41  \n989   0.40  \n\n[285 rows x 23 columns]",
      "text/html": "<div>\n<style scoped>\n    .dataframe tbody tr th:only-of-type {\n        vertical-align: middle;\n    }\n\n    .dataframe tbody tr th {\n        vertical-align: top;\n    }\n\n    .dataframe thead th {\n        text-align: right;\n    }\n</style>\n<table border=\"1\" class=\"dataframe\">\n  <thead>\n    <tr style=\"text-align: right;\">\n      <th></th>\n      <th>fname</th>\n      <th>lname</th>\n      <th>gender</th>\n      <th>3y_bike_purchases</th>\n      <th>DOB</th>\n      <th>JT</th>\n      <th>Category</th>\n      <th>wealth_segment</th>\n      <th>D_Indicator</th>\n      <th>owns_car</th>\n      <th>...</th>\n      <th>state</th>\n      <th>country</th>\n      <th>property_valuation</th>\n      <th>Unnamed: 16</th>\n      <th>Unnamed: 17</th>\n      <th>Unnamed: 18</th>\n      <th>Unnamed: 19</th>\n      <th>Unnamed: 20</th>\n      <th>Rank</th>\n      <th>Value</th>\n    </tr>\n  </thead>\n  <tbody>\n    <tr>\n      <th>12</th>\n      <td>Olag</td>\n      <td>NaN</td>\n      <td>Male</td>\n      <td>60</td>\n      <td>1990-05-13</td>\n      <td>Human Resources Manager</td>\n      <td>Telecommunications</td>\n      <td>Mass Customer</td>\n      <td>N</td>\n      <td>No</td>\n      <td>...</td>\n      <td>NSW</td>\n      <td>Australia</td>\n      <td>11</td>\n      <td>0.43</td>\n      <td>0.43</td>\n      <td>0.54</td>\n      <td>0.46</td>\n      <td>13</td>\n      <td>13</td>\n      <td>1.61</td>\n    </tr>\n    <tr>\n      <th>15</th>\n      <td>Dukie</td>\n      <td>Swire</td>\n      <td>Male</td>\n      <td>88</td>\n      <td>1954-03-31</td>\n      <td>NaN</td>\n      <td>Manufacturing</td>\n      <td>Affluent Customer</td>\n      <td>N</td>\n      <td>Yes</td>\n      <td>...</td>\n      <td>NSW</td>\n      <td>Australia</td>\n      <td>8</td>\n      <td>0.58</td>\n      <td>0.72</td>\n      <td>0.91</td>\n      <td>0.91</td>\n      <td>16</td>\n      <td>16</td>\n      <td>1.56</td>\n    </tr>\n    <tr>\n      <th>22</th>\n      <td>Otis</td>\n      <td>Ottey</td>\n      <td>Male</td>\n      <td>26</td>\n      <td>1998-02-05</td>\n      <td>Quality Engineer</td>\n      <td>NaN</td>\n      <td>Mass Customer</td>\n      <td>N</td>\n      <td>No</td>\n      <td>...</td>\n      <td>QLD</td>\n      <td>Australia</td>\n      <td>4</td>\n      <td>1.02</td>\n      <td>1.02</td>\n      <td>1.02</td>\n      <td>0.87</td>\n      <td>23</td>\n      <td>23</td>\n      <td>1.50</td>\n    </tr>\n    <tr>\n      <th>23</th>\n      <td>Tabbatha</td>\n      <td>Averill</td>\n      <td>Female</td>\n      <td>5</td>\n      <td>1977-12-17</td>\n      <td>Quality Control Specialist</td>\n      <td>NaN</td>\n      <td>Affluent Customer</td>\n      <td>N</td>\n      <td>Yes</td>\n      <td>...</td>\n      <td>NSW</td>\n      <td>Australia</td>\n      <td>8</td>\n      <td>0.72</td>\n      <td>0.90</td>\n      <td>0.90</td>\n      <td>0.90</td>\n      <td>23</td>\n      <td>23</td>\n      <td>1.50</td>\n    </tr>\n    <tr>\n      <th>25</th>\n      <td>Rourke</td>\n      <td>Gillbard</td>\n      <td>Male</td>\n      <td>11</td>\n      <td>1945-08-03</td>\n      <td>NaN</td>\n      <td>Property</td>\n      <td>Mass Customer</td>\n      <td>N</td>\n      <td>No</td>\n      <td>...</td>\n      <td>QLD</td>\n      <td>Australia</td>\n      <td>4</td>\n      <td>0.59</td>\n      <td>0.59</td>\n      <td>0.59</td>\n      <td>0.50</td>\n      <td>26</td>\n      <td>26</td>\n      <td>1.47</td>\n    </tr>\n    <tr>\n      <th>29</th>\n      <td>Rhona</td>\n      <td>De Freyne</td>\n      <td>Female</td>\n      <td>45</td>\n      <td>1960-11-22</td>\n      <td>NaN</td>\n      <td>Health</td>\n      <td>High Net Worth</td>\n      <td>N</td>\n      <td>No</td>\n      <td>...</td>\n      <td>VIC</td>\n      <td>Australia</td>\n      <td>10</td>\n      <td>0.73</td>\n      <td>0.73</td>\n      <td>0.91</td>\n      <td>0.91</td>\n      <td>30</td>\n      <td>30</td>\n      <td>1.46</td>\n    </tr>\n    <tr>\n      <th>30</th>\n      <td>Sharron</td>\n      <td>Claibourn</td>\n      <td>Female</td>\n      <td>62</td>\n      <td>1980-01-26</td>\n      <td>NaN</td>\n      <td>Financial Services</td>\n      <td>High Net Worth</td>\n      <td>N</td>\n      <td>Yes</td>\n      <td>...</td>\n      <td>NSW</td>\n      <td>Australia</td>\n      <td>8</td>\n      <td>0.71</td>\n      <td>0.89</td>\n      <td>0.89</td>\n      <td>0.89</td>\n      <td>30</td>\n      <td>30</td>\n      <td>1.46</td>\n    </tr>\n    <tr>\n      <th>33</th>\n      <td>Mikel</td>\n      <td>McNess</td>\n      <td>Male</td>\n      <td>71</td>\n      <td>1981-09-22</td>\n      <td>Nurse</td>\n      <td>NaN</td>\n      <td>Mass Customer</td>\n      <td>N</td>\n      <td>No</td>\n      <td>...</td>\n      <td>QLD</td>\n      <td>Australia</td>\n      <td>9</td>\n      <td>0.70</td>\n      <td>0.70</td>\n      <td>0.88</td>\n      <td>0.74</td>\n      <td>32</td>\n      <td>32</td>\n      <td>1.45</td>\n    </tr>\n    <tr>\n      <th>36</th>\n      <td>Farlie</td>\n      <td>Petford</td>\n      <td>Male</td>\n      <td>76</td>\n      <td>1968-03-25</td>\n      <td>Recruiting Manager</td>\n      <td>NaN</td>\n      <td>High Net Worth</td>\n      <td>N</td>\n      <td>No</td>\n      <td>...</td>\n      <td>NSW</td>\n      <td>Australia</td>\n      <td>10</td>\n      <td>0.86</td>\n      <td>0.86</td>\n      <td>1.07</td>\n      <td>1.07</td>\n      <td>36</td>\n      <td>36</td>\n      <td>1.45</td>\n    </tr>\n    <tr>\n      <th>37</th>\n      <td>Mitchell</td>\n      <td>MacCague</td>\n      <td>Male</td>\n      <td>58</td>\n      <td>1979-04-11</td>\n      <td>NaN</td>\n      <td>Manufacturing</td>\n      <td>Mass Customer</td>\n      <td>N</td>\n      <td>No</td>\n      <td>...</td>\n      <td>VIC</td>\n      <td>Australia</td>\n      <td>8</td>\n      <td>0.62</td>\n      <td>0.62</td>\n      <td>0.62</td>\n      <td>0.53</td>\n      <td>38</td>\n      <td>38</td>\n      <td>1.44</td>\n    </tr>\n    <tr>\n      <th>38</th>\n      <td>Garik</td>\n      <td>Whitwell</td>\n      <td>Male</td>\n      <td>44</td>\n      <td>1955-06-13</td>\n      <td>NaN</td>\n      <td>Property</td>\n      <td>Mass Customer</td>\n      <td>N</td>\n      <td>Yes</td>\n      <td>...</td>\n      <td>VIC</td>\n      <td>Australia</td>\n      <td>2</td>\n      <td>0.88</td>\n      <td>1.10</td>\n      <td>1.10</td>\n      <td>0.94</td>\n      <td>38</td>\n      <td>38</td>\n      <td>1.44</td>\n    </tr>\n    <tr>\n      <th>39</th>\n      <td>Antonin</td>\n      <td>Britt</td>\n      <td>Male</td>\n      <td>64</td>\n      <td>1993-08-28</td>\n      <td>NaN</td>\n      <td>Manufacturing</td>\n      <td>Affluent Customer</td>\n      <td>N</td>\n      <td>Yes</td>\n      <td>...</td>\n      <td>NSW</td>\n      <td>Australia</td>\n      <td>9</td>\n      <td>0.43</td>\n      <td>0.54</td>\n      <td>0.67</td>\n      <td>0.67</td>\n      <td>40</td>\n      <td>40</td>\n      <td>1.43</td>\n    </tr>\n    <tr>\n      <th>40</th>\n      <td>Vinny</td>\n      <td>Incogna</td>\n      <td>Female</td>\n      <td>73</td>\n      <td>1953-02-13</td>\n      <td>NaN</td>\n      <td>Health</td>\n      <td>High Net Worth</td>\n      <td>N</td>\n      <td>No</td>\n      <td>...</td>\n      <td>NSW</td>\n      <td>Australia</td>\n      <td>8</td>\n      <td>0.62</td>\n      <td>0.62</td>\n      <td>0.62</td>\n      <td>0.62</td>\n      <td>40</td>\n      <td>40</td>\n      <td>1.43</td>\n    </tr>\n    <tr>\n      <th>42</th>\n      <td>Neile</td>\n      <td>Argent</td>\n      <td>Female</td>\n      <td>79</td>\n      <td>1946-10-25</td>\n      <td>NaN</td>\n      <td>Retail</td>\n      <td>Mass Customer</td>\n      <td>N</td>\n      <td>No</td>\n      <td>...</td>\n      <td>NSW</td>\n      <td>Australia</td>\n      <td>10</td>\n      <td>0.83</td>\n      <td>0.83</td>\n      <td>1.04</td>\n      <td>0.88</td>\n      <td>42</td>\n      <td>42</td>\n      <td>1.42</td>\n    </tr>\n    <tr>\n      <th>43</th>\n      <td>Corinna</td>\n      <td>Suggey</td>\n      <td>Female</td>\n      <td>52</td>\n      <td>1966-09-18</td>\n      <td>Design Engineer</td>\n      <td>NaN</td>\n      <td>Affluent Customer</td>\n      <td>N</td>\n      <td>No</td>\n      <td>...</td>\n      <td>NSW</td>\n      <td>Australia</td>\n      <td>8</td>\n      <td>0.89</td>\n      <td>0.89</td>\n      <td>0.89</td>\n      <td>0.89</td>\n      <td>44</td>\n      <td>44</td>\n      <td>1.42</td>\n    </tr>\n    <tr>\n      <th>44</th>\n      <td>Brooke</td>\n      <td>Arling</td>\n      <td>Male</td>\n      <td>76</td>\n      <td>1961-12-05</td>\n      <td>NaN</td>\n      <td>NaN</td>\n      <td>High Net Worth</td>\n      <td>N</td>\n      <td>No</td>\n      <td>...</td>\n      <td>VIC</td>\n      <td>Australia</td>\n      <td>5</td>\n      <td>0.97</td>\n      <td>0.97</td>\n      <td>0.97</td>\n      <td>0.97</td>\n      <td>44</td>\n      <td>44</td>\n      <td>1.42</td>\n    </tr>\n    <tr>\n      <th>47</th>\n      <td>Jobina</td>\n      <td>Gobourn</td>\n      <td>Female</td>\n      <td>85</td>\n      <td>1994-12-04</td>\n      <td>VP Quality Control</td>\n      <td>NaN</td>\n      <td>High Net Worth</td>\n      <td>N</td>\n      <td>Yes</td>\n      <td>...</td>\n      <td>QLD</td>\n      <td>Australia</td>\n      <td>4</td>\n      <td>0.48</td>\n      <td>0.60</td>\n      <td>0.75</td>\n      <td>0.75</td>\n      <td>46</td>\n      <td>46</td>\n      <td>1.41</td>\n    </tr>\n    <tr>\n      <th>50</th>\n      <td>Heinrick</td>\n      <td>Shilstone</td>\n      <td>Male</td>\n      <td>60</td>\n      <td>1978-02-11</td>\n      <td>NaN</td>\n      <td>Manufacturing</td>\n      <td>Affluent Customer</td>\n      <td>N</td>\n      <td>No</td>\n      <td>...</td>\n      <td>VIC</td>\n      <td>Australia</td>\n      <td>8</td>\n      <td>0.43</td>\n      <td>0.43</td>\n      <td>0.43</td>\n      <td>0.43</td>\n      <td>50</td>\n      <td>50</td>\n      <td>1.41</td>\n    </tr>\n    <tr>\n      <th>53</th>\n      <td>Odessa</td>\n      <td>Mc Andrew</td>\n      <td>Female</td>\n      <td>97</td>\n      <td>1981-12-01</td>\n      <td>NaN</td>\n      <td>Property</td>\n      <td>Mass Customer</td>\n      <td>N</td>\n      <td>No</td>\n      <td>...</td>\n      <td>NSW</td>\n      <td>Australia</td>\n      <td>10</td>\n      <td>0.62</td>\n      <td>0.62</td>\n      <td>0.78</td>\n      <td>0.66</td>\n      <td>54</td>\n      <td>54</td>\n      <td>1.38</td>\n    </tr>\n    <tr>\n      <th>57</th>\n      <td>Marylou</td>\n      <td>Kirkup</td>\n      <td>Female</td>\n      <td>51</td>\n      <td>1972-10-31</td>\n      <td>VP Product Management</td>\n      <td>NaN</td>\n      <td>Mass Customer</td>\n      <td>N</td>\n      <td>No</td>\n      <td>...</td>\n      <td>VIC</td>\n      <td>Australia</td>\n      <td>9</td>\n      <td>0.66</td>\n      <td>0.66</td>\n      <td>0.83</td>\n      <td>0.70</td>\n      <td>57</td>\n      <td>57</td>\n      <td>1.38</td>\n    </tr>\n    <tr>\n      <th>58</th>\n      <td>Whittaker</td>\n      <td>NaN</td>\n      <td>Male</td>\n      <td>64</td>\n      <td>1966-07-29</td>\n      <td>Media Manager III</td>\n      <td>NaN</td>\n      <td>Mass Customer</td>\n      <td>N</td>\n      <td>Yes</td>\n      <td>...</td>\n      <td>VIC</td>\n      <td>Australia</td>\n      <td>5</td>\n      <td>0.98</td>\n      <td>1.23</td>\n      <td>1.23</td>\n      <td>1.04</td>\n      <td>57</td>\n      <td>57</td>\n      <td>1.38</td>\n    </tr>\n    <tr>\n      <th>59</th>\n      <td>Normy</td>\n      <td>Goodinge</td>\n      <td>Unknown</td>\n      <td>5</td>\n      <td>NaT</td>\n      <td>Associate Professor</td>\n      <td>IT</td>\n      <td>Mass Customer</td>\n      <td>N</td>\n      <td>No</td>\n      <td>...</td>\n      <td>VIC</td>\n      <td>Australia</td>\n      <td>5</td>\n      <td>0.78</td>\n      <td>0.78</td>\n      <td>0.78</td>\n      <td>0.66</td>\n      <td>57</td>\n      <td>57</td>\n      <td>1.38</td>\n    </tr>\n    <tr>\n      <th>69</th>\n      <td>Vivienne</td>\n      <td>Crayden</td>\n      <td>Female</td>\n      <td>82</td>\n      <td>1988-09-18</td>\n      <td>Associate Professor</td>\n      <td>NaN</td>\n      <td>High Net Worth</td>\n      <td>N</td>\n      <td>Yes</td>\n      <td>...</td>\n      <td>QLD</td>\n      <td>Australia</td>\n      <td>7</td>\n      <td>1.01</td>\n      <td>1.26</td>\n      <td>1.58</td>\n      <td>1.58</td>\n      <td>68</td>\n      <td>68</td>\n      <td>1.35</td>\n    </tr>\n    <tr>\n      <th>73</th>\n      <td>Yancy</td>\n      <td>Clementet</td>\n      <td>Male</td>\n      <td>5</td>\n      <td>1968-02-16</td>\n      <td>Mechanical Systems Engineer</td>\n      <td>NaN</td>\n      <td>High Net Worth</td>\n      <td>N</td>\n      <td>No</td>\n      <td>...</td>\n      <td>NSW</td>\n      <td>Australia</td>\n      <td>9</td>\n      <td>0.50</td>\n      <td>0.50</td>\n      <td>0.62</td>\n      <td>0.62</td>\n      <td>72</td>\n      <td>72</td>\n      <td>1.35</td>\n    </tr>\n    <tr>\n      <th>74</th>\n      <td>Mabelle</td>\n      <td>Wellbelove</td>\n      <td>Female</td>\n      <td>76</td>\n      <td>1958-04-21</td>\n      <td>NaN</td>\n      <td>Financial Services</td>\n      <td>Affluent Customer</td>\n      <td>N</td>\n      <td>Yes</td>\n      <td>...</td>\n      <td>NSW</td>\n      <td>Australia</td>\n      <td>9</td>\n      <td>0.85</td>\n      <td>1.06</td>\n      <td>1.33</td>\n      <td>1.33</td>\n      <td>72</td>\n      <td>72</td>\n      <td>1.35</td>\n    </tr>\n    <tr>\n      <th>82</th>\n      <td>Esther</td>\n      <td>Rooson</td>\n      <td>Female</td>\n      <td>14</td>\n      <td>1981-02-22</td>\n      <td>NaN</td>\n      <td>Financial Services</td>\n      <td>Mass Customer</td>\n      <td>N</td>\n      <td>No</td>\n      <td>...</td>\n      <td>NSW</td>\n      <td>Australia</td>\n      <td>9</td>\n      <td>0.62</td>\n      <td>0.62</td>\n      <td>0.78</td>\n      <td>0.66</td>\n      <td>78</td>\n      <td>78</td>\n      <td>1.34</td>\n    </tr>\n    <tr>\n      <th>85</th>\n      <td>Pietra</td>\n      <td>Buckleigh</td>\n      <td>Female</td>\n      <td>9</td>\n      <td>1949-04-29</td>\n      <td>Engineer III</td>\n      <td>NaN</td>\n      <td>High Net Worth</td>\n      <td>N</td>\n      <td>No</td>\n      <td>...</td>\n      <td>NSW</td>\n      <td>Australia</td>\n      <td>10</td>\n      <td>0.48</td>\n      <td>0.48</td>\n      <td>0.60</td>\n      <td>0.60</td>\n      <td>85</td>\n      <td>85</td>\n      <td>1.32</td>\n    </tr>\n    <tr>\n      <th>87</th>\n      <td>Kahaleel</td>\n      <td>NaN</td>\n      <td>Male</td>\n      <td>5</td>\n      <td>1942-11-01</td>\n      <td>GIS Technical Architect</td>\n      <td>NaN</td>\n      <td>High Net Worth</td>\n      <td>N</td>\n      <td>No</td>\n      <td>...</td>\n      <td>NSW</td>\n      <td>Australia</td>\n      <td>12</td>\n      <td>0.84</td>\n      <td>0.84</td>\n      <td>1.05</td>\n      <td>1.05</td>\n      <td>88</td>\n      <td>88</td>\n      <td>1.31</td>\n    </tr>\n    <tr>\n      <th>90</th>\n      <td>Ludovico</td>\n      <td>Juster</td>\n      <td>Male</td>\n      <td>93</td>\n      <td>1992-04-19</td>\n      <td>Environmental Specialist</td>\n      <td>NaN</td>\n      <td>Affluent Customer</td>\n      <td>N</td>\n      <td>No</td>\n      <td>...</td>\n      <td>NSW</td>\n      <td>Australia</td>\n      <td>10</td>\n      <td>1.07</td>\n      <td>1.07</td>\n      <td>1.34</td>\n      <td>1.34</td>\n      <td>89</td>\n      <td>89</td>\n      <td>1.31</td>\n    </tr>\n    <tr>\n      <th>92</th>\n      <td>Andromache</td>\n      <td>Bonafacino</td>\n      <td>Female</td>\n      <td>84</td>\n      <td>1977-09-01</td>\n      <td>NaN</td>\n      <td>Retail</td>\n      <td>Mass Customer</td>\n      <td>N</td>\n      <td>No</td>\n      <td>...</td>\n      <td>NSW</td>\n      <td>Australia</td>\n      <td>9</td>\n      <td>0.71</td>\n      <td>0.71</td>\n      <td>0.89</td>\n      <td>0.75</td>\n      <td>89</td>\n      <td>89</td>\n      <td>1.31</td>\n    </tr>\n    <tr>\n      <th>...</th>\n      <td>...</td>\n      <td>...</td>\n      <td>...</td>\n      <td>...</td>\n      <td>...</td>\n      <td>...</td>\n      <td>...</td>\n      <td>...</td>\n      <td>...</td>\n      <td>...</td>\n      <td>...</td>\n      <td>...</td>\n      <td>...</td>\n      <td>...</td>\n      <td>...</td>\n      <td>...</td>\n      <td>...</td>\n      <td>...</td>\n      <td>...</td>\n      <td>...</td>\n      <td>...</td>\n    </tr>\n    <tr>\n      <th>882</th>\n      <td>Judi</td>\n      <td>Cazereau</td>\n      <td>Female</td>\n      <td>22</td>\n      <td>1997-03-03</td>\n      <td>GIS Technical Architect</td>\n      <td>NaN</td>\n      <td>Affluent Customer</td>\n      <td>N</td>\n      <td>Yes</td>\n      <td>...</td>\n      <td>VIC</td>\n      <td>Australia</td>\n      <td>3</td>\n      <td>1.09</td>\n      <td>1.36</td>\n      <td>1.36</td>\n      <td>1.36</td>\n      <td>883</td>\n      <td>883</td>\n      <td>0.53</td>\n    </tr>\n    <tr>\n      <th>883</th>\n      <td>Shara</td>\n      <td>Bramhill</td>\n      <td>Unknown</td>\n      <td>24</td>\n      <td>NaT</td>\n      <td>NaN</td>\n      <td>IT</td>\n      <td>Affluent Customer</td>\n      <td>N</td>\n      <td>No</td>\n      <td>...</td>\n      <td>NSW</td>\n      <td>Australia</td>\n      <td>10</td>\n      <td>0.44</td>\n      <td>0.44</td>\n      <td>0.55</td>\n      <td>0.55</td>\n      <td>883</td>\n      <td>883</td>\n      <td>0.53</td>\n    </tr>\n    <tr>\n      <th>888</th>\n      <td>Antoinette</td>\n      <td>NaN</td>\n      <td>Female</td>\n      <td>72</td>\n      <td>1980-07-28</td>\n      <td>Structural Analysis Engineer</td>\n      <td>Financial Services</td>\n      <td>Affluent Customer</td>\n      <td>N</td>\n      <td>No</td>\n      <td>...</td>\n      <td>VIC</td>\n      <td>Australia</td>\n      <td>9</td>\n      <td>0.89</td>\n      <td>0.89</td>\n      <td>1.11</td>\n      <td>1.11</td>\n      <td>888</td>\n      <td>888</td>\n      <td>0.53</td>\n    </tr>\n    <tr>\n      <th>889</th>\n      <td>Carr</td>\n      <td>Hopkynson</td>\n      <td>Male</td>\n      <td>64</td>\n      <td>1971-10-18</td>\n      <td>NaN</td>\n      <td>Manufacturing</td>\n      <td>Affluent Customer</td>\n      <td>N</td>\n      <td>No</td>\n      <td>...</td>\n      <td>NSW</td>\n      <td>Australia</td>\n      <td>6</td>\n      <td>0.70</td>\n      <td>0.70</td>\n      <td>0.70</td>\n      <td>0.70</td>\n      <td>888</td>\n      <td>888</td>\n      <td>0.53</td>\n    </tr>\n    <tr>\n      <th>893</th>\n      <td>Jesse</td>\n      <td>Alflat</td>\n      <td>Male</td>\n      <td>31</td>\n      <td>1984-09-01</td>\n      <td>Executive Secretary</td>\n      <td>NaN</td>\n      <td>High Net Worth</td>\n      <td>N</td>\n      <td>No</td>\n      <td>...</td>\n      <td>NSW</td>\n      <td>Australia</td>\n      <td>9</td>\n      <td>0.60</td>\n      <td>0.60</td>\n      <td>0.75</td>\n      <td>0.75</td>\n      <td>893</td>\n      <td>893</td>\n      <td>0.52</td>\n    </tr>\n    <tr>\n      <th>899</th>\n      <td>Penrod</td>\n      <td>Tomasicchio</td>\n      <td>Male</td>\n      <td>5</td>\n      <td>1968-05-28</td>\n      <td>NaN</td>\n      <td>Health</td>\n      <td>High Net Worth</td>\n      <td>N</td>\n      <td>No</td>\n      <td>...</td>\n      <td>NSW</td>\n      <td>Australia</td>\n      <td>9</td>\n      <td>0.65</td>\n      <td>0.65</td>\n      <td>0.81</td>\n      <td>0.81</td>\n      <td>899</td>\n      <td>899</td>\n      <td>0.51</td>\n    </tr>\n    <tr>\n      <th>900</th>\n      <td>Pancho</td>\n      <td>Edis</td>\n      <td>Male</td>\n      <td>1</td>\n      <td>1970-12-30</td>\n      <td>Assistant Professor</td>\n      <td>NaN</td>\n      <td>Mass Customer</td>\n      <td>N</td>\n      <td>No</td>\n      <td>...</td>\n      <td>VIC</td>\n      <td>Australia</td>\n      <td>7</td>\n      <td>0.90</td>\n      <td>0.90</td>\n      <td>0.90</td>\n      <td>0.77</td>\n      <td>899</td>\n      <td>899</td>\n      <td>0.51</td>\n    </tr>\n    <tr>\n      <th>904</th>\n      <td>Roth</td>\n      <td>Crum</td>\n      <td>Unknown</td>\n      <td>0</td>\n      <td>NaT</td>\n      <td>Legal Assistant</td>\n      <td>IT</td>\n      <td>Mass Customer</td>\n      <td>N</td>\n      <td>No</td>\n      <td>...</td>\n      <td>NSW</td>\n      <td>Australia</td>\n      <td>6</td>\n      <td>0.62</td>\n      <td>0.62</td>\n      <td>0.62</td>\n      <td>0.53</td>\n      <td>904</td>\n      <td>904</td>\n      <td>0.50</td>\n    </tr>\n    <tr>\n      <th>906</th>\n      <td>Conway</td>\n      <td>Juarez</td>\n      <td>Male</td>\n      <td>27</td>\n      <td>1967-03-02</td>\n      <td>Help Desk Technician</td>\n      <td>NaN</td>\n      <td>Affluent Customer</td>\n      <td>N</td>\n      <td>No</td>\n      <td>...</td>\n      <td>QLD</td>\n      <td>Australia</td>\n      <td>5</td>\n      <td>0.78</td>\n      <td>0.78</td>\n      <td>0.78</td>\n      <td>0.78</td>\n      <td>904</td>\n      <td>904</td>\n      <td>0.50</td>\n    </tr>\n    <tr>\n      <th>907</th>\n      <td>Dru</td>\n      <td>Crellim</td>\n      <td>Female</td>\n      <td>57</td>\n      <td>1963-03-04</td>\n      <td>NaN</td>\n      <td>NaN</td>\n      <td>Mass Customer</td>\n      <td>N</td>\n      <td>No</td>\n      <td>...</td>\n      <td>VIC</td>\n      <td>Australia</td>\n      <td>7</td>\n      <td>0.41</td>\n      <td>0.41</td>\n      <td>0.41</td>\n      <td>0.35</td>\n      <td>904</td>\n      <td>904</td>\n      <td>0.50</td>\n    </tr>\n    <tr>\n      <th>910</th>\n      <td>Aleece</td>\n      <td>Feige</td>\n      <td>Female</td>\n      <td>49</td>\n      <td>1975-09-16</td>\n      <td>NaN</td>\n      <td>Manufacturing</td>\n      <td>Mass Customer</td>\n      <td>N</td>\n      <td>No</td>\n      <td>...</td>\n      <td>NSW</td>\n      <td>Australia</td>\n      <td>10</td>\n      <td>1.01</td>\n      <td>1.01</td>\n      <td>1.26</td>\n      <td>1.07</td>\n      <td>904</td>\n      <td>904</td>\n      <td>0.50</td>\n    </tr>\n    <tr>\n      <th>913</th>\n      <td>Hildegarde</td>\n      <td>Bamb</td>\n      <td>Female</td>\n      <td>16</td>\n      <td>1961-02-10</td>\n      <td>Help Desk Operator</td>\n      <td>NaN</td>\n      <td>High Net Worth</td>\n      <td>N</td>\n      <td>Yes</td>\n      <td>...</td>\n      <td>VIC</td>\n      <td>Australia</td>\n      <td>9</td>\n      <td>0.95</td>\n      <td>1.19</td>\n      <td>1.48</td>\n      <td>1.48</td>\n      <td>913</td>\n      <td>913</td>\n      <td>0.50</td>\n    </tr>\n    <tr>\n      <th>914</th>\n      <td>Launce</td>\n      <td>Gale</td>\n      <td>Male</td>\n      <td>86</td>\n      <td>1939-01-15</td>\n      <td>NaN</td>\n      <td>NaN</td>\n      <td>Mass Customer</td>\n      <td>N</td>\n      <td>No</td>\n      <td>...</td>\n      <td>NSW</td>\n      <td>Australia</td>\n      <td>9</td>\n      <td>0.63</td>\n      <td>0.63</td>\n      <td>0.79</td>\n      <td>0.67</td>\n      <td>913</td>\n      <td>913</td>\n      <td>0.50</td>\n    </tr>\n    <tr>\n      <th>920</th>\n      <td>Sheilakathryn</td>\n      <td>Huff</td>\n      <td>Female</td>\n      <td>45</td>\n      <td>1958-05-15</td>\n      <td>Assistant Manager</td>\n      <td>NaN</td>\n      <td>High Net Worth</td>\n      <td>N</td>\n      <td>Yes</td>\n      <td>...</td>\n      <td>NSW</td>\n      <td>Australia</td>\n      <td>6</td>\n      <td>1.06</td>\n      <td>1.32</td>\n      <td>1.32</td>\n      <td>1.32</td>\n      <td>921</td>\n      <td>921</td>\n      <td>0.49</td>\n    </tr>\n    <tr>\n      <th>923</th>\n      <td>Wilone</td>\n      <td>Champley</td>\n      <td>Female</td>\n      <td>22</td>\n      <td>1983-11-06</td>\n      <td>NaN</td>\n      <td>Manufacturing</td>\n      <td>High Net Worth</td>\n      <td>N</td>\n      <td>No</td>\n      <td>...</td>\n      <td>NSW</td>\n      <td>Australia</td>\n      <td>10</td>\n      <td>0.99</td>\n      <td>0.99</td>\n      <td>1.24</td>\n      <td>1.24</td>\n      <td>924</td>\n      <td>924</td>\n      <td>0.49</td>\n    </tr>\n    <tr>\n      <th>929</th>\n      <td>Diane</td>\n      <td>Furman</td>\n      <td>Female</td>\n      <td>67</td>\n      <td>1993-08-11</td>\n      <td>NaN</td>\n      <td>Manufacturing</td>\n      <td>Affluent Customer</td>\n      <td>N</td>\n      <td>Yes</td>\n      <td>...</td>\n      <td>VIC</td>\n      <td>Australia</td>\n      <td>9</td>\n      <td>0.91</td>\n      <td>1.14</td>\n      <td>1.42</td>\n      <td>1.42</td>\n      <td>930</td>\n      <td>930</td>\n      <td>0.48</td>\n    </tr>\n    <tr>\n      <th>941</th>\n      <td>Angele</td>\n      <td>Cadore</td>\n      <td>Female</td>\n      <td>5</td>\n      <td>1954-09-06</td>\n      <td>Chief Design Engineer</td>\n      <td>NaN</td>\n      <td>Mass Customer</td>\n      <td>N</td>\n      <td>Yes</td>\n      <td>...</td>\n      <td>QLD</td>\n      <td>Australia</td>\n      <td>7</td>\n      <td>0.85</td>\n      <td>1.06</td>\n      <td>1.06</td>\n      <td>0.90</td>\n      <td>939</td>\n      <td>939</td>\n      <td>0.47</td>\n    </tr>\n    <tr>\n      <th>950</th>\n      <td>Liane</td>\n      <td>Abelevitz</td>\n      <td>Female</td>\n      <td>26</td>\n      <td>1976-11-25</td>\n      <td>Operator</td>\n      <td>NaN</td>\n      <td>Mass Customer</td>\n      <td>N</td>\n      <td>No</td>\n      <td>...</td>\n      <td>VIC</td>\n      <td>Australia</td>\n      <td>7</td>\n      <td>0.73</td>\n      <td>0.73</td>\n      <td>0.73</td>\n      <td>0.62</td>\n      <td>951</td>\n      <td>951</td>\n      <td>0.45</td>\n    </tr>\n    <tr>\n      <th>952</th>\n      <td>Candy</td>\n      <td>NaN</td>\n      <td>Female</td>\n      <td>23</td>\n      <td>1977-12-08</td>\n      <td>NaN</td>\n      <td>Financial Services</td>\n      <td>Mass Customer</td>\n      <td>N</td>\n      <td>No</td>\n      <td>...</td>\n      <td>VIC</td>\n      <td>Australia</td>\n      <td>3</td>\n      <td>1.03</td>\n      <td>1.03</td>\n      <td>1.03</td>\n      <td>0.88</td>\n      <td>951</td>\n      <td>951</td>\n      <td>0.45</td>\n    </tr>\n    <tr>\n      <th>953</th>\n      <td>Noami</td>\n      <td>Cokly</td>\n      <td>Female</td>\n      <td>74</td>\n      <td>1962-09-17</td>\n      <td>NaN</td>\n      <td>Manufacturing</td>\n      <td>Mass Customer</td>\n      <td>N</td>\n      <td>Yes</td>\n      <td>...</td>\n      <td>NSW</td>\n      <td>Australia</td>\n      <td>11</td>\n      <td>0.43</td>\n      <td>0.54</td>\n      <td>0.67</td>\n      <td>0.57</td>\n      <td>954</td>\n      <td>954</td>\n      <td>0.45</td>\n    </tr>\n    <tr>\n      <th>954</th>\n      <td>Lyndell</td>\n      <td>Jereatt</td>\n      <td>Female</td>\n      <td>14</td>\n      <td>1994-11-28</td>\n      <td>Payment Adjustment Coordinator</td>\n      <td>NaN</td>\n      <td>High Net Worth</td>\n      <td>N</td>\n      <td>No</td>\n      <td>...</td>\n      <td>NSW</td>\n      <td>Australia</td>\n      <td>12</td>\n      <td>0.50</td>\n      <td>0.50</td>\n      <td>0.62</td>\n      <td>0.62</td>\n      <td>954</td>\n      <td>954</td>\n      <td>0.45</td>\n    </tr>\n    <tr>\n      <th>957</th>\n      <td>Rhodie</td>\n      <td>Gaskall</td>\n      <td>Female</td>\n      <td>83</td>\n      <td>1964-02-01</td>\n      <td>VP Quality Control</td>\n      <td>NaN</td>\n      <td>Mass Customer</td>\n      <td>N</td>\n      <td>Yes</td>\n      <td>...</td>\n      <td>QLD</td>\n      <td>Australia</td>\n      <td>9</td>\n      <td>0.84</td>\n      <td>1.05</td>\n      <td>1.31</td>\n      <td>1.12</td>\n      <td>956</td>\n      <td>956</td>\n      <td>0.45</td>\n    </tr>\n    <tr>\n      <th>959</th>\n      <td>Blondell</td>\n      <td>Dibdall</td>\n      <td>Female</td>\n      <td>62</td>\n      <td>1967-01-03</td>\n      <td>Programmer III</td>\n      <td>NaN</td>\n      <td>Mass Customer</td>\n      <td>N</td>\n      <td>No</td>\n      <td>...</td>\n      <td>VIC</td>\n      <td>Australia</td>\n      <td>4</td>\n      <td>0.95</td>\n      <td>0.95</td>\n      <td>0.95</td>\n      <td>0.81</td>\n      <td>960</td>\n      <td>960</td>\n      <td>0.44</td>\n    </tr>\n    <tr>\n      <th>971</th>\n      <td>Frieda</td>\n      <td>Tavinor</td>\n      <td>Female</td>\n      <td>43</td>\n      <td>1999-03-04</td>\n      <td>NaN</td>\n      <td>NaN</td>\n      <td>Affluent Customer</td>\n      <td>N</td>\n      <td>No</td>\n      <td>...</td>\n      <td>VIC</td>\n      <td>Australia</td>\n      <td>6</td>\n      <td>0.49</td>\n      <td>0.49</td>\n      <td>0.49</td>\n      <td>0.49</td>\n      <td>972</td>\n      <td>972</td>\n      <td>0.43</td>\n    </tr>\n    <tr>\n      <th>972</th>\n      <td>Ellwood</td>\n      <td>Budden</td>\n      <td>Male</td>\n      <td>82</td>\n      <td>1998-06-03</td>\n      <td>NaN</td>\n      <td>Health</td>\n      <td>Mass Customer</td>\n      <td>N</td>\n      <td>Yes</td>\n      <td>...</td>\n      <td>NSW</td>\n      <td>Australia</td>\n      <td>10</td>\n      <td>0.99</td>\n      <td>1.24</td>\n      <td>1.55</td>\n      <td>1.31</td>\n      <td>972</td>\n      <td>972</td>\n      <td>0.43</td>\n    </tr>\n    <tr>\n      <th>975</th>\n      <td>Amby</td>\n      <td>Bodega</td>\n      <td>Male</td>\n      <td>63</td>\n      <td>1968-06-12</td>\n      <td>Recruiter</td>\n      <td>NaN</td>\n      <td>Affluent Customer</td>\n      <td>N</td>\n      <td>Yes</td>\n      <td>...</td>\n      <td>VIC</td>\n      <td>Australia</td>\n      <td>6</td>\n      <td>0.49</td>\n      <td>0.61</td>\n      <td>0.61</td>\n      <td>0.61</td>\n      <td>974</td>\n      <td>974</td>\n      <td>0.42</td>\n    </tr>\n    <tr>\n      <th>980</th>\n      <td>Tyne</td>\n      <td>Anshell</td>\n      <td>Female</td>\n      <td>71</td>\n      <td>1992-04-08</td>\n      <td>Mechanical Systems Engineer</td>\n      <td>NaN</td>\n      <td>Mass Customer</td>\n      <td>N</td>\n      <td>Yes</td>\n      <td>...</td>\n      <td>NSW</td>\n      <td>Australia</td>\n      <td>8</td>\n      <td>0.51</td>\n      <td>0.64</td>\n      <td>0.64</td>\n      <td>0.54</td>\n      <td>979</td>\n      <td>979</td>\n      <td>0.42</td>\n    </tr>\n    <tr>\n      <th>983</th>\n      <td>Augusta</td>\n      <td>Munns</td>\n      <td>Female</td>\n      <td>5</td>\n      <td>1951-09-17</td>\n      <td>Quality Control Specialist</td>\n      <td>NaN</td>\n      <td>Mass Customer</td>\n      <td>N</td>\n      <td>No</td>\n      <td>...</td>\n      <td>NSW</td>\n      <td>Australia</td>\n      <td>11</td>\n      <td>0.87</td>\n      <td>0.87</td>\n      <td>1.09</td>\n      <td>0.92</td>\n      <td>983</td>\n      <td>983</td>\n      <td>0.41</td>\n    </tr>\n    <tr>\n      <th>984</th>\n      <td>Pauline</td>\n      <td>Dallosso</td>\n      <td>Unknown</td>\n      <td>82</td>\n      <td>NaT</td>\n      <td>Desktop Support Technician</td>\n      <td>IT</td>\n      <td>Affluent Customer</td>\n      <td>N</td>\n      <td>Yes</td>\n      <td>...</td>\n      <td>NSW</td>\n      <td>Australia</td>\n      <td>10</td>\n      <td>0.68</td>\n      <td>0.85</td>\n      <td>1.06</td>\n      <td>1.06</td>\n      <td>985</td>\n      <td>985</td>\n      <td>0.41</td>\n    </tr>\n    <tr>\n      <th>989</th>\n      <td>Kellen</td>\n      <td>Pawelski</td>\n      <td>Female</td>\n      <td>83</td>\n      <td>1945-07-26</td>\n      <td>NaN</td>\n      <td>Manufacturing</td>\n      <td>High Net Worth</td>\n      <td>N</td>\n      <td>Yes</td>\n      <td>...</td>\n      <td>NSW</td>\n      <td>Australia</td>\n      <td>8</td>\n      <td>1.00</td>\n      <td>1.25</td>\n      <td>1.56</td>\n      <td>1.56</td>\n      <td>988</td>\n      <td>988</td>\n      <td>0.40</td>\n    </tr>\n  </tbody>\n</table>\n<p>285 rows × 23 columns</p>\n</div>"
     },
     "execution_count": 118,
     "metadata": {},
     "output_type": "execute_result"
    }
   ],
   "source": [
    "df[df.isna().any(axis=1)]\n",
    "\n"
   ],
   "metadata": {
    "collapsed": false,
    "pycharm": {
     "name": "#%%\n"
    }
   }
  },
  {
   "cell_type": "markdown",
   "source": [
    "<h1>Cleaning"
   ],
   "metadata": {
    "collapsed": false,
    "pycharm": {
     "name": "#%% md\n"
    }
   }
  },
  {
   "cell_type": "code",
   "execution_count": 119,
   "outputs": [],
   "source": [
    "# Drop NA, can't only be done in a df level, if done in a column level,\n",
    "# then columns result in different length.\n",
    "# df.dropna(axis=0, how='any', inplace=True)\n",
    "\n",
    "\n",
    "# Fill Na with mean\n",
    "#df[\"tenure\"].fillna(value=df.tenure.mean(),inplace=True)\n",
    "\n",
    "# Fill Na with mode\n",
    "df['lname'].fillna(df['lname'].mode().iloc[0],inplace=True)\n",
    "df['JT'].fillna(df['JT'].mode().iloc[0],inplace=True)\n",
    "df['Category'].fillna(df['Category'].mode().iloc[0],inplace=True)\n",
    "#df['DOB'].fillna(df['DOB'].mode().iloc[0],inplace=True)"
   ],
   "metadata": {
    "collapsed": false,
    "pycharm": {
     "name": "#%%\n"
    }
   }
  },
  {
   "cell_type": "code",
   "execution_count": 120,
   "outputs": [],
   "source": [
    "df.dropna(axis=0, how='any', inplace=True)"
   ],
   "metadata": {
    "collapsed": false,
    "pycharm": {
     "name": "#%%\n"
    }
   }
  },
  {
   "cell_type": "code",
   "execution_count": 121,
   "outputs": [
    {
     "name": "stdout",
     "output_type": "stream",
     "text": [
      "fname - 0.0%\n",
      "lname - 0.0%\n",
      "gender - 0.0%\n",
      "3y_bike_purchases - 0.0%\n",
      "DOB - 0.0%\n",
      "JT - 0.0%\n",
      "Category - 0.0%\n",
      "wealth_segment - 0.0%\n",
      "D_Indicator - 0.0%\n",
      "owns_car - 0.0%\n",
      "tenure - 0.0%\n",
      "address - 0.0%\n",
      "postcode - 0.0%\n",
      "state - 0.0%\n",
      "country - 0.0%\n",
      "property_valuation - 0.0%\n",
      "Unnamed: 16 - 0.0%\n",
      "Unnamed: 17 - 0.0%\n",
      "Unnamed: 18 - 0.0%\n",
      "Unnamed: 19 - 0.0%\n",
      "Unnamed: 20 - 0.0%\n",
      "Rank - 0.0%\n",
      "Value - 0.0%\n"
     ]
    }
   ],
   "source": [
    "# check again\n",
    "for col in df.columns:\n",
    "    pct_missing = np.mean(df[col].isnull())\n",
    "    print('{} - {}%'.format(col, round(pct_missing*100)))"
   ],
   "metadata": {
    "collapsed": false,
    "pycharm": {
     "name": "#%%\n"
    }
   }
  },
  {
   "cell_type": "code",
   "execution_count": 122,
   "outputs": [
    {
     "data": {
      "text/plain": "       3y_bike_purchases  tenure  postcode  property_valuation  Unnamed: 16  \\\ncount             983.00  983.00    983.00              983.00       983.00   \nmean               49.82   11.46   3017.74                7.41         0.75   \nstd                27.79    5.01    849.38                2.76         0.21   \nmin                 0.00    1.00   2000.00                1.00         0.40   \n25%                27.00    8.00   2209.00                6.00         0.57   \n50%                51.00   11.00   2795.00                8.00         0.75   \n75%                72.00   15.00   3850.50                9.00         0.92   \nmax                99.00   22.00   4879.00               12.00         1.10   \n\n       Unnamed: 17  Unnamed: 18  Unnamed: 19  Unnamed: 20    Rank  Value  \ncount       983.00       983.00       983.00       983.00  983.00 983.00  \nmean          0.84         0.94         0.87       497.75  497.75   0.88  \nstd           0.25         0.29         0.28       289.19  289.19   0.29  \nmin           0.40         0.40         0.34         1.00    1.00   0.34  \n25%           0.63         0.71         0.66       248.50  248.50   0.65  \n50%           0.82         0.91         0.84       500.00  500.00   0.86  \n75%           1.03         1.14         1.06       748.00  748.00   1.08  \nmax           1.38         1.72         1.72      1000.00 1000.00   1.72  ",
      "text/html": "<div>\n<style scoped>\n    .dataframe tbody tr th:only-of-type {\n        vertical-align: middle;\n    }\n\n    .dataframe tbody tr th {\n        vertical-align: top;\n    }\n\n    .dataframe thead th {\n        text-align: right;\n    }\n</style>\n<table border=\"1\" class=\"dataframe\">\n  <thead>\n    <tr style=\"text-align: right;\">\n      <th></th>\n      <th>3y_bike_purchases</th>\n      <th>tenure</th>\n      <th>postcode</th>\n      <th>property_valuation</th>\n      <th>Unnamed: 16</th>\n      <th>Unnamed: 17</th>\n      <th>Unnamed: 18</th>\n      <th>Unnamed: 19</th>\n      <th>Unnamed: 20</th>\n      <th>Rank</th>\n      <th>Value</th>\n    </tr>\n  </thead>\n  <tbody>\n    <tr>\n      <th>count</th>\n      <td>983.00</td>\n      <td>983.00</td>\n      <td>983.00</td>\n      <td>983.00</td>\n      <td>983.00</td>\n      <td>983.00</td>\n      <td>983.00</td>\n      <td>983.00</td>\n      <td>983.00</td>\n      <td>983.00</td>\n      <td>983.00</td>\n    </tr>\n    <tr>\n      <th>mean</th>\n      <td>49.82</td>\n      <td>11.46</td>\n      <td>3017.74</td>\n      <td>7.41</td>\n      <td>0.75</td>\n      <td>0.84</td>\n      <td>0.94</td>\n      <td>0.87</td>\n      <td>497.75</td>\n      <td>497.75</td>\n      <td>0.88</td>\n    </tr>\n    <tr>\n      <th>std</th>\n      <td>27.79</td>\n      <td>5.01</td>\n      <td>849.38</td>\n      <td>2.76</td>\n      <td>0.21</td>\n      <td>0.25</td>\n      <td>0.29</td>\n      <td>0.28</td>\n      <td>289.19</td>\n      <td>289.19</td>\n      <td>0.29</td>\n    </tr>\n    <tr>\n      <th>min</th>\n      <td>0.00</td>\n      <td>1.00</td>\n      <td>2000.00</td>\n      <td>1.00</td>\n      <td>0.40</td>\n      <td>0.40</td>\n      <td>0.40</td>\n      <td>0.34</td>\n      <td>1.00</td>\n      <td>1.00</td>\n      <td>0.34</td>\n    </tr>\n    <tr>\n      <th>25%</th>\n      <td>27.00</td>\n      <td>8.00</td>\n      <td>2209.00</td>\n      <td>6.00</td>\n      <td>0.57</td>\n      <td>0.63</td>\n      <td>0.71</td>\n      <td>0.66</td>\n      <td>248.50</td>\n      <td>248.50</td>\n      <td>0.65</td>\n    </tr>\n    <tr>\n      <th>50%</th>\n      <td>51.00</td>\n      <td>11.00</td>\n      <td>2795.00</td>\n      <td>8.00</td>\n      <td>0.75</td>\n      <td>0.82</td>\n      <td>0.91</td>\n      <td>0.84</td>\n      <td>500.00</td>\n      <td>500.00</td>\n      <td>0.86</td>\n    </tr>\n    <tr>\n      <th>75%</th>\n      <td>72.00</td>\n      <td>15.00</td>\n      <td>3850.50</td>\n      <td>9.00</td>\n      <td>0.92</td>\n      <td>1.03</td>\n      <td>1.14</td>\n      <td>1.06</td>\n      <td>748.00</td>\n      <td>748.00</td>\n      <td>1.08</td>\n    </tr>\n    <tr>\n      <th>max</th>\n      <td>99.00</td>\n      <td>22.00</td>\n      <td>4879.00</td>\n      <td>12.00</td>\n      <td>1.10</td>\n      <td>1.38</td>\n      <td>1.72</td>\n      <td>1.72</td>\n      <td>1000.00</td>\n      <td>1000.00</td>\n      <td>1.72</td>\n    </tr>\n  </tbody>\n</table>\n</div>"
     },
     "execution_count": 122,
     "metadata": {},
     "output_type": "execute_result"
    }
   ],
   "source": [
    "df.describe()"
   ],
   "metadata": {
    "collapsed": false,
    "pycharm": {
     "name": "#%%\n"
    }
   }
  },
  {
   "cell_type": "code",
   "execution_count": 123,
   "outputs": [
    {
     "name": "stdout",
     "output_type": "stream",
     "text": [
      "<class 'pandas.core.frame.DataFrame'>\n",
      "Int64Index: 983 entries, 0 to 999\n",
      "Data columns (total 23 columns):\n",
      "fname                 983 non-null object\n",
      "lname                 983 non-null object\n",
      "gender                983 non-null object\n",
      "3y_bike_purchases     983 non-null int64\n",
      "DOB                   983 non-null datetime64[ns]\n",
      "JT                    983 non-null object\n",
      "Category              983 non-null object\n",
      "wealth_segment        983 non-null object\n",
      "D_Indicator           983 non-null object\n",
      "owns_car              983 non-null object\n",
      "tenure                983 non-null int64\n",
      "address               983 non-null object\n",
      "postcode              983 non-null int64\n",
      "state                 983 non-null object\n",
      "country               983 non-null object\n",
      "property_valuation    983 non-null int64\n",
      "Unnamed: 16           983 non-null float64\n",
      "Unnamed: 17           983 non-null float64\n",
      "Unnamed: 18           983 non-null float64\n",
      "Unnamed: 19           983 non-null float64\n",
      "Unnamed: 20           983 non-null int64\n",
      "Rank                  983 non-null int64\n",
      "Value                 983 non-null float64\n",
      "dtypes: datetime64[ns](1), float64(5), int64(6), object(11)\n",
      "memory usage: 184.3+ KB\n"
     ]
    }
   ],
   "source": [
    "df.info()"
   ],
   "metadata": {
    "collapsed": false,
    "pycharm": {
     "name": "#%%\n"
    }
   }
  },
  {
   "cell_type": "code",
   "execution_count": 123,
   "outputs": [],
   "source": [],
   "metadata": {
    "collapsed": false,
    "pycharm": {
     "name": "#%%\n"
    }
   }
  },
  {
   "cell_type": "markdown",
   "source": [
    "<h1>Make the age groups"
   ],
   "metadata": {
    "collapsed": false
   }
  },
  {
   "cell_type": "code",
   "execution_count": 124,
   "outputs": [],
   "source": [
    "import datetime as dt\n",
    "\n",
    "# Make sure to parse all datetime columns in advance\n",
    "# actually we have done it when importing data, this is unnecessary\n",
    "\n",
    "df['DOB'] = pd.to_datetime(df['DOB'], errors='coerce')"
   ],
   "metadata": {
    "collapsed": false,
    "pycharm": {
     "name": "#%%\n"
    }
   }
  },
  {
   "cell_type": "code",
   "execution_count": 125,
   "outputs": [
    {
     "data": {
      "text/plain": "     fname      lname  gender  3y_bike_purchases        DOB  \\\n0  Chickie    Brister    Male                 86 1957-07-12   \n1    Morly     Genery    Male                 69 1970-03-22   \n2  Ardelis  Forrester  Female                 10 1974-08-28   \n3   Lucine      Stutt  Female                 64 1979-01-28   \n4  Melinda     Hadlee  Female                 34 1965-09-21   \n\n                           JT            Category     wealth_segment  \\\n0             General Manager       Manufacturing      Mass Customer   \n1         Structural Engineer            Property      Mass Customer   \n2      Senior Cost Accountant  Financial Services  Affluent Customer   \n3  Account Representative III       Manufacturing  Affluent Customer   \n4           Financial Analyst  Financial Services  Affluent Customer   \n\n  D_Indicator owns_car  ...    country property_valuation  Unnamed: 16  \\\n0           N      Yes  ...  Australia                  6         0.56   \n1           N       No  ...  Australia                 11         0.89   \n2           N       No  ...  Australia                  5         1.01   \n3           N      Yes  ...  Australia                  1         0.87   \n4           N       No  ...  Australia                  9         0.52   \n\n  Unnamed: 17 Unnamed: 18  Unnamed: 19  Unnamed: 20  Rank  Value   Age  \n0        0.70        0.88         0.74            1     1   1.72 63.05  \n1        0.89        1.11         0.95            1     1   1.72 50.36  \n2        1.01        1.01         1.01            1     1   1.72 45.92  \n3        1.09        1.09         1.09            4     4   1.70 41.50  \n4        0.52        0.65         0.65            4     4   1.70 54.86  \n\n[5 rows x 24 columns]",
      "text/html": "<div>\n<style scoped>\n    .dataframe tbody tr th:only-of-type {\n        vertical-align: middle;\n    }\n\n    .dataframe tbody tr th {\n        vertical-align: top;\n    }\n\n    .dataframe thead th {\n        text-align: right;\n    }\n</style>\n<table border=\"1\" class=\"dataframe\">\n  <thead>\n    <tr style=\"text-align: right;\">\n      <th></th>\n      <th>fname</th>\n      <th>lname</th>\n      <th>gender</th>\n      <th>3y_bike_purchases</th>\n      <th>DOB</th>\n      <th>JT</th>\n      <th>Category</th>\n      <th>wealth_segment</th>\n      <th>D_Indicator</th>\n      <th>owns_car</th>\n      <th>...</th>\n      <th>country</th>\n      <th>property_valuation</th>\n      <th>Unnamed: 16</th>\n      <th>Unnamed: 17</th>\n      <th>Unnamed: 18</th>\n      <th>Unnamed: 19</th>\n      <th>Unnamed: 20</th>\n      <th>Rank</th>\n      <th>Value</th>\n      <th>Age</th>\n    </tr>\n  </thead>\n  <tbody>\n    <tr>\n      <th>0</th>\n      <td>Chickie</td>\n      <td>Brister</td>\n      <td>Male</td>\n      <td>86</td>\n      <td>1957-07-12</td>\n      <td>General Manager</td>\n      <td>Manufacturing</td>\n      <td>Mass Customer</td>\n      <td>N</td>\n      <td>Yes</td>\n      <td>...</td>\n      <td>Australia</td>\n      <td>6</td>\n      <td>0.56</td>\n      <td>0.70</td>\n      <td>0.88</td>\n      <td>0.74</td>\n      <td>1</td>\n      <td>1</td>\n      <td>1.72</td>\n      <td>63.05</td>\n    </tr>\n    <tr>\n      <th>1</th>\n      <td>Morly</td>\n      <td>Genery</td>\n      <td>Male</td>\n      <td>69</td>\n      <td>1970-03-22</td>\n      <td>Structural Engineer</td>\n      <td>Property</td>\n      <td>Mass Customer</td>\n      <td>N</td>\n      <td>No</td>\n      <td>...</td>\n      <td>Australia</td>\n      <td>11</td>\n      <td>0.89</td>\n      <td>0.89</td>\n      <td>1.11</td>\n      <td>0.95</td>\n      <td>1</td>\n      <td>1</td>\n      <td>1.72</td>\n      <td>50.36</td>\n    </tr>\n    <tr>\n      <th>2</th>\n      <td>Ardelis</td>\n      <td>Forrester</td>\n      <td>Female</td>\n      <td>10</td>\n      <td>1974-08-28</td>\n      <td>Senior Cost Accountant</td>\n      <td>Financial Services</td>\n      <td>Affluent Customer</td>\n      <td>N</td>\n      <td>No</td>\n      <td>...</td>\n      <td>Australia</td>\n      <td>5</td>\n      <td>1.01</td>\n      <td>1.01</td>\n      <td>1.01</td>\n      <td>1.01</td>\n      <td>1</td>\n      <td>1</td>\n      <td>1.72</td>\n      <td>45.92</td>\n    </tr>\n    <tr>\n      <th>3</th>\n      <td>Lucine</td>\n      <td>Stutt</td>\n      <td>Female</td>\n      <td>64</td>\n      <td>1979-01-28</td>\n      <td>Account Representative III</td>\n      <td>Manufacturing</td>\n      <td>Affluent Customer</td>\n      <td>N</td>\n      <td>Yes</td>\n      <td>...</td>\n      <td>Australia</td>\n      <td>1</td>\n      <td>0.87</td>\n      <td>1.09</td>\n      <td>1.09</td>\n      <td>1.09</td>\n      <td>4</td>\n      <td>4</td>\n      <td>1.70</td>\n      <td>41.50</td>\n    </tr>\n    <tr>\n      <th>4</th>\n      <td>Melinda</td>\n      <td>Hadlee</td>\n      <td>Female</td>\n      <td>34</td>\n      <td>1965-09-21</td>\n      <td>Financial Analyst</td>\n      <td>Financial Services</td>\n      <td>Affluent Customer</td>\n      <td>N</td>\n      <td>No</td>\n      <td>...</td>\n      <td>Australia</td>\n      <td>9</td>\n      <td>0.52</td>\n      <td>0.52</td>\n      <td>0.65</td>\n      <td>0.65</td>\n      <td>4</td>\n      <td>4</td>\n      <td>1.70</td>\n      <td>54.86</td>\n    </tr>\n  </tbody>\n</table>\n<p>5 rows × 24 columns</p>\n</div>"
     },
     "execution_count": 125,
     "metadata": {},
     "output_type": "execute_result"
    }
   ],
   "source": [
    "now = pd.to_datetime('now')\n",
    "\n",
    "# first we find the date difference, get it as seconds, and then divided by the total seconds in a year.\n",
    "df[\"Age\"] = round((now - df['DOB']).dt.total_seconds() / (60*60*24*365.25),2)\n",
    "\n",
    "df.head()\n"
   ],
   "metadata": {
    "collapsed": false,
    "pycharm": {
     "name": "#%%\n"
    }
   }
  },
  {
   "cell_type": "code",
   "execution_count": 126,
   "outputs": [],
   "source": [
    "# Use pandas.cut with parameter right=False for not includes the rightmost edge of bins:\n",
    "bins= [0,21,31,41,51,61,110]\n",
    "labels = ['0-20','21-30','31-40','41-50','51-60', '>60']\n",
    "# age_label = ['0','1','2','3','4', '5']\n",
    "\n",
    "df['A_group'] = pd.cut(df['Age'], bins=bins, labels=labels, right=False)\n"
   ],
   "metadata": {
    "collapsed": false,
    "pycharm": {
     "name": "#%%\n"
    }
   }
  },
  {
   "cell_type": "code",
   "execution_count": 127,
   "outputs": [
    {
     "data": {
      "text/plain": "     fname      lname  gender  3y_bike_purchases        DOB  \\\n0  Chickie    Brister    Male                 86 1957-07-12   \n1    Morly     Genery    Male                 69 1970-03-22   \n2  Ardelis  Forrester  Female                 10 1974-08-28   \n3   Lucine      Stutt  Female                 64 1979-01-28   \n4  Melinda     Hadlee  Female                 34 1965-09-21   \n\n                           JT            Category     wealth_segment  \\\n0             General Manager       Manufacturing      Mass Customer   \n1         Structural Engineer            Property      Mass Customer   \n2      Senior Cost Accountant  Financial Services  Affluent Customer   \n3  Account Representative III       Manufacturing  Affluent Customer   \n4           Financial Analyst  Financial Services  Affluent Customer   \n\n  D_Indicator owns_car  ...  property_valuation Unnamed: 16  Unnamed: 17  \\\n0           N      Yes  ...                   6        0.56         0.70   \n1           N       No  ...                  11        0.89         0.89   \n2           N       No  ...                   5        1.01         1.01   \n3           N      Yes  ...                   1        0.87         1.09   \n4           N       No  ...                   9        0.52         0.52   \n\n  Unnamed: 18 Unnamed: 19  Unnamed: 20  Rank  Value   Age  A_group  \n0        0.88        0.74            1     1   1.72 63.05      >60  \n1        1.11        0.95            1     1   1.72 50.36    41-50  \n2        1.01        1.01            1     1   1.72 45.92    41-50  \n3        1.09        1.09            4     4   1.70 41.50    41-50  \n4        0.65        0.65            4     4   1.70 54.86    51-60  \n\n[5 rows x 25 columns]",
      "text/html": "<div>\n<style scoped>\n    .dataframe tbody tr th:only-of-type {\n        vertical-align: middle;\n    }\n\n    .dataframe tbody tr th {\n        vertical-align: top;\n    }\n\n    .dataframe thead th {\n        text-align: right;\n    }\n</style>\n<table border=\"1\" class=\"dataframe\">\n  <thead>\n    <tr style=\"text-align: right;\">\n      <th></th>\n      <th>fname</th>\n      <th>lname</th>\n      <th>gender</th>\n      <th>3y_bike_purchases</th>\n      <th>DOB</th>\n      <th>JT</th>\n      <th>Category</th>\n      <th>wealth_segment</th>\n      <th>D_Indicator</th>\n      <th>owns_car</th>\n      <th>...</th>\n      <th>property_valuation</th>\n      <th>Unnamed: 16</th>\n      <th>Unnamed: 17</th>\n      <th>Unnamed: 18</th>\n      <th>Unnamed: 19</th>\n      <th>Unnamed: 20</th>\n      <th>Rank</th>\n      <th>Value</th>\n      <th>Age</th>\n      <th>A_group</th>\n    </tr>\n  </thead>\n  <tbody>\n    <tr>\n      <th>0</th>\n      <td>Chickie</td>\n      <td>Brister</td>\n      <td>Male</td>\n      <td>86</td>\n      <td>1957-07-12</td>\n      <td>General Manager</td>\n      <td>Manufacturing</td>\n      <td>Mass Customer</td>\n      <td>N</td>\n      <td>Yes</td>\n      <td>...</td>\n      <td>6</td>\n      <td>0.56</td>\n      <td>0.70</td>\n      <td>0.88</td>\n      <td>0.74</td>\n      <td>1</td>\n      <td>1</td>\n      <td>1.72</td>\n      <td>63.05</td>\n      <td>&gt;60</td>\n    </tr>\n    <tr>\n      <th>1</th>\n      <td>Morly</td>\n      <td>Genery</td>\n      <td>Male</td>\n      <td>69</td>\n      <td>1970-03-22</td>\n      <td>Structural Engineer</td>\n      <td>Property</td>\n      <td>Mass Customer</td>\n      <td>N</td>\n      <td>No</td>\n      <td>...</td>\n      <td>11</td>\n      <td>0.89</td>\n      <td>0.89</td>\n      <td>1.11</td>\n      <td>0.95</td>\n      <td>1</td>\n      <td>1</td>\n      <td>1.72</td>\n      <td>50.36</td>\n      <td>41-50</td>\n    </tr>\n    <tr>\n      <th>2</th>\n      <td>Ardelis</td>\n      <td>Forrester</td>\n      <td>Female</td>\n      <td>10</td>\n      <td>1974-08-28</td>\n      <td>Senior Cost Accountant</td>\n      <td>Financial Services</td>\n      <td>Affluent Customer</td>\n      <td>N</td>\n      <td>No</td>\n      <td>...</td>\n      <td>5</td>\n      <td>1.01</td>\n      <td>1.01</td>\n      <td>1.01</td>\n      <td>1.01</td>\n      <td>1</td>\n      <td>1</td>\n      <td>1.72</td>\n      <td>45.92</td>\n      <td>41-50</td>\n    </tr>\n    <tr>\n      <th>3</th>\n      <td>Lucine</td>\n      <td>Stutt</td>\n      <td>Female</td>\n      <td>64</td>\n      <td>1979-01-28</td>\n      <td>Account Representative III</td>\n      <td>Manufacturing</td>\n      <td>Affluent Customer</td>\n      <td>N</td>\n      <td>Yes</td>\n      <td>...</td>\n      <td>1</td>\n      <td>0.87</td>\n      <td>1.09</td>\n      <td>1.09</td>\n      <td>1.09</td>\n      <td>4</td>\n      <td>4</td>\n      <td>1.70</td>\n      <td>41.50</td>\n      <td>41-50</td>\n    </tr>\n    <tr>\n      <th>4</th>\n      <td>Melinda</td>\n      <td>Hadlee</td>\n      <td>Female</td>\n      <td>34</td>\n      <td>1965-09-21</td>\n      <td>Financial Analyst</td>\n      <td>Financial Services</td>\n      <td>Affluent Customer</td>\n      <td>N</td>\n      <td>No</td>\n      <td>...</td>\n      <td>9</td>\n      <td>0.52</td>\n      <td>0.52</td>\n      <td>0.65</td>\n      <td>0.65</td>\n      <td>4</td>\n      <td>4</td>\n      <td>1.70</td>\n      <td>54.86</td>\n      <td>51-60</td>\n    </tr>\n  </tbody>\n</table>\n<p>5 rows × 25 columns</p>\n</div>"
     },
     "execution_count": 127,
     "metadata": {},
     "output_type": "execute_result"
    }
   ],
   "source": [
    "df.head()"
   ],
   "metadata": {
    "collapsed": false,
    "pycharm": {
     "name": "#%%\n"
    }
   }
  },
  {
   "cell_type": "markdown",
   "source": [
    "<h1>Locate the upper outliner"
   ],
   "metadata": {
    "collapsed": false,
    "pycharm": {
     "name": "#%% md\n"
    }
   }
  },
  {
   "cell_type": "code",
   "execution_count": 127,
   "outputs": [],
   "source": [],
   "metadata": {
    "collapsed": false,
    "pycharm": {
     "name": "#%% locate the upper outliner\n"
    }
   }
  },
  {
   "cell_type": "code",
   "execution_count": 128,
   "outputs": [
    {
     "data": {
      "text/plain": "       3y_bike_purchases  tenure  postcode  property_valuation  Unnamed: 16  \\\ncount             983.00  983.00    983.00              983.00       983.00   \nmean               49.82   11.46   3017.74                7.41         0.75   \nstd                27.79    5.01    849.38                2.76         0.21   \nmin                 0.00    1.00   2000.00                1.00         0.40   \n25%                27.00    8.00   2209.00                6.00         0.57   \n50%                51.00   11.00   2795.00                8.00         0.75   \n75%                72.00   15.00   3850.50                9.00         0.92   \nmax                99.00   22.00   4879.00               12.00         1.10   \n\n       Unnamed: 17  Unnamed: 18  Unnamed: 19  Unnamed: 20    Rank  Value  \\\ncount       983.00       983.00       983.00       983.00  983.00 983.00   \nmean          0.84         0.94         0.87       497.75  497.75   0.88   \nstd           0.25         0.29         0.28       289.19  289.19   0.29   \nmin           0.40         0.40         0.34         1.00    1.00   0.34   \n25%           0.63         0.71         0.66       248.50  248.50   0.65   \n50%           0.82         0.91         0.84       500.00  500.00   0.86   \n75%           1.03         1.14         1.06       748.00  748.00   1.08   \nmax           1.38         1.72         1.72      1000.00 1000.00   1.72   \n\n         Age  \ncount 983.00  \nmean   49.28  \nstd    17.07  \nmin    18.42  \n25%    37.30  \n50%    48.35  \n75%    62.81  \nmax    82.15  ",
      "text/html": "<div>\n<style scoped>\n    .dataframe tbody tr th:only-of-type {\n        vertical-align: middle;\n    }\n\n    .dataframe tbody tr th {\n        vertical-align: top;\n    }\n\n    .dataframe thead th {\n        text-align: right;\n    }\n</style>\n<table border=\"1\" class=\"dataframe\">\n  <thead>\n    <tr style=\"text-align: right;\">\n      <th></th>\n      <th>3y_bike_purchases</th>\n      <th>tenure</th>\n      <th>postcode</th>\n      <th>property_valuation</th>\n      <th>Unnamed: 16</th>\n      <th>Unnamed: 17</th>\n      <th>Unnamed: 18</th>\n      <th>Unnamed: 19</th>\n      <th>Unnamed: 20</th>\n      <th>Rank</th>\n      <th>Value</th>\n      <th>Age</th>\n    </tr>\n  </thead>\n  <tbody>\n    <tr>\n      <th>count</th>\n      <td>983.00</td>\n      <td>983.00</td>\n      <td>983.00</td>\n      <td>983.00</td>\n      <td>983.00</td>\n      <td>983.00</td>\n      <td>983.00</td>\n      <td>983.00</td>\n      <td>983.00</td>\n      <td>983.00</td>\n      <td>983.00</td>\n      <td>983.00</td>\n    </tr>\n    <tr>\n      <th>mean</th>\n      <td>49.82</td>\n      <td>11.46</td>\n      <td>3017.74</td>\n      <td>7.41</td>\n      <td>0.75</td>\n      <td>0.84</td>\n      <td>0.94</td>\n      <td>0.87</td>\n      <td>497.75</td>\n      <td>497.75</td>\n      <td>0.88</td>\n      <td>49.28</td>\n    </tr>\n    <tr>\n      <th>std</th>\n      <td>27.79</td>\n      <td>5.01</td>\n      <td>849.38</td>\n      <td>2.76</td>\n      <td>0.21</td>\n      <td>0.25</td>\n      <td>0.29</td>\n      <td>0.28</td>\n      <td>289.19</td>\n      <td>289.19</td>\n      <td>0.29</td>\n      <td>17.07</td>\n    </tr>\n    <tr>\n      <th>min</th>\n      <td>0.00</td>\n      <td>1.00</td>\n      <td>2000.00</td>\n      <td>1.00</td>\n      <td>0.40</td>\n      <td>0.40</td>\n      <td>0.40</td>\n      <td>0.34</td>\n      <td>1.00</td>\n      <td>1.00</td>\n      <td>0.34</td>\n      <td>18.42</td>\n    </tr>\n    <tr>\n      <th>25%</th>\n      <td>27.00</td>\n      <td>8.00</td>\n      <td>2209.00</td>\n      <td>6.00</td>\n      <td>0.57</td>\n      <td>0.63</td>\n      <td>0.71</td>\n      <td>0.66</td>\n      <td>248.50</td>\n      <td>248.50</td>\n      <td>0.65</td>\n      <td>37.30</td>\n    </tr>\n    <tr>\n      <th>50%</th>\n      <td>51.00</td>\n      <td>11.00</td>\n      <td>2795.00</td>\n      <td>8.00</td>\n      <td>0.75</td>\n      <td>0.82</td>\n      <td>0.91</td>\n      <td>0.84</td>\n      <td>500.00</td>\n      <td>500.00</td>\n      <td>0.86</td>\n      <td>48.35</td>\n    </tr>\n    <tr>\n      <th>75%</th>\n      <td>72.00</td>\n      <td>15.00</td>\n      <td>3850.50</td>\n      <td>9.00</td>\n      <td>0.92</td>\n      <td>1.03</td>\n      <td>1.14</td>\n      <td>1.06</td>\n      <td>748.00</td>\n      <td>748.00</td>\n      <td>1.08</td>\n      <td>62.81</td>\n    </tr>\n    <tr>\n      <th>max</th>\n      <td>99.00</td>\n      <td>22.00</td>\n      <td>4879.00</td>\n      <td>12.00</td>\n      <td>1.10</td>\n      <td>1.38</td>\n      <td>1.72</td>\n      <td>1.72</td>\n      <td>1000.00</td>\n      <td>1000.00</td>\n      <td>1.72</td>\n      <td>82.15</td>\n    </tr>\n  </tbody>\n</table>\n</div>"
     },
     "execution_count": 128,
     "metadata": {},
     "output_type": "execute_result"
    }
   ],
   "source": [
    "df.describe()"
   ],
   "metadata": {
    "collapsed": false,
    "pycharm": {
     "name": "#%%\n"
    }
   }
  },
  {
   "cell_type": "code",
   "execution_count": 129,
   "outputs": [
    {
     "data": {
      "text/plain": "82.15"
     },
     "execution_count": 129,
     "metadata": {},
     "output_type": "execute_result"
    }
   ],
   "source": [
    "df.Age.max()"
   ],
   "metadata": {
    "collapsed": false,
    "pycharm": {
     "name": "#%%\n"
    }
   }
  },
  {
   "cell_type": "code",
   "execution_count": 130,
   "outputs": [
    {
     "data": {
      "text/plain": "<Figure size 432x288 with 1 Axes>",
      "image/png": "[encoded data removed]"
     },
     "metadata": {},
     "output_type": "display_data"
    }
   ],
   "source": [
    "import seaborn as sns\n",
    "boxplot = sns.boxplot(y=\"Age\", data=df,)\n",
    "\n",
    "\n"
   ],
   "metadata": {
    "collapsed": false,
    "pycharm": {
     "name": "#%%\n"
    }
   }
  },
  {
   "cell_type": "code",
   "execution_count": 131,
   "outputs": [
    {
     "name": "stdout",
     "output_type": "stream",
     "text": [
      "[81.6454]\n",
      "81.6454\n"
     ]
    }
   ],
   "source": [
    "print(np.percentile(df.Age,[99]))\n",
    "print(np.percentile(df.Age,[99])[0])\n",
    "uo = np.percentile(df.Age,[99])[0]\n",
    "\n"
   ],
   "metadata": {
    "collapsed": false,
    "pycharm": {
     "name": "#%%\n"
    }
   }
  },
  {
   "cell_type": "code",
   "execution_count": 132,
   "outputs": [
    {
     "data": {
      "text/plain": "18    81.72\n191   81.79\n265   81.92\n406   81.67\n414   81.89\n585   81.92\n689   81.91\n769   81.99\n797   82.15\n885   82.14\nName: Age, dtype: float64"
     },
     "execution_count": 132,
     "metadata": {},
     "output_type": "execute_result"
    }
   ],
   "source": [
    "df[(df.Age>uo)][\"Age\"]"
   ],
   "metadata": {
    "collapsed": false,
    "pycharm": {
     "name": "#%% all the Upper Outliners\n"
    }
   }
  },
  {
   "cell_type": "code",
   "execution_count": 133,
   "outputs": [],
   "source": [
    "#To correct it:\n",
    "df.Age[(df.Age>1.3*uo)]=1.3*uo"
   ],
   "metadata": {
    "collapsed": false,
    "pycharm": {
     "name": "#%%\n"
    }
   }
  },
  {
   "cell_type": "code",
   "execution_count": 134,
   "outputs": [
    {
     "data": {
      "text/plain": "18    81.72\n191   81.79\n265   81.92\n406   81.67\n414   81.89\n585   81.92\n689   81.91\n769   81.99\n797   82.15\n885   82.14\nName: Age, dtype: float64"
     },
     "execution_count": 134,
     "metadata": {},
     "output_type": "execute_result"
    }
   ],
   "source": [
    "df[(df.Age>uo)][\"Age\"]\n",
    "\n",
    "# the number 33, outliner is gone\n"
   ],
   "metadata": {
    "collapsed": false,
    "pycharm": {
     "name": "#%%\n"
    }
   }
  },
  {
   "cell_type": "code",
   "execution_count": 135,
   "outputs": [
    {
     "data": {
      "text/plain": "<Figure size 432x288 with 1 Axes>",
      "image/png": "[encoded data removed]"
     },
     "metadata": {},
     "output_type": "display_data"
    }
   ],
   "source": [
    "boxplot = sns.boxplot(y=\"Age\", data=df,)"
   ],
   "metadata": {
    "collapsed": false,
    "pycharm": {
     "name": "#%%\n"
    }
   }
  },
  {
   "cell_type": "markdown",
   "source": [
    "<h1> Finish Cleaning"
   ],
   "metadata": {
    "collapsed": false,
    "pycharm": {
     "name": "#%% md\n"
    }
   }
  },
  {
   "cell_type": "code",
   "execution_count": 136,
   "outputs": [],
   "source": [
    "df.to_csv(\"cleaned.csv\")\n",
    "\n"
   ],
   "metadata": {
    "collapsed": false,
    "pycharm": {
     "name": "#%%\n"
    }
   }
  },
  {
   "cell_type": "markdown",
   "source": [
    "<h1>Analyze the Gender vs Bikes bought"
   ],
   "metadata": {
    "collapsed": false,
    "pycharm": {
     "name": "#%% md\n"
    }
   }
  },
  {
   "cell_type": "code",
   "execution_count": 137,
   "outputs": [
    {
     "name": "stdout",
     "output_type": "stream",
     "text": [
      "[513, 470, 0]\n"
     ]
    }
   ],
   "source": [
    "#array(['Male', 'Female', 'Unknown'] from KPMG_VI.py\n",
    "gender = [0,0,0] #first is Female, second if Male, third is Unknown\n",
    "for y in df['gender']:\n",
    "    if y == 'Female':\n",
    "        gender[0] += 1\n",
    "\n",
    "    elif y == 'Male':\n",
    "        gender[1] += 1\n",
    "\n",
    "    else:\n",
    "        gender[2] += 1\n",
    "\n",
    "print(gender)\n"
   ],
   "metadata": {
    "collapsed": false,
    "pycharm": {
     "name": "#%%\n"
    }
   }
  },
  {
   "cell_type": "code",
   "execution_count": 144,
   "outputs": [
    {
     "name": "stdout",
     "output_type": "stream",
     "text": [
      "[25212, 23765, 0]\n"
     ]
    }
   ],
   "source": [
    "bike = [0,0,0]\n",
    "bike[0] += df['3y_bike_purchases'][df['gender'] == 'Female'].sum()\n",
    "bike[1] += df['3y_bike_purchases'][df['gender'] == 'Male'].sum()\n",
    "bike[2] += df['3y_bike_purchases'][df['gender'] == 'Unknown'].sum()\n",
    "\n",
    "print(bike)"
   ],
   "metadata": {
    "collapsed": false,
    "pycharm": {
     "name": "#%%\n"
    }
   }
  },
  {
   "cell_type": "code",
   "execution_count": 145,
   "outputs": [
    {
     "data": {
      "application/vnd.plotly.v1+json": {
       "config": {
        "plotlyServerURL": "https://plot.ly"
       },
       "data": [
        {
         "marker": {
          "color": "indianred"
         },
         "name": "Number of People by Genders",
         "text": [
          "513",
          "470",
          "0"
         ],
         "textposition": "auto",
         "type": "bar",
         "x": [
          "Female",
          "Male",
          "unKnown"
         ],
         "y": [
          513,
          470,
          0
         ]
        },
        {
         "marker": {
          "color": "lightsalmon"
         },
         "name": "Purchase Amount by Genders",
         "text": [
          "25212",
          "23765",
          "0"
         ],
         "textposition": "auto",
         "type": "bar",
         "x": [
          "Female",
          "Male",
          "unKnown"
         ],
         "y": [
          25212,
          23765,
          0
         ]
        }
       ],
       "layout": {
        "barmode": "group",
        "legend": {
         "x": 0.7,
         "xanchor": "left",
         "y": 0.99,
         "yanchor": "top"
        },
        "template": {
         "data": {
          "bar": [
           {
            "error_x": {
             "color": "#2a3f5f"
            },
            "error_y": {
             "color": "#2a3f5f"
            },
            "marker": {
             "line": {
              "color": "#E5ECF6",
              "width": 0.5
             }
            },
            "type": "bar"
           }
          ],
          "barpolar": [
           {
            "marker": {
             "line": {
              "color": "#E5ECF6",
              "width": 0.5
             }
            },
            "type": "barpolar"
           }
          ],
          "carpet": [
           {
            "aaxis": {
             "endlinecolor": "#2a3f5f",
             "gridcolor": "white",
             "linecolor": "white",
             "minorgridcolor": "white",
             "startlinecolor": "#2a3f5f"
            },
            "baxis": {
             "endlinecolor": "#2a3f5f",
             "gridcolor": "white",
             "linecolor": "white",
             "minorgridcolor": "white",
             "startlinecolor": "#2a3f5f"
            },
            "type": "carpet"
           }
          ],
          "choropleth": [
           {
            "colorbar": {
             "outlinewidth": 0,
             "ticks": ""
            },
            "type": "choropleth"
           }
          ],
          "contour": [
           {
            "colorbar": {
             "outlinewidth": 0,
             "ticks": ""
            },
            "colorscale": [
             [
              0.0,
              "#0d0887"
             ],
             [
              0.1111111111111111,
              "#46039f"
             ],
             [
              0.2222222222222222,
              "#7201a8"
             ],
             [
              0.3333333333333333,
              "#9c179e"
             ],
             [
              0.4444444444444444,
              "#bd3786"
             ],
             [
              0.5555555555555556,
              "#d8576b"
             ],
             [
              0.6666666666666666,
              "#ed7953"
             ],
             [
              0.7777777777777778,
              "#fb9f3a"
             ],
             [
              0.8888888888888888,
              "#fdca26"
             ],
             [
              1.0,
              "#f0f921"
             ]
            ],
            "type": "contour"
           }
          ],
          "contourcarpet": [
           {
            "colorbar": {
             "outlinewidth": 0,
             "ticks": ""
            },
            "type": "contourcarpet"
           }
          ],
          "heatmap": [
           {
            "colorbar": {
             "outlinewidth": 0,
             "ticks": ""
            },
            "colorscale": [
             [
              0.0,
              "#0d0887"
             ],
             [
              0.1111111111111111,
              "#46039f"
             ],
             [
              0.2222222222222222,
              "#7201a8"
             ],
             [
              0.3333333333333333,
              "#9c179e"
             ],
             [
              0.4444444444444444,
              "#bd3786"
             ],
             [
              0.5555555555555556,
              "#d8576b"
             ],
             [
              0.6666666666666666,
              "#ed7953"
             ],
             [
              0.7777777777777778,
              "#fb9f3a"
             ],
             [
              0.8888888888888888,
              "#fdca26"
             ],
             [
              1.0,
              "#f0f921"
             ]
            ],
            "type": "heatmap"
           }
          ],
          "heatmapgl": [
           {
            "colorbar": {
             "outlinewidth": 0,
             "ticks": ""
            },
            "colorscale": [
             [
              0.0,
              "#0d0887"
             ],
             [
              0.1111111111111111,
              "#46039f"
             ],
             [
              0.2222222222222222,
              "#7201a8"
             ],
             [
              0.3333333333333333,
              "#9c179e"
             ],
             [
              0.4444444444444444,
              "#bd3786"
             ],
             [
              0.5555555555555556,
              "#d8576b"
             ],
             [
              0.6666666666666666,
              "#ed7953"
             ],
             [
              0.7777777777777778,
              "#fb9f3a"
             ],
             [
              0.8888888888888888,
              "#fdca26"
             ],
             [
              1.0,
              "#f0f921"
             ]
            ],
            "type": "heatmapgl"
           }
          ],
          "histogram": [
           {
            "marker": {
             "colorbar": {
              "outlinewidth": 0,
              "ticks": ""
             }
            },
            "type": "histogram"
           }
          ],
          "histogram2d": [
           {
            "colorbar": {
             "outlinewidth": 0,
             "ticks": ""
            },
            "colorscale": [
             [
              0.0,
              "#0d0887"
             ],
             [
              0.1111111111111111,
              "#46039f"
             ],
             [
              0.2222222222222222,
              "#7201a8"
             ],
             [
              0.3333333333333333,
              "#9c179e"
             ],
             [
              0.4444444444444444,
              "#bd3786"
             ],
             [
              0.5555555555555556,
              "#d8576b"
             ],
             [
              0.6666666666666666,
              "#ed7953"
             ],
             [
              0.7777777777777778,
              "#fb9f3a"
             ],
             [
              0.8888888888888888,
              "#fdca26"
             ],
             [
              1.0,
              "#f0f921"
             ]
            ],
            "type": "histogram2d"
           }
          ],
          "histogram2dcontour": [
           {
            "colorbar": {
             "outlinewidth": 0,
             "ticks": ""
            },
            "colorscale": [
             [
              0.0,
              "#0d0887"
             ],
             [
              0.1111111111111111,
              "#46039f"
             ],
             [
              0.2222222222222222,
              "#7201a8"
             ],
             [
              0.3333333333333333,
              "#9c179e"
             ],
             [
              0.4444444444444444,
              "#bd3786"
             ],
             [
              0.5555555555555556,
              "#d8576b"
             ],
             [
              0.6666666666666666,
              "#ed7953"
             ],
             [
              0.7777777777777778,
              "#fb9f3a"
             ],
             [
              0.8888888888888888,
              "#fdca26"
             ],
             [
              1.0,
              "#f0f921"
             ]
            ],
            "type": "histogram2dcontour"
           }
          ],
          "mesh3d": [
           {
            "colorbar": {
             "outlinewidth": 0,
             "ticks": ""
            },
            "type": "mesh3d"
           }
          ],
          "parcoords": [
           {
            "line": {
             "colorbar": {
              "outlinewidth": 0,
              "ticks": ""
             }
            },
            "type": "parcoords"
           }
          ],
          "pie": [
           {
            "automargin": true,
            "type": "pie"
           }
          ],
          "scatter": [
           {
            "marker": {
             "colorbar": {
              "outlinewidth": 0,
              "ticks": ""
             }
            },
            "type": "scatter"
           }
          ],
          "scatter3d": [
           {
            "line": {
             "colorbar": {
              "outlinewidth": 0,
              "ticks": ""
             }
            },
            "marker": {
             "colorbar": {
              "outlinewidth": 0,
              "ticks": ""
             }
            },
            "type": "scatter3d"
           }
          ],
          "scattercarpet": [
           {
            "marker": {
             "colorbar": {
              "outlinewidth": 0,
              "ticks": ""
             }
            },
            "type": "scattercarpet"
           }
          ],
          "scattergeo": [
           {
            "marker": {
             "colorbar": {
              "outlinewidth": 0,
              "ticks": ""
             }
            },
            "type": "scattergeo"
           }
          ],
          "scattergl": [
           {
            "marker": {
             "colorbar": {
              "outlinewidth": 0,
              "ticks": ""
             }
            },
            "type": "scattergl"
           }
          ],
          "scattermapbox": [
           {
            "marker": {
             "colorbar": {
              "outlinewidth": 0,
              "ticks": ""
             }
            },
            "type": "scattermapbox"
           }
          ],
          "scatterpolar": [
           {
            "marker": {
             "colorbar": {
              "outlinewidth": 0,
              "ticks": ""
             }
            },
            "type": "scatterpolar"
           }
          ],
          "scatterpolargl": [
           {
            "marker": {
             "colorbar": {
              "outlinewidth": 0,
              "ticks": ""
             }
            },
            "type": "scatterpolargl"
           }
          ],
          "scatterternary": [
           {
            "marker": {
             "colorbar": {
              "outlinewidth": 0,
              "ticks": ""
             }
            },
            "type": "scatterternary"
           }
          ],
          "surface": [
           {
            "colorbar": {
             "outlinewidth": 0,
             "ticks": ""
            },
            "colorscale": [
             [
              0.0,
              "#0d0887"
             ],
             [
              0.1111111111111111,
              "#46039f"
             ],
             [
              0.2222222222222222,
              "#7201a8"
             ],
             [
              0.3333333333333333,
              "#9c179e"
             ],
             [
              0.4444444444444444,
              "#bd3786"
             ],
             [
              0.5555555555555556,
              "#d8576b"
             ],
             [
              0.6666666666666666,
              "#ed7953"
             ],
             [
              0.7777777777777778,
              "#fb9f3a"
             ],
             [
              0.8888888888888888,
              "#fdca26"
             ],
             [
              1.0,
              "#f0f921"
             ]
            ],
            "type": "surface"
           }
          ],
          "table": [
           {
            "cells": {
             "fill": {
              "color": "#EBF0F8"
             },
             "line": {
              "color": "white"
             }
            },
            "header": {
             "fill": {
              "color": "#C8D4E3"
             },
             "line": {
              "color": "white"
             }
            },
            "type": "table"
           }
          ]
         },
         "layout": {
          "annotationdefaults": {
           "arrowcolor": "#2a3f5f",
           "arrowhead": 0,
           "arrowwidth": 1
          },
          "coloraxis": {
           "colorbar": {
            "outlinewidth": 0,
            "ticks": ""
           }
          },
          "colorscale": {
           "diverging": [
            [
             0,
             "#8e0152"
            ],
            [
             0.1,
             "#c51b7d"
            ],
            [
             0.2,
             "#de77ae"
            ],
            [
             0.3,
             "#f1b6da"
            ],
            [
             0.4,
             "#fde0ef"
            ],
            [
             0.5,
             "#f7f7f7"
            ],
            [
             0.6,
             "#e6f5d0"
            ],
            [
             0.7,
             "#b8e186"
            ],
            [
             0.8,
             "#7fbc41"
            ],
            [
             0.9,
             "#4d9221"
            ],
            [
             1,
             "#276419"
            ]
           ],
           "sequential": [
            [
             0.0,
             "#0d0887"
            ],
            [
             0.1111111111111111,
             "#46039f"
            ],
            [
             0.2222222222222222,
             "#7201a8"
            ],
            [
             0.3333333333333333,
             "#9c179e"
            ],
            [
             0.4444444444444444,
             "#bd3786"
            ],
            [
             0.5555555555555556,
             "#d8576b"
            ],
            [
             0.6666666666666666,
             "#ed7953"
            ],
            [
             0.7777777777777778,
             "#fb9f3a"
            ],
            [
             0.8888888888888888,
             "#fdca26"
            ],
            [
             1.0,
             "#f0f921"
            ]
           ],
           "sequentialminus": [
            [
             0.0,
             "#0d0887"
            ],
            [
             0.1111111111111111,
             "#46039f"
            ],
            [
             0.2222222222222222,
             "#7201a8"
            ],
            [
             0.3333333333333333,
             "#9c179e"
            ],
            [
             0.4444444444444444,
             "#bd3786"
            ],
            [
             0.5555555555555556,
             "#d8576b"
            ],
            [
             0.6666666666666666,
             "#ed7953"
            ],
            [
             0.7777777777777778,
             "#fb9f3a"
            ],
            [
             0.8888888888888888,
             "#fdca26"
            ],
            [
             1.0,
             "#f0f921"
            ]
           ]
          },
          "colorway": [
           "#636efa",
           "#EF553B",
           "#00cc96",
           "#ab63fa",
           "#FFA15A",
           "#19d3f3",
           "#FF6692",
           "#B6E880",
           "#FF97FF",
           "#FECB52"
          ],
          "font": {
           "color": "#2a3f5f"
          },
          "geo": {
           "bgcolor": "white",
           "lakecolor": "white",
           "landcolor": "#E5ECF6",
           "showlakes": true,
           "showland": true,
           "subunitcolor": "white"
          },
          "hoverlabel": {
           "align": "left"
          },
          "hovermode": "closest",
          "mapbox": {
           "style": "light"
          },
          "paper_bgcolor": "white",
          "plot_bgcolor": "#E5ECF6",
          "polar": {
           "angularaxis": {
            "gridcolor": "white",
            "linecolor": "white",
            "ticks": ""
           },
           "bgcolor": "#E5ECF6",
           "radialaxis": {
            "gridcolor": "white",
            "linecolor": "white",
            "ticks": ""
           }
          },
          "scene": {
           "xaxis": {
            "backgroundcolor": "#E5ECF6",
            "gridcolor": "white",
            "gridwidth": 2,
            "linecolor": "white",
            "showbackground": true,
            "ticks": "",
            "zerolinecolor": "white"
           },
           "yaxis": {
            "backgroundcolor": "#E5ECF6",
            "gridcolor": "white",
            "gridwidth": 2,
            "linecolor": "white",
            "showbackground": true,
            "ticks": "",
            "zerolinecolor": "white"
           },
           "zaxis": {
            "backgroundcolor": "#E5ECF6",
            "gridcolor": "white",
            "gridwidth": 2,
            "linecolor": "white",
            "showbackground": true,
            "ticks": "",
            "zerolinecolor": "white"
           }
          },
          "shapedefaults": {
           "line": {
            "color": "#2a3f5f"
           }
          },
          "ternary": {
           "aaxis": {
            "gridcolor": "white",
            "linecolor": "white",
            "ticks": ""
           },
           "baxis": {
            "gridcolor": "white",
            "linecolor": "white",
            "ticks": ""
           },
           "bgcolor": "#E5ECF6",
           "caxis": {
            "gridcolor": "white",
            "linecolor": "white",
            "ticks": ""
           }
          },
          "title": {
           "x": 0.05
          },
          "xaxis": {
           "automargin": true,
           "gridcolor": "white",
           "linecolor": "white",
           "ticks": "",
           "title": {
            "standoff": 15
           },
           "zerolinecolor": "white",
           "zerolinewidth": 2
          },
          "yaxis": {
           "automargin": true,
           "gridcolor": "white",
           "linecolor": "white",
           "ticks": "",
           "title": {
            "standoff": 15
           },
           "zerolinecolor": "white",
           "zerolinewidth": 2
          }
         }
        },
        "title": {
         "text": "Bike Purchases",
         "x": 0.5
        },
        "xaxis": {
         "tickangle": -45
        }
       }
      },
      "text/html": "<div>\n        \n        \n            <div id=\"c0577511-0026-4e54-af35-2cca890c835a\" class=\"plotly-graph-div\" style=\"height:525px; width:100%;\"></div>\n            <script type=\"text/javascript\">\n                require([\"plotly\"], function(Plotly) {\n                    window.PLOTLYENV=window.PLOTLYENV || {};\n                    \n                if (document.getElementById(\"c0577511-0026-4e54-af35-2cca890c835a\")) {\n                    Plotly.newPlot(\n                        'c0577511-0026-4e54-af35-2cca890c835a',\n                        [{\"marker\": {\"color\": \"indianred\"}, \"name\": \"Number of People by Genders\", \"text\": [\"513\", \"470\", \"0\"], \"textposition\": \"auto\", \"type\": \"bar\", \"x\": [\"Female\", \"Male\", \"unKnown\"], \"y\": [513, 470, 0]}, {\"marker\": {\"color\": \"lightsalmon\"}, \"name\": \"Purchase Amount by Genders\", \"text\": [\"25212\", \"23765\", \"0\"], \"textposition\": \"auto\", \"type\": \"bar\", \"x\": [\"Female\", \"Male\", \"unKnown\"], \"y\": [25212, 23765, 0]}],\n                        {\"barmode\": \"group\", \"legend\": {\"x\": 0.7, \"xanchor\": \"left\", \"y\": 0.99, \"yanchor\": \"top\"}, \"template\": {\"data\": {\"bar\": [{\"error_x\": {\"color\": \"#2a3f5f\"}, \"error_y\": {\"color\": \"#2a3f5f\"}, \"marker\": {\"line\": {\"color\": \"#E5ECF6\", \"width\": 0.5}}, \"type\": \"bar\"}], \"barpolar\": [{\"marker\": {\"line\": {\"color\": \"#E5ECF6\", \"width\": 0.5}}, \"type\": \"barpolar\"}], \"carpet\": [{\"aaxis\": {\"endlinecolor\": \"#2a3f5f\", \"gridcolor\": \"white\", \"linecolor\": \"white\", \"minorgridcolor\": \"white\", \"startlinecolor\": \"#2a3f5f\"}, \"baxis\": {\"endlinecolor\": \"#2a3f5f\", \"gridcolor\": \"white\", \"linecolor\": \"white\", \"minorgridcolor\": \"white\", \"startlinecolor\": \"#2a3f5f\"}, \"type\": \"carpet\"}], \"choropleth\": [{\"colorbar\": {\"outlinewidth\": 0, \"ticks\": \"\"}, \"type\": \"choropleth\"}], \"contour\": [{\"colorbar\": {\"outlinewidth\": 0, \"ticks\": \"\"}, \"colorscale\": [[0.0, \"#0d0887\"], [0.1111111111111111, \"#46039f\"], [0.2222222222222222, \"#7201a8\"], [0.3333333333333333, \"#9c179e\"], [0.4444444444444444, \"#bd3786\"], [0.5555555555555556, \"#d8576b\"], [0.6666666666666666, \"#ed7953\"], [0.7777777777777778, \"#fb9f3a\"], [0.8888888888888888, \"#fdca26\"], [1.0, \"#f0f921\"]], \"type\": \"contour\"}], \"contourcarpet\": [{\"colorbar\": {\"outlinewidth\": 0, \"ticks\": \"\"}, \"type\": \"contourcarpet\"}], \"heatmap\": [{\"colorbar\": {\"outlinewidth\": 0, \"ticks\": \"\"}, \"colorscale\": [[0.0, \"#0d0887\"], [0.1111111111111111, \"#46039f\"], [0.2222222222222222, \"#7201a8\"], [0.3333333333333333, \"#9c179e\"], [0.4444444444444444, \"#bd3786\"], [0.5555555555555556, \"#d8576b\"], [0.6666666666666666, \"#ed7953\"], [0.7777777777777778, \"#fb9f3a\"], [0.8888888888888888, \"#fdca26\"], [1.0, \"#f0f921\"]], \"type\": \"heatmap\"}], \"heatmapgl\": [{\"colorbar\": {\"outlinewidth\": 0, \"ticks\": \"\"}, \"colorscale\": [[0.0, \"#0d0887\"], [0.1111111111111111, \"#46039f\"], [0.2222222222222222, \"#7201a8\"], [0.3333333333333333, \"#9c179e\"], [0.4444444444444444, \"#bd3786\"], [0.5555555555555556, \"#d8576b\"], [0.6666666666666666, \"#ed7953\"], [0.7777777777777778, \"#fb9f3a\"], [0.8888888888888888, \"#fdca26\"], [1.0, \"#f0f921\"]], \"type\": \"heatmapgl\"}], \"histogram\": [{\"marker\": {\"colorbar\": {\"outlinewidth\": 0, \"ticks\": \"\"}}, \"type\": \"histogram\"}], \"histogram2d\": [{\"colorbar\": {\"outlinewidth\": 0, \"ticks\": \"\"}, \"colorscale\": [[0.0, \"#0d0887\"], [0.1111111111111111, \"#46039f\"], [0.2222222222222222, \"#7201a8\"], [0.3333333333333333, \"#9c179e\"], [0.4444444444444444, \"#bd3786\"], [0.5555555555555556, \"#d8576b\"], [0.6666666666666666, \"#ed7953\"], [0.7777777777777778, \"#fb9f3a\"], [0.8888888888888888, \"#fdca26\"], [1.0, \"#f0f921\"]], \"type\": \"histogram2d\"}], \"histogram2dcontour\": [{\"colorbar\": {\"outlinewidth\": 0, \"ticks\": \"\"}, \"colorscale\": [[0.0, \"#0d0887\"], [0.1111111111111111, \"#46039f\"], [0.2222222222222222, \"#7201a8\"], [0.3333333333333333, \"#9c179e\"], [0.4444444444444444, \"#bd3786\"], [0.5555555555555556, \"#d8576b\"], [0.6666666666666666, \"#ed7953\"], [0.7777777777777778, \"#fb9f3a\"], [0.8888888888888888, \"#fdca26\"], [1.0, \"#f0f921\"]], \"type\": \"histogram2dcontour\"}], \"mesh3d\": [{\"colorbar\": {\"outlinewidth\": 0, \"ticks\": \"\"}, \"type\": \"mesh3d\"}], \"parcoords\": [{\"line\": {\"colorbar\": {\"outlinewidth\": 0, \"ticks\": \"\"}}, \"type\": \"parcoords\"}], \"pie\": [{\"automargin\": true, \"type\": \"pie\"}], \"scatter\": [{\"marker\": {\"colorbar\": {\"outlinewidth\": 0, \"ticks\": \"\"}}, \"type\": \"scatter\"}], \"scatter3d\": [{\"line\": {\"colorbar\": {\"outlinewidth\": 0, \"ticks\": \"\"}}, \"marker\": {\"colorbar\": {\"outlinewidth\": 0, \"ticks\": \"\"}}, \"type\": \"scatter3d\"}], \"scattercarpet\": [{\"marker\": {\"colorbar\": {\"outlinewidth\": 0, \"ticks\": \"\"}}, \"type\": \"scattercarpet\"}], \"scattergeo\": [{\"marker\": {\"colorbar\": {\"outlinewidth\": 0, \"ticks\": \"\"}}, \"type\": \"scattergeo\"}], \"scattergl\": [{\"marker\": {\"colorbar\": {\"outlinewidth\": 0, \"ticks\": \"\"}}, \"type\": \"scattergl\"}], \"scattermapbox\": [{\"marker\": {\"colorbar\": {\"outlinewidth\": 0, \"ticks\": \"\"}}, \"type\": \"scattermapbox\"}], \"scatterpolar\": [{\"marker\": {\"colorbar\": {\"outlinewidth\": 0, \"ticks\": \"\"}}, \"type\": \"scatterpolar\"}], \"scatterpolargl\": [{\"marker\": {\"colorbar\": {\"outlinewidth\": 0, \"ticks\": \"\"}}, \"type\": \"scatterpolargl\"}], \"scatterternary\": [{\"marker\": {\"colorbar\": {\"outlinewidth\": 0, \"ticks\": \"\"}}, \"type\": \"scatterternary\"}], \"surface\": [{\"colorbar\": {\"outlinewidth\": 0, \"ticks\": \"\"}, \"colorscale\": [[0.0, \"#0d0887\"], [0.1111111111111111, \"#46039f\"], [0.2222222222222222, \"#7201a8\"], [0.3333333333333333, \"#9c179e\"], [0.4444444444444444, \"#bd3786\"], [0.5555555555555556, \"#d8576b\"], [0.6666666666666666, \"#ed7953\"], [0.7777777777777778, \"#fb9f3a\"], [0.8888888888888888, \"#fdca26\"], [1.0, \"#f0f921\"]], \"type\": \"surface\"}], \"table\": [{\"cells\": {\"fill\": {\"color\": \"#EBF0F8\"}, \"line\": {\"color\": \"white\"}}, \"header\": {\"fill\": {\"color\": \"#C8D4E3\"}, \"line\": {\"color\": \"white\"}}, \"type\": \"table\"}]}, \"layout\": {\"annotationdefaults\": {\"arrowcolor\": \"#2a3f5f\", \"arrowhead\": 0, \"arrowwidth\": 1}, \"coloraxis\": {\"colorbar\": {\"outlinewidth\": 0, \"ticks\": \"\"}}, \"colorscale\": {\"diverging\": [[0, \"#8e0152\"], [0.1, \"#c51b7d\"], [0.2, \"#de77ae\"], [0.3, \"#f1b6da\"], [0.4, \"#fde0ef\"], [0.5, \"#f7f7f7\"], [0.6, \"#e6f5d0\"], [0.7, \"#b8e186\"], [0.8, \"#7fbc41\"], [0.9, \"#4d9221\"], [1, \"#276419\"]], \"sequential\": [[0.0, \"#0d0887\"], [0.1111111111111111, \"#46039f\"], [0.2222222222222222, \"#7201a8\"], [0.3333333333333333, \"#9c179e\"], [0.4444444444444444, \"#bd3786\"], [0.5555555555555556, \"#d8576b\"], [0.6666666666666666, \"#ed7953\"], [0.7777777777777778, \"#fb9f3a\"], [0.8888888888888888, \"#fdca26\"], [1.0, \"#f0f921\"]], \"sequentialminus\": [[0.0, \"#0d0887\"], [0.1111111111111111, \"#46039f\"], [0.2222222222222222, \"#7201a8\"], [0.3333333333333333, \"#9c179e\"], [0.4444444444444444, \"#bd3786\"], [0.5555555555555556, \"#d8576b\"], [0.6666666666666666, \"#ed7953\"], [0.7777777777777778, \"#fb9f3a\"], [0.8888888888888888, \"#fdca26\"], [1.0, \"#f0f921\"]]}, \"colorway\": [\"#636efa\", \"#EF553B\", \"#00cc96\", \"#ab63fa\", \"#FFA15A\", \"#19d3f3\", \"#FF6692\", \"#B6E880\", \"#FF97FF\", \"#FECB52\"], \"font\": {\"color\": \"#2a3f5f\"}, \"geo\": {\"bgcolor\": \"white\", \"lakecolor\": \"white\", \"landcolor\": \"#E5ECF6\", \"showlakes\": true, \"showland\": true, \"subunitcolor\": \"white\"}, \"hoverlabel\": {\"align\": \"left\"}, \"hovermode\": \"closest\", \"mapbox\": {\"style\": \"light\"}, \"paper_bgcolor\": \"white\", \"plot_bgcolor\": \"#E5ECF6\", \"polar\": {\"angularaxis\": {\"gridcolor\": \"white\", \"linecolor\": \"white\", \"ticks\": \"\"}, \"bgcolor\": \"#E5ECF6\", \"radialaxis\": {\"gridcolor\": \"white\", \"linecolor\": \"white\", \"ticks\": \"\"}}, \"scene\": {\"xaxis\": {\"backgroundcolor\": \"#E5ECF6\", \"gridcolor\": \"white\", \"gridwidth\": 2, \"linecolor\": \"white\", \"showbackground\": true, \"ticks\": \"\", \"zerolinecolor\": \"white\"}, \"yaxis\": {\"backgroundcolor\": \"#E5ECF6\", \"gridcolor\": \"white\", \"gridwidth\": 2, \"linecolor\": \"white\", \"showbackground\": true, \"ticks\": \"\", \"zerolinecolor\": \"white\"}, \"zaxis\": {\"backgroundcolor\": \"#E5ECF6\", \"gridcolor\": \"white\", \"gridwidth\": 2, \"linecolor\": \"white\", \"showbackground\": true, \"ticks\": \"\", \"zerolinecolor\": \"white\"}}, \"shapedefaults\": {\"line\": {\"color\": \"#2a3f5f\"}}, \"ternary\": {\"aaxis\": {\"gridcolor\": \"white\", \"linecolor\": \"white\", \"ticks\": \"\"}, \"baxis\": {\"gridcolor\": \"white\", \"linecolor\": \"white\", \"ticks\": \"\"}, \"bgcolor\": \"#E5ECF6\", \"caxis\": {\"gridcolor\": \"white\", \"linecolor\": \"white\", \"ticks\": \"\"}}, \"title\": {\"x\": 0.05}, \"xaxis\": {\"automargin\": true, \"gridcolor\": \"white\", \"linecolor\": \"white\", \"ticks\": \"\", \"title\": {\"standoff\": 15}, \"zerolinecolor\": \"white\", \"zerolinewidth\": 2}, \"yaxis\": {\"automargin\": true, \"gridcolor\": \"white\", \"linecolor\": \"white\", \"ticks\": \"\", \"title\": {\"standoff\": 15}, \"zerolinecolor\": \"white\", \"zerolinewidth\": 2}}}, \"title\": {\"text\": \"Bike Purchases\", \"x\": 0.5}, \"xaxis\": {\"tickangle\": -45}},\n                        {\"responsive\": true}\n                    ).then(function(){\n                            \nvar gd = document.getElementById('c0577511-0026-4e54-af35-2cca890c835a');\nvar x = new MutationObserver(function (mutations, observer) {{\n        var display = window.getComputedStyle(gd).display;\n        if (!display || display === 'none') {{\n            console.log([gd, 'removed!']);\n            Plotly.purge(gd);\n            observer.disconnect();\n        }}\n}});\n\n// Listen for the removal of the full notebook cells\nvar notebookContainer = gd.closest('#notebook-container');\nif (notebookContainer) {{\n    x.observe(notebookContainer, {childList: true});\n}}\n\n// Listen for the clearing of the current output cell\nvar outputEl = gd.closest('.output');\nif (outputEl) {{\n    x.observe(outputEl, {childList: true});\n}}\n\n                        })\n                };\n                });\n            </script>\n        </div>"
     },
     "metadata": {},
     "output_type": "display_data"
    }
   ],
   "source": [
    "import plotly.graph_objects as go\n",
    "\n",
    "Genders = ['Female', 'Male', 'unKnown']\n",
    "\n",
    "fig = go.Figure()\n",
    "fig.add_trace(go.Bar(\n",
    "    x=Genders,\n",
    "    y=gender,\n",
    "    name='Number of People by Genders',\n",
    "    marker_color='indianred',\n",
    "    text=gender,\n",
    "    textposition='auto'\n",
    "))\n",
    "fig.add_trace(go.Bar(\n",
    "    x=Genders,\n",
    "    y=bike,\n",
    "    name='Purchase Amount by Genders',\n",
    "    marker_color='lightsalmon',\n",
    "    text=bike,\n",
    "    textposition='auto'\n",
    "))\n",
    "\n",
    "# Here we modify the tickangle of the xaxis, resulting in rotated labels.\n",
    "fig.update_layout(barmode='group',\n",
    "                  xaxis_tickangle=-45,\n",
    "                  title_text='Bike Purchases',\n",
    "                  title_x=0.5,\n",
    "                  legend=dict(\n",
    "                    yanchor=\"top\",\n",
    "                    y=0.99,\n",
    "                    xanchor=\"left\",\n",
    "                    x=0.7),\n",
    "\n",
    "                  )\n",
    "fig.show()\n"
   ],
   "metadata": {
    "collapsed": false,
    "pycharm": {
     "name": "#%%\n"
    }
   }
  },
  {
   "cell_type": "code",
   "execution_count": 146,
   "outputs": [
    {
     "data": {
      "text/plain": "48977"
     },
     "execution_count": 146,
     "metadata": {},
     "output_type": "execute_result"
    }
   ],
   "source": [
    "sum_of_sales = df[\"3y_bike_purchases\"].sum()\n",
    "sum_of_sales\n"
   ],
   "metadata": {
    "collapsed": false,
    "pycharm": {
     "name": "#%%\n"
    }
   }
  },
  {
   "cell_type": "code",
   "execution_count": 147,
   "outputs": [
    {
     "data": {
      "text/plain": "[51.48, 48.52, 0.0]"
     },
     "execution_count": 147,
     "metadata": {},
     "output_type": "execute_result"
    }
   ],
   "source": [
    "avg  = [0,0,0]\n",
    "sum_of_sales = df[\"3y_bike_purchases\"].sum()\n",
    "for i in range(len(avg)):\n",
    "    avg[i] += round((bike[i]/sum_of_sales)*100,2)\n",
    "\n",
    "\n",
    "avg\n"
   ],
   "metadata": {
    "collapsed": false,
    "pycharm": {
     "name": "#%%\n"
    }
   }
  },
  {
   "cell_type": "code",
   "execution_count": 148,
   "outputs": [
    {
     "data": {
      "application/vnd.plotly.v1+json": {
       "config": {
        "plotlyServerURL": "https://plot.ly"
       },
       "data": [
        {
         "marker": {
          "color": "lightsalmon"
         },
         "name": "Purchase Amount by Genders in %",
         "text": [
          "51.48",
          "48.52",
          "0.0"
         ],
         "textposition": "auto",
         "type": "bar",
         "x": [
          "Female",
          "Male",
          "unKnown"
         ],
         "y": [
          51.48,
          48.52,
          0.0
         ]
        }
       ],
       "layout": {
        "barmode": "group",
        "template": {
         "data": {
          "bar": [
           {
            "error_x": {
             "color": "#2a3f5f"
            },
            "error_y": {
             "color": "#2a3f5f"
            },
            "marker": {
             "line": {
              "color": "#E5ECF6",
              "width": 0.5
             }
            },
            "type": "bar"
           }
          ],
          "barpolar": [
           {
            "marker": {
             "line": {
              "color": "#E5ECF6",
              "width": 0.5
             }
            },
            "type": "barpolar"
           }
          ],
          "carpet": [
           {
            "aaxis": {
             "endlinecolor": "#2a3f5f",
             "gridcolor": "white",
             "linecolor": "white",
             "minorgridcolor": "white",
             "startlinecolor": "#2a3f5f"
            },
            "baxis": {
             "endlinecolor": "#2a3f5f",
             "gridcolor": "white",
             "linecolor": "white",
             "minorgridcolor": "white",
             "startlinecolor": "#2a3f5f"
            },
            "type": "carpet"
           }
          ],
          "choropleth": [
           {
            "colorbar": {
             "outlinewidth": 0,
             "ticks": ""
            },
            "type": "choropleth"
           }
          ],
          "contour": [
           {
            "colorbar": {
             "outlinewidth": 0,
             "ticks": ""
            },
            "colorscale": [
             [
              0.0,
              "#0d0887"
             ],
             [
              0.1111111111111111,
              "#46039f"
             ],
             [
              0.2222222222222222,
              "#7201a8"
             ],
             [
              0.3333333333333333,
              "#9c179e"
             ],
             [
              0.4444444444444444,
              "#bd3786"
             ],
             [
              0.5555555555555556,
              "#d8576b"
             ],
             [
              0.6666666666666666,
              "#ed7953"
             ],
             [
              0.7777777777777778,
              "#fb9f3a"
             ],
             [
              0.8888888888888888,
              "#fdca26"
             ],
             [
              1.0,
              "#f0f921"
             ]
            ],
            "type": "contour"
           }
          ],
          "contourcarpet": [
           {
            "colorbar": {
             "outlinewidth": 0,
             "ticks": ""
            },
            "type": "contourcarpet"
           }
          ],
          "heatmap": [
           {
            "colorbar": {
             "outlinewidth": 0,
             "ticks": ""
            },
            "colorscale": [
             [
              0.0,
              "#0d0887"
             ],
             [
              0.1111111111111111,
              "#46039f"
             ],
             [
              0.2222222222222222,
              "#7201a8"
             ],
             [
              0.3333333333333333,
              "#9c179e"
             ],
             [
              0.4444444444444444,
              "#bd3786"
             ],
             [
              0.5555555555555556,
              "#d8576b"
             ],
             [
              0.6666666666666666,
              "#ed7953"
             ],
             [
              0.7777777777777778,
              "#fb9f3a"
             ],
             [
              0.8888888888888888,
              "#fdca26"
             ],
             [
              1.0,
              "#f0f921"
             ]
            ],
            "type": "heatmap"
           }
          ],
          "heatmapgl": [
           {
            "colorbar": {
             "outlinewidth": 0,
             "ticks": ""
            },
            "colorscale": [
             [
              0.0,
              "#0d0887"
             ],
             [
              0.1111111111111111,
              "#46039f"
             ],
             [
              0.2222222222222222,
              "#7201a8"
             ],
             [
              0.3333333333333333,
              "#9c179e"
             ],
             [
              0.4444444444444444,
              "#bd3786"
             ],
             [
              0.5555555555555556,
              "#d8576b"
             ],
             [
              0.6666666666666666,
              "#ed7953"
             ],
             [
              0.7777777777777778,
              "#fb9f3a"
             ],
             [
              0.8888888888888888,
              "#fdca26"
             ],
             [
              1.0,
              "#f0f921"
             ]
            ],
            "type": "heatmapgl"
           }
          ],
          "histogram": [
           {
            "marker": {
             "colorbar": {
              "outlinewidth": 0,
              "ticks": ""
             }
            },
            "type": "histogram"
           }
          ],
          "histogram2d": [
           {
            "colorbar": {
             "outlinewidth": 0,
             "ticks": ""
            },
            "colorscale": [
             [
              0.0,
              "#0d0887"
             ],
             [
              0.1111111111111111,
              "#46039f"
             ],
             [
              0.2222222222222222,
              "#7201a8"
             ],
             [
              0.3333333333333333,
              "#9c179e"
             ],
             [
              0.4444444444444444,
              "#bd3786"
             ],
             [
              0.5555555555555556,
              "#d8576b"
             ],
             [
              0.6666666666666666,
              "#ed7953"
             ],
             [
              0.7777777777777778,
              "#fb9f3a"
             ],
             [
              0.8888888888888888,
              "#fdca26"
             ],
             [
              1.0,
              "#f0f921"
             ]
            ],
            "type": "histogram2d"
           }
          ],
          "histogram2dcontour": [
           {
            "colorbar": {
             "outlinewidth": 0,
             "ticks": ""
            },
            "colorscale": [
             [
              0.0,
              "#0d0887"
             ],
             [
              0.1111111111111111,
              "#46039f"
             ],
             [
              0.2222222222222222,
              "#7201a8"
             ],
             [
              0.3333333333333333,
              "#9c179e"
             ],
             [
              0.4444444444444444,
              "#bd3786"
             ],
             [
              0.5555555555555556,
              "#d8576b"
             ],
             [
              0.6666666666666666,
              "#ed7953"
             ],
             [
              0.7777777777777778,
              "#fb9f3a"
             ],
             [
              0.8888888888888888,
              "#fdca26"
             ],
             [
              1.0,
              "#f0f921"
             ]
            ],
            "type": "histogram2dcontour"
           }
          ],
          "mesh3d": [
           {
            "colorbar": {
             "outlinewidth": 0,
             "ticks": ""
            },
            "type": "mesh3d"
           }
          ],
          "parcoords": [
           {
            "line": {
             "colorbar": {
              "outlinewidth": 0,
              "ticks": ""
             }
            },
            "type": "parcoords"
           }
          ],
          "pie": [
           {
            "automargin": true,
            "type": "pie"
           }
          ],
          "scatter": [
           {
            "marker": {
             "colorbar": {
              "outlinewidth": 0,
              "ticks": ""
             }
            },
            "type": "scatter"
           }
          ],
          "scatter3d": [
           {
            "line": {
             "colorbar": {
              "outlinewidth": 0,
              "ticks": ""
             }
            },
            "marker": {
             "colorbar": {
              "outlinewidth": 0,
              "ticks": ""
             }
            },
            "type": "scatter3d"
           }
          ],
          "scattercarpet": [
           {
            "marker": {
             "colorbar": {
              "outlinewidth": 0,
              "ticks": ""
             }
            },
            "type": "scattercarpet"
           }
          ],
          "scattergeo": [
           {
            "marker": {
             "colorbar": {
              "outlinewidth": 0,
              "ticks": ""
             }
            },
            "type": "scattergeo"
           }
          ],
          "scattergl": [
           {
            "marker": {
             "colorbar": {
              "outlinewidth": 0,
              "ticks": ""
             }
            },
            "type": "scattergl"
           }
          ],
          "scattermapbox": [
           {
            "marker": {
             "colorbar": {
              "outlinewidth": 0,
              "ticks": ""
             }
            },
            "type": "scattermapbox"
           }
          ],
          "scatterpolar": [
           {
            "marker": {
             "colorbar": {
              "outlinewidth": 0,
              "ticks": ""
             }
            },
            "type": "scatterpolar"
           }
          ],
          "scatterpolargl": [
           {
            "marker": {
             "colorbar": {
              "outlinewidth": 0,
              "ticks": ""
             }
            },
            "type": "scatterpolargl"
           }
          ],
          "scatterternary": [
           {
            "marker": {
             "colorbar": {
              "outlinewidth": 0,
              "ticks": ""
             }
            },
            "type": "scatterternary"
           }
          ],
          "surface": [
           {
            "colorbar": {
             "outlinewidth": 0,
             "ticks": ""
            },
            "colorscale": [
             [
              0.0,
              "#0d0887"
             ],
             [
              0.1111111111111111,
              "#46039f"
             ],
             [
              0.2222222222222222,
              "#7201a8"
             ],
             [
              0.3333333333333333,
              "#9c179e"
             ],
             [
              0.4444444444444444,
              "#bd3786"
             ],
             [
              0.5555555555555556,
              "#d8576b"
             ],
             [
              0.6666666666666666,
              "#ed7953"
             ],
             [
              0.7777777777777778,
              "#fb9f3a"
             ],
             [
              0.8888888888888888,
              "#fdca26"
             ],
             [
              1.0,
              "#f0f921"
             ]
            ],
            "type": "surface"
           }
          ],
          "table": [
           {
            "cells": {
             "fill": {
              "color": "#EBF0F8"
             },
             "line": {
              "color": "white"
             }
            },
            "header": {
             "fill": {
              "color": "#C8D4E3"
             },
             "line": {
              "color": "white"
             }
            },
            "type": "table"
           }
          ]
         },
         "layout": {
          "annotationdefaults": {
           "arrowcolor": "#2a3f5f",
           "arrowhead": 0,
           "arrowwidth": 1
          },
          "coloraxis": {
           "colorbar": {
            "outlinewidth": 0,
            "ticks": ""
           }
          },
          "colorscale": {
           "diverging": [
            [
             0,
             "#8e0152"
            ],
            [
             0.1,
             "#c51b7d"
            ],
            [
             0.2,
             "#de77ae"
            ],
            [
             0.3,
             "#f1b6da"
            ],
            [
             0.4,
             "#fde0ef"
            ],
            [
             0.5,
             "#f7f7f7"
            ],
            [
             0.6,
             "#e6f5d0"
            ],
            [
             0.7,
             "#b8e186"
            ],
            [
             0.8,
             "#7fbc41"
            ],
            [
             0.9,
             "#4d9221"
            ],
            [
             1,
             "#276419"
            ]
           ],
           "sequential": [
            [
             0.0,
             "#0d0887"
            ],
            [
             0.1111111111111111,
             "#46039f"
            ],
            [
             0.2222222222222222,
             "#7201a8"
            ],
            [
             0.3333333333333333,
             "#9c179e"
            ],
            [
             0.4444444444444444,
             "#bd3786"
            ],
            [
             0.5555555555555556,
             "#d8576b"
            ],
            [
             0.6666666666666666,
             "#ed7953"
            ],
            [
             0.7777777777777778,
             "#fb9f3a"
            ],
            [
             0.8888888888888888,
             "#fdca26"
            ],
            [
             1.0,
             "#f0f921"
            ]
           ],
           "sequentialminus": [
            [
             0.0,
             "#0d0887"
            ],
            [
             0.1111111111111111,
             "#46039f"
            ],
            [
             0.2222222222222222,
             "#7201a8"
            ],
            [
             0.3333333333333333,
             "#9c179e"
            ],
            [
             0.4444444444444444,
             "#bd3786"
            ],
            [
             0.5555555555555556,
             "#d8576b"
            ],
            [
             0.6666666666666666,
             "#ed7953"
            ],
            [
             0.7777777777777778,
             "#fb9f3a"
            ],
            [
             0.8888888888888888,
             "#fdca26"
            ],
            [
             1.0,
             "#f0f921"
            ]
           ]
          },
          "colorway": [
           "#636efa",
           "#EF553B",
           "#00cc96",
           "#ab63fa",
           "#FFA15A",
           "#19d3f3",
           "#FF6692",
           "#B6E880",
           "#FF97FF",
           "#FECB52"
          ],
          "font": {
           "color": "#2a3f5f"
          },
          "geo": {
           "bgcolor": "white",
           "lakecolor": "white",
           "landcolor": "#E5ECF6",
           "showlakes": true,
           "showland": true,
           "subunitcolor": "white"
          },
          "hoverlabel": {
           "align": "left"
          },
          "hovermode": "closest",
          "mapbox": {
           "style": "light"
          },
          "paper_bgcolor": "white",
          "plot_bgcolor": "#E5ECF6",
          "polar": {
           "angularaxis": {
            "gridcolor": "white",
            "linecolor": "white",
            "ticks": ""
           },
           "bgcolor": "#E5ECF6",
           "radialaxis": {
            "gridcolor": "white",
            "linecolor": "white",
            "ticks": ""
           }
          },
          "scene": {
           "xaxis": {
            "backgroundcolor": "#E5ECF6",
            "gridcolor": "white",
            "gridwidth": 2,
            "linecolor": "white",
            "showbackground": true,
            "ticks": "",
            "zerolinecolor": "white"
           },
           "yaxis": {
            "backgroundcolor": "#E5ECF6",
            "gridcolor": "white",
            "gridwidth": 2,
            "linecolor": "white",
            "showbackground": true,
            "ticks": "",
            "zerolinecolor": "white"
           },
           "zaxis": {
            "backgroundcolor": "#E5ECF6",
            "gridcolor": "white",
            "gridwidth": 2,
            "linecolor": "white",
            "showbackground": true,
            "ticks": "",
            "zerolinecolor": "white"
           }
          },
          "shapedefaults": {
           "line": {
            "color": "#2a3f5f"
           }
          },
          "ternary": {
           "aaxis": {
            "gridcolor": "white",
            "linecolor": "white",
            "ticks": ""
           },
           "baxis": {
            "gridcolor": "white",
            "linecolor": "white",
            "ticks": ""
           },
           "bgcolor": "#E5ECF6",
           "caxis": {
            "gridcolor": "white",
            "linecolor": "white",
            "ticks": ""
           }
          },
          "title": {
           "x": 0.05
          },
          "xaxis": {
           "automargin": true,
           "gridcolor": "white",
           "linecolor": "white",
           "ticks": "",
           "title": {
            "standoff": 15
           },
           "zerolinecolor": "white",
           "zerolinewidth": 2
          },
          "yaxis": {
           "automargin": true,
           "gridcolor": "white",
           "linecolor": "white",
           "ticks": "",
           "title": {
            "standoff": 15
           },
           "zerolinecolor": "white",
           "zerolinewidth": 2
          }
         }
        },
        "title": {
         "text": "Bike Purchases by Gender in %",
         "x": 0.5
        },
        "xaxis": {
         "tickangle": -45
        },
        "yaxis": {
         "tickangle": 45,
         "ticksuffix": "%",
         "title": {
          "text": "Percentage(%)"
         }
        }
       }
      },
      "text/html": "<div>\n        \n        \n            <div id=\"6dd3ad4c-4b1e-466f-a4ff-324ca53cc96e\" class=\"plotly-graph-div\" style=\"height:525px; width:100%;\"></div>\n            <script type=\"text/javascript\">\n                require([\"plotly\"], function(Plotly) {\n                    window.PLOTLYENV=window.PLOTLYENV || {};\n                    \n                if (document.getElementById(\"6dd3ad4c-4b1e-466f-a4ff-324ca53cc96e\")) {\n                    Plotly.newPlot(\n                        '6dd3ad4c-4b1e-466f-a4ff-324ca53cc96e',\n                        [{\"marker\": {\"color\": \"lightsalmon\"}, \"name\": \"Purchase Amount by Genders in %\", \"text\": [\"51.48\", \"48.52\", \"0.0\"], \"textposition\": \"auto\", \"type\": \"bar\", \"x\": [\"Female\", \"Male\", \"unKnown\"], \"y\": [51.48, 48.52, 0.0]}],\n                        {\"barmode\": \"group\", \"template\": {\"data\": {\"bar\": [{\"error_x\": {\"color\": \"#2a3f5f\"}, \"error_y\": {\"color\": \"#2a3f5f\"}, \"marker\": {\"line\": {\"color\": \"#E5ECF6\", \"width\": 0.5}}, \"type\": \"bar\"}], \"barpolar\": [{\"marker\": {\"line\": {\"color\": \"#E5ECF6\", \"width\": 0.5}}, \"type\": \"barpolar\"}], \"carpet\": [{\"aaxis\": {\"endlinecolor\": \"#2a3f5f\", \"gridcolor\": \"white\", \"linecolor\": \"white\", \"minorgridcolor\": \"white\", \"startlinecolor\": \"#2a3f5f\"}, \"baxis\": {\"endlinecolor\": \"#2a3f5f\", \"gridcolor\": \"white\", \"linecolor\": \"white\", \"minorgridcolor\": \"white\", \"startlinecolor\": \"#2a3f5f\"}, \"type\": \"carpet\"}], \"choropleth\": [{\"colorbar\": {\"outlinewidth\": 0, \"ticks\": \"\"}, \"type\": \"choropleth\"}], \"contour\": [{\"colorbar\": {\"outlinewidth\": 0, \"ticks\": \"\"}, \"colorscale\": [[0.0, \"#0d0887\"], [0.1111111111111111, \"#46039f\"], [0.2222222222222222, \"#7201a8\"], [0.3333333333333333, \"#9c179e\"], [0.4444444444444444, \"#bd3786\"], [0.5555555555555556, \"#d8576b\"], [0.6666666666666666, \"#ed7953\"], [0.7777777777777778, \"#fb9f3a\"], [0.8888888888888888, \"#fdca26\"], [1.0, \"#f0f921\"]], \"type\": \"contour\"}], \"contourcarpet\": [{\"colorbar\": {\"outlinewidth\": 0, \"ticks\": \"\"}, \"type\": \"contourcarpet\"}], \"heatmap\": [{\"colorbar\": {\"outlinewidth\": 0, \"ticks\": \"\"}, \"colorscale\": [[0.0, \"#0d0887\"], [0.1111111111111111, \"#46039f\"], [0.2222222222222222, \"#7201a8\"], [0.3333333333333333, \"#9c179e\"], [0.4444444444444444, \"#bd3786\"], [0.5555555555555556, \"#d8576b\"], [0.6666666666666666, \"#ed7953\"], [0.7777777777777778, \"#fb9f3a\"], [0.8888888888888888, \"#fdca26\"], [1.0, \"#f0f921\"]], \"type\": \"heatmap\"}], \"heatmapgl\": [{\"colorbar\": {\"outlinewidth\": 0, \"ticks\": \"\"}, \"colorscale\": [[0.0, \"#0d0887\"], [0.1111111111111111, \"#46039f\"], [0.2222222222222222, \"#7201a8\"], [0.3333333333333333, \"#9c179e\"], [0.4444444444444444, \"#bd3786\"], [0.5555555555555556, \"#d8576b\"], [0.6666666666666666, \"#ed7953\"], [0.7777777777777778, \"#fb9f3a\"], [0.8888888888888888, \"#fdca26\"], [1.0, \"#f0f921\"]], \"type\": \"heatmapgl\"}], \"histogram\": [{\"marker\": {\"colorbar\": {\"outlinewidth\": 0, \"ticks\": \"\"}}, \"type\": \"histogram\"}], \"histogram2d\": [{\"colorbar\": {\"outlinewidth\": 0, \"ticks\": \"\"}, \"colorscale\": [[0.0, \"#0d0887\"], [0.1111111111111111, \"#46039f\"], [0.2222222222222222, \"#7201a8\"], [0.3333333333333333, \"#9c179e\"], [0.4444444444444444, \"#bd3786\"], [0.5555555555555556, \"#d8576b\"], [0.6666666666666666, \"#ed7953\"], [0.7777777777777778, \"#fb9f3a\"], [0.8888888888888888, \"#fdca26\"], [1.0, \"#f0f921\"]], \"type\": \"histogram2d\"}], \"histogram2dcontour\": [{\"colorbar\": {\"outlinewidth\": 0, \"ticks\": \"\"}, \"colorscale\": [[0.0, \"#0d0887\"], [0.1111111111111111, \"#46039f\"], [0.2222222222222222, \"#7201a8\"], [0.3333333333333333, \"#9c179e\"], [0.4444444444444444, \"#bd3786\"], [0.5555555555555556, \"#d8576b\"], [0.6666666666666666, \"#ed7953\"], [0.7777777777777778, \"#fb9f3a\"], [0.8888888888888888, \"#fdca26\"], [1.0, \"#f0f921\"]], \"type\": \"histogram2dcontour\"}], \"mesh3d\": [{\"colorbar\": {\"outlinewidth\": 0, \"ticks\": \"\"}, \"type\": \"mesh3d\"}], \"parcoords\": [{\"line\": {\"colorbar\": {\"outlinewidth\": 0, \"ticks\": \"\"}}, \"type\": \"parcoords\"}], \"pie\": [{\"automargin\": true, \"type\": \"pie\"}], \"scatter\": [{\"marker\": {\"colorbar\": {\"outlinewidth\": 0, \"ticks\": \"\"}}, \"type\": \"scatter\"}], \"scatter3d\": [{\"line\": {\"colorbar\": {\"outlinewidth\": 0, \"ticks\": \"\"}}, \"marker\": {\"colorbar\": {\"outlinewidth\": 0, \"ticks\": \"\"}}, \"type\": \"scatter3d\"}], \"scattercarpet\": [{\"marker\": {\"colorbar\": {\"outlinewidth\": 0, \"ticks\": \"\"}}, \"type\": \"scattercarpet\"}], \"scattergeo\": [{\"marker\": {\"colorbar\": {\"outlinewidth\": 0, \"ticks\": \"\"}}, \"type\": \"scattergeo\"}], \"scattergl\": [{\"marker\": {\"colorbar\": {\"outlinewidth\": 0, \"ticks\": \"\"}}, \"type\": \"scattergl\"}], \"scattermapbox\": [{\"marker\": {\"colorbar\": {\"outlinewidth\": 0, \"ticks\": \"\"}}, \"type\": \"scattermapbox\"}], \"scatterpolar\": [{\"marker\": {\"colorbar\": {\"outlinewidth\": 0, \"ticks\": \"\"}}, \"type\": \"scatterpolar\"}], \"scatterpolargl\": [{\"marker\": {\"colorbar\": {\"outlinewidth\": 0, \"ticks\": \"\"}}, \"type\": \"scatterpolargl\"}], \"scatterternary\": [{\"marker\": {\"colorbar\": {\"outlinewidth\": 0, \"ticks\": \"\"}}, \"type\": \"scatterternary\"}], \"surface\": [{\"colorbar\": {\"outlinewidth\": 0, \"ticks\": \"\"}, \"colorscale\": [[0.0, \"#0d0887\"], [0.1111111111111111, \"#46039f\"], [0.2222222222222222, \"#7201a8\"], [0.3333333333333333, \"#9c179e\"], [0.4444444444444444, \"#bd3786\"], [0.5555555555555556, \"#d8576b\"], [0.6666666666666666, \"#ed7953\"], [0.7777777777777778, \"#fb9f3a\"], [0.8888888888888888, \"#fdca26\"], [1.0, \"#f0f921\"]], \"type\": \"surface\"}], \"table\": [{\"cells\": {\"fill\": {\"color\": \"#EBF0F8\"}, \"line\": {\"color\": \"white\"}}, \"header\": {\"fill\": {\"color\": \"#C8D4E3\"}, \"line\": {\"color\": \"white\"}}, \"type\": \"table\"}]}, \"layout\": {\"annotationdefaults\": {\"arrowcolor\": \"#2a3f5f\", \"arrowhead\": 0, \"arrowwidth\": 1}, \"coloraxis\": {\"colorbar\": {\"outlinewidth\": 0, \"ticks\": \"\"}}, \"colorscale\": {\"diverging\": [[0, \"#8e0152\"], [0.1, \"#c51b7d\"], [0.2, \"#de77ae\"], [0.3, \"#f1b6da\"], [0.4, \"#fde0ef\"], [0.5, \"#f7f7f7\"], [0.6, \"#e6f5d0\"], [0.7, \"#b8e186\"], [0.8, \"#7fbc41\"], [0.9, \"#4d9221\"], [1, \"#276419\"]], \"sequential\": [[0.0, \"#0d0887\"], [0.1111111111111111, \"#46039f\"], [0.2222222222222222, \"#7201a8\"], [0.3333333333333333, \"#9c179e\"], [0.4444444444444444, \"#bd3786\"], [0.5555555555555556, \"#d8576b\"], [0.6666666666666666, \"#ed7953\"], [0.7777777777777778, \"#fb9f3a\"], [0.8888888888888888, \"#fdca26\"], [1.0, \"#f0f921\"]], \"sequentialminus\": [[0.0, \"#0d0887\"], [0.1111111111111111, \"#46039f\"], [0.2222222222222222, \"#7201a8\"], [0.3333333333333333, \"#9c179e\"], [0.4444444444444444, \"#bd3786\"], [0.5555555555555556, \"#d8576b\"], [0.6666666666666666, \"#ed7953\"], [0.7777777777777778, \"#fb9f3a\"], [0.8888888888888888, \"#fdca26\"], [1.0, \"#f0f921\"]]}, \"colorway\": [\"#636efa\", \"#EF553B\", \"#00cc96\", \"#ab63fa\", \"#FFA15A\", \"#19d3f3\", \"#FF6692\", \"#B6E880\", \"#FF97FF\", \"#FECB52\"], \"font\": {\"color\": \"#2a3f5f\"}, \"geo\": {\"bgcolor\": \"white\", \"lakecolor\": \"white\", \"landcolor\": \"#E5ECF6\", \"showlakes\": true, \"showland\": true, \"subunitcolor\": \"white\"}, \"hoverlabel\": {\"align\": \"left\"}, \"hovermode\": \"closest\", \"mapbox\": {\"style\": \"light\"}, \"paper_bgcolor\": \"white\", \"plot_bgcolor\": \"#E5ECF6\", \"polar\": {\"angularaxis\": {\"gridcolor\": \"white\", \"linecolor\": \"white\", \"ticks\": \"\"}, \"bgcolor\": \"#E5ECF6\", \"radialaxis\": {\"gridcolor\": \"white\", \"linecolor\": \"white\", \"ticks\": \"\"}}, \"scene\": {\"xaxis\": {\"backgroundcolor\": \"#E5ECF6\", \"gridcolor\": \"white\", \"gridwidth\": 2, \"linecolor\": \"white\", \"showbackground\": true, \"ticks\": \"\", \"zerolinecolor\": \"white\"}, \"yaxis\": {\"backgroundcolor\": \"#E5ECF6\", \"gridcolor\": \"white\", \"gridwidth\": 2, \"linecolor\": \"white\", \"showbackground\": true, \"ticks\": \"\", \"zerolinecolor\": \"white\"}, \"zaxis\": {\"backgroundcolor\": \"#E5ECF6\", \"gridcolor\": \"white\", \"gridwidth\": 2, \"linecolor\": \"white\", \"showbackground\": true, \"ticks\": \"\", \"zerolinecolor\": \"white\"}}, \"shapedefaults\": {\"line\": {\"color\": \"#2a3f5f\"}}, \"ternary\": {\"aaxis\": {\"gridcolor\": \"white\", \"linecolor\": \"white\", \"ticks\": \"\"}, \"baxis\": {\"gridcolor\": \"white\", \"linecolor\": \"white\", \"ticks\": \"\"}, \"bgcolor\": \"#E5ECF6\", \"caxis\": {\"gridcolor\": \"white\", \"linecolor\": \"white\", \"ticks\": \"\"}}, \"title\": {\"x\": 0.05}, \"xaxis\": {\"automargin\": true, \"gridcolor\": \"white\", \"linecolor\": \"white\", \"ticks\": \"\", \"title\": {\"standoff\": 15}, \"zerolinecolor\": \"white\", \"zerolinewidth\": 2}, \"yaxis\": {\"automargin\": true, \"gridcolor\": \"white\", \"linecolor\": \"white\", \"ticks\": \"\", \"title\": {\"standoff\": 15}, \"zerolinecolor\": \"white\", \"zerolinewidth\": 2}}}, \"title\": {\"text\": \"Bike Purchases by Gender in %\", \"x\": 0.5}, \"xaxis\": {\"tickangle\": -45}, \"yaxis\": {\"tickangle\": 45, \"ticksuffix\": \"%\", \"title\": {\"text\": \"Percentage(%)\"}}},\n                        {\"responsive\": true}\n                    ).then(function(){\n                            \nvar gd = document.getElementById('6dd3ad4c-4b1e-466f-a4ff-324ca53cc96e');\nvar x = new MutationObserver(function (mutations, observer) {{\n        var display = window.getComputedStyle(gd).display;\n        if (!display || display === 'none') {{\n            console.log([gd, 'removed!']);\n            Plotly.purge(gd);\n            observer.disconnect();\n        }}\n}});\n\n// Listen for the removal of the full notebook cells\nvar notebookContainer = gd.closest('#notebook-container');\nif (notebookContainer) {{\n    x.observe(notebookContainer, {childList: true});\n}}\n\n// Listen for the clearing of the current output cell\nvar outputEl = gd.closest('.output');\nif (outputEl) {{\n    x.observe(outputEl, {childList: true});\n}}\n\n                        })\n                };\n                });\n            </script>\n        </div>"
     },
     "metadata": {},
     "output_type": "display_data"
    }
   ],
   "source": [
    "import plotly.graph_objects as go\n",
    "\n",
    "Genders = ['Female', 'Male', 'unKnown']\n",
    "\n",
    "fig = go.Figure()\n",
    "fig.add_trace(go.Bar(\n",
    "    x=Genders,\n",
    "    y=avg,\n",
    "    name='Purchase Amount by Genders in %',\n",
    "    marker_color='lightsalmon',\n",
    "    text=avg,\n",
    "    textposition='auto',\n",
    "))\n",
    "\n",
    "# Here we modify the tickangle of the xaxis, resulting in rotated labels.\n",
    "fig.update_layout(barmode='group',\n",
    "                  xaxis_tickangle=-45,\n",
    "                  title_text='Bike Purchases by Gender in %',\n",
    "                  title_x=0.5,\n",
    "                  yaxis=dict(ticksuffix=\"%\",\n",
    "                             tickangle=45,\n",
    "                             title='Percentage(%)')\n",
    "                  )\n",
    "fig.show()\n",
    "\n"
   ],
   "metadata": {
    "collapsed": false,
    "pycharm": {
     "name": "#%%\n"
    }
   }
  },
  {
   "cell_type": "markdown",
   "source": [
    "<h1>Analyze on the age vs bikes bought"
   ],
   "metadata": {
    "collapsed": false,
    "pycharm": {
     "name": "#%% md\n"
    }
   }
  },
  {
   "cell_type": "code",
   "execution_count": 158,
   "outputs": [
    {
     "name": "stdout",
     "output_type": "stream",
     "text": [
      "CategoricalIndex(['0-20', '21-30', '31-40', '41-50', '51-60', '>60'], categories=['0-20', '21-30', '31-40', '41-50', '51-60', '>60'], ordered=True, dtype='category')\n",
      "/n\n",
      "[ 32 164 111 223 175 278]\n"
     ]
    }
   ],
   "source": [
    "print(df['A_group'].value_counts(sort=False).index)\n",
    "print(\"/n\")\n",
    "print(df['A_group'].value_counts(sort=False).values)"
   ],
   "metadata": {
    "collapsed": false,
    "pycharm": {
     "name": "#%%\n"
    }
   }
  },
  {
   "cell_type": "code",
   "execution_count": 160,
   "outputs": [
    {
     "data": {
      "application/vnd.plotly.v1+json": {
       "config": {
        "plotlyServerURL": "https://plot.ly"
       },
       "data": [
        {
         "hole": 0.2,
         "hoverinfo": "label+percent",
         "labels": [
          "0-20",
          "21-30",
          "31-40",
          "41-50",
          "51-60",
          ">60"
         ],
         "marker": {
          "colors": [
           "rgb(102,194,165)",
           "rgb(252,141,98)",
           "rgb(141,160,203)",
           "rgb(231,138,195)",
           "rgb(166,216,84)",
           "rgb(255,217,47)",
           "rgb(229,196,148)",
           "rgb(179,179,179)"
          ]
         },
         "pull": [
          0,
          0,
          0,
          0,
          0,
          0.2
         ],
         "text": [
          "0-20",
          "21-30",
          "31-40",
          "41-50",
          "51-60",
          ">60"
         ],
         "textposition": "auto",
         "type": "pie",
         "values": [
          32,
          164,
          111,
          223,
          175,
          278
         ]
        }
       ],
       "layout": {
        "annotations": [
         {
          "font": {
           "size": 20
          },
          "showarrow": false,
          "text": "Age",
          "x": 0.5,
          "y": 0.5
         }
        ],
        "legend": {
         "x": 0.0,
         "xanchor": "left",
         "y": 0.99,
         "yanchor": "top"
        },
        "template": {
         "data": {
          "bar": [
           {
            "error_x": {
             "color": "#2a3f5f"
            },
            "error_y": {
             "color": "#2a3f5f"
            },
            "marker": {
             "line": {
              "color": "#E5ECF6",
              "width": 0.5
             }
            },
            "type": "bar"
           }
          ],
          "barpolar": [
           {
            "marker": {
             "line": {
              "color": "#E5ECF6",
              "width": 0.5
             }
            },
            "type": "barpolar"
           }
          ],
          "carpet": [
           {
            "aaxis": {
             "endlinecolor": "#2a3f5f",
             "gridcolor": "white",
             "linecolor": "white",
             "minorgridcolor": "white",
             "startlinecolor": "#2a3f5f"
            },
            "baxis": {
             "endlinecolor": "#2a3f5f",
             "gridcolor": "white",
             "linecolor": "white",
             "minorgridcolor": "white",
             "startlinecolor": "#2a3f5f"
            },
            "type": "carpet"
           }
          ],
          "choropleth": [
           {
            "colorbar": {
             "outlinewidth": 0,
             "ticks": ""
            },
            "type": "choropleth"
           }
          ],
          "contour": [
           {
            "colorbar": {
             "outlinewidth": 0,
             "ticks": ""
            },
            "colorscale": [
             [
              0.0,
              "#0d0887"
             ],
             [
              0.1111111111111111,
              "#46039f"
             ],
             [
              0.2222222222222222,
              "#7201a8"
             ],
             [
              0.3333333333333333,
              "#9c179e"
             ],
             [
              0.4444444444444444,
              "#bd3786"
             ],
             [
              0.5555555555555556,
              "#d8576b"
             ],
             [
              0.6666666666666666,
              "#ed7953"
             ],
             [
              0.7777777777777778,
              "#fb9f3a"
             ],
             [
              0.8888888888888888,
              "#fdca26"
             ],
             [
              1.0,
              "#f0f921"
             ]
            ],
            "type": "contour"
           }
          ],
          "contourcarpet": [
           {
            "colorbar": {
             "outlinewidth": 0,
             "ticks": ""
            },
            "type": "contourcarpet"
           }
          ],
          "heatmap": [
           {
            "colorbar": {
             "outlinewidth": 0,
             "ticks": ""
            },
            "colorscale": [
             [
              0.0,
              "#0d0887"
             ],
             [
              0.1111111111111111,
              "#46039f"
             ],
             [
              0.2222222222222222,
              "#7201a8"
             ],
             [
              0.3333333333333333,
              "#9c179e"
             ],
             [
              0.4444444444444444,
              "#bd3786"
             ],
             [
              0.5555555555555556,
              "#d8576b"
             ],
             [
              0.6666666666666666,
              "#ed7953"
             ],
             [
              0.7777777777777778,
              "#fb9f3a"
             ],
             [
              0.8888888888888888,
              "#fdca26"
             ],
             [
              1.0,
              "#f0f921"
             ]
            ],
            "type": "heatmap"
           }
          ],
          "heatmapgl": [
           {
            "colorbar": {
             "outlinewidth": 0,
             "ticks": ""
            },
            "colorscale": [
             [
              0.0,
              "#0d0887"
             ],
             [
              0.1111111111111111,
              "#46039f"
             ],
             [
              0.2222222222222222,
              "#7201a8"
             ],
             [
              0.3333333333333333,
              "#9c179e"
             ],
             [
              0.4444444444444444,
              "#bd3786"
             ],
             [
              0.5555555555555556,
              "#d8576b"
             ],
             [
              0.6666666666666666,
              "#ed7953"
             ],
             [
              0.7777777777777778,
              "#fb9f3a"
             ],
             [
              0.8888888888888888,
              "#fdca26"
             ],
             [
              1.0,
              "#f0f921"
             ]
            ],
            "type": "heatmapgl"
           }
          ],
          "histogram": [
           {
            "marker": {
             "colorbar": {
              "outlinewidth": 0,
              "ticks": ""
             }
            },
            "type": "histogram"
           }
          ],
          "histogram2d": [
           {
            "colorbar": {
             "outlinewidth": 0,
             "ticks": ""
            },
            "colorscale": [
             [
              0.0,
              "#0d0887"
             ],
             [
              0.1111111111111111,
              "#46039f"
             ],
             [
              0.2222222222222222,
              "#7201a8"
             ],
             [
              0.3333333333333333,
              "#9c179e"
             ],
             [
              0.4444444444444444,
              "#bd3786"
             ],
             [
              0.5555555555555556,
              "#d8576b"
             ],
             [
              0.6666666666666666,
              "#ed7953"
             ],
             [
              0.7777777777777778,
              "#fb9f3a"
             ],
             [
              0.8888888888888888,
              "#fdca26"
             ],
             [
              1.0,
              "#f0f921"
             ]
            ],
            "type": "histogram2d"
           }
          ],
          "histogram2dcontour": [
           {
            "colorbar": {
             "outlinewidth": 0,
             "ticks": ""
            },
            "colorscale": [
             [
              0.0,
              "#0d0887"
             ],
             [
              0.1111111111111111,
              "#46039f"
             ],
             [
              0.2222222222222222,
              "#7201a8"
             ],
             [
              0.3333333333333333,
              "#9c179e"
             ],
             [
              0.4444444444444444,
              "#bd3786"
             ],
             [
              0.5555555555555556,
              "#d8576b"
             ],
             [
              0.6666666666666666,
              "#ed7953"
             ],
             [
              0.7777777777777778,
              "#fb9f3a"
             ],
             [
              0.8888888888888888,
              "#fdca26"
             ],
             [
              1.0,
              "#f0f921"
             ]
            ],
            "type": "histogram2dcontour"
           }
          ],
          "mesh3d": [
           {
            "colorbar": {
             "outlinewidth": 0,
             "ticks": ""
            },
            "type": "mesh3d"
           }
          ],
          "parcoords": [
           {
            "line": {
             "colorbar": {
              "outlinewidth": 0,
              "ticks": ""
             }
            },
            "type": "parcoords"
           }
          ],
          "pie": [
           {
            "automargin": true,
            "type": "pie"
           }
          ],
          "scatter": [
           {
            "marker": {
             "colorbar": {
              "outlinewidth": 0,
              "ticks": ""
             }
            },
            "type": "scatter"
           }
          ],
          "scatter3d": [
           {
            "line": {
             "colorbar": {
              "outlinewidth": 0,
              "ticks": ""
             }
            },
            "marker": {
             "colorbar": {
              "outlinewidth": 0,
              "ticks": ""
             }
            },
            "type": "scatter3d"
           }
          ],
          "scattercarpet": [
           {
            "marker": {
             "colorbar": {
              "outlinewidth": 0,
              "ticks": ""
             }
            },
            "type": "scattercarpet"
           }
          ],
          "scattergeo": [
           {
            "marker": {
             "colorbar": {
              "outlinewidth": 0,
              "ticks": ""
             }
            },
            "type": "scattergeo"
           }
          ],
          "scattergl": [
           {
            "marker": {
             "colorbar": {
              "outlinewidth": 0,
              "ticks": ""
             }
            },
            "type": "scattergl"
           }
          ],
          "scattermapbox": [
           {
            "marker": {
             "colorbar": {
              "outlinewidth": 0,
              "ticks": ""
             }
            },
            "type": "scattermapbox"
           }
          ],
          "scatterpolar": [
           {
            "marker": {
             "colorbar": {
              "outlinewidth": 0,
              "ticks": ""
             }
            },
            "type": "scatterpolar"
           }
          ],
          "scatterpolargl": [
           {
            "marker": {
             "colorbar": {
              "outlinewidth": 0,
              "ticks": ""
             }
            },
            "type": "scatterpolargl"
           }
          ],
          "scatterternary": [
           {
            "marker": {
             "colorbar": {
              "outlinewidth": 0,
              "ticks": ""
             }
            },
            "type": "scatterternary"
           }
          ],
          "surface": [
           {
            "colorbar": {
             "outlinewidth": 0,
             "ticks": ""
            },
            "colorscale": [
             [
              0.0,
              "#0d0887"
             ],
             [
              0.1111111111111111,
              "#46039f"
             ],
             [
              0.2222222222222222,
              "#7201a8"
             ],
             [
              0.3333333333333333,
              "#9c179e"
             ],
             [
              0.4444444444444444,
              "#bd3786"
             ],
             [
              0.5555555555555556,
              "#d8576b"
             ],
             [
              0.6666666666666666,
              "#ed7953"
             ],
             [
              0.7777777777777778,
              "#fb9f3a"
             ],
             [
              0.8888888888888888,
              "#fdca26"
             ],
             [
              1.0,
              "#f0f921"
             ]
            ],
            "type": "surface"
           }
          ],
          "table": [
           {
            "cells": {
             "fill": {
              "color": "#EBF0F8"
             },
             "line": {
              "color": "white"
             }
            },
            "header": {
             "fill": {
              "color": "#C8D4E3"
             },
             "line": {
              "color": "white"
             }
            },
            "type": "table"
           }
          ]
         },
         "layout": {
          "annotationdefaults": {
           "arrowcolor": "#2a3f5f",
           "arrowhead": 0,
           "arrowwidth": 1
          },
          "coloraxis": {
           "colorbar": {
            "outlinewidth": 0,
            "ticks": ""
           }
          },
          "colorscale": {
           "diverging": [
            [
             0,
             "#8e0152"
            ],
            [
             0.1,
             "#c51b7d"
            ],
            [
             0.2,
             "#de77ae"
            ],
            [
             0.3,
             "#f1b6da"
            ],
            [
             0.4,
             "#fde0ef"
            ],
            [
             0.5,
             "#f7f7f7"
            ],
            [
             0.6,
             "#e6f5d0"
            ],
            [
             0.7,
             "#b8e186"
            ],
            [
             0.8,
             "#7fbc41"
            ],
            [
             0.9,
             "#4d9221"
            ],
            [
             1,
             "#276419"
            ]
           ],
           "sequential": [
            [
             0.0,
             "#0d0887"
            ],
            [
             0.1111111111111111,
             "#46039f"
            ],
            [
             0.2222222222222222,
             "#7201a8"
            ],
            [
             0.3333333333333333,
             "#9c179e"
            ],
            [
             0.4444444444444444,
             "#bd3786"
            ],
            [
             0.5555555555555556,
             "#d8576b"
            ],
            [
             0.6666666666666666,
             "#ed7953"
            ],
            [
             0.7777777777777778,
             "#fb9f3a"
            ],
            [
             0.8888888888888888,
             "#fdca26"
            ],
            [
             1.0,
             "#f0f921"
            ]
           ],
           "sequentialminus": [
            [
             0.0,
             "#0d0887"
            ],
            [
             0.1111111111111111,
             "#46039f"
            ],
            [
             0.2222222222222222,
             "#7201a8"
            ],
            [
             0.3333333333333333,
             "#9c179e"
            ],
            [
             0.4444444444444444,
             "#bd3786"
            ],
            [
             0.5555555555555556,
             "#d8576b"
            ],
            [
             0.6666666666666666,
             "#ed7953"
            ],
            [
             0.7777777777777778,
             "#fb9f3a"
            ],
            [
             0.8888888888888888,
             "#fdca26"
            ],
            [
             1.0,
             "#f0f921"
            ]
           ]
          },
          "colorway": [
           "#636efa",
           "#EF553B",
           "#00cc96",
           "#ab63fa",
           "#FFA15A",
           "#19d3f3",
           "#FF6692",
           "#B6E880",
           "#FF97FF",
           "#FECB52"
          ],
          "font": {
           "color": "#2a3f5f"
          },
          "geo": {
           "bgcolor": "white",
           "lakecolor": "white",
           "landcolor": "#E5ECF6",
           "showlakes": true,
           "showland": true,
           "subunitcolor": "white"
          },
          "hoverlabel": {
           "align": "left"
          },
          "hovermode": "closest",
          "mapbox": {
           "style": "light"
          },
          "paper_bgcolor": "white",
          "plot_bgcolor": "#E5ECF6",
          "polar": {
           "angularaxis": {
            "gridcolor": "white",
            "linecolor": "white",
            "ticks": ""
           },
           "bgcolor": "#E5ECF6",
           "radialaxis": {
            "gridcolor": "white",
            "linecolor": "white",
            "ticks": ""
           }
          },
          "scene": {
           "xaxis": {
            "backgroundcolor": "#E5ECF6",
            "gridcolor": "white",
            "gridwidth": 2,
            "linecolor": "white",
            "showbackground": true,
            "ticks": "",
            "zerolinecolor": "white"
           },
           "yaxis": {
            "backgroundcolor": "#E5ECF6",
            "gridcolor": "white",
            "gridwidth": 2,
            "linecolor": "white",
            "showbackground": true,
            "ticks": "",
            "zerolinecolor": "white"
           },
           "zaxis": {
            "backgroundcolor": "#E5ECF6",
            "gridcolor": "white",
            "gridwidth": 2,
            "linecolor": "white",
            "showbackground": true,
            "ticks": "",
            "zerolinecolor": "white"
           }
          },
          "shapedefaults": {
           "line": {
            "color": "#2a3f5f"
           }
          },
          "ternary": {
           "aaxis": {
            "gridcolor": "white",
            "linecolor": "white",
            "ticks": ""
           },
           "baxis": {
            "gridcolor": "white",
            "linecolor": "white",
            "ticks": ""
           },
           "bgcolor": "#E5ECF6",
           "caxis": {
            "gridcolor": "white",
            "linecolor": "white",
            "ticks": ""
           }
          },
          "title": {
           "x": 0.05
          },
          "xaxis": {
           "automargin": true,
           "gridcolor": "white",
           "linecolor": "white",
           "ticks": "",
           "title": {
            "standoff": 15
           },
           "zerolinecolor": "white",
           "zerolinewidth": 2
          },
          "yaxis": {
           "automargin": true,
           "gridcolor": "white",
           "linecolor": "white",
           "ticks": "",
           "title": {
            "standoff": 15
           },
           "zerolinecolor": "white",
           "zerolinewidth": 2
          }
         }
        },
        "title": {
         "text": "Purchase Amount by Age Group",
         "x": 0.5
        }
       }
      },
      "text/html": "<div>\n        \n        \n            <div id=\"6f08d111-8754-419c-9f8a-e57ab9079c3e\" class=\"plotly-graph-div\" style=\"height:525px; width:100%;\"></div>\n            <script type=\"text/javascript\">\n                require([\"plotly\"], function(Plotly) {\n                    window.PLOTLYENV=window.PLOTLYENV || {};\n                    \n                if (document.getElementById(\"6f08d111-8754-419c-9f8a-e57ab9079c3e\")) {\n                    Plotly.newPlot(\n                        '6f08d111-8754-419c-9f8a-e57ab9079c3e',\n                        [{\"hole\": 0.2, \"hoverinfo\": \"label+percent\", \"labels\": [\"0-20\", \"21-30\", \"31-40\", \"41-50\", \"51-60\", \">60\"], \"marker\": {\"colors\": [\"rgb(102,194,165)\", \"rgb(252,141,98)\", \"rgb(141,160,203)\", \"rgb(231,138,195)\", \"rgb(166,216,84)\", \"rgb(255,217,47)\", \"rgb(229,196,148)\", \"rgb(179,179,179)\"]}, \"pull\": [0, 0, 0, 0, 0, 0.2], \"text\": [\"0-20\", \"21-30\", \"31-40\", \"41-50\", \"51-60\", \">60\"], \"textposition\": \"auto\", \"type\": \"pie\", \"values\": [32, 164, 111, 223, 175, 278]}],\n                        {\"annotations\": [{\"font\": {\"size\": 20}, \"showarrow\": false, \"text\": \"Age\", \"x\": 0.5, \"y\": 0.5}], \"legend\": {\"x\": 0.0, \"xanchor\": \"left\", \"y\": 0.99, \"yanchor\": \"top\"}, \"template\": {\"data\": {\"bar\": [{\"error_x\": {\"color\": \"#2a3f5f\"}, \"error_y\": {\"color\": \"#2a3f5f\"}, \"marker\": {\"line\": {\"color\": \"#E5ECF6\", \"width\": 0.5}}, \"type\": \"bar\"}], \"barpolar\": [{\"marker\": {\"line\": {\"color\": \"#E5ECF6\", \"width\": 0.5}}, \"type\": \"barpolar\"}], \"carpet\": [{\"aaxis\": {\"endlinecolor\": \"#2a3f5f\", \"gridcolor\": \"white\", \"linecolor\": \"white\", \"minorgridcolor\": \"white\", \"startlinecolor\": \"#2a3f5f\"}, \"baxis\": {\"endlinecolor\": \"#2a3f5f\", \"gridcolor\": \"white\", \"linecolor\": \"white\", \"minorgridcolor\": \"white\", \"startlinecolor\": \"#2a3f5f\"}, \"type\": \"carpet\"}], \"choropleth\": [{\"colorbar\": {\"outlinewidth\": 0, \"ticks\": \"\"}, \"type\": \"choropleth\"}], \"contour\": [{\"colorbar\": {\"outlinewidth\": 0, \"ticks\": \"\"}, \"colorscale\": [[0.0, \"#0d0887\"], [0.1111111111111111, \"#46039f\"], [0.2222222222222222, \"#7201a8\"], [0.3333333333333333, \"#9c179e\"], [0.4444444444444444, \"#bd3786\"], [0.5555555555555556, \"#d8576b\"], [0.6666666666666666, \"#ed7953\"], [0.7777777777777778, \"#fb9f3a\"], [0.8888888888888888, \"#fdca26\"], [1.0, \"#f0f921\"]], \"type\": \"contour\"}], \"contourcarpet\": [{\"colorbar\": {\"outlinewidth\": 0, \"ticks\": \"\"}, \"type\": \"contourcarpet\"}], \"heatmap\": [{\"colorbar\": {\"outlinewidth\": 0, \"ticks\": \"\"}, \"colorscale\": [[0.0, \"#0d0887\"], [0.1111111111111111, \"#46039f\"], [0.2222222222222222, \"#7201a8\"], [0.3333333333333333, \"#9c179e\"], [0.4444444444444444, \"#bd3786\"], [0.5555555555555556, \"#d8576b\"], [0.6666666666666666, \"#ed7953\"], [0.7777777777777778, \"#fb9f3a\"], [0.8888888888888888, \"#fdca26\"], [1.0, \"#f0f921\"]], \"type\": \"heatmap\"}], \"heatmapgl\": [{\"colorbar\": {\"outlinewidth\": 0, \"ticks\": \"\"}, \"colorscale\": [[0.0, \"#0d0887\"], [0.1111111111111111, \"#46039f\"], [0.2222222222222222, \"#7201a8\"], [0.3333333333333333, \"#9c179e\"], [0.4444444444444444, \"#bd3786\"], [0.5555555555555556, \"#d8576b\"], [0.6666666666666666, \"#ed7953\"], [0.7777777777777778, \"#fb9f3a\"], [0.8888888888888888, \"#fdca26\"], [1.0, \"#f0f921\"]], \"type\": \"heatmapgl\"}], \"histogram\": [{\"marker\": {\"colorbar\": {\"outlinewidth\": 0, \"ticks\": \"\"}}, \"type\": \"histogram\"}], \"histogram2d\": [{\"colorbar\": {\"outlinewidth\": 0, \"ticks\": \"\"}, \"colorscale\": [[0.0, \"#0d0887\"], [0.1111111111111111, \"#46039f\"], [0.2222222222222222, \"#7201a8\"], [0.3333333333333333, \"#9c179e\"], [0.4444444444444444, \"#bd3786\"], [0.5555555555555556, \"#d8576b\"], [0.6666666666666666, \"#ed7953\"], [0.7777777777777778, \"#fb9f3a\"], [0.8888888888888888, \"#fdca26\"], [1.0, \"#f0f921\"]], \"type\": \"histogram2d\"}], \"histogram2dcontour\": [{\"colorbar\": {\"outlinewidth\": 0, \"ticks\": \"\"}, \"colorscale\": [[0.0, \"#0d0887\"], [0.1111111111111111, \"#46039f\"], [0.2222222222222222, \"#7201a8\"], [0.3333333333333333, \"#9c179e\"], [0.4444444444444444, \"#bd3786\"], [0.5555555555555556, \"#d8576b\"], [0.6666666666666666, \"#ed7953\"], [0.7777777777777778, \"#fb9f3a\"], [0.8888888888888888, \"#fdca26\"], [1.0, \"#f0f921\"]], \"type\": \"histogram2dcontour\"}], \"mesh3d\": [{\"colorbar\": {\"outlinewidth\": 0, \"ticks\": \"\"}, \"type\": \"mesh3d\"}], \"parcoords\": [{\"line\": {\"colorbar\": {\"outlinewidth\": 0, \"ticks\": \"\"}}, \"type\": \"parcoords\"}], \"pie\": [{\"automargin\": true, \"type\": \"pie\"}], \"scatter\": [{\"marker\": {\"colorbar\": {\"outlinewidth\": 0, \"ticks\": \"\"}}, \"type\": \"scatter\"}], \"scatter3d\": [{\"line\": {\"colorbar\": {\"outlinewidth\": 0, \"ticks\": \"\"}}, \"marker\": {\"colorbar\": {\"outlinewidth\": 0, \"ticks\": \"\"}}, \"type\": \"scatter3d\"}], \"scattercarpet\": [{\"marker\": {\"colorbar\": {\"outlinewidth\": 0, \"ticks\": \"\"}}, \"type\": \"scattercarpet\"}], \"scattergeo\": [{\"marker\": {\"colorbar\": {\"outlinewidth\": 0, \"ticks\": \"\"}}, \"type\": \"scattergeo\"}], \"scattergl\": [{\"marker\": {\"colorbar\": {\"outlinewidth\": 0, \"ticks\": \"\"}}, \"type\": \"scattergl\"}], \"scattermapbox\": [{\"marker\": {\"colorbar\": {\"outlinewidth\": 0, \"ticks\": \"\"}}, \"type\": \"scattermapbox\"}], \"scatterpolar\": [{\"marker\": {\"colorbar\": {\"outlinewidth\": 0, \"ticks\": \"\"}}, \"type\": \"scatterpolar\"}], \"scatterpolargl\": [{\"marker\": {\"colorbar\": {\"outlinewidth\": 0, \"ticks\": \"\"}}, \"type\": \"scatterpolargl\"}], \"scatterternary\": [{\"marker\": {\"colorbar\": {\"outlinewidth\": 0, \"ticks\": \"\"}}, \"type\": \"scatterternary\"}], \"surface\": [{\"colorbar\": {\"outlinewidth\": 0, \"ticks\": \"\"}, \"colorscale\": [[0.0, \"#0d0887\"], [0.1111111111111111, \"#46039f\"], [0.2222222222222222, \"#7201a8\"], [0.3333333333333333, \"#9c179e\"], [0.4444444444444444, \"#bd3786\"], [0.5555555555555556, \"#d8576b\"], [0.6666666666666666, \"#ed7953\"], [0.7777777777777778, \"#fb9f3a\"], [0.8888888888888888, \"#fdca26\"], [1.0, \"#f0f921\"]], \"type\": \"surface\"}], \"table\": [{\"cells\": {\"fill\": {\"color\": \"#EBF0F8\"}, \"line\": {\"color\": \"white\"}}, \"header\": {\"fill\": {\"color\": \"#C8D4E3\"}, \"line\": {\"color\": \"white\"}}, \"type\": \"table\"}]}, \"layout\": {\"annotationdefaults\": {\"arrowcolor\": \"#2a3f5f\", \"arrowhead\": 0, \"arrowwidth\": 1}, \"coloraxis\": {\"colorbar\": {\"outlinewidth\": 0, \"ticks\": \"\"}}, \"colorscale\": {\"diverging\": [[0, \"#8e0152\"], [0.1, \"#c51b7d\"], [0.2, \"#de77ae\"], [0.3, \"#f1b6da\"], [0.4, \"#fde0ef\"], [0.5, \"#f7f7f7\"], [0.6, \"#e6f5d0\"], [0.7, \"#b8e186\"], [0.8, \"#7fbc41\"], [0.9, \"#4d9221\"], [1, \"#276419\"]], \"sequential\": [[0.0, \"#0d0887\"], [0.1111111111111111, \"#46039f\"], [0.2222222222222222, \"#7201a8\"], [0.3333333333333333, \"#9c179e\"], [0.4444444444444444, \"#bd3786\"], [0.5555555555555556, \"#d8576b\"], [0.6666666666666666, \"#ed7953\"], [0.7777777777777778, \"#fb9f3a\"], [0.8888888888888888, \"#fdca26\"], [1.0, \"#f0f921\"]], \"sequentialminus\": [[0.0, \"#0d0887\"], [0.1111111111111111, \"#46039f\"], [0.2222222222222222, \"#7201a8\"], [0.3333333333333333, \"#9c179e\"], [0.4444444444444444, \"#bd3786\"], [0.5555555555555556, \"#d8576b\"], [0.6666666666666666, \"#ed7953\"], [0.7777777777777778, \"#fb9f3a\"], [0.8888888888888888, \"#fdca26\"], [1.0, \"#f0f921\"]]}, \"colorway\": [\"#636efa\", \"#EF553B\", \"#00cc96\", \"#ab63fa\", \"#FFA15A\", \"#19d3f3\", \"#FF6692\", \"#B6E880\", \"#FF97FF\", \"#FECB52\"], \"font\": {\"color\": \"#2a3f5f\"}, \"geo\": {\"bgcolor\": \"white\", \"lakecolor\": \"white\", \"landcolor\": \"#E5ECF6\", \"showlakes\": true, \"showland\": true, \"subunitcolor\": \"white\"}, \"hoverlabel\": {\"align\": \"left\"}, \"hovermode\": \"closest\", \"mapbox\": {\"style\": \"light\"}, \"paper_bgcolor\": \"white\", \"plot_bgcolor\": \"#E5ECF6\", \"polar\": {\"angularaxis\": {\"gridcolor\": \"white\", \"linecolor\": \"white\", \"ticks\": \"\"}, \"bgcolor\": \"#E5ECF6\", \"radialaxis\": {\"gridcolor\": \"white\", \"linecolor\": \"white\", \"ticks\": \"\"}}, \"scene\": {\"xaxis\": {\"backgroundcolor\": \"#E5ECF6\", \"gridcolor\": \"white\", \"gridwidth\": 2, \"linecolor\": \"white\", \"showbackground\": true, \"ticks\": \"\", \"zerolinecolor\": \"white\"}, \"yaxis\": {\"backgroundcolor\": \"#E5ECF6\", \"gridcolor\": \"white\", \"gridwidth\": 2, \"linecolor\": \"white\", \"showbackground\": true, \"ticks\": \"\", \"zerolinecolor\": \"white\"}, \"zaxis\": {\"backgroundcolor\": \"#E5ECF6\", \"gridcolor\": \"white\", \"gridwidth\": 2, \"linecolor\": \"white\", \"showbackground\": true, \"ticks\": \"\", \"zerolinecolor\": \"white\"}}, \"shapedefaults\": {\"line\": {\"color\": \"#2a3f5f\"}}, \"ternary\": {\"aaxis\": {\"gridcolor\": \"white\", \"linecolor\": \"white\", \"ticks\": \"\"}, \"baxis\": {\"gridcolor\": \"white\", \"linecolor\": \"white\", \"ticks\": \"\"}, \"bgcolor\": \"#E5ECF6\", \"caxis\": {\"gridcolor\": \"white\", \"linecolor\": \"white\", \"ticks\": \"\"}}, \"title\": {\"x\": 0.05}, \"xaxis\": {\"automargin\": true, \"gridcolor\": \"white\", \"linecolor\": \"white\", \"ticks\": \"\", \"title\": {\"standoff\": 15}, \"zerolinecolor\": \"white\", \"zerolinewidth\": 2}, \"yaxis\": {\"automargin\": true, \"gridcolor\": \"white\", \"linecolor\": \"white\", \"ticks\": \"\", \"title\": {\"standoff\": 15}, \"zerolinecolor\": \"white\", \"zerolinewidth\": 2}}}, \"title\": {\"text\": \"Purchase Amount by Age Group\", \"x\": 0.5}},\n                        {\"responsive\": true}\n                    ).then(function(){\n                            \nvar gd = document.getElementById('6f08d111-8754-419c-9f8a-e57ab9079c3e');\nvar x = new MutationObserver(function (mutations, observer) {{\n        var display = window.getComputedStyle(gd).display;\n        if (!display || display === 'none') {{\n            console.log([gd, 'removed!']);\n            Plotly.purge(gd);\n            observer.disconnect();\n        }}\n}});\n\n// Listen for the removal of the full notebook cells\nvar notebookContainer = gd.closest('#notebook-container');\nif (notebookContainer) {{\n    x.observe(notebookContainer, {childList: true});\n}}\n\n// Listen for the clearing of the current output cell\nvar outputEl = gd.closest('.output');\nif (outputEl) {{\n    x.observe(outputEl, {childList: true});\n}}\n\n                        })\n                };\n                });\n            </script>\n        </div>"
     },
     "metadata": {},
     "output_type": "display_data"
    }
   ],
   "source": [
    "\n",
    "import plotly.graph_objects as go\n",
    "\n",
    "\n",
    "df['A_group'].value_counts(sort=False)\n",
    "\n",
    "age_pie_label = df['A_group'].value_counts(sort=False).index\n",
    "age_pie_value = df['A_group'].value_counts(sort=False).values\n",
    "\n",
    "# pull is given as a fraction of the pie radius\n",
    "fig = go.Figure(go.Pie(\n",
    "    # age_pie_label is ok as well, just it doesn't have \"Age:\", so we make a new labels\n",
    "    labels=age_pie_label,\n",
    "    values=age_pie_value,\n",
    "    pull=[0, 0, 0, 0, 0, 0.2],\n",
    "    text=age_pie_label,\n",
    "    textposition='auto',\n",
    "    marker= {\n",
    "      'colors': px.colors.qualitative.Set2},\n",
    "\n",
    "    )\n",
    ")\n",
    "\n",
    "fig.update_traces(hole=.2,\n",
    "                  hoverinfo=\"label+percent\")\n",
    "\n",
    "fig.update_layout(\n",
    "    title_text=\"Purchase Amount by Age Group\",\n",
    "    # Add annotations in the center of the donut pies.\n",
    "    annotations=[dict(text='Age', x=0.5, y=0.5, font_size=20, showarrow=False)],\n",
    "    title_x=0.5,\n",
    "                  legend=dict(\n",
    "                    yanchor=\"top\",\n",
    "                    y=0.99,\n",
    "                    xanchor=\"left\",\n",
    "                    x=0.0),\n",
    ")\n",
    "fig.show()"
   ],
   "metadata": {
    "collapsed": false,
    "pycharm": {
     "name": "#%%\n"
    }
   }
  },
  {
   "cell_type": "markdown",
   "source": [
    "<h1> Sales by Gender and Age groups"
   ],
   "metadata": {
    "collapsed": false
   }
  },
  {
   "cell_type": "code",
   "execution_count": 161,
   "outputs": [
    {
     "data": {
      "text/plain": "                3y_bike_purchases\ngender A_group                   \nFemale 0-20                   842\n       21-30                 3578\n       31-40                 3078\n       41-50                 5729\n       51-60                 5059\n       >60                   6926\nMale   0-20                   536\n       21-30                 4985\n       31-40                 2651\n       41-50                 4940\n       51-60                 4044\n       >60                   6609",
      "text/html": "<div>\n<style scoped>\n    .dataframe tbody tr th:only-of-type {\n        vertical-align: middle;\n    }\n\n    .dataframe tbody tr th {\n        vertical-align: top;\n    }\n\n    .dataframe thead th {\n        text-align: right;\n    }\n</style>\n<table border=\"1\" class=\"dataframe\">\n  <thead>\n    <tr style=\"text-align: right;\">\n      <th></th>\n      <th></th>\n      <th>3y_bike_purchases</th>\n    </tr>\n    <tr>\n      <th>gender</th>\n      <th>A_group</th>\n      <th></th>\n    </tr>\n  </thead>\n  <tbody>\n    <tr>\n      <th rowspan=\"6\" valign=\"top\">Female</th>\n      <th>0-20</th>\n      <td>842</td>\n    </tr>\n    <tr>\n      <th>21-30</th>\n      <td>3578</td>\n    </tr>\n    <tr>\n      <th>31-40</th>\n      <td>3078</td>\n    </tr>\n    <tr>\n      <th>41-50</th>\n      <td>5729</td>\n    </tr>\n    <tr>\n      <th>51-60</th>\n      <td>5059</td>\n    </tr>\n    <tr>\n      <th>&gt;60</th>\n      <td>6926</td>\n    </tr>\n    <tr>\n      <th rowspan=\"6\" valign=\"top\">Male</th>\n      <th>0-20</th>\n      <td>536</td>\n    </tr>\n    <tr>\n      <th>21-30</th>\n      <td>4985</td>\n    </tr>\n    <tr>\n      <th>31-40</th>\n      <td>2651</td>\n    </tr>\n    <tr>\n      <th>41-50</th>\n      <td>4940</td>\n    </tr>\n    <tr>\n      <th>51-60</th>\n      <td>4044</td>\n    </tr>\n    <tr>\n      <th>&gt;60</th>\n      <td>6609</td>\n    </tr>\n  </tbody>\n</table>\n</div>"
     },
     "execution_count": 161,
     "metadata": {},
     "output_type": "execute_result"
    }
   ],
   "source": [
    "Age_label = ['0-20','21-30','31-40','41-50','51-60', '>60']\n",
    "\n",
    "\n",
    "df[['gender', \"A_group\", '3y_bike_purchases']].groupby(['gender',\"A_group\"]).sum()\n",
    "df_by_age_gen = df[['gender', \"A_group\", '3y_bike_purchases']].groupby(['gender',\"A_group\"]).sum()\n",
    "df_by_age_gen\n",
    "\n",
    "\n"
   ],
   "metadata": {
    "collapsed": false,
    "pycharm": {
     "name": "#%%\n"
    }
   }
  },
  {
   "cell_type": "code",
   "execution_count": 192,
   "outputs": [
    {
     "name": "stdout",
     "output_type": "stream",
     "text": [
      "Women\n",
      "CategoricalIndex(['0-20', '21-30', '31-40', '41-50', '51-60', '>60'], categories=['0-20', '21-30', '31-40', '41-50', '51-60', '>60'], ordered=True, name='A_group', dtype='category')\n",
      "\n",
      "\n",
      "[ 842 3578 3078 5729 5059 6926]\n",
      "Men\n",
      "CategoricalIndex(['0-20', '21-30', '31-40', '41-50', '51-60', '>60'], categories=['0-20', '21-30', '31-40', '41-50', '51-60', '>60'], ordered=True, name='A_group', dtype='category')\n",
      "\n",
      "\n",
      "[ 536 4985 2651 4940 4044 6609]\n"
     ]
    },
    {
     "data": {
      "application/vnd.plotly.v1+json": {
       "config": {
        "plotlyServerURL": "https://plot.ly"
       },
       "data": [
        {
         "marker": {
          "color": "rgb(231,138,195)"
         },
         "name": "Purchase Amount by Women",
         "text": [
          842.0,
          3578.0,
          3078.0,
          5729.0,
          5059.0,
          6926.0
         ],
         "textposition": "auto",
         "type": "bar",
         "x": [
          "0-20",
          "21-30",
          "31-40",
          "41-50",
          "51-60",
          ">60"
         ],
         "y": [
          842,
          3578,
          3078,
          5729,
          5059,
          6926
         ]
        },
        {
         "marker": {
          "color": "rgb(141,160,203)"
         },
         "name": "Purchase Amount by Men",
         "text": [
          536.0,
          4985.0,
          2651.0,
          4940.0,
          4044.0,
          6609.0
         ],
         "textposition": "auto",
         "type": "bar",
         "x": [
          "0-20",
          "21-30",
          "31-40",
          "41-50",
          "51-60",
          ">60"
         ],
         "y": [
          536,
          4985,
          2651,
          4940,
          4044,
          6609
         ]
        }
       ],
       "layout": {
        "barmode": "group",
        "legend": {
         "x": 0.01,
         "xanchor": "left",
         "y": 0.99,
         "yanchor": "top"
        },
        "template": {
         "data": {
          "bar": [
           {
            "error_x": {
             "color": "#2a3f5f"
            },
            "error_y": {
             "color": "#2a3f5f"
            },
            "marker": {
             "line": {
              "color": "#E5ECF6",
              "width": 0.5
             }
            },
            "type": "bar"
           }
          ],
          "barpolar": [
           {
            "marker": {
             "line": {
              "color": "#E5ECF6",
              "width": 0.5
             }
            },
            "type": "barpolar"
           }
          ],
          "carpet": [
           {
            "aaxis": {
             "endlinecolor": "#2a3f5f",
             "gridcolor": "white",
             "linecolor": "white",
             "minorgridcolor": "white",
             "startlinecolor": "#2a3f5f"
            },
            "baxis": {
             "endlinecolor": "#2a3f5f",
             "gridcolor": "white",
             "linecolor": "white",
             "minorgridcolor": "white",
             "startlinecolor": "#2a3f5f"
            },
            "type": "carpet"
           }
          ],
          "choropleth": [
           {
            "colorbar": {
             "outlinewidth": 0,
             "ticks": ""
            },
            "type": "choropleth"
           }
          ],
          "contour": [
           {
            "colorbar": {
             "outlinewidth": 0,
             "ticks": ""
            },
            "colorscale": [
             [
              0.0,
              "#0d0887"
             ],
             [
              0.1111111111111111,
              "#46039f"
             ],
             [
              0.2222222222222222,
              "#7201a8"
             ],
             [
              0.3333333333333333,
              "#9c179e"
             ],
             [
              0.4444444444444444,
              "#bd3786"
             ],
             [
              0.5555555555555556,
              "#d8576b"
             ],
             [
              0.6666666666666666,
              "#ed7953"
             ],
             [
              0.7777777777777778,
              "#fb9f3a"
             ],
             [
              0.8888888888888888,
              "#fdca26"
             ],
             [
              1.0,
              "#f0f921"
             ]
            ],
            "type": "contour"
           }
          ],
          "contourcarpet": [
           {
            "colorbar": {
             "outlinewidth": 0,
             "ticks": ""
            },
            "type": "contourcarpet"
           }
          ],
          "heatmap": [
           {
            "colorbar": {
             "outlinewidth": 0,
             "ticks": ""
            },
            "colorscale": [
             [
              0.0,
              "#0d0887"
             ],
             [
              0.1111111111111111,
              "#46039f"
             ],
             [
              0.2222222222222222,
              "#7201a8"
             ],
             [
              0.3333333333333333,
              "#9c179e"
             ],
             [
              0.4444444444444444,
              "#bd3786"
             ],
             [
              0.5555555555555556,
              "#d8576b"
             ],
             [
              0.6666666666666666,
              "#ed7953"
             ],
             [
              0.7777777777777778,
              "#fb9f3a"
             ],
             [
              0.8888888888888888,
              "#fdca26"
             ],
             [
              1.0,
              "#f0f921"
             ]
            ],
            "type": "heatmap"
           }
          ],
          "heatmapgl": [
           {
            "colorbar": {
             "outlinewidth": 0,
             "ticks": ""
            },
            "colorscale": [
             [
              0.0,
              "#0d0887"
             ],
             [
              0.1111111111111111,
              "#46039f"
             ],
             [
              0.2222222222222222,
              "#7201a8"
             ],
             [
              0.3333333333333333,
              "#9c179e"
             ],
             [
              0.4444444444444444,
              "#bd3786"
             ],
             [
              0.5555555555555556,
              "#d8576b"
             ],
             [
              0.6666666666666666,
              "#ed7953"
             ],
             [
              0.7777777777777778,
              "#fb9f3a"
             ],
             [
              0.8888888888888888,
              "#fdca26"
             ],
             [
              1.0,
              "#f0f921"
             ]
            ],
            "type": "heatmapgl"
           }
          ],
          "histogram": [
           {
            "marker": {
             "colorbar": {
              "outlinewidth": 0,
              "ticks": ""
             }
            },
            "type": "histogram"
           }
          ],
          "histogram2d": [
           {
            "colorbar": {
             "outlinewidth": 0,
             "ticks": ""
            },
            "colorscale": [
             [
              0.0,
              "#0d0887"
             ],
             [
              0.1111111111111111,
              "#46039f"
             ],
             [
              0.2222222222222222,
              "#7201a8"
             ],
             [
              0.3333333333333333,
              "#9c179e"
             ],
             [
              0.4444444444444444,
              "#bd3786"
             ],
             [
              0.5555555555555556,
              "#d8576b"
             ],
             [
              0.6666666666666666,
              "#ed7953"
             ],
             [
              0.7777777777777778,
              "#fb9f3a"
             ],
             [
              0.8888888888888888,
              "#fdca26"
             ],
             [
              1.0,
              "#f0f921"
             ]
            ],
            "type": "histogram2d"
           }
          ],
          "histogram2dcontour": [
           {
            "colorbar": {
             "outlinewidth": 0,
             "ticks": ""
            },
            "colorscale": [
             [
              0.0,
              "#0d0887"
             ],
             [
              0.1111111111111111,
              "#46039f"
             ],
             [
              0.2222222222222222,
              "#7201a8"
             ],
             [
              0.3333333333333333,
              "#9c179e"
             ],
             [
              0.4444444444444444,
              "#bd3786"
             ],
             [
              0.5555555555555556,
              "#d8576b"
             ],
             [
              0.6666666666666666,
              "#ed7953"
             ],
             [
              0.7777777777777778,
              "#fb9f3a"
             ],
             [
              0.8888888888888888,
              "#fdca26"
             ],
             [
              1.0,
              "#f0f921"
             ]
            ],
            "type": "histogram2dcontour"
           }
          ],
          "mesh3d": [
           {
            "colorbar": {
             "outlinewidth": 0,
             "ticks": ""
            },
            "type": "mesh3d"
           }
          ],
          "parcoords": [
           {
            "line": {
             "colorbar": {
              "outlinewidth": 0,
              "ticks": ""
             }
            },
            "type": "parcoords"
           }
          ],
          "pie": [
           {
            "automargin": true,
            "type": "pie"
           }
          ],
          "scatter": [
           {
            "marker": {
             "colorbar": {
              "outlinewidth": 0,
              "ticks": ""
             }
            },
            "type": "scatter"
           }
          ],
          "scatter3d": [
           {
            "line": {
             "colorbar": {
              "outlinewidth": 0,
              "ticks": ""
             }
            },
            "marker": {
             "colorbar": {
              "outlinewidth": 0,
              "ticks": ""
             }
            },
            "type": "scatter3d"
           }
          ],
          "scattercarpet": [
           {
            "marker": {
             "colorbar": {
              "outlinewidth": 0,
              "ticks": ""
             }
            },
            "type": "scattercarpet"
           }
          ],
          "scattergeo": [
           {
            "marker": {
             "colorbar": {
              "outlinewidth": 0,
              "ticks": ""
             }
            },
            "type": "scattergeo"
           }
          ],
          "scattergl": [
           {
            "marker": {
             "colorbar": {
              "outlinewidth": 0,
              "ticks": ""
             }
            },
            "type": "scattergl"
           }
          ],
          "scattermapbox": [
           {
            "marker": {
             "colorbar": {
              "outlinewidth": 0,
              "ticks": ""
             }
            },
            "type": "scattermapbox"
           }
          ],
          "scatterpolar": [
           {
            "marker": {
             "colorbar": {
              "outlinewidth": 0,
              "ticks": ""
             }
            },
            "type": "scatterpolar"
           }
          ],
          "scatterpolargl": [
           {
            "marker": {
             "colorbar": {
              "outlinewidth": 0,
              "ticks": ""
             }
            },
            "type": "scatterpolargl"
           }
          ],
          "scatterternary": [
           {
            "marker": {
             "colorbar": {
              "outlinewidth": 0,
              "ticks": ""
             }
            },
            "type": "scatterternary"
           }
          ],
          "surface": [
           {
            "colorbar": {
             "outlinewidth": 0,
             "ticks": ""
            },
            "colorscale": [
             [
              0.0,
              "#0d0887"
             ],
             [
              0.1111111111111111,
              "#46039f"
             ],
             [
              0.2222222222222222,
              "#7201a8"
             ],
             [
              0.3333333333333333,
              "#9c179e"
             ],
             [
              0.4444444444444444,
              "#bd3786"
             ],
             [
              0.5555555555555556,
              "#d8576b"
             ],
             [
              0.6666666666666666,
              "#ed7953"
             ],
             [
              0.7777777777777778,
              "#fb9f3a"
             ],
             [
              0.8888888888888888,
              "#fdca26"
             ],
             [
              1.0,
              "#f0f921"
             ]
            ],
            "type": "surface"
           }
          ],
          "table": [
           {
            "cells": {
             "fill": {
              "color": "#EBF0F8"
             },
             "line": {
              "color": "white"
             }
            },
            "header": {
             "fill": {
              "color": "#C8D4E3"
             },
             "line": {
              "color": "white"
             }
            },
            "type": "table"
           }
          ]
         },
         "layout": {
          "annotationdefaults": {
           "arrowcolor": "#2a3f5f",
           "arrowhead": 0,
           "arrowwidth": 1
          },
          "coloraxis": {
           "colorbar": {
            "outlinewidth": 0,
            "ticks": ""
           }
          },
          "colorscale": {
           "diverging": [
            [
             0,
             "#8e0152"
            ],
            [
             0.1,
             "#c51b7d"
            ],
            [
             0.2,
             "#de77ae"
            ],
            [
             0.3,
             "#f1b6da"
            ],
            [
             0.4,
             "#fde0ef"
            ],
            [
             0.5,
             "#f7f7f7"
            ],
            [
             0.6,
             "#e6f5d0"
            ],
            [
             0.7,
             "#b8e186"
            ],
            [
             0.8,
             "#7fbc41"
            ],
            [
             0.9,
             "#4d9221"
            ],
            [
             1,
             "#276419"
            ]
           ],
           "sequential": [
            [
             0.0,
             "#0d0887"
            ],
            [
             0.1111111111111111,
             "#46039f"
            ],
            [
             0.2222222222222222,
             "#7201a8"
            ],
            [
             0.3333333333333333,
             "#9c179e"
            ],
            [
             0.4444444444444444,
             "#bd3786"
            ],
            [
             0.5555555555555556,
             "#d8576b"
            ],
            [
             0.6666666666666666,
             "#ed7953"
            ],
            [
             0.7777777777777778,
             "#fb9f3a"
            ],
            [
             0.8888888888888888,
             "#fdca26"
            ],
            [
             1.0,
             "#f0f921"
            ]
           ],
           "sequentialminus": [
            [
             0.0,
             "#0d0887"
            ],
            [
             0.1111111111111111,
             "#46039f"
            ],
            [
             0.2222222222222222,
             "#7201a8"
            ],
            [
             0.3333333333333333,
             "#9c179e"
            ],
            [
             0.4444444444444444,
             "#bd3786"
            ],
            [
             0.5555555555555556,
             "#d8576b"
            ],
            [
             0.6666666666666666,
             "#ed7953"
            ],
            [
             0.7777777777777778,
             "#fb9f3a"
            ],
            [
             0.8888888888888888,
             "#fdca26"
            ],
            [
             1.0,
             "#f0f921"
            ]
           ]
          },
          "colorway": [
           "#636efa",
           "#EF553B",
           "#00cc96",
           "#ab63fa",
           "#FFA15A",
           "#19d3f3",
           "#FF6692",
           "#B6E880",
           "#FF97FF",
           "#FECB52"
          ],
          "font": {
           "color": "#2a3f5f"
          },
          "geo": {
           "bgcolor": "white",
           "lakecolor": "white",
           "landcolor": "#E5ECF6",
           "showlakes": true,
           "showland": true,
           "subunitcolor": "white"
          },
          "hoverlabel": {
           "align": "left"
          },
          "hovermode": "closest",
          "mapbox": {
           "style": "light"
          },
          "paper_bgcolor": "white",
          "plot_bgcolor": "#E5ECF6",
          "polar": {
           "angularaxis": {
            "gridcolor": "white",
            "linecolor": "white",
            "ticks": ""
           },
           "bgcolor": "#E5ECF6",
           "radialaxis": {
            "gridcolor": "white",
            "linecolor": "white",
            "ticks": ""
           }
          },
          "scene": {
           "xaxis": {
            "backgroundcolor": "#E5ECF6",
            "gridcolor": "white",
            "gridwidth": 2,
            "linecolor": "white",
            "showbackground": true,
            "ticks": "",
            "zerolinecolor": "white"
           },
           "yaxis": {
            "backgroundcolor": "#E5ECF6",
            "gridcolor": "white",
            "gridwidth": 2,
            "linecolor": "white",
            "showbackground": true,
            "ticks": "",
            "zerolinecolor": "white"
           },
           "zaxis": {
            "backgroundcolor": "#E5ECF6",
            "gridcolor": "white",
            "gridwidth": 2,
            "linecolor": "white",
            "showbackground": true,
            "ticks": "",
            "zerolinecolor": "white"
           }
          },
          "shapedefaults": {
           "line": {
            "color": "#2a3f5f"
           }
          },
          "ternary": {
           "aaxis": {
            "gridcolor": "white",
            "linecolor": "white",
            "ticks": ""
           },
           "baxis": {
            "gridcolor": "white",
            "linecolor": "white",
            "ticks": ""
           },
           "bgcolor": "#E5ECF6",
           "caxis": {
            "gridcolor": "white",
            "linecolor": "white",
            "ticks": ""
           }
          },
          "title": {
           "x": 0.05
          },
          "xaxis": {
           "automargin": true,
           "gridcolor": "white",
           "linecolor": "white",
           "ticks": "",
           "title": {
            "standoff": 15
           },
           "zerolinecolor": "white",
           "zerolinewidth": 2
          },
          "yaxis": {
           "automargin": true,
           "gridcolor": "white",
           "linecolor": "white",
           "ticks": "",
           "title": {
            "standoff": 15
           },
           "zerolinecolor": "white",
           "zerolinewidth": 2
          }
         }
        },
        "title": {
         "text": "Sales by Gender and Age",
         "x": 0.5
        },
        "xaxis": {
         "tickangle": 45,
         "tickprefix": "",
         "title": {
          "text": "Age by Gender"
         }
        },
        "yaxis": {
         "tickangle": 45,
         "title": {
          "text": "Bike Related Purchases in the Past 3 Years"
         }
        }
       }
      },
      "text/html": "<div>\n        \n        \n            <div id=\"db3c53c7-1c41-4ad0-8def-445e7b142d64\" class=\"plotly-graph-div\" style=\"height:525px; width:100%;\"></div>\n            <script type=\"text/javascript\">\n                require([\"plotly\"], function(Plotly) {\n                    window.PLOTLYENV=window.PLOTLYENV || {};\n                    \n                if (document.getElementById(\"db3c53c7-1c41-4ad0-8def-445e7b142d64\")) {\n                    Plotly.newPlot(\n                        'db3c53c7-1c41-4ad0-8def-445e7b142d64',\n                        [{\"marker\": {\"color\": \"rgb(231,138,195)\"}, \"name\": \"Purchase Amount by Women\", \"text\": [842.0, 3578.0, 3078.0, 5729.0, 5059.0, 6926.0], \"textposition\": \"auto\", \"type\": \"bar\", \"x\": [\"0-20\", \"21-30\", \"31-40\", \"41-50\", \"51-60\", \">60\"], \"y\": [842, 3578, 3078, 5729, 5059, 6926]}, {\"marker\": {\"color\": \"rgb(141,160,203)\"}, \"name\": \"Purchase Amount by Men\", \"text\": [536.0, 4985.0, 2651.0, 4940.0, 4044.0, 6609.0], \"textposition\": \"auto\", \"type\": \"bar\", \"x\": [\"0-20\", \"21-30\", \"31-40\", \"41-50\", \"51-60\", \">60\"], \"y\": [536, 4985, 2651, 4940, 4044, 6609]}],\n                        {\"barmode\": \"group\", \"legend\": {\"x\": 0.01, \"xanchor\": \"left\", \"y\": 0.99, \"yanchor\": \"top\"}, \"template\": {\"data\": {\"bar\": [{\"error_x\": {\"color\": \"#2a3f5f\"}, \"error_y\": {\"color\": \"#2a3f5f\"}, \"marker\": {\"line\": {\"color\": \"#E5ECF6\", \"width\": 0.5}}, \"type\": \"bar\"}], \"barpolar\": [{\"marker\": {\"line\": {\"color\": \"#E5ECF6\", \"width\": 0.5}}, \"type\": \"barpolar\"}], \"carpet\": [{\"aaxis\": {\"endlinecolor\": \"#2a3f5f\", \"gridcolor\": \"white\", \"linecolor\": \"white\", \"minorgridcolor\": \"white\", \"startlinecolor\": \"#2a3f5f\"}, \"baxis\": {\"endlinecolor\": \"#2a3f5f\", \"gridcolor\": \"white\", \"linecolor\": \"white\", \"minorgridcolor\": \"white\", \"startlinecolor\": \"#2a3f5f\"}, \"type\": \"carpet\"}], \"choropleth\": [{\"colorbar\": {\"outlinewidth\": 0, \"ticks\": \"\"}, \"type\": \"choropleth\"}], \"contour\": [{\"colorbar\": {\"outlinewidth\": 0, \"ticks\": \"\"}, \"colorscale\": [[0.0, \"#0d0887\"], [0.1111111111111111, \"#46039f\"], [0.2222222222222222, \"#7201a8\"], [0.3333333333333333, \"#9c179e\"], [0.4444444444444444, \"#bd3786\"], [0.5555555555555556, \"#d8576b\"], [0.6666666666666666, \"#ed7953\"], [0.7777777777777778, \"#fb9f3a\"], [0.8888888888888888, \"#fdca26\"], [1.0, \"#f0f921\"]], \"type\": \"contour\"}], \"contourcarpet\": [{\"colorbar\": {\"outlinewidth\": 0, \"ticks\": \"\"}, \"type\": \"contourcarpet\"}], \"heatmap\": [{\"colorbar\": {\"outlinewidth\": 0, \"ticks\": \"\"}, \"colorscale\": [[0.0, \"#0d0887\"], [0.1111111111111111, \"#46039f\"], [0.2222222222222222, \"#7201a8\"], [0.3333333333333333, \"#9c179e\"], [0.4444444444444444, \"#bd3786\"], [0.5555555555555556, \"#d8576b\"], [0.6666666666666666, \"#ed7953\"], [0.7777777777777778, \"#fb9f3a\"], [0.8888888888888888, \"#fdca26\"], [1.0, \"#f0f921\"]], \"type\": \"heatmap\"}], \"heatmapgl\": [{\"colorbar\": {\"outlinewidth\": 0, \"ticks\": \"\"}, \"colorscale\": [[0.0, \"#0d0887\"], [0.1111111111111111, \"#46039f\"], [0.2222222222222222, \"#7201a8\"], [0.3333333333333333, \"#9c179e\"], [0.4444444444444444, \"#bd3786\"], [0.5555555555555556, \"#d8576b\"], [0.6666666666666666, \"#ed7953\"], [0.7777777777777778, \"#fb9f3a\"], [0.8888888888888888, \"#fdca26\"], [1.0, \"#f0f921\"]], \"type\": \"heatmapgl\"}], \"histogram\": [{\"marker\": {\"colorbar\": {\"outlinewidth\": 0, \"ticks\": \"\"}}, \"type\": \"histogram\"}], \"histogram2d\": [{\"colorbar\": {\"outlinewidth\": 0, \"ticks\": \"\"}, \"colorscale\": [[0.0, \"#0d0887\"], [0.1111111111111111, \"#46039f\"], [0.2222222222222222, \"#7201a8\"], [0.3333333333333333, \"#9c179e\"], [0.4444444444444444, \"#bd3786\"], [0.5555555555555556, \"#d8576b\"], [0.6666666666666666, \"#ed7953\"], [0.7777777777777778, \"#fb9f3a\"], [0.8888888888888888, \"#fdca26\"], [1.0, \"#f0f921\"]], \"type\": \"histogram2d\"}], \"histogram2dcontour\": [{\"colorbar\": {\"outlinewidth\": 0, \"ticks\": \"\"}, \"colorscale\": [[0.0, \"#0d0887\"], [0.1111111111111111, \"#46039f\"], [0.2222222222222222, \"#7201a8\"], [0.3333333333333333, \"#9c179e\"], [0.4444444444444444, \"#bd3786\"], [0.5555555555555556, \"#d8576b\"], [0.6666666666666666, \"#ed7953\"], [0.7777777777777778, \"#fb9f3a\"], [0.8888888888888888, \"#fdca26\"], [1.0, \"#f0f921\"]], \"type\": \"histogram2dcontour\"}], \"mesh3d\": [{\"colorbar\": {\"outlinewidth\": 0, \"ticks\": \"\"}, \"type\": \"mesh3d\"}], \"parcoords\": [{\"line\": {\"colorbar\": {\"outlinewidth\": 0, \"ticks\": \"\"}}, \"type\": \"parcoords\"}], \"pie\": [{\"automargin\": true, \"type\": \"pie\"}], \"scatter\": [{\"marker\": {\"colorbar\": {\"outlinewidth\": 0, \"ticks\": \"\"}}, \"type\": \"scatter\"}], \"scatter3d\": [{\"line\": {\"colorbar\": {\"outlinewidth\": 0, \"ticks\": \"\"}}, \"marker\": {\"colorbar\": {\"outlinewidth\": 0, \"ticks\": \"\"}}, \"type\": \"scatter3d\"}], \"scattercarpet\": [{\"marker\": {\"colorbar\": {\"outlinewidth\": 0, \"ticks\": \"\"}}, \"type\": \"scattercarpet\"}], \"scattergeo\": [{\"marker\": {\"colorbar\": {\"outlinewidth\": 0, \"ticks\": \"\"}}, \"type\": \"scattergeo\"}], \"scattergl\": [{\"marker\": {\"colorbar\": {\"outlinewidth\": 0, \"ticks\": \"\"}}, \"type\": \"scattergl\"}], \"scattermapbox\": [{\"marker\": {\"colorbar\": {\"outlinewidth\": 0, \"ticks\": \"\"}}, \"type\": \"scattermapbox\"}], \"scatterpolar\": [{\"marker\": {\"colorbar\": {\"outlinewidth\": 0, \"ticks\": \"\"}}, \"type\": \"scatterpolar\"}], \"scatterpolargl\": [{\"marker\": {\"colorbar\": {\"outlinewidth\": 0, \"ticks\": \"\"}}, \"type\": \"scatterpolargl\"}], \"scatterternary\": [{\"marker\": {\"colorbar\": {\"outlinewidth\": 0, \"ticks\": \"\"}}, \"type\": \"scatterternary\"}], \"surface\": [{\"colorbar\": {\"outlinewidth\": 0, \"ticks\": \"\"}, \"colorscale\": [[0.0, \"#0d0887\"], [0.1111111111111111, \"#46039f\"], [0.2222222222222222, \"#7201a8\"], [0.3333333333333333, \"#9c179e\"], [0.4444444444444444, \"#bd3786\"], [0.5555555555555556, \"#d8576b\"], [0.6666666666666666, \"#ed7953\"], [0.7777777777777778, \"#fb9f3a\"], [0.8888888888888888, \"#fdca26\"], [1.0, \"#f0f921\"]], \"type\": \"surface\"}], \"table\": [{\"cells\": {\"fill\": {\"color\": \"#EBF0F8\"}, \"line\": {\"color\": \"white\"}}, \"header\": {\"fill\": {\"color\": \"#C8D4E3\"}, \"line\": {\"color\": \"white\"}}, \"type\": \"table\"}]}, \"layout\": {\"annotationdefaults\": {\"arrowcolor\": \"#2a3f5f\", \"arrowhead\": 0, \"arrowwidth\": 1}, \"coloraxis\": {\"colorbar\": {\"outlinewidth\": 0, \"ticks\": \"\"}}, \"colorscale\": {\"diverging\": [[0, \"#8e0152\"], [0.1, \"#c51b7d\"], [0.2, \"#de77ae\"], [0.3, \"#f1b6da\"], [0.4, \"#fde0ef\"], [0.5, \"#f7f7f7\"], [0.6, \"#e6f5d0\"], [0.7, \"#b8e186\"], [0.8, \"#7fbc41\"], [0.9, \"#4d9221\"], [1, \"#276419\"]], \"sequential\": [[0.0, \"#0d0887\"], [0.1111111111111111, \"#46039f\"], [0.2222222222222222, \"#7201a8\"], [0.3333333333333333, \"#9c179e\"], [0.4444444444444444, \"#bd3786\"], [0.5555555555555556, \"#d8576b\"], [0.6666666666666666, \"#ed7953\"], [0.7777777777777778, \"#fb9f3a\"], [0.8888888888888888, \"#fdca26\"], [1.0, \"#f0f921\"]], \"sequentialminus\": [[0.0, \"#0d0887\"], [0.1111111111111111, \"#46039f\"], [0.2222222222222222, \"#7201a8\"], [0.3333333333333333, \"#9c179e\"], [0.4444444444444444, \"#bd3786\"], [0.5555555555555556, \"#d8576b\"], [0.6666666666666666, \"#ed7953\"], [0.7777777777777778, \"#fb9f3a\"], [0.8888888888888888, \"#fdca26\"], [1.0, \"#f0f921\"]]}, \"colorway\": [\"#636efa\", \"#EF553B\", \"#00cc96\", \"#ab63fa\", \"#FFA15A\", \"#19d3f3\", \"#FF6692\", \"#B6E880\", \"#FF97FF\", \"#FECB52\"], \"font\": {\"color\": \"#2a3f5f\"}, \"geo\": {\"bgcolor\": \"white\", \"lakecolor\": \"white\", \"landcolor\": \"#E5ECF6\", \"showlakes\": true, \"showland\": true, \"subunitcolor\": \"white\"}, \"hoverlabel\": {\"align\": \"left\"}, \"hovermode\": \"closest\", \"mapbox\": {\"style\": \"light\"}, \"paper_bgcolor\": \"white\", \"plot_bgcolor\": \"#E5ECF6\", \"polar\": {\"angularaxis\": {\"gridcolor\": \"white\", \"linecolor\": \"white\", \"ticks\": \"\"}, \"bgcolor\": \"#E5ECF6\", \"radialaxis\": {\"gridcolor\": \"white\", \"linecolor\": \"white\", \"ticks\": \"\"}}, \"scene\": {\"xaxis\": {\"backgroundcolor\": \"#E5ECF6\", \"gridcolor\": \"white\", \"gridwidth\": 2, \"linecolor\": \"white\", \"showbackground\": true, \"ticks\": \"\", \"zerolinecolor\": \"white\"}, \"yaxis\": {\"backgroundcolor\": \"#E5ECF6\", \"gridcolor\": \"white\", \"gridwidth\": 2, \"linecolor\": \"white\", \"showbackground\": true, \"ticks\": \"\", \"zerolinecolor\": \"white\"}, \"zaxis\": {\"backgroundcolor\": \"#E5ECF6\", \"gridcolor\": \"white\", \"gridwidth\": 2, \"linecolor\": \"white\", \"showbackground\": true, \"ticks\": \"\", \"zerolinecolor\": \"white\"}}, \"shapedefaults\": {\"line\": {\"color\": \"#2a3f5f\"}}, \"ternary\": {\"aaxis\": {\"gridcolor\": \"white\", \"linecolor\": \"white\", \"ticks\": \"\"}, \"baxis\": {\"gridcolor\": \"white\", \"linecolor\": \"white\", \"ticks\": \"\"}, \"bgcolor\": \"#E5ECF6\", \"caxis\": {\"gridcolor\": \"white\", \"linecolor\": \"white\", \"ticks\": \"\"}}, \"title\": {\"x\": 0.05}, \"xaxis\": {\"automargin\": true, \"gridcolor\": \"white\", \"linecolor\": \"white\", \"ticks\": \"\", \"title\": {\"standoff\": 15}, \"zerolinecolor\": \"white\", \"zerolinewidth\": 2}, \"yaxis\": {\"automargin\": true, \"gridcolor\": \"white\", \"linecolor\": \"white\", \"ticks\": \"\", \"title\": {\"standoff\": 15}, \"zerolinecolor\": \"white\", \"zerolinewidth\": 2}}}, \"title\": {\"text\": \"Sales by Gender and Age\", \"x\": 0.5}, \"xaxis\": {\"tickangle\": 45, \"tickprefix\": \"\", \"title\": {\"text\": \"Age by Gender\"}}, \"yaxis\": {\"tickangle\": 45, \"title\": {\"text\": \"Bike Related Purchases in the Past 3 Years\"}}},\n                        {\"responsive\": true}\n                    ).then(function(){\n                            \nvar gd = document.getElementById('db3c53c7-1c41-4ad0-8def-445e7b142d64');\nvar x = new MutationObserver(function (mutations, observer) {{\n        var display = window.getComputedStyle(gd).display;\n        if (!display || display === 'none') {{\n            console.log([gd, 'removed!']);\n            Plotly.purge(gd);\n            observer.disconnect();\n        }}\n}});\n\n// Listen for the removal of the full notebook cells\nvar notebookContainer = gd.closest('#notebook-container');\nif (notebookContainer) {{\n    x.observe(notebookContainer, {childList: true});\n}}\n\n// Listen for the clearing of the current output cell\nvar outputEl = gd.closest('.output');\nif (outputEl) {{\n    x.observe(outputEl, {childList: true});\n}}\n\n                        })\n                };\n                });\n            </script>\n        </div>"
     },
     "metadata": {},
     "output_type": "display_data"
    }
   ],
   "source": [
    "\n",
    "\n",
    "Age_label = ['0-20','21-30','31-40','41-50','51-60', '>60']\n",
    "\n",
    "print(\"Women\")\n",
    "print(df_by_age_gen[\"3y_bike_purchases\"][\"Female\"].index)\n",
    "print(\"\\n\")\n",
    "print(df_by_age_gen[\"3y_bike_purchases\"][\"Female\"].values)\n",
    "\n",
    "print(\"Men\")\n",
    "print(df_by_age_gen[\"3y_bike_purchases\"][\"Male\"].index)\n",
    "print(\"\\n\")\n",
    "print(df_by_age_gen[\"3y_bike_purchases\"][\"Male\"].values)\n",
    "\n",
    "\n",
    "import plotly.express as px # for color setting\n",
    "import plotly.graph_objects as go\n",
    "\n",
    "W_Sales = df_by_age_gen[\"3y_bike_purchases\"][\"Female\"].values\n",
    "M_Sales = df_by_age_gen[\"3y_bike_purchases\"][\"Male\"].values\n",
    "\n",
    "fig = go.Figure()\n",
    "fig.add_trace(go.Bar(\n",
    "    x=Age_label,\n",
    "    y=W_Sales,\n",
    "    name='Purchase Amount by Women',\n",
    "    marker_color=px.colors.qualitative.Set2[3],\n",
    "    text=W_Sales,\n",
    "    textposition='auto'\n",
    "))\n",
    "fig.add_trace(go.Bar(\n",
    "    x=Age_label,\n",
    "    y=M_Sales,\n",
    "    name='Purchase Amount by Men',\n",
    "    marker_color=px.colors.qualitative.Set2[2],\n",
    "    text=M_Sales,\n",
    "    textposition='auto'\n",
    "))\n",
    "\n",
    "# Here we modify the tickangle of the xaxis, resulting in rotated labels.\n",
    "fig.update_layout(barmode='group',\n",
    "                  xaxis_tickangle=-45,\n",
    "                  title_text='Sales by Gender and Age',\n",
    "                  title_x=0.5,\n",
    "                  legend=dict(\n",
    "                    yanchor=\"top\",\n",
    "                    y=0.99,\n",
    "                    xanchor=\"left\",\n",
    "                    x=0.01),\n",
    "                  yaxis=dict(#tickprefix=\"$\",\n",
    "                             tickangle=45,\n",
    "                             title='Bike Related Purchases in the Past 3 Years'),\n",
    "                  xaxis=dict(tickprefix=\"\",\n",
    "                             tickangle=45,\n",
    "                             title='Age by Gender'),\n",
    "\n",
    "                  )\n",
    "fig.show()"
   ],
   "metadata": {
    "collapsed": false,
    "pycharm": {
     "name": "#%%\n"
    }
   }
  },
  {
   "cell_type": "code",
   "execution_count": 194,
   "outputs": [
    {
     "name": "stdout",
     "output_type": "stream",
     "text": [
      "Index(['Argiculture', 'Entertainment', 'Manufacturing', 'Financial Services',\n",
      "       'Health', 'Telecommunications', 'Property', 'Retail', 'IT'],\n",
      "      dtype='object') [ 26  36 199 367 152  25  64  78  36]\n"
     ]
    }
   ],
   "source": [
    "\n",
    "\n",
    "\n",
    "Cat_index = df['Category'].value_counts(sort=False).index\n",
    "Cat_count = df['Category'].value_counts(sort=False).values\n",
    "print(Cat_index, Cat_count)\n",
    "\n",
    "\n"
   ],
   "metadata": {
    "collapsed": false,
    "pycharm": {
     "name": "#%%\n"
    }
   }
  },
  {
   "cell_type": "markdown",
   "source": [
    "<h1> Job industry investigation"
   ],
   "metadata": {
    "collapsed": false,
    "pycharm": {
     "name": "#%% md\n"
    }
   }
  },
  {
   "cell_type": "code",
   "execution_count": 195,
   "outputs": [
    {
     "data": {
      "application/vnd.plotly.v1+json": {
       "config": {
        "plotlyServerURL": "https://plot.ly"
       },
       "data": [
        {
         "marker": {
          "color": "indianred"
         },
         "text": [
          26.0,
          36.0,
          199.0,
          367.0,
          152.0,
          25.0,
          64.0,
          78.0,
          36.0
         ],
         "textposition": "auto",
         "type": "bar",
         "x": [
          "Argiculture",
          "Entertainment",
          "Manufacturing",
          "Financial Services",
          "Health",
          "Telecommunications",
          "Property",
          "Retail",
          "IT"
         ],
         "y": [
          26,
          36,
          199,
          367,
          152,
          25,
          64,
          78,
          36
         ]
        }
       ],
       "layout": {
        "template": {
         "data": {
          "bar": [
           {
            "error_x": {
             "color": "#2a3f5f"
            },
            "error_y": {
             "color": "#2a3f5f"
            },
            "marker": {
             "line": {
              "color": "#E5ECF6",
              "width": 0.5
             }
            },
            "type": "bar"
           }
          ],
          "barpolar": [
           {
            "marker": {
             "line": {
              "color": "#E5ECF6",
              "width": 0.5
             }
            },
            "type": "barpolar"
           }
          ],
          "carpet": [
           {
            "aaxis": {
             "endlinecolor": "#2a3f5f",
             "gridcolor": "white",
             "linecolor": "white",
             "minorgridcolor": "white",
             "startlinecolor": "#2a3f5f"
            },
            "baxis": {
             "endlinecolor": "#2a3f5f",
             "gridcolor": "white",
             "linecolor": "white",
             "minorgridcolor": "white",
             "startlinecolor": "#2a3f5f"
            },
            "type": "carpet"
           }
          ],
          "choropleth": [
           {
            "colorbar": {
             "outlinewidth": 0,
             "ticks": ""
            },
            "type": "choropleth"
           }
          ],
          "contour": [
           {
            "colorbar": {
             "outlinewidth": 0,
             "ticks": ""
            },
            "colorscale": [
             [
              0.0,
              "#0d0887"
             ],
             [
              0.1111111111111111,
              "#46039f"
             ],
             [
              0.2222222222222222,
              "#7201a8"
             ],
             [
              0.3333333333333333,
              "#9c179e"
             ],
             [
              0.4444444444444444,
              "#bd3786"
             ],
             [
              0.5555555555555556,
              "#d8576b"
             ],
             [
              0.6666666666666666,
              "#ed7953"
             ],
             [
              0.7777777777777778,
              "#fb9f3a"
             ],
             [
              0.8888888888888888,
              "#fdca26"
             ],
             [
              1.0,
              "#f0f921"
             ]
            ],
            "type": "contour"
           }
          ],
          "contourcarpet": [
           {
            "colorbar": {
             "outlinewidth": 0,
             "ticks": ""
            },
            "type": "contourcarpet"
           }
          ],
          "heatmap": [
           {
            "colorbar": {
             "outlinewidth": 0,
             "ticks": ""
            },
            "colorscale": [
             [
              0.0,
              "#0d0887"
             ],
             [
              0.1111111111111111,
              "#46039f"
             ],
             [
              0.2222222222222222,
              "#7201a8"
             ],
             [
              0.3333333333333333,
              "#9c179e"
             ],
             [
              0.4444444444444444,
              "#bd3786"
             ],
             [
              0.5555555555555556,
              "#d8576b"
             ],
             [
              0.6666666666666666,
              "#ed7953"
             ],
             [
              0.7777777777777778,
              "#fb9f3a"
             ],
             [
              0.8888888888888888,
              "#fdca26"
             ],
             [
              1.0,
              "#f0f921"
             ]
            ],
            "type": "heatmap"
           }
          ],
          "heatmapgl": [
           {
            "colorbar": {
             "outlinewidth": 0,
             "ticks": ""
            },
            "colorscale": [
             [
              0.0,
              "#0d0887"
             ],
             [
              0.1111111111111111,
              "#46039f"
             ],
             [
              0.2222222222222222,
              "#7201a8"
             ],
             [
              0.3333333333333333,
              "#9c179e"
             ],
             [
              0.4444444444444444,
              "#bd3786"
             ],
             [
              0.5555555555555556,
              "#d8576b"
             ],
             [
              0.6666666666666666,
              "#ed7953"
             ],
             [
              0.7777777777777778,
              "#fb9f3a"
             ],
             [
              0.8888888888888888,
              "#fdca26"
             ],
             [
              1.0,
              "#f0f921"
             ]
            ],
            "type": "heatmapgl"
           }
          ],
          "histogram": [
           {
            "marker": {
             "colorbar": {
              "outlinewidth": 0,
              "ticks": ""
             }
            },
            "type": "histogram"
           }
          ],
          "histogram2d": [
           {
            "colorbar": {
             "outlinewidth": 0,
             "ticks": ""
            },
            "colorscale": [
             [
              0.0,
              "#0d0887"
             ],
             [
              0.1111111111111111,
              "#46039f"
             ],
             [
              0.2222222222222222,
              "#7201a8"
             ],
             [
              0.3333333333333333,
              "#9c179e"
             ],
             [
              0.4444444444444444,
              "#bd3786"
             ],
             [
              0.5555555555555556,
              "#d8576b"
             ],
             [
              0.6666666666666666,
              "#ed7953"
             ],
             [
              0.7777777777777778,
              "#fb9f3a"
             ],
             [
              0.8888888888888888,
              "#fdca26"
             ],
             [
              1.0,
              "#f0f921"
             ]
            ],
            "type": "histogram2d"
           }
          ],
          "histogram2dcontour": [
           {
            "colorbar": {
             "outlinewidth": 0,
             "ticks": ""
            },
            "colorscale": [
             [
              0.0,
              "#0d0887"
             ],
             [
              0.1111111111111111,
              "#46039f"
             ],
             [
              0.2222222222222222,
              "#7201a8"
             ],
             [
              0.3333333333333333,
              "#9c179e"
             ],
             [
              0.4444444444444444,
              "#bd3786"
             ],
             [
              0.5555555555555556,
              "#d8576b"
             ],
             [
              0.6666666666666666,
              "#ed7953"
             ],
             [
              0.7777777777777778,
              "#fb9f3a"
             ],
             [
              0.8888888888888888,
              "#fdca26"
             ],
             [
              1.0,
              "#f0f921"
             ]
            ],
            "type": "histogram2dcontour"
           }
          ],
          "mesh3d": [
           {
            "colorbar": {
             "outlinewidth": 0,
             "ticks": ""
            },
            "type": "mesh3d"
           }
          ],
          "parcoords": [
           {
            "line": {
             "colorbar": {
              "outlinewidth": 0,
              "ticks": ""
             }
            },
            "type": "parcoords"
           }
          ],
          "pie": [
           {
            "automargin": true,
            "type": "pie"
           }
          ],
          "scatter": [
           {
            "marker": {
             "colorbar": {
              "outlinewidth": 0,
              "ticks": ""
             }
            },
            "type": "scatter"
           }
          ],
          "scatter3d": [
           {
            "line": {
             "colorbar": {
              "outlinewidth": 0,
              "ticks": ""
             }
            },
            "marker": {
             "colorbar": {
              "outlinewidth": 0,
              "ticks": ""
             }
            },
            "type": "scatter3d"
           }
          ],
          "scattercarpet": [
           {
            "marker": {
             "colorbar": {
              "outlinewidth": 0,
              "ticks": ""
             }
            },
            "type": "scattercarpet"
           }
          ],
          "scattergeo": [
           {
            "marker": {
             "colorbar": {
              "outlinewidth": 0,
              "ticks": ""
             }
            },
            "type": "scattergeo"
           }
          ],
          "scattergl": [
           {
            "marker": {
             "colorbar": {
              "outlinewidth": 0,
              "ticks": ""
             }
            },
            "type": "scattergl"
           }
          ],
          "scattermapbox": [
           {
            "marker": {
             "colorbar": {
              "outlinewidth": 0,
              "ticks": ""
             }
            },
            "type": "scattermapbox"
           }
          ],
          "scatterpolar": [
           {
            "marker": {
             "colorbar": {
              "outlinewidth": 0,
              "ticks": ""
             }
            },
            "type": "scatterpolar"
           }
          ],
          "scatterpolargl": [
           {
            "marker": {
             "colorbar": {
              "outlinewidth": 0,
              "ticks": ""
             }
            },
            "type": "scatterpolargl"
           }
          ],
          "scatterternary": [
           {
            "marker": {
             "colorbar": {
              "outlinewidth": 0,
              "ticks": ""
             }
            },
            "type": "scatterternary"
           }
          ],
          "surface": [
           {
            "colorbar": {
             "outlinewidth": 0,
             "ticks": ""
            },
            "colorscale": [
             [
              0.0,
              "#0d0887"
             ],
             [
              0.1111111111111111,
              "#46039f"
             ],
             [
              0.2222222222222222,
              "#7201a8"
             ],
             [
              0.3333333333333333,
              "#9c179e"
             ],
             [
              0.4444444444444444,
              "#bd3786"
             ],
             [
              0.5555555555555556,
              "#d8576b"
             ],
             [
              0.6666666666666666,
              "#ed7953"
             ],
             [
              0.7777777777777778,
              "#fb9f3a"
             ],
             [
              0.8888888888888888,
              "#fdca26"
             ],
             [
              1.0,
              "#f0f921"
             ]
            ],
            "type": "surface"
           }
          ],
          "table": [
           {
            "cells": {
             "fill": {
              "color": "#EBF0F8"
             },
             "line": {
              "color": "white"
             }
            },
            "header": {
             "fill": {
              "color": "#C8D4E3"
             },
             "line": {
              "color": "white"
             }
            },
            "type": "table"
           }
          ]
         },
         "layout": {
          "annotationdefaults": {
           "arrowcolor": "#2a3f5f",
           "arrowhead": 0,
           "arrowwidth": 1
          },
          "coloraxis": {
           "colorbar": {
            "outlinewidth": 0,
            "ticks": ""
           }
          },
          "colorscale": {
           "diverging": [
            [
             0,
             "#8e0152"
            ],
            [
             0.1,
             "#c51b7d"
            ],
            [
             0.2,
             "#de77ae"
            ],
            [
             0.3,
             "#f1b6da"
            ],
            [
             0.4,
             "#fde0ef"
            ],
            [
             0.5,
             "#f7f7f7"
            ],
            [
             0.6,
             "#e6f5d0"
            ],
            [
             0.7,
             "#b8e186"
            ],
            [
             0.8,
             "#7fbc41"
            ],
            [
             0.9,
             "#4d9221"
            ],
            [
             1,
             "#276419"
            ]
           ],
           "sequential": [
            [
             0.0,
             "#0d0887"
            ],
            [
             0.1111111111111111,
             "#46039f"
            ],
            [
             0.2222222222222222,
             "#7201a8"
            ],
            [
             0.3333333333333333,
             "#9c179e"
            ],
            [
             0.4444444444444444,
             "#bd3786"
            ],
            [
             0.5555555555555556,
             "#d8576b"
            ],
            [
             0.6666666666666666,
             "#ed7953"
            ],
            [
             0.7777777777777778,
             "#fb9f3a"
            ],
            [
             0.8888888888888888,
             "#fdca26"
            ],
            [
             1.0,
             "#f0f921"
            ]
           ],
           "sequentialminus": [
            [
             0.0,
             "#0d0887"
            ],
            [
             0.1111111111111111,
             "#46039f"
            ],
            [
             0.2222222222222222,
             "#7201a8"
            ],
            [
             0.3333333333333333,
             "#9c179e"
            ],
            [
             0.4444444444444444,
             "#bd3786"
            ],
            [
             0.5555555555555556,
             "#d8576b"
            ],
            [
             0.6666666666666666,
             "#ed7953"
            ],
            [
             0.7777777777777778,
             "#fb9f3a"
            ],
            [
             0.8888888888888888,
             "#fdca26"
            ],
            [
             1.0,
             "#f0f921"
            ]
           ]
          },
          "colorway": [
           "#636efa",
           "#EF553B",
           "#00cc96",
           "#ab63fa",
           "#FFA15A",
           "#19d3f3",
           "#FF6692",
           "#B6E880",
           "#FF97FF",
           "#FECB52"
          ],
          "font": {
           "color": "#2a3f5f"
          },
          "geo": {
           "bgcolor": "white",
           "lakecolor": "white",
           "landcolor": "#E5ECF6",
           "showlakes": true,
           "showland": true,
           "subunitcolor": "white"
          },
          "hoverlabel": {
           "align": "left"
          },
          "hovermode": "closest",
          "mapbox": {
           "style": "light"
          },
          "paper_bgcolor": "white",
          "plot_bgcolor": "#E5ECF6",
          "polar": {
           "angularaxis": {
            "gridcolor": "white",
            "linecolor": "white",
            "ticks": ""
           },
           "bgcolor": "#E5ECF6",
           "radialaxis": {
            "gridcolor": "white",
            "linecolor": "white",
            "ticks": ""
           }
          },
          "scene": {
           "xaxis": {
            "backgroundcolor": "#E5ECF6",
            "gridcolor": "white",
            "gridwidth": 2,
            "linecolor": "white",
            "showbackground": true,
            "ticks": "",
            "zerolinecolor": "white"
           },
           "yaxis": {
            "backgroundcolor": "#E5ECF6",
            "gridcolor": "white",
            "gridwidth": 2,
            "linecolor": "white",
            "showbackground": true,
            "ticks": "",
            "zerolinecolor": "white"
           },
           "zaxis": {
            "backgroundcolor": "#E5ECF6",
            "gridcolor": "white",
            "gridwidth": 2,
            "linecolor": "white",
            "showbackground": true,
            "ticks": "",
            "zerolinecolor": "white"
           }
          },
          "shapedefaults": {
           "line": {
            "color": "#2a3f5f"
           }
          },
          "ternary": {
           "aaxis": {
            "gridcolor": "white",
            "linecolor": "white",
            "ticks": ""
           },
           "baxis": {
            "gridcolor": "white",
            "linecolor": "white",
            "ticks": ""
           },
           "bgcolor": "#E5ECF6",
           "caxis": {
            "gridcolor": "white",
            "linecolor": "white",
            "ticks": ""
           }
          },
          "title": {
           "x": 0.05
          },
          "xaxis": {
           "automargin": true,
           "gridcolor": "white",
           "linecolor": "white",
           "ticks": "",
           "title": {
            "standoff": 15
           },
           "zerolinecolor": "white",
           "zerolinewidth": 2
          },
          "yaxis": {
           "automargin": true,
           "gridcolor": "white",
           "linecolor": "white",
           "ticks": "",
           "title": {
            "standoff": 15
           },
           "zerolinecolor": "white",
           "zerolinewidth": 2
          }
         }
        }
       }
      },
      "text/html": "<div>\n        \n        \n            <div id=\"69931a0e-dba0-4782-98e8-560d24aff082\" class=\"plotly-graph-div\" style=\"height:525px; width:100%;\"></div>\n            <script type=\"text/javascript\">\n                require([\"plotly\"], function(Plotly) {\n                    window.PLOTLYENV=window.PLOTLYENV || {};\n                    \n                if (document.getElementById(\"69931a0e-dba0-4782-98e8-560d24aff082\")) {\n                    Plotly.newPlot(\n                        '69931a0e-dba0-4782-98e8-560d24aff082',\n                        [{\"marker\": {\"color\": \"indianred\"}, \"text\": [26.0, 36.0, 199.0, 367.0, 152.0, 25.0, 64.0, 78.0, 36.0], \"textposition\": \"auto\", \"type\": \"bar\", \"x\": [\"Argiculture\", \"Entertainment\", \"Manufacturing\", \"Financial Services\", \"Health\", \"Telecommunications\", \"Property\", \"Retail\", \"IT\"], \"y\": [26, 36, 199, 367, 152, 25, 64, 78, 36]}],\n                        {\"template\": {\"data\": {\"bar\": [{\"error_x\": {\"color\": \"#2a3f5f\"}, \"error_y\": {\"color\": \"#2a3f5f\"}, \"marker\": {\"line\": {\"color\": \"#E5ECF6\", \"width\": 0.5}}, \"type\": \"bar\"}], \"barpolar\": [{\"marker\": {\"line\": {\"color\": \"#E5ECF6\", \"width\": 0.5}}, \"type\": \"barpolar\"}], \"carpet\": [{\"aaxis\": {\"endlinecolor\": \"#2a3f5f\", \"gridcolor\": \"white\", \"linecolor\": \"white\", \"minorgridcolor\": \"white\", \"startlinecolor\": \"#2a3f5f\"}, \"baxis\": {\"endlinecolor\": \"#2a3f5f\", \"gridcolor\": \"white\", \"linecolor\": \"white\", \"minorgridcolor\": \"white\", \"startlinecolor\": \"#2a3f5f\"}, \"type\": \"carpet\"}], \"choropleth\": [{\"colorbar\": {\"outlinewidth\": 0, \"ticks\": \"\"}, \"type\": \"choropleth\"}], \"contour\": [{\"colorbar\": {\"outlinewidth\": 0, \"ticks\": \"\"}, \"colorscale\": [[0.0, \"#0d0887\"], [0.1111111111111111, \"#46039f\"], [0.2222222222222222, \"#7201a8\"], [0.3333333333333333, \"#9c179e\"], [0.4444444444444444, \"#bd3786\"], [0.5555555555555556, \"#d8576b\"], [0.6666666666666666, \"#ed7953\"], [0.7777777777777778, \"#fb9f3a\"], [0.8888888888888888, \"#fdca26\"], [1.0, \"#f0f921\"]], \"type\": \"contour\"}], \"contourcarpet\": [{\"colorbar\": {\"outlinewidth\": 0, \"ticks\": \"\"}, \"type\": \"contourcarpet\"}], \"heatmap\": [{\"colorbar\": {\"outlinewidth\": 0, \"ticks\": \"\"}, \"colorscale\": [[0.0, \"#0d0887\"], [0.1111111111111111, \"#46039f\"], [0.2222222222222222, \"#7201a8\"], [0.3333333333333333, \"#9c179e\"], [0.4444444444444444, \"#bd3786\"], [0.5555555555555556, \"#d8576b\"], [0.6666666666666666, \"#ed7953\"], [0.7777777777777778, \"#fb9f3a\"], [0.8888888888888888, \"#fdca26\"], [1.0, \"#f0f921\"]], \"type\": \"heatmap\"}], \"heatmapgl\": [{\"colorbar\": {\"outlinewidth\": 0, \"ticks\": \"\"}, \"colorscale\": [[0.0, \"#0d0887\"], [0.1111111111111111, \"#46039f\"], [0.2222222222222222, \"#7201a8\"], [0.3333333333333333, \"#9c179e\"], [0.4444444444444444, \"#bd3786\"], [0.5555555555555556, \"#d8576b\"], [0.6666666666666666, \"#ed7953\"], [0.7777777777777778, \"#fb9f3a\"], [0.8888888888888888, \"#fdca26\"], [1.0, \"#f0f921\"]], \"type\": \"heatmapgl\"}], \"histogram\": [{\"marker\": {\"colorbar\": {\"outlinewidth\": 0, \"ticks\": \"\"}}, \"type\": \"histogram\"}], \"histogram2d\": [{\"colorbar\": {\"outlinewidth\": 0, \"ticks\": \"\"}, \"colorscale\": [[0.0, \"#0d0887\"], [0.1111111111111111, \"#46039f\"], [0.2222222222222222, \"#7201a8\"], [0.3333333333333333, \"#9c179e\"], [0.4444444444444444, \"#bd3786\"], [0.5555555555555556, \"#d8576b\"], [0.6666666666666666, \"#ed7953\"], [0.7777777777777778, \"#fb9f3a\"], [0.8888888888888888, \"#fdca26\"], [1.0, \"#f0f921\"]], \"type\": \"histogram2d\"}], \"histogram2dcontour\": [{\"colorbar\": {\"outlinewidth\": 0, \"ticks\": \"\"}, \"colorscale\": [[0.0, \"#0d0887\"], [0.1111111111111111, \"#46039f\"], [0.2222222222222222, \"#7201a8\"], [0.3333333333333333, \"#9c179e\"], [0.4444444444444444, \"#bd3786\"], [0.5555555555555556, \"#d8576b\"], [0.6666666666666666, \"#ed7953\"], [0.7777777777777778, \"#fb9f3a\"], [0.8888888888888888, \"#fdca26\"], [1.0, \"#f0f921\"]], \"type\": \"histogram2dcontour\"}], \"mesh3d\": [{\"colorbar\": {\"outlinewidth\": 0, \"ticks\": \"\"}, \"type\": \"mesh3d\"}], \"parcoords\": [{\"line\": {\"colorbar\": {\"outlinewidth\": 0, \"ticks\": \"\"}}, \"type\": \"parcoords\"}], \"pie\": [{\"automargin\": true, \"type\": \"pie\"}], \"scatter\": [{\"marker\": {\"colorbar\": {\"outlinewidth\": 0, \"ticks\": \"\"}}, \"type\": \"scatter\"}], \"scatter3d\": [{\"line\": {\"colorbar\": {\"outlinewidth\": 0, \"ticks\": \"\"}}, \"marker\": {\"colorbar\": {\"outlinewidth\": 0, \"ticks\": \"\"}}, \"type\": \"scatter3d\"}], \"scattercarpet\": [{\"marker\": {\"colorbar\": {\"outlinewidth\": 0, \"ticks\": \"\"}}, \"type\": \"scattercarpet\"}], \"scattergeo\": [{\"marker\": {\"colorbar\": {\"outlinewidth\": 0, \"ticks\": \"\"}}, \"type\": \"scattergeo\"}], \"scattergl\": [{\"marker\": {\"colorbar\": {\"outlinewidth\": 0, \"ticks\": \"\"}}, \"type\": \"scattergl\"}], \"scattermapbox\": [{\"marker\": {\"colorbar\": {\"outlinewidth\": 0, \"ticks\": \"\"}}, \"type\": \"scattermapbox\"}], \"scatterpolar\": [{\"marker\": {\"colorbar\": {\"outlinewidth\": 0, \"ticks\": \"\"}}, \"type\": \"scatterpolar\"}], \"scatterpolargl\": [{\"marker\": {\"colorbar\": {\"outlinewidth\": 0, \"ticks\": \"\"}}, \"type\": \"scatterpolargl\"}], \"scatterternary\": [{\"marker\": {\"colorbar\": {\"outlinewidth\": 0, \"ticks\": \"\"}}, \"type\": \"scatterternary\"}], \"surface\": [{\"colorbar\": {\"outlinewidth\": 0, \"ticks\": \"\"}, \"colorscale\": [[0.0, \"#0d0887\"], [0.1111111111111111, \"#46039f\"], [0.2222222222222222, \"#7201a8\"], [0.3333333333333333, \"#9c179e\"], [0.4444444444444444, \"#bd3786\"], [0.5555555555555556, \"#d8576b\"], [0.6666666666666666, \"#ed7953\"], [0.7777777777777778, \"#fb9f3a\"], [0.8888888888888888, \"#fdca26\"], [1.0, \"#f0f921\"]], \"type\": \"surface\"}], \"table\": [{\"cells\": {\"fill\": {\"color\": \"#EBF0F8\"}, \"line\": {\"color\": \"white\"}}, \"header\": {\"fill\": {\"color\": \"#C8D4E3\"}, \"line\": {\"color\": \"white\"}}, \"type\": \"table\"}]}, \"layout\": {\"annotationdefaults\": {\"arrowcolor\": \"#2a3f5f\", \"arrowhead\": 0, \"arrowwidth\": 1}, \"coloraxis\": {\"colorbar\": {\"outlinewidth\": 0, \"ticks\": \"\"}}, \"colorscale\": {\"diverging\": [[0, \"#8e0152\"], [0.1, \"#c51b7d\"], [0.2, \"#de77ae\"], [0.3, \"#f1b6da\"], [0.4, \"#fde0ef\"], [0.5, \"#f7f7f7\"], [0.6, \"#e6f5d0\"], [0.7, \"#b8e186\"], [0.8, \"#7fbc41\"], [0.9, \"#4d9221\"], [1, \"#276419\"]], \"sequential\": [[0.0, \"#0d0887\"], [0.1111111111111111, \"#46039f\"], [0.2222222222222222, \"#7201a8\"], [0.3333333333333333, \"#9c179e\"], [0.4444444444444444, \"#bd3786\"], [0.5555555555555556, \"#d8576b\"], [0.6666666666666666, \"#ed7953\"], [0.7777777777777778, \"#fb9f3a\"], [0.8888888888888888, \"#fdca26\"], [1.0, \"#f0f921\"]], \"sequentialminus\": [[0.0, \"#0d0887\"], [0.1111111111111111, \"#46039f\"], [0.2222222222222222, \"#7201a8\"], [0.3333333333333333, \"#9c179e\"], [0.4444444444444444, \"#bd3786\"], [0.5555555555555556, \"#d8576b\"], [0.6666666666666666, \"#ed7953\"], [0.7777777777777778, \"#fb9f3a\"], [0.8888888888888888, \"#fdca26\"], [1.0, \"#f0f921\"]]}, \"colorway\": [\"#636efa\", \"#EF553B\", \"#00cc96\", \"#ab63fa\", \"#FFA15A\", \"#19d3f3\", \"#FF6692\", \"#B6E880\", \"#FF97FF\", \"#FECB52\"], \"font\": {\"color\": \"#2a3f5f\"}, \"geo\": {\"bgcolor\": \"white\", \"lakecolor\": \"white\", \"landcolor\": \"#E5ECF6\", \"showlakes\": true, \"showland\": true, \"subunitcolor\": \"white\"}, \"hoverlabel\": {\"align\": \"left\"}, \"hovermode\": \"closest\", \"mapbox\": {\"style\": \"light\"}, \"paper_bgcolor\": \"white\", \"plot_bgcolor\": \"#E5ECF6\", \"polar\": {\"angularaxis\": {\"gridcolor\": \"white\", \"linecolor\": \"white\", \"ticks\": \"\"}, \"bgcolor\": \"#E5ECF6\", \"radialaxis\": {\"gridcolor\": \"white\", \"linecolor\": \"white\", \"ticks\": \"\"}}, \"scene\": {\"xaxis\": {\"backgroundcolor\": \"#E5ECF6\", \"gridcolor\": \"white\", \"gridwidth\": 2, \"linecolor\": \"white\", \"showbackground\": true, \"ticks\": \"\", \"zerolinecolor\": \"white\"}, \"yaxis\": {\"backgroundcolor\": \"#E5ECF6\", \"gridcolor\": \"white\", \"gridwidth\": 2, \"linecolor\": \"white\", \"showbackground\": true, \"ticks\": \"\", \"zerolinecolor\": \"white\"}, \"zaxis\": {\"backgroundcolor\": \"#E5ECF6\", \"gridcolor\": \"white\", \"gridwidth\": 2, \"linecolor\": \"white\", \"showbackground\": true, \"ticks\": \"\", \"zerolinecolor\": \"white\"}}, \"shapedefaults\": {\"line\": {\"color\": \"#2a3f5f\"}}, \"ternary\": {\"aaxis\": {\"gridcolor\": \"white\", \"linecolor\": \"white\", \"ticks\": \"\"}, \"baxis\": {\"gridcolor\": \"white\", \"linecolor\": \"white\", \"ticks\": \"\"}, \"bgcolor\": \"#E5ECF6\", \"caxis\": {\"gridcolor\": \"white\", \"linecolor\": \"white\", \"ticks\": \"\"}}, \"title\": {\"x\": 0.05}, \"xaxis\": {\"automargin\": true, \"gridcolor\": \"white\", \"linecolor\": \"white\", \"ticks\": \"\", \"title\": {\"standoff\": 15}, \"zerolinecolor\": \"white\", \"zerolinewidth\": 2}, \"yaxis\": {\"automargin\": true, \"gridcolor\": \"white\", \"linecolor\": \"white\", \"ticks\": \"\", \"title\": {\"standoff\": 15}, \"zerolinecolor\": \"white\", \"zerolinewidth\": 2}}}},\n                        {\"responsive\": true}\n                    ).then(function(){\n                            \nvar gd = document.getElementById('69931a0e-dba0-4782-98e8-560d24aff082');\nvar x = new MutationObserver(function (mutations, observer) {{\n        var display = window.getComputedStyle(gd).display;\n        if (!display || display === 'none') {{\n            console.log([gd, 'removed!']);\n            Plotly.purge(gd);\n            observer.disconnect();\n        }}\n}});\n\n// Listen for the removal of the full notebook cells\nvar notebookContainer = gd.closest('#notebook-container');\nif (notebookContainer) {{\n    x.observe(notebookContainer, {childList: true});\n}}\n\n// Listen for the clearing of the current output cell\nvar outputEl = gd.closest('.output');\nif (outputEl) {{\n    x.observe(outputEl, {childList: true});\n}}\n\n                        })\n                };\n                });\n            </script>\n        </div>"
     },
     "metadata": {},
     "output_type": "display_data"
    }
   ],
   "source": [
    "\n",
    "import plotly.graph_objects as go\n",
    "\n",
    "\n",
    "# Use textposition='auto' for direct text\n",
    "fig = go.Figure(data=[go.Bar(\n",
    "            x=Cat_index, y=Cat_count,\n",
    "            text=Cat_count,\n",
    "            textposition='auto',\n",
    "            marker_color='indianred'\n",
    "        )])\n",
    "\n",
    "fig.show()\n",
    "\n"
   ],
   "metadata": {
    "collapsed": false,
    "pycharm": {
     "name": "#%%\n"
    }
   }
  },
  {
   "cell_type": "markdown",
   "source": [
    "<h1> Sales by Wealth Segment and Age Groups"
   ],
   "metadata": {
    "collapsed": false,
    "pycharm": {
     "name": "#%% md\n"
    }
   }
  },
  {
   "cell_type": "code",
   "execution_count": 196,
   "outputs": [
    {
     "data": {
      "text/plain": "array(['fname', 'lname', 'gender', '3y_bike_purchases', 'DOB', 'JT',\n       'Category', 'wealth_segment', 'D_Indicator', 'owns_car', 'tenure',\n       'address', 'postcode', 'state', 'country', 'property_valuation',\n       'Unnamed: 16', 'Unnamed: 17', 'Unnamed: 18', 'Unnamed: 19',\n       'Unnamed: 20', 'Rank', 'Value', 'Age', 'A_group'], dtype=object)"
     },
     "execution_count": 196,
     "metadata": {},
     "output_type": "execute_result"
    }
   ],
   "source": [
    "df.columns.values"
   ],
   "metadata": {
    "collapsed": false,
    "pycharm": {
     "name": "#%%\n"
    }
   }
  },
  {
   "cell_type": "code",
   "execution_count": 197,
   "outputs": [
    {
     "name": "stdout",
     "output_type": "stream",
     "text": [
      "Index(['High Net Worth', 'Affluent Customer', 'Mass Customer'], dtype='object') [249 235 499]\n"
     ]
    }
   ],
   "source": [
    "wealth_index = df['wealth_segment'].value_counts(sort=False).index\n",
    "wealth_count = df['wealth_segment'].value_counts(sort=False).values\n",
    "print(wealth_index, wealth_count)"
   ],
   "metadata": {
    "collapsed": false,
    "pycharm": {
     "name": "#%%\n"
    }
   }
  },
  {
   "cell_type": "code",
   "execution_count": 198,
   "outputs": [
    {
     "data": {
      "text/plain": "                           3y_bike_purchases\nwealth_segment    A_group                   \nAffluent Customer 0-20                   279\n                  21-30                 2364\n                  31-40                 1075\n                  41-50                 2652\n                  51-60                 2010\n                  >60                   3342\nHigh Net Worth    0-20                   331\n                  21-30                 2180\n                  31-40                 1667\n                  41-50                 2468\n                  51-60                 2469\n                  >60                   3538\nMass Customer     0-20                   768\n                  21-30                 4019\n                  31-40                 2987\n                  41-50                 5549\n                  51-60                 4624\n                  >60                   6655",
      "text/html": "<div>\n<style scoped>\n    .dataframe tbody tr th:only-of-type {\n        vertical-align: middle;\n    }\n\n    .dataframe tbody tr th {\n        vertical-align: top;\n    }\n\n    .dataframe thead th {\n        text-align: right;\n    }\n</style>\n<table border=\"1\" class=\"dataframe\">\n  <thead>\n    <tr style=\"text-align: right;\">\n      <th></th>\n      <th></th>\n      <th>3y_bike_purchases</th>\n    </tr>\n    <tr>\n      <th>wealth_segment</th>\n      <th>A_group</th>\n      <th></th>\n    </tr>\n  </thead>\n  <tbody>\n    <tr>\n      <th rowspan=\"6\" valign=\"top\">Affluent Customer</th>\n      <th>0-20</th>\n      <td>279</td>\n    </tr>\n    <tr>\n      <th>21-30</th>\n      <td>2364</td>\n    </tr>\n    <tr>\n      <th>31-40</th>\n      <td>1075</td>\n    </tr>\n    <tr>\n      <th>41-50</th>\n      <td>2652</td>\n    </tr>\n    <tr>\n      <th>51-60</th>\n      <td>2010</td>\n    </tr>\n    <tr>\n      <th>&gt;60</th>\n      <td>3342</td>\n    </tr>\n    <tr>\n      <th rowspan=\"6\" valign=\"top\">High Net Worth</th>\n      <th>0-20</th>\n      <td>331</td>\n    </tr>\n    <tr>\n      <th>21-30</th>\n      <td>2180</td>\n    </tr>\n    <tr>\n      <th>31-40</th>\n      <td>1667</td>\n    </tr>\n    <tr>\n      <th>41-50</th>\n      <td>2468</td>\n    </tr>\n    <tr>\n      <th>51-60</th>\n      <td>2469</td>\n    </tr>\n    <tr>\n      <th>&gt;60</th>\n      <td>3538</td>\n    </tr>\n    <tr>\n      <th rowspan=\"6\" valign=\"top\">Mass Customer</th>\n      <th>0-20</th>\n      <td>768</td>\n    </tr>\n    <tr>\n      <th>21-30</th>\n      <td>4019</td>\n    </tr>\n    <tr>\n      <th>31-40</th>\n      <td>2987</td>\n    </tr>\n    <tr>\n      <th>41-50</th>\n      <td>5549</td>\n    </tr>\n    <tr>\n      <th>51-60</th>\n      <td>4624</td>\n    </tr>\n    <tr>\n      <th>&gt;60</th>\n      <td>6655</td>\n    </tr>\n  </tbody>\n</table>\n</div>"
     },
     "execution_count": 198,
     "metadata": {},
     "output_type": "execute_result"
    }
   ],
   "source": [
    "Age_label = ['0-20','21-30','31-40','41-50','51-60', '>60']\n",
    "\n",
    "\n",
    "df[['wealth_segment', \"A_group\", '3y_bike_purchases']].groupby(['wealth_segment',\"A_group\"]).sum()\n",
    "df_by_wealth_age = df[['wealth_segment', \"A_group\", '3y_bike_purchases']].groupby(['wealth_segment',\"A_group\"]).sum()\n",
    "df_by_wealth_age"
   ],
   "metadata": {
    "collapsed": false,
    "pycharm": {
     "name": "#%%\n"
    }
   }
  },
  {
   "cell_type": "code",
   "execution_count": 199,
   "outputs": [
    {
     "data": {
      "text/plain": "CategoricalIndex(['0-20', '21-30', '31-40', '41-50', '51-60', '>60'], categories=['0-20', '21-30', '31-40', '41-50', '51-60', '>60'], ordered=True, name='A_group', dtype='category')"
     },
     "execution_count": 199,
     "metadata": {},
     "output_type": "execute_result"
    }
   ],
   "source": [
    "df_by_wealth_age[\"3y_bike_purchases\"][\"Mass Customer\"].index"
   ],
   "metadata": {
    "collapsed": false,
    "pycharm": {
     "name": "#%%\n"
    }
   }
  },
  {
   "cell_type": "code",
   "execution_count": 200,
   "outputs": [
    {
     "name": "stdout",
     "output_type": "stream",
     "text": [
      "Affluent Customer\n",
      "CategoricalIndex(['0-20', '21-30', '31-40', '41-50', '51-60', '>60'], categories=['0-20', '21-30', '31-40', '41-50', '51-60', '>60'], ordered=True, name='A_group', dtype='category')\n",
      "\n",
      "\n",
      "[ 279 2364 1075 2652 2010 3342]\n",
      "High Net Worth\n",
      "CategoricalIndex(['0-20', '21-30', '31-40', '41-50', '51-60', '>60'], categories=['0-20', '21-30', '31-40', '41-50', '51-60', '>60'], ordered=True, name='A_group', dtype='category')\n",
      "\n",
      "\n",
      "[ 331 2180 1667 2468 2469 3538]\n",
      "Mass Customer\n",
      "CategoricalIndex(['0-20', '21-30', '31-40', '41-50', '51-60', '>60'], categories=['0-20', '21-30', '31-40', '41-50', '51-60', '>60'], ordered=True, name='A_group', dtype='category')\n",
      "\n",
      "\n",
      "[ 768 4019 2987 5549 4624 6655]\n"
     ]
    }
   ],
   "source": [
    "Age_label = ['0-20','21-30','31-40','41-50','51-60', '>60']\n",
    "\n",
    "print(\"Affluent Customer\")\n",
    "print(df_by_wealth_age[\"3y_bike_purchases\"][\"Affluent Customer\"].index)\n",
    "print(\"\\n\")\n",
    "print(df_by_wealth_age[\"3y_bike_purchases\"][\"Affluent Customer\"].values)\n",
    "\n",
    "print(\"High Net Worth\")\n",
    "print(df_by_wealth_age[\"3y_bike_purchases\"][\"High Net Worth\"].index)\n",
    "print(\"\\n\")\n",
    "print(df_by_wealth_age[\"3y_bike_purchases\"][\"High Net Worth\"].values)\n",
    "\n",
    "\n",
    "print(\"Mass Customer\")\n",
    "print(df_by_wealth_age[\"3y_bike_purchases\"][\"Mass Customer\"].index)\n",
    "print(\"\\n\")\n",
    "print(df_by_wealth_age[\"3y_bike_purchases\"][\"Mass Customer\"].values)"
   ],
   "metadata": {
    "collapsed": false,
    "pycharm": {
     "name": "#%%\n"
    }
   }
  },
  {
   "cell_type": "code",
   "execution_count": 203,
   "outputs": [
    {
     "data": {
      "application/vnd.plotly.v1+json": {
       "config": {
        "plotlyServerURL": "https://plot.ly"
       },
       "data": [
        {
         "marker": {
          "color": "rgb(102,194,165)"
         },
         "name": "Affluent Customer",
         "text": "Affluent Customer",
         "textposition": "auto",
         "type": "bar",
         "x": [
          "0-20",
          "21-30",
          "31-40",
          "41-50",
          "51-60",
          ">60"
         ],
         "y": [
          279,
          2364,
          1075,
          2652,
          2010,
          3342
         ]
        },
        {
         "marker": {
          "color": "rgb(252,141,98)"
         },
         "name": "High Net Worth Customer",
         "text": "High Net Worth",
         "textposition": "auto",
         "type": "bar",
         "x": [
          "0-20",
          "21-30",
          "31-40",
          "41-50",
          "51-60",
          ">60"
         ],
         "y": [
          331,
          2180,
          1667,
          2468,
          2469,
          3538
         ]
        },
        {
         "marker": {
          "color": "rgb(141,160,203)"
         },
         "name": "Mass Customer",
         "text": "Mass Customer",
         "textposition": "auto",
         "type": "bar",
         "x": [
          "0-20",
          "21-30",
          "31-40",
          "41-50",
          "51-60",
          ">60"
         ],
         "y": [
          768,
          4019,
          2987,
          5549,
          4624,
          6655
         ]
        }
       ],
       "layout": {
        "barmode": "group",
        "legend": {
         "x": 0.01,
         "xanchor": "left",
         "y": 0.99,
         "yanchor": "top"
        },
        "template": {
         "data": {
          "bar": [
           {
            "error_x": {
             "color": "#2a3f5f"
            },
            "error_y": {
             "color": "#2a3f5f"
            },
            "marker": {
             "line": {
              "color": "#E5ECF6",
              "width": 0.5
             }
            },
            "type": "bar"
           }
          ],
          "barpolar": [
           {
            "marker": {
             "line": {
              "color": "#E5ECF6",
              "width": 0.5
             }
            },
            "type": "barpolar"
           }
          ],
          "carpet": [
           {
            "aaxis": {
             "endlinecolor": "#2a3f5f",
             "gridcolor": "white",
             "linecolor": "white",
             "minorgridcolor": "white",
             "startlinecolor": "#2a3f5f"
            },
            "baxis": {
             "endlinecolor": "#2a3f5f",
             "gridcolor": "white",
             "linecolor": "white",
             "minorgridcolor": "white",
             "startlinecolor": "#2a3f5f"
            },
            "type": "carpet"
           }
          ],
          "choropleth": [
           {
            "colorbar": {
             "outlinewidth": 0,
             "ticks": ""
            },
            "type": "choropleth"
           }
          ],
          "contour": [
           {
            "colorbar": {
             "outlinewidth": 0,
             "ticks": ""
            },
            "colorscale": [
             [
              0.0,
              "#0d0887"
             ],
             [
              0.1111111111111111,
              "#46039f"
             ],
             [
              0.2222222222222222,
              "#7201a8"
             ],
             [
              0.3333333333333333,
              "#9c179e"
             ],
             [
              0.4444444444444444,
              "#bd3786"
             ],
             [
              0.5555555555555556,
              "#d8576b"
             ],
             [
              0.6666666666666666,
              "#ed7953"
             ],
             [
              0.7777777777777778,
              "#fb9f3a"
             ],
             [
              0.8888888888888888,
              "#fdca26"
             ],
             [
              1.0,
              "#f0f921"
             ]
            ],
            "type": "contour"
           }
          ],
          "contourcarpet": [
           {
            "colorbar": {
             "outlinewidth": 0,
             "ticks": ""
            },
            "type": "contourcarpet"
           }
          ],
          "heatmap": [
           {
            "colorbar": {
             "outlinewidth": 0,
             "ticks": ""
            },
            "colorscale": [
             [
              0.0,
              "#0d0887"
             ],
             [
              0.1111111111111111,
              "#46039f"
             ],
             [
              0.2222222222222222,
              "#7201a8"
             ],
             [
              0.3333333333333333,
              "#9c179e"
             ],
             [
              0.4444444444444444,
              "#bd3786"
             ],
             [
              0.5555555555555556,
              "#d8576b"
             ],
             [
              0.6666666666666666,
              "#ed7953"
             ],
             [
              0.7777777777777778,
              "#fb9f3a"
             ],
             [
              0.8888888888888888,
              "#fdca26"
             ],
             [
              1.0,
              "#f0f921"
             ]
            ],
            "type": "heatmap"
           }
          ],
          "heatmapgl": [
           {
            "colorbar": {
             "outlinewidth": 0,
             "ticks": ""
            },
            "colorscale": [
             [
              0.0,
              "#0d0887"
             ],
             [
              0.1111111111111111,
              "#46039f"
             ],
             [
              0.2222222222222222,
              "#7201a8"
             ],
             [
              0.3333333333333333,
              "#9c179e"
             ],
             [
              0.4444444444444444,
              "#bd3786"
             ],
             [
              0.5555555555555556,
              "#d8576b"
             ],
             [
              0.6666666666666666,
              "#ed7953"
             ],
             [
              0.7777777777777778,
              "#fb9f3a"
             ],
             [
              0.8888888888888888,
              "#fdca26"
             ],
             [
              1.0,
              "#f0f921"
             ]
            ],
            "type": "heatmapgl"
           }
          ],
          "histogram": [
           {
            "marker": {
             "colorbar": {
              "outlinewidth": 0,
              "ticks": ""
             }
            },
            "type": "histogram"
           }
          ],
          "histogram2d": [
           {
            "colorbar": {
             "outlinewidth": 0,
             "ticks": ""
            },
            "colorscale": [
             [
              0.0,
              "#0d0887"
             ],
             [
              0.1111111111111111,
              "#46039f"
             ],
             [
              0.2222222222222222,
              "#7201a8"
             ],
             [
              0.3333333333333333,
              "#9c179e"
             ],
             [
              0.4444444444444444,
              "#bd3786"
             ],
             [
              0.5555555555555556,
              "#d8576b"
             ],
             [
              0.6666666666666666,
              "#ed7953"
             ],
             [
              0.7777777777777778,
              "#fb9f3a"
             ],
             [
              0.8888888888888888,
              "#fdca26"
             ],
             [
              1.0,
              "#f0f921"
             ]
            ],
            "type": "histogram2d"
           }
          ],
          "histogram2dcontour": [
           {
            "colorbar": {
             "outlinewidth": 0,
             "ticks": ""
            },
            "colorscale": [
             [
              0.0,
              "#0d0887"
             ],
             [
              0.1111111111111111,
              "#46039f"
             ],
             [
              0.2222222222222222,
              "#7201a8"
             ],
             [
              0.3333333333333333,
              "#9c179e"
             ],
             [
              0.4444444444444444,
              "#bd3786"
             ],
             [
              0.5555555555555556,
              "#d8576b"
             ],
             [
              0.6666666666666666,
              "#ed7953"
             ],
             [
              0.7777777777777778,
              "#fb9f3a"
             ],
             [
              0.8888888888888888,
              "#fdca26"
             ],
             [
              1.0,
              "#f0f921"
             ]
            ],
            "type": "histogram2dcontour"
           }
          ],
          "mesh3d": [
           {
            "colorbar": {
             "outlinewidth": 0,
             "ticks": ""
            },
            "type": "mesh3d"
           }
          ],
          "parcoords": [
           {
            "line": {
             "colorbar": {
              "outlinewidth": 0,
              "ticks": ""
             }
            },
            "type": "parcoords"
           }
          ],
          "pie": [
           {
            "automargin": true,
            "type": "pie"
           }
          ],
          "scatter": [
           {
            "marker": {
             "colorbar": {
              "outlinewidth": 0,
              "ticks": ""
             }
            },
            "type": "scatter"
           }
          ],
          "scatter3d": [
           {
            "line": {
             "colorbar": {
              "outlinewidth": 0,
              "ticks": ""
             }
            },
            "marker": {
             "colorbar": {
              "outlinewidth": 0,
              "ticks": ""
             }
            },
            "type": "scatter3d"
           }
          ],
          "scattercarpet": [
           {
            "marker": {
             "colorbar": {
              "outlinewidth": 0,
              "ticks": ""
             }
            },
            "type": "scattercarpet"
           }
          ],
          "scattergeo": [
           {
            "marker": {
             "colorbar": {
              "outlinewidth": 0,
              "ticks": ""
             }
            },
            "type": "scattergeo"
           }
          ],
          "scattergl": [
           {
            "marker": {
             "colorbar": {
              "outlinewidth": 0,
              "ticks": ""
             }
            },
            "type": "scattergl"
           }
          ],
          "scattermapbox": [
           {
            "marker": {
             "colorbar": {
              "outlinewidth": 0,
              "ticks": ""
             }
            },
            "type": "scattermapbox"
           }
          ],
          "scatterpolar": [
           {
            "marker": {
             "colorbar": {
              "outlinewidth": 0,
              "ticks": ""
             }
            },
            "type": "scatterpolar"
           }
          ],
          "scatterpolargl": [
           {
            "marker": {
             "colorbar": {
              "outlinewidth": 0,
              "ticks": ""
             }
            },
            "type": "scatterpolargl"
           }
          ],
          "scatterternary": [
           {
            "marker": {
             "colorbar": {
              "outlinewidth": 0,
              "ticks": ""
             }
            },
            "type": "scatterternary"
           }
          ],
          "surface": [
           {
            "colorbar": {
             "outlinewidth": 0,
             "ticks": ""
            },
            "colorscale": [
             [
              0.0,
              "#0d0887"
             ],
             [
              0.1111111111111111,
              "#46039f"
             ],
             [
              0.2222222222222222,
              "#7201a8"
             ],
             [
              0.3333333333333333,
              "#9c179e"
             ],
             [
              0.4444444444444444,
              "#bd3786"
             ],
             [
              0.5555555555555556,
              "#d8576b"
             ],
             [
              0.6666666666666666,
              "#ed7953"
             ],
             [
              0.7777777777777778,
              "#fb9f3a"
             ],
             [
              0.8888888888888888,
              "#fdca26"
             ],
             [
              1.0,
              "#f0f921"
             ]
            ],
            "type": "surface"
           }
          ],
          "table": [
           {
            "cells": {
             "fill": {
              "color": "#EBF0F8"
             },
             "line": {
              "color": "white"
             }
            },
            "header": {
             "fill": {
              "color": "#C8D4E3"
             },
             "line": {
              "color": "white"
             }
            },
            "type": "table"
           }
          ]
         },
         "layout": {
          "annotationdefaults": {
           "arrowcolor": "#2a3f5f",
           "arrowhead": 0,
           "arrowwidth": 1
          },
          "coloraxis": {
           "colorbar": {
            "outlinewidth": 0,
            "ticks": ""
           }
          },
          "colorscale": {
           "diverging": [
            [
             0,
             "#8e0152"
            ],
            [
             0.1,
             "#c51b7d"
            ],
            [
             0.2,
             "#de77ae"
            ],
            [
             0.3,
             "#f1b6da"
            ],
            [
             0.4,
             "#fde0ef"
            ],
            [
             0.5,
             "#f7f7f7"
            ],
            [
             0.6,
             "#e6f5d0"
            ],
            [
             0.7,
             "#b8e186"
            ],
            [
             0.8,
             "#7fbc41"
            ],
            [
             0.9,
             "#4d9221"
            ],
            [
             1,
             "#276419"
            ]
           ],
           "sequential": [
            [
             0.0,
             "#0d0887"
            ],
            [
             0.1111111111111111,
             "#46039f"
            ],
            [
             0.2222222222222222,
             "#7201a8"
            ],
            [
             0.3333333333333333,
             "#9c179e"
            ],
            [
             0.4444444444444444,
             "#bd3786"
            ],
            [
             0.5555555555555556,
             "#d8576b"
            ],
            [
             0.6666666666666666,
             "#ed7953"
            ],
            [
             0.7777777777777778,
             "#fb9f3a"
            ],
            [
             0.8888888888888888,
             "#fdca26"
            ],
            [
             1.0,
             "#f0f921"
            ]
           ],
           "sequentialminus": [
            [
             0.0,
             "#0d0887"
            ],
            [
             0.1111111111111111,
             "#46039f"
            ],
            [
             0.2222222222222222,
             "#7201a8"
            ],
            [
             0.3333333333333333,
             "#9c179e"
            ],
            [
             0.4444444444444444,
             "#bd3786"
            ],
            [
             0.5555555555555556,
             "#d8576b"
            ],
            [
             0.6666666666666666,
             "#ed7953"
            ],
            [
             0.7777777777777778,
             "#fb9f3a"
            ],
            [
             0.8888888888888888,
             "#fdca26"
            ],
            [
             1.0,
             "#f0f921"
            ]
           ]
          },
          "colorway": [
           "#636efa",
           "#EF553B",
           "#00cc96",
           "#ab63fa",
           "#FFA15A",
           "#19d3f3",
           "#FF6692",
           "#B6E880",
           "#FF97FF",
           "#FECB52"
          ],
          "font": {
           "color": "#2a3f5f"
          },
          "geo": {
           "bgcolor": "white",
           "lakecolor": "white",
           "landcolor": "#E5ECF6",
           "showlakes": true,
           "showland": true,
           "subunitcolor": "white"
          },
          "hoverlabel": {
           "align": "left"
          },
          "hovermode": "closest",
          "mapbox": {
           "style": "light"
          },
          "paper_bgcolor": "white",
          "plot_bgcolor": "#E5ECF6",
          "polar": {
           "angularaxis": {
            "gridcolor": "white",
            "linecolor": "white",
            "ticks": ""
           },
           "bgcolor": "#E5ECF6",
           "radialaxis": {
            "gridcolor": "white",
            "linecolor": "white",
            "ticks": ""
           }
          },
          "scene": {
           "xaxis": {
            "backgroundcolor": "#E5ECF6",
            "gridcolor": "white",
            "gridwidth": 2,
            "linecolor": "white",
            "showbackground": true,
            "ticks": "",
            "zerolinecolor": "white"
           },
           "yaxis": {
            "backgroundcolor": "#E5ECF6",
            "gridcolor": "white",
            "gridwidth": 2,
            "linecolor": "white",
            "showbackground": true,
            "ticks": "",
            "zerolinecolor": "white"
           },
           "zaxis": {
            "backgroundcolor": "#E5ECF6",
            "gridcolor": "white",
            "gridwidth": 2,
            "linecolor": "white",
            "showbackground": true,
            "ticks": "",
            "zerolinecolor": "white"
           }
          },
          "shapedefaults": {
           "line": {
            "color": "#2a3f5f"
           }
          },
          "ternary": {
           "aaxis": {
            "gridcolor": "white",
            "linecolor": "white",
            "ticks": ""
           },
           "baxis": {
            "gridcolor": "white",
            "linecolor": "white",
            "ticks": ""
           },
           "bgcolor": "#E5ECF6",
           "caxis": {
            "gridcolor": "white",
            "linecolor": "white",
            "ticks": ""
           }
          },
          "title": {
           "x": 0.05
          },
          "xaxis": {
           "automargin": true,
           "gridcolor": "white",
           "linecolor": "white",
           "ticks": "",
           "title": {
            "standoff": 15
           },
           "zerolinecolor": "white",
           "zerolinewidth": 2
          },
          "yaxis": {
           "automargin": true,
           "gridcolor": "white",
           "linecolor": "white",
           "ticks": "",
           "title": {
            "standoff": 15
           },
           "zerolinecolor": "white",
           "zerolinewidth": 2
          }
         }
        },
        "title": {
         "text": "Purchases by Wealth Segment and Age",
         "x": 0.5
        },
        "xaxis": {
         "tickangle": 45,
         "tickprefix": "",
         "title": {
          "text": "Age"
         }
        },
        "yaxis": {
         "tickangle": 45,
         "title": {
          "text": "Bike Related Purchases in the Past 3 Years"
         }
        }
       }
      },
      "text/html": "<div>\n        \n        \n            <div id=\"bc7192de-0c3d-49b1-9844-f5e9de416cdf\" class=\"plotly-graph-div\" style=\"height:525px; width:100%;\"></div>\n            <script type=\"text/javascript\">\n                require([\"plotly\"], function(Plotly) {\n                    window.PLOTLYENV=window.PLOTLYENV || {};\n                    \n                if (document.getElementById(\"bc7192de-0c3d-49b1-9844-f5e9de416cdf\")) {\n                    Plotly.newPlot(\n                        'bc7192de-0c3d-49b1-9844-f5e9de416cdf',\n                        [{\"marker\": {\"color\": \"rgb(102,194,165)\"}, \"name\": \"Affluent Customer\", \"text\": \"Affluent Customer\", \"textposition\": \"auto\", \"type\": \"bar\", \"x\": [\"0-20\", \"21-30\", \"31-40\", \"41-50\", \"51-60\", \">60\"], \"y\": [279, 2364, 1075, 2652, 2010, 3342]}, {\"marker\": {\"color\": \"rgb(252,141,98)\"}, \"name\": \"High Net Worth Customer\", \"text\": \"High Net Worth\", \"textposition\": \"auto\", \"type\": \"bar\", \"x\": [\"0-20\", \"21-30\", \"31-40\", \"41-50\", \"51-60\", \">60\"], \"y\": [331, 2180, 1667, 2468, 2469, 3538]}, {\"marker\": {\"color\": \"rgb(141,160,203)\"}, \"name\": \"Mass Customer\", \"text\": \"Mass Customer\", \"textposition\": \"auto\", \"type\": \"bar\", \"x\": [\"0-20\", \"21-30\", \"31-40\", \"41-50\", \"51-60\", \">60\"], \"y\": [768, 4019, 2987, 5549, 4624, 6655]}],\n                        {\"barmode\": \"group\", \"legend\": {\"x\": 0.01, \"xanchor\": \"left\", \"y\": 0.99, \"yanchor\": \"top\"}, \"template\": {\"data\": {\"bar\": [{\"error_x\": {\"color\": \"#2a3f5f\"}, \"error_y\": {\"color\": \"#2a3f5f\"}, \"marker\": {\"line\": {\"color\": \"#E5ECF6\", \"width\": 0.5}}, \"type\": \"bar\"}], \"barpolar\": [{\"marker\": {\"line\": {\"color\": \"#E5ECF6\", \"width\": 0.5}}, \"type\": \"barpolar\"}], \"carpet\": [{\"aaxis\": {\"endlinecolor\": \"#2a3f5f\", \"gridcolor\": \"white\", \"linecolor\": \"white\", \"minorgridcolor\": \"white\", \"startlinecolor\": \"#2a3f5f\"}, \"baxis\": {\"endlinecolor\": \"#2a3f5f\", \"gridcolor\": \"white\", \"linecolor\": \"white\", \"minorgridcolor\": \"white\", \"startlinecolor\": \"#2a3f5f\"}, \"type\": \"carpet\"}], \"choropleth\": [{\"colorbar\": {\"outlinewidth\": 0, \"ticks\": \"\"}, \"type\": \"choropleth\"}], \"contour\": [{\"colorbar\": {\"outlinewidth\": 0, \"ticks\": \"\"}, \"colorscale\": [[0.0, \"#0d0887\"], [0.1111111111111111, \"#46039f\"], [0.2222222222222222, \"#7201a8\"], [0.3333333333333333, \"#9c179e\"], [0.4444444444444444, \"#bd3786\"], [0.5555555555555556, \"#d8576b\"], [0.6666666666666666, \"#ed7953\"], [0.7777777777777778, \"#fb9f3a\"], [0.8888888888888888, \"#fdca26\"], [1.0, \"#f0f921\"]], \"type\": \"contour\"}], \"contourcarpet\": [{\"colorbar\": {\"outlinewidth\": 0, \"ticks\": \"\"}, \"type\": \"contourcarpet\"}], \"heatmap\": [{\"colorbar\": {\"outlinewidth\": 0, \"ticks\": \"\"}, \"colorscale\": [[0.0, \"#0d0887\"], [0.1111111111111111, \"#46039f\"], [0.2222222222222222, \"#7201a8\"], [0.3333333333333333, \"#9c179e\"], [0.4444444444444444, \"#bd3786\"], [0.5555555555555556, \"#d8576b\"], [0.6666666666666666, \"#ed7953\"], [0.7777777777777778, \"#fb9f3a\"], [0.8888888888888888, \"#fdca26\"], [1.0, \"#f0f921\"]], \"type\": \"heatmap\"}], \"heatmapgl\": [{\"colorbar\": {\"outlinewidth\": 0, \"ticks\": \"\"}, \"colorscale\": [[0.0, \"#0d0887\"], [0.1111111111111111, \"#46039f\"], [0.2222222222222222, \"#7201a8\"], [0.3333333333333333, \"#9c179e\"], [0.4444444444444444, \"#bd3786\"], [0.5555555555555556, \"#d8576b\"], [0.6666666666666666, \"#ed7953\"], [0.7777777777777778, \"#fb9f3a\"], [0.8888888888888888, \"#fdca26\"], [1.0, \"#f0f921\"]], \"type\": \"heatmapgl\"}], \"histogram\": [{\"marker\": {\"colorbar\": {\"outlinewidth\": 0, \"ticks\": \"\"}}, \"type\": \"histogram\"}], \"histogram2d\": [{\"colorbar\": {\"outlinewidth\": 0, \"ticks\": \"\"}, \"colorscale\": [[0.0, \"#0d0887\"], [0.1111111111111111, \"#46039f\"], [0.2222222222222222, \"#7201a8\"], [0.3333333333333333, \"#9c179e\"], [0.4444444444444444, \"#bd3786\"], [0.5555555555555556, \"#d8576b\"], [0.6666666666666666, \"#ed7953\"], [0.7777777777777778, \"#fb9f3a\"], [0.8888888888888888, \"#fdca26\"], [1.0, \"#f0f921\"]], \"type\": \"histogram2d\"}], \"histogram2dcontour\": [{\"colorbar\": {\"outlinewidth\": 0, \"ticks\": \"\"}, \"colorscale\": [[0.0, \"#0d0887\"], [0.1111111111111111, \"#46039f\"], [0.2222222222222222, \"#7201a8\"], [0.3333333333333333, \"#9c179e\"], [0.4444444444444444, \"#bd3786\"], [0.5555555555555556, \"#d8576b\"], [0.6666666666666666, \"#ed7953\"], [0.7777777777777778, \"#fb9f3a\"], [0.8888888888888888, \"#fdca26\"], [1.0, \"#f0f921\"]], \"type\": \"histogram2dcontour\"}], \"mesh3d\": [{\"colorbar\": {\"outlinewidth\": 0, \"ticks\": \"\"}, \"type\": \"mesh3d\"}], \"parcoords\": [{\"line\": {\"colorbar\": {\"outlinewidth\": 0, \"ticks\": \"\"}}, \"type\": \"parcoords\"}], \"pie\": [{\"automargin\": true, \"type\": \"pie\"}], \"scatter\": [{\"marker\": {\"colorbar\": {\"outlinewidth\": 0, \"ticks\": \"\"}}, \"type\": \"scatter\"}], \"scatter3d\": [{\"line\": {\"colorbar\": {\"outlinewidth\": 0, \"ticks\": \"\"}}, \"marker\": {\"colorbar\": {\"outlinewidth\": 0, \"ticks\": \"\"}}, \"type\": \"scatter3d\"}], \"scattercarpet\": [{\"marker\": {\"colorbar\": {\"outlinewidth\": 0, \"ticks\": \"\"}}, \"type\": \"scattercarpet\"}], \"scattergeo\": [{\"marker\": {\"colorbar\": {\"outlinewidth\": 0, \"ticks\": \"\"}}, \"type\": \"scattergeo\"}], \"scattergl\": [{\"marker\": {\"colorbar\": {\"outlinewidth\": 0, \"ticks\": \"\"}}, \"type\": \"scattergl\"}], \"scattermapbox\": [{\"marker\": {\"colorbar\": {\"outlinewidth\": 0, \"ticks\": \"\"}}, \"type\": \"scattermapbox\"}], \"scatterpolar\": [{\"marker\": {\"colorbar\": {\"outlinewidth\": 0, \"ticks\": \"\"}}, \"type\": \"scatterpolar\"}], \"scatterpolargl\": [{\"marker\": {\"colorbar\": {\"outlinewidth\": 0, \"ticks\": \"\"}}, \"type\": \"scatterpolargl\"}], \"scatterternary\": [{\"marker\": {\"colorbar\": {\"outlinewidth\": 0, \"ticks\": \"\"}}, \"type\": \"scatterternary\"}], \"surface\": [{\"colorbar\": {\"outlinewidth\": 0, \"ticks\": \"\"}, \"colorscale\": [[0.0, \"#0d0887\"], [0.1111111111111111, \"#46039f\"], [0.2222222222222222, \"#7201a8\"], [0.3333333333333333, \"#9c179e\"], [0.4444444444444444, \"#bd3786\"], [0.5555555555555556, \"#d8576b\"], [0.6666666666666666, \"#ed7953\"], [0.7777777777777778, \"#fb9f3a\"], [0.8888888888888888, \"#fdca26\"], [1.0, \"#f0f921\"]], \"type\": \"surface\"}], \"table\": [{\"cells\": {\"fill\": {\"color\": \"#EBF0F8\"}, \"line\": {\"color\": \"white\"}}, \"header\": {\"fill\": {\"color\": \"#C8D4E3\"}, \"line\": {\"color\": \"white\"}}, \"type\": \"table\"}]}, \"layout\": {\"annotationdefaults\": {\"arrowcolor\": \"#2a3f5f\", \"arrowhead\": 0, \"arrowwidth\": 1}, \"coloraxis\": {\"colorbar\": {\"outlinewidth\": 0, \"ticks\": \"\"}}, \"colorscale\": {\"diverging\": [[0, \"#8e0152\"], [0.1, \"#c51b7d\"], [0.2, \"#de77ae\"], [0.3, \"#f1b6da\"], [0.4, \"#fde0ef\"], [0.5, \"#f7f7f7\"], [0.6, \"#e6f5d0\"], [0.7, \"#b8e186\"], [0.8, \"#7fbc41\"], [0.9, \"#4d9221\"], [1, \"#276419\"]], \"sequential\": [[0.0, \"#0d0887\"], [0.1111111111111111, \"#46039f\"], [0.2222222222222222, \"#7201a8\"], [0.3333333333333333, \"#9c179e\"], [0.4444444444444444, \"#bd3786\"], [0.5555555555555556, \"#d8576b\"], [0.6666666666666666, \"#ed7953\"], [0.7777777777777778, \"#fb9f3a\"], [0.8888888888888888, \"#fdca26\"], [1.0, \"#f0f921\"]], \"sequentialminus\": [[0.0, \"#0d0887\"], [0.1111111111111111, \"#46039f\"], [0.2222222222222222, \"#7201a8\"], [0.3333333333333333, \"#9c179e\"], [0.4444444444444444, \"#bd3786\"], [0.5555555555555556, \"#d8576b\"], [0.6666666666666666, \"#ed7953\"], [0.7777777777777778, \"#fb9f3a\"], [0.8888888888888888, \"#fdca26\"], [1.0, \"#f0f921\"]]}, \"colorway\": [\"#636efa\", \"#EF553B\", \"#00cc96\", \"#ab63fa\", \"#FFA15A\", \"#19d3f3\", \"#FF6692\", \"#B6E880\", \"#FF97FF\", \"#FECB52\"], \"font\": {\"color\": \"#2a3f5f\"}, \"geo\": {\"bgcolor\": \"white\", \"lakecolor\": \"white\", \"landcolor\": \"#E5ECF6\", \"showlakes\": true, \"showland\": true, \"subunitcolor\": \"white\"}, \"hoverlabel\": {\"align\": \"left\"}, \"hovermode\": \"closest\", \"mapbox\": {\"style\": \"light\"}, \"paper_bgcolor\": \"white\", \"plot_bgcolor\": \"#E5ECF6\", \"polar\": {\"angularaxis\": {\"gridcolor\": \"white\", \"linecolor\": \"white\", \"ticks\": \"\"}, \"bgcolor\": \"#E5ECF6\", \"radialaxis\": {\"gridcolor\": \"white\", \"linecolor\": \"white\", \"ticks\": \"\"}}, \"scene\": {\"xaxis\": {\"backgroundcolor\": \"#E5ECF6\", \"gridcolor\": \"white\", \"gridwidth\": 2, \"linecolor\": \"white\", \"showbackground\": true, \"ticks\": \"\", \"zerolinecolor\": \"white\"}, \"yaxis\": {\"backgroundcolor\": \"#E5ECF6\", \"gridcolor\": \"white\", \"gridwidth\": 2, \"linecolor\": \"white\", \"showbackground\": true, \"ticks\": \"\", \"zerolinecolor\": \"white\"}, \"zaxis\": {\"backgroundcolor\": \"#E5ECF6\", \"gridcolor\": \"white\", \"gridwidth\": 2, \"linecolor\": \"white\", \"showbackground\": true, \"ticks\": \"\", \"zerolinecolor\": \"white\"}}, \"shapedefaults\": {\"line\": {\"color\": \"#2a3f5f\"}}, \"ternary\": {\"aaxis\": {\"gridcolor\": \"white\", \"linecolor\": \"white\", \"ticks\": \"\"}, \"baxis\": {\"gridcolor\": \"white\", \"linecolor\": \"white\", \"ticks\": \"\"}, \"bgcolor\": \"#E5ECF6\", \"caxis\": {\"gridcolor\": \"white\", \"linecolor\": \"white\", \"ticks\": \"\"}}, \"title\": {\"x\": 0.05}, \"xaxis\": {\"automargin\": true, \"gridcolor\": \"white\", \"linecolor\": \"white\", \"ticks\": \"\", \"title\": {\"standoff\": 15}, \"zerolinecolor\": \"white\", \"zerolinewidth\": 2}, \"yaxis\": {\"automargin\": true, \"gridcolor\": \"white\", \"linecolor\": \"white\", \"ticks\": \"\", \"title\": {\"standoff\": 15}, \"zerolinecolor\": \"white\", \"zerolinewidth\": 2}}}, \"title\": {\"text\": \"Purchases by Wealth Segment and Age\", \"x\": 0.5}, \"xaxis\": {\"tickangle\": 45, \"tickprefix\": \"\", \"title\": {\"text\": \"Age\"}}, \"yaxis\": {\"tickangle\": 45, \"title\": {\"text\": \"Bike Related Purchases in the Past 3 Years\"}}},\n                        {\"responsive\": true}\n                    ).then(function(){\n                            \nvar gd = document.getElementById('bc7192de-0c3d-49b1-9844-f5e9de416cdf');\nvar x = new MutationObserver(function (mutations, observer) {{\n        var display = window.getComputedStyle(gd).display;\n        if (!display || display === 'none') {{\n            console.log([gd, 'removed!']);\n            Plotly.purge(gd);\n            observer.disconnect();\n        }}\n}});\n\n// Listen for the removal of the full notebook cells\nvar notebookContainer = gd.closest('#notebook-container');\nif (notebookContainer) {{\n    x.observe(notebookContainer, {childList: true});\n}}\n\n// Listen for the clearing of the current output cell\nvar outputEl = gd.closest('.output');\nif (outputEl) {{\n    x.observe(outputEl, {childList: true});\n}}\n\n                        })\n                };\n                });\n            </script>\n        </div>"
     },
     "metadata": {},
     "output_type": "display_data"
    }
   ],
   "source": [
    "import plotly.express as px # for color setting\n",
    "import plotly.graph_objects as go\n",
    "\n",
    "Affluent_Sales = df_by_wealth_age[\"3y_bike_purchases\"][\"Affluent Customer\"].values\n",
    "HN_Sales = df_by_wealth_age[\"3y_bike_purchases\"][\"High Net Worth\"].values\n",
    "Mass_Sales = df_by_wealth_age[\"3y_bike_purchases\"][\"Mass Customer\"].values\n",
    "\n",
    "fig = go.Figure()\n",
    "fig.add_trace(go.Bar(\n",
    "    x=Age_label,\n",
    "    y=Affluent_Sales,\n",
    "    name='Affluent Customer',\n",
    "    marker_color=px.colors.qualitative.Set2[0],\n",
    "    text=\"Affluent Customer\",\n",
    "    textposition='auto'\n",
    "))\n",
    "fig.add_trace(go.Bar(\n",
    "    x=Age_label,\n",
    "    y=HN_Sales,\n",
    "    name='High Net Worth Customer',\n",
    "    marker_color=px.colors.qualitative.Set2[1],\n",
    "    text=\"High Net Worth\",\n",
    "    textposition='auto'\n",
    "))\n",
    "\n",
    "fig.add_trace(go.Bar(\n",
    "    x=Age_label,\n",
    "    y=Mass_Sales,\n",
    "    name='Mass Customer',\n",
    "    marker_color=px.colors.qualitative.Set2[2],\n",
    "    text=\"Mass Customer\",\n",
    "    textposition='auto'\n",
    "))\n",
    "\n",
    "\n",
    "# Here we modify the tickangle of the xaxis, resulting in rotated labels.\n",
    "fig.update_layout(barmode='group',\n",
    "                  xaxis_tickangle=-45,\n",
    "                  title_text='Purchases by Wealth Segment and Age',\n",
    "                  title_x=0.5,\n",
    "                  legend=dict(\n",
    "                    yanchor=\"top\",\n",
    "                    y=0.99,\n",
    "                    xanchor=\"left\",\n",
    "                    x=0.01),\n",
    "                  yaxis=dict(#tickprefix=\"$\",\n",
    "                             tickangle=45,\n",
    "                             title='Bike Related Purchases in the Past 3 Years'),\n",
    "                  xaxis=dict(tickprefix=\"\",\n",
    "                             tickangle=45,\n",
    "                             title='Age'),\n",
    "\n",
    "                  )\n",
    "fig.show()\n"
   ],
   "metadata": {
    "collapsed": false,
    "pycharm": {
     "name": "#%%\n"
    }
   }
  },
  {
   "cell_type": "markdown",
   "source": [
    "<h1>Wealth Segment by Customer Amount and Age Groups"
   ],
   "metadata": {
    "collapsed": false,
    "pycharm": {
     "name": "#%% md\n"
    }
   }
  },
  {
   "cell_type": "code",
   "execution_count": 204,
   "outputs": [
    {
     "data": {
      "text/plain": "wealth_segment     A_group\nAffluent Customer  0-20        10\n                   21-30       45\n                   31-40       20\n                   41-50       57\n                   51-60       38\n                   >60         65\nHigh Net Worth     0-20         6\n                   21-30       45\n                   31-40       31\n                   41-50       50\n                   51-60       45\n                   >60         72\nMass Customer      0-20        16\n                   21-30       74\n                   31-40       60\n                   41-50      116\n                   51-60       92\n                   >60        141\nName: fname, dtype: int64"
     },
     "execution_count": 204,
     "metadata": {},
     "output_type": "execute_result"
    }
   ],
   "source": [
    "\n",
    "df[['wealth_segment', \"A_group\", \"fname\"]].groupby(['wealth_segment',\"A_group\"])[\"fname\"].count()"
   ],
   "metadata": {
    "collapsed": false,
    "pycharm": {
     "name": "#%%\n"
    }
   }
  },
  {
   "cell_type": "code",
   "execution_count": 205,
   "outputs": [
    {
     "data": {
      "text/plain": "wealth_segment     A_group\nAffluent Customer  0-20        10\n                   21-30       45\n                   31-40       20\n                   41-50       57\n                   51-60       38\n                   >60         65\nHigh Net Worth     0-20         6\n                   21-30       45\n                   31-40       31\n                   41-50       50\n                   51-60       45\n                   >60         72\nMass Customer      0-20        16\n                   21-30       74\n                   31-40       60\n                   41-50      116\n                   51-60       92\n                   >60        141\nName: fname, dtype: int64"
     },
     "execution_count": 205,
     "metadata": {},
     "output_type": "execute_result"
    }
   ],
   "source": [
    "df_by_wealth_ppl = df[['wealth_segment', \"A_group\", \"fname\"]].groupby(['wealth_segment',\"A_group\"])[\"fname\"].count()\n",
    "df_by_wealth_ppl"
   ],
   "metadata": {
    "collapsed": false,
    "pycharm": {
     "name": "#%%\n"
    }
   }
  },
  {
   "cell_type": "code",
   "execution_count": 206,
   "outputs": [
    {
     "data": {
      "text/plain": "       wealth_segment A_group  fname\n0   Affluent Customer    0-20     10\n1   Affluent Customer   21-30     45\n2   Affluent Customer   31-40     20\n3   Affluent Customer   41-50     57\n4   Affluent Customer   51-60     38\n5   Affluent Customer     >60     65\n6      High Net Worth    0-20      6\n7      High Net Worth   21-30     45\n8      High Net Worth   31-40     31\n9      High Net Worth   41-50     50\n10     High Net Worth   51-60     45\n11     High Net Worth     >60     72\n12      Mass Customer    0-20     16\n13      Mass Customer   21-30     74\n14      Mass Customer   31-40     60\n15      Mass Customer   41-50    116\n16      Mass Customer   51-60     92\n17      Mass Customer     >60    141",
      "text/html": "<div>\n<style scoped>\n    .dataframe tbody tr th:only-of-type {\n        vertical-align: middle;\n    }\n\n    .dataframe tbody tr th {\n        vertical-align: top;\n    }\n\n    .dataframe thead th {\n        text-align: right;\n    }\n</style>\n<table border=\"1\" class=\"dataframe\">\n  <thead>\n    <tr style=\"text-align: right;\">\n      <th></th>\n      <th>wealth_segment</th>\n      <th>A_group</th>\n      <th>fname</th>\n    </tr>\n  </thead>\n  <tbody>\n    <tr>\n      <th>0</th>\n      <td>Affluent Customer</td>\n      <td>0-20</td>\n      <td>10</td>\n    </tr>\n    <tr>\n      <th>1</th>\n      <td>Affluent Customer</td>\n      <td>21-30</td>\n      <td>45</td>\n    </tr>\n    <tr>\n      <th>2</th>\n      <td>Affluent Customer</td>\n      <td>31-40</td>\n      <td>20</td>\n    </tr>\n    <tr>\n      <th>3</th>\n      <td>Affluent Customer</td>\n      <td>41-50</td>\n      <td>57</td>\n    </tr>\n    <tr>\n      <th>4</th>\n      <td>Affluent Customer</td>\n      <td>51-60</td>\n      <td>38</td>\n    </tr>\n    <tr>\n      <th>5</th>\n      <td>Affluent Customer</td>\n      <td>&gt;60</td>\n      <td>65</td>\n    </tr>\n    <tr>\n      <th>6</th>\n      <td>High Net Worth</td>\n      <td>0-20</td>\n      <td>6</td>\n    </tr>\n    <tr>\n      <th>7</th>\n      <td>High Net Worth</td>\n      <td>21-30</td>\n      <td>45</td>\n    </tr>\n    <tr>\n      <th>8</th>\n      <td>High Net Worth</td>\n      <td>31-40</td>\n      <td>31</td>\n    </tr>\n    <tr>\n      <th>9</th>\n      <td>High Net Worth</td>\n      <td>41-50</td>\n      <td>50</td>\n    </tr>\n    <tr>\n      <th>10</th>\n      <td>High Net Worth</td>\n      <td>51-60</td>\n      <td>45</td>\n    </tr>\n    <tr>\n      <th>11</th>\n      <td>High Net Worth</td>\n      <td>&gt;60</td>\n      <td>72</td>\n    </tr>\n    <tr>\n      <th>12</th>\n      <td>Mass Customer</td>\n      <td>0-20</td>\n      <td>16</td>\n    </tr>\n    <tr>\n      <th>13</th>\n      <td>Mass Customer</td>\n      <td>21-30</td>\n      <td>74</td>\n    </tr>\n    <tr>\n      <th>14</th>\n      <td>Mass Customer</td>\n      <td>31-40</td>\n      <td>60</td>\n    </tr>\n    <tr>\n      <th>15</th>\n      <td>Mass Customer</td>\n      <td>41-50</td>\n      <td>116</td>\n    </tr>\n    <tr>\n      <th>16</th>\n      <td>Mass Customer</td>\n      <td>51-60</td>\n      <td>92</td>\n    </tr>\n    <tr>\n      <th>17</th>\n      <td>Mass Customer</td>\n      <td>&gt;60</td>\n      <td>141</td>\n    </tr>\n  </tbody>\n</table>\n</div>"
     },
     "execution_count": 206,
     "metadata": {},
     "output_type": "execute_result"
    }
   ],
   "source": [
    "wealth_ppl_flat = df_by_wealth_ppl.reset_index()\n",
    "wealth_ppl_flat"
   ],
   "metadata": {
    "collapsed": false,
    "pycharm": {
     "name": "#%%\n"
    }
   }
  },
  {
   "cell_type": "code",
   "execution_count": 207,
   "outputs": [
    {
     "data": {
      "application/vnd.plotly.v1+json": {
       "config": {
        "plotlyServerURL": "https://plot.ly"
       },
       "data": [
        {
         "alignmentgroup": "True",
         "hoverlabel": {
          "namelength": 0
         },
         "hovertemplate": "Wealth Segment=Affluent Customer<br>Age Groups=%{x}<br>Customer Amount=%{y}",
         "legendgroup": "Affluent Customer",
         "marker": {
          "color": "#636efa"
         },
         "name": "Affluent Customer",
         "offsetgroup": "Affluent Customer",
         "orientation": "v",
         "showlegend": true,
         "textposition": "auto",
         "type": "bar",
         "x": [
          "0-20",
          "21-30",
          "31-40",
          "41-50",
          "51-60",
          ">60"
         ],
         "xaxis": "x",
         "y": [
          10,
          45,
          20,
          57,
          38,
          65
         ],
         "yaxis": "y"
        },
        {
         "alignmentgroup": "True",
         "hoverlabel": {
          "namelength": 0
         },
         "hovertemplate": "Wealth Segment=High Net Worth<br>Age Groups=%{x}<br>Customer Amount=%{y}",
         "legendgroup": "High Net Worth",
         "marker": {
          "color": "#EF553B"
         },
         "name": "High Net Worth",
         "offsetgroup": "High Net Worth",
         "orientation": "v",
         "showlegend": true,
         "textposition": "auto",
         "type": "bar",
         "x": [
          "0-20",
          "21-30",
          "31-40",
          "41-50",
          "51-60",
          ">60"
         ],
         "xaxis": "x",
         "y": [
          6,
          45,
          31,
          50,
          45,
          72
         ],
         "yaxis": "y"
        },
        {
         "alignmentgroup": "True",
         "hoverlabel": {
          "namelength": 0
         },
         "hovertemplate": "Wealth Segment=Mass Customer<br>Age Groups=%{x}<br>Customer Amount=%{y}",
         "legendgroup": "Mass Customer",
         "marker": {
          "color": "#00cc96"
         },
         "name": "Mass Customer",
         "offsetgroup": "Mass Customer",
         "orientation": "v",
         "showlegend": true,
         "textposition": "auto",
         "type": "bar",
         "x": [
          "0-20",
          "21-30",
          "31-40",
          "41-50",
          "51-60",
          ">60"
         ],
         "xaxis": "x",
         "y": [
          16,
          74,
          60,
          116,
          92,
          141
         ],
         "yaxis": "y"
        }
       ],
       "layout": {
        "barmode": "relative",
        "legend": {
         "title": {
          "text": "Wealth Segment"
         },
         "tracegroupgap": 0
        },
        "template": {
         "data": {
          "bar": [
           {
            "error_x": {
             "color": "#2a3f5f"
            },
            "error_y": {
             "color": "#2a3f5f"
            },
            "marker": {
             "line": {
              "color": "#E5ECF6",
              "width": 0.5
             }
            },
            "type": "bar"
           }
          ],
          "barpolar": [
           {
            "marker": {
             "line": {
              "color": "#E5ECF6",
              "width": 0.5
             }
            },
            "type": "barpolar"
           }
          ],
          "carpet": [
           {
            "aaxis": {
             "endlinecolor": "#2a3f5f",
             "gridcolor": "white",
             "linecolor": "white",
             "minorgridcolor": "white",
             "startlinecolor": "#2a3f5f"
            },
            "baxis": {
             "endlinecolor": "#2a3f5f",
             "gridcolor": "white",
             "linecolor": "white",
             "minorgridcolor": "white",
             "startlinecolor": "#2a3f5f"
            },
            "type": "carpet"
           }
          ],
          "choropleth": [
           {
            "colorbar": {
             "outlinewidth": 0,
             "ticks": ""
            },
            "type": "choropleth"
           }
          ],
          "contour": [
           {
            "colorbar": {
             "outlinewidth": 0,
             "ticks": ""
            },
            "colorscale": [
             [
              0.0,
              "#0d0887"
             ],
             [
              0.1111111111111111,
              "#46039f"
             ],
             [
              0.2222222222222222,
              "#7201a8"
             ],
             [
              0.3333333333333333,
              "#9c179e"
             ],
             [
              0.4444444444444444,
              "#bd3786"
             ],
             [
              0.5555555555555556,
              "#d8576b"
             ],
             [
              0.6666666666666666,
              "#ed7953"
             ],
             [
              0.7777777777777778,
              "#fb9f3a"
             ],
             [
              0.8888888888888888,
              "#fdca26"
             ],
             [
              1.0,
              "#f0f921"
             ]
            ],
            "type": "contour"
           }
          ],
          "contourcarpet": [
           {
            "colorbar": {
             "outlinewidth": 0,
             "ticks": ""
            },
            "type": "contourcarpet"
           }
          ],
          "heatmap": [
           {
            "colorbar": {
             "outlinewidth": 0,
             "ticks": ""
            },
            "colorscale": [
             [
              0.0,
              "#0d0887"
             ],
             [
              0.1111111111111111,
              "#46039f"
             ],
             [
              0.2222222222222222,
              "#7201a8"
             ],
             [
              0.3333333333333333,
              "#9c179e"
             ],
             [
              0.4444444444444444,
              "#bd3786"
             ],
             [
              0.5555555555555556,
              "#d8576b"
             ],
             [
              0.6666666666666666,
              "#ed7953"
             ],
             [
              0.7777777777777778,
              "#fb9f3a"
             ],
             [
              0.8888888888888888,
              "#fdca26"
             ],
             [
              1.0,
              "#f0f921"
             ]
            ],
            "type": "heatmap"
           }
          ],
          "heatmapgl": [
           {
            "colorbar": {
             "outlinewidth": 0,
             "ticks": ""
            },
            "colorscale": [
             [
              0.0,
              "#0d0887"
             ],
             [
              0.1111111111111111,
              "#46039f"
             ],
             [
              0.2222222222222222,
              "#7201a8"
             ],
             [
              0.3333333333333333,
              "#9c179e"
             ],
             [
              0.4444444444444444,
              "#bd3786"
             ],
             [
              0.5555555555555556,
              "#d8576b"
             ],
             [
              0.6666666666666666,
              "#ed7953"
             ],
             [
              0.7777777777777778,
              "#fb9f3a"
             ],
             [
              0.8888888888888888,
              "#fdca26"
             ],
             [
              1.0,
              "#f0f921"
             ]
            ],
            "type": "heatmapgl"
           }
          ],
          "histogram": [
           {
            "marker": {
             "colorbar": {
              "outlinewidth": 0,
              "ticks": ""
             }
            },
            "type": "histogram"
           }
          ],
          "histogram2d": [
           {
            "colorbar": {
             "outlinewidth": 0,
             "ticks": ""
            },
            "colorscale": [
             [
              0.0,
              "#0d0887"
             ],
             [
              0.1111111111111111,
              "#46039f"
             ],
             [
              0.2222222222222222,
              "#7201a8"
             ],
             [
              0.3333333333333333,
              "#9c179e"
             ],
             [
              0.4444444444444444,
              "#bd3786"
             ],
             [
              0.5555555555555556,
              "#d8576b"
             ],
             [
              0.6666666666666666,
              "#ed7953"
             ],
             [
              0.7777777777777778,
              "#fb9f3a"
             ],
             [
              0.8888888888888888,
              "#fdca26"
             ],
             [
              1.0,
              "#f0f921"
             ]
            ],
            "type": "histogram2d"
           }
          ],
          "histogram2dcontour": [
           {
            "colorbar": {
             "outlinewidth": 0,
             "ticks": ""
            },
            "colorscale": [
             [
              0.0,
              "#0d0887"
             ],
             [
              0.1111111111111111,
              "#46039f"
             ],
             [
              0.2222222222222222,
              "#7201a8"
             ],
             [
              0.3333333333333333,
              "#9c179e"
             ],
             [
              0.4444444444444444,
              "#bd3786"
             ],
             [
              0.5555555555555556,
              "#d8576b"
             ],
             [
              0.6666666666666666,
              "#ed7953"
             ],
             [
              0.7777777777777778,
              "#fb9f3a"
             ],
             [
              0.8888888888888888,
              "#fdca26"
             ],
             [
              1.0,
              "#f0f921"
             ]
            ],
            "type": "histogram2dcontour"
           }
          ],
          "mesh3d": [
           {
            "colorbar": {
             "outlinewidth": 0,
             "ticks": ""
            },
            "type": "mesh3d"
           }
          ],
          "parcoords": [
           {
            "line": {
             "colorbar": {
              "outlinewidth": 0,
              "ticks": ""
             }
            },
            "type": "parcoords"
           }
          ],
          "pie": [
           {
            "automargin": true,
            "type": "pie"
           }
          ],
          "scatter": [
           {
            "marker": {
             "colorbar": {
              "outlinewidth": 0,
              "ticks": ""
             }
            },
            "type": "scatter"
           }
          ],
          "scatter3d": [
           {
            "line": {
             "colorbar": {
              "outlinewidth": 0,
              "ticks": ""
             }
            },
            "marker": {
             "colorbar": {
              "outlinewidth": 0,
              "ticks": ""
             }
            },
            "type": "scatter3d"
           }
          ],
          "scattercarpet": [
           {
            "marker": {
             "colorbar": {
              "outlinewidth": 0,
              "ticks": ""
             }
            },
            "type": "scattercarpet"
           }
          ],
          "scattergeo": [
           {
            "marker": {
             "colorbar": {
              "outlinewidth": 0,
              "ticks": ""
             }
            },
            "type": "scattergeo"
           }
          ],
          "scattergl": [
           {
            "marker": {
             "colorbar": {
              "outlinewidth": 0,
              "ticks": ""
             }
            },
            "type": "scattergl"
           }
          ],
          "scattermapbox": [
           {
            "marker": {
             "colorbar": {
              "outlinewidth": 0,
              "ticks": ""
             }
            },
            "type": "scattermapbox"
           }
          ],
          "scatterpolar": [
           {
            "marker": {
             "colorbar": {
              "outlinewidth": 0,
              "ticks": ""
             }
            },
            "type": "scatterpolar"
           }
          ],
          "scatterpolargl": [
           {
            "marker": {
             "colorbar": {
              "outlinewidth": 0,
              "ticks": ""
             }
            },
            "type": "scatterpolargl"
           }
          ],
          "scatterternary": [
           {
            "marker": {
             "colorbar": {
              "outlinewidth": 0,
              "ticks": ""
             }
            },
            "type": "scatterternary"
           }
          ],
          "surface": [
           {
            "colorbar": {
             "outlinewidth": 0,
             "ticks": ""
            },
            "colorscale": [
             [
              0.0,
              "#0d0887"
             ],
             [
              0.1111111111111111,
              "#46039f"
             ],
             [
              0.2222222222222222,
              "#7201a8"
             ],
             [
              0.3333333333333333,
              "#9c179e"
             ],
             [
              0.4444444444444444,
              "#bd3786"
             ],
             [
              0.5555555555555556,
              "#d8576b"
             ],
             [
              0.6666666666666666,
              "#ed7953"
             ],
             [
              0.7777777777777778,
              "#fb9f3a"
             ],
             [
              0.8888888888888888,
              "#fdca26"
             ],
             [
              1.0,
              "#f0f921"
             ]
            ],
            "type": "surface"
           }
          ],
          "table": [
           {
            "cells": {
             "fill": {
              "color": "#EBF0F8"
             },
             "line": {
              "color": "white"
             }
            },
            "header": {
             "fill": {
              "color": "#C8D4E3"
             },
             "line": {
              "color": "white"
             }
            },
            "type": "table"
           }
          ]
         },
         "layout": {
          "annotationdefaults": {
           "arrowcolor": "#2a3f5f",
           "arrowhead": 0,
           "arrowwidth": 1
          },
          "coloraxis": {
           "colorbar": {
            "outlinewidth": 0,
            "ticks": ""
           }
          },
          "colorscale": {
           "diverging": [
            [
             0,
             "#8e0152"
            ],
            [
             0.1,
             "#c51b7d"
            ],
            [
             0.2,
             "#de77ae"
            ],
            [
             0.3,
             "#f1b6da"
            ],
            [
             0.4,
             "#fde0ef"
            ],
            [
             0.5,
             "#f7f7f7"
            ],
            [
             0.6,
             "#e6f5d0"
            ],
            [
             0.7,
             "#b8e186"
            ],
            [
             0.8,
             "#7fbc41"
            ],
            [
             0.9,
             "#4d9221"
            ],
            [
             1,
             "#276419"
            ]
           ],
           "sequential": [
            [
             0.0,
             "#0d0887"
            ],
            [
             0.1111111111111111,
             "#46039f"
            ],
            [
             0.2222222222222222,
             "#7201a8"
            ],
            [
             0.3333333333333333,
             "#9c179e"
            ],
            [
             0.4444444444444444,
             "#bd3786"
            ],
            [
             0.5555555555555556,
             "#d8576b"
            ],
            [
             0.6666666666666666,
             "#ed7953"
            ],
            [
             0.7777777777777778,
             "#fb9f3a"
            ],
            [
             0.8888888888888888,
             "#fdca26"
            ],
            [
             1.0,
             "#f0f921"
            ]
           ],
           "sequentialminus": [
            [
             0.0,
             "#0d0887"
            ],
            [
             0.1111111111111111,
             "#46039f"
            ],
            [
             0.2222222222222222,
             "#7201a8"
            ],
            [
             0.3333333333333333,
             "#9c179e"
            ],
            [
             0.4444444444444444,
             "#bd3786"
            ],
            [
             0.5555555555555556,
             "#d8576b"
            ],
            [
             0.6666666666666666,
             "#ed7953"
            ],
            [
             0.7777777777777778,
             "#fb9f3a"
            ],
            [
             0.8888888888888888,
             "#fdca26"
            ],
            [
             1.0,
             "#f0f921"
            ]
           ]
          },
          "colorway": [
           "#636efa",
           "#EF553B",
           "#00cc96",
           "#ab63fa",
           "#FFA15A",
           "#19d3f3",
           "#FF6692",
           "#B6E880",
           "#FF97FF",
           "#FECB52"
          ],
          "font": {
           "color": "#2a3f5f"
          },
          "geo": {
           "bgcolor": "white",
           "lakecolor": "white",
           "landcolor": "#E5ECF6",
           "showlakes": true,
           "showland": true,
           "subunitcolor": "white"
          },
          "hoverlabel": {
           "align": "left"
          },
          "hovermode": "closest",
          "mapbox": {
           "style": "light"
          },
          "paper_bgcolor": "white",
          "plot_bgcolor": "#E5ECF6",
          "polar": {
           "angularaxis": {
            "gridcolor": "white",
            "linecolor": "white",
            "ticks": ""
           },
           "bgcolor": "#E5ECF6",
           "radialaxis": {
            "gridcolor": "white",
            "linecolor": "white",
            "ticks": ""
           }
          },
          "scene": {
           "xaxis": {
            "backgroundcolor": "#E5ECF6",
            "gridcolor": "white",
            "gridwidth": 2,
            "linecolor": "white",
            "showbackground": true,
            "ticks": "",
            "zerolinecolor": "white"
           },
           "yaxis": {
            "backgroundcolor": "#E5ECF6",
            "gridcolor": "white",
            "gridwidth": 2,
            "linecolor": "white",
            "showbackground": true,
            "ticks": "",
            "zerolinecolor": "white"
           },
           "zaxis": {
            "backgroundcolor": "#E5ECF6",
            "gridcolor": "white",
            "gridwidth": 2,
            "linecolor": "white",
            "showbackground": true,
            "ticks": "",
            "zerolinecolor": "white"
           }
          },
          "shapedefaults": {
           "line": {
            "color": "#2a3f5f"
           }
          },
          "ternary": {
           "aaxis": {
            "gridcolor": "white",
            "linecolor": "white",
            "ticks": ""
           },
           "baxis": {
            "gridcolor": "white",
            "linecolor": "white",
            "ticks": ""
           },
           "bgcolor": "#E5ECF6",
           "caxis": {
            "gridcolor": "white",
            "linecolor": "white",
            "ticks": ""
           }
          },
          "title": {
           "x": 0.05
          },
          "xaxis": {
           "automargin": true,
           "gridcolor": "white",
           "linecolor": "white",
           "ticks": "",
           "title": {
            "standoff": 15
           },
           "zerolinecolor": "white",
           "zerolinewidth": 2
          },
          "yaxis": {
           "automargin": true,
           "gridcolor": "white",
           "linecolor": "white",
           "ticks": "",
           "title": {
            "standoff": 15
           },
           "zerolinecolor": "white",
           "zerolinewidth": 2
          }
         }
        },
        "title": {
         "text": "Wealth Segment by Customer Amount and Age Groups"
        },
        "xaxis": {
         "anchor": "y",
         "domain": [
          0.0,
          1.0
         ],
         "title": {
          "text": "Age Groups"
         }
        },
        "yaxis": {
         "anchor": "x",
         "domain": [
          0.0,
          1.0
         ],
         "title": {
          "text": "Customer Amount"
         }
        }
       }
      },
      "text/html": "<div>\n        \n        \n            <div id=\"4f8dc4a8-cad3-4217-9f19-380523234a09\" class=\"plotly-graph-div\" style=\"height:525px; width:100%;\"></div>\n            <script type=\"text/javascript\">\n                require([\"plotly\"], function(Plotly) {\n                    window.PLOTLYENV=window.PLOTLYENV || {};\n                    \n                if (document.getElementById(\"4f8dc4a8-cad3-4217-9f19-380523234a09\")) {\n                    Plotly.newPlot(\n                        '4f8dc4a8-cad3-4217-9f19-380523234a09',\n                        [{\"alignmentgroup\": \"True\", \"hoverlabel\": {\"namelength\": 0}, \"hovertemplate\": \"Wealth Segment=Affluent Customer<br>Age Groups=%{x}<br>Customer Amount=%{y}\", \"legendgroup\": \"Affluent Customer\", \"marker\": {\"color\": \"#636efa\"}, \"name\": \"Affluent Customer\", \"offsetgroup\": \"Affluent Customer\", \"orientation\": \"v\", \"showlegend\": true, \"textposition\": \"auto\", \"type\": \"bar\", \"x\": [\"0-20\", \"21-30\", \"31-40\", \"41-50\", \"51-60\", \">60\"], \"xaxis\": \"x\", \"y\": [10, 45, 20, 57, 38, 65], \"yaxis\": \"y\"}, {\"alignmentgroup\": \"True\", \"hoverlabel\": {\"namelength\": 0}, \"hovertemplate\": \"Wealth Segment=High Net Worth<br>Age Groups=%{x}<br>Customer Amount=%{y}\", \"legendgroup\": \"High Net Worth\", \"marker\": {\"color\": \"#EF553B\"}, \"name\": \"High Net Worth\", \"offsetgroup\": \"High Net Worth\", \"orientation\": \"v\", \"showlegend\": true, \"textposition\": \"auto\", \"type\": \"bar\", \"x\": [\"0-20\", \"21-30\", \"31-40\", \"41-50\", \"51-60\", \">60\"], \"xaxis\": \"x\", \"y\": [6, 45, 31, 50, 45, 72], \"yaxis\": \"y\"}, {\"alignmentgroup\": \"True\", \"hoverlabel\": {\"namelength\": 0}, \"hovertemplate\": \"Wealth Segment=Mass Customer<br>Age Groups=%{x}<br>Customer Amount=%{y}\", \"legendgroup\": \"Mass Customer\", \"marker\": {\"color\": \"#00cc96\"}, \"name\": \"Mass Customer\", \"offsetgroup\": \"Mass Customer\", \"orientation\": \"v\", \"showlegend\": true, \"textposition\": \"auto\", \"type\": \"bar\", \"x\": [\"0-20\", \"21-30\", \"31-40\", \"41-50\", \"51-60\", \">60\"], \"xaxis\": \"x\", \"y\": [16, 74, 60, 116, 92, 141], \"yaxis\": \"y\"}],\n                        {\"barmode\": \"relative\", \"legend\": {\"title\": {\"text\": \"Wealth Segment\"}, \"tracegroupgap\": 0}, \"template\": {\"data\": {\"bar\": [{\"error_x\": {\"color\": \"#2a3f5f\"}, \"error_y\": {\"color\": \"#2a3f5f\"}, \"marker\": {\"line\": {\"color\": \"#E5ECF6\", \"width\": 0.5}}, \"type\": \"bar\"}], \"barpolar\": [{\"marker\": {\"line\": {\"color\": \"#E5ECF6\", \"width\": 0.5}}, \"type\": \"barpolar\"}], \"carpet\": [{\"aaxis\": {\"endlinecolor\": \"#2a3f5f\", \"gridcolor\": \"white\", \"linecolor\": \"white\", \"minorgridcolor\": \"white\", \"startlinecolor\": \"#2a3f5f\"}, \"baxis\": {\"endlinecolor\": \"#2a3f5f\", \"gridcolor\": \"white\", \"linecolor\": \"white\", \"minorgridcolor\": \"white\", \"startlinecolor\": \"#2a3f5f\"}, \"type\": \"carpet\"}], \"choropleth\": [{\"colorbar\": {\"outlinewidth\": 0, \"ticks\": \"\"}, \"type\": \"choropleth\"}], \"contour\": [{\"colorbar\": {\"outlinewidth\": 0, \"ticks\": \"\"}, \"colorscale\": [[0.0, \"#0d0887\"], [0.1111111111111111, \"#46039f\"], [0.2222222222222222, \"#7201a8\"], [0.3333333333333333, \"#9c179e\"], [0.4444444444444444, \"#bd3786\"], [0.5555555555555556, \"#d8576b\"], [0.6666666666666666, \"#ed7953\"], [0.7777777777777778, \"#fb9f3a\"], [0.8888888888888888, \"#fdca26\"], [1.0, \"#f0f921\"]], \"type\": \"contour\"}], \"contourcarpet\": [{\"colorbar\": {\"outlinewidth\": 0, \"ticks\": \"\"}, \"type\": \"contourcarpet\"}], \"heatmap\": [{\"colorbar\": {\"outlinewidth\": 0, \"ticks\": \"\"}, \"colorscale\": [[0.0, \"#0d0887\"], [0.1111111111111111, \"#46039f\"], [0.2222222222222222, \"#7201a8\"], [0.3333333333333333, \"#9c179e\"], [0.4444444444444444, \"#bd3786\"], [0.5555555555555556, \"#d8576b\"], [0.6666666666666666, \"#ed7953\"], [0.7777777777777778, \"#fb9f3a\"], [0.8888888888888888, \"#fdca26\"], [1.0, \"#f0f921\"]], \"type\": \"heatmap\"}], \"heatmapgl\": [{\"colorbar\": {\"outlinewidth\": 0, \"ticks\": \"\"}, \"colorscale\": [[0.0, \"#0d0887\"], [0.1111111111111111, \"#46039f\"], [0.2222222222222222, \"#7201a8\"], [0.3333333333333333, \"#9c179e\"], [0.4444444444444444, \"#bd3786\"], [0.5555555555555556, \"#d8576b\"], [0.6666666666666666, \"#ed7953\"], [0.7777777777777778, \"#fb9f3a\"], [0.8888888888888888, \"#fdca26\"], [1.0, \"#f0f921\"]], \"type\": \"heatmapgl\"}], \"histogram\": [{\"marker\": {\"colorbar\": {\"outlinewidth\": 0, \"ticks\": \"\"}}, \"type\": \"histogram\"}], \"histogram2d\": [{\"colorbar\": {\"outlinewidth\": 0, \"ticks\": \"\"}, \"colorscale\": [[0.0, \"#0d0887\"], [0.1111111111111111, \"#46039f\"], [0.2222222222222222, \"#7201a8\"], [0.3333333333333333, \"#9c179e\"], [0.4444444444444444, \"#bd3786\"], [0.5555555555555556, \"#d8576b\"], [0.6666666666666666, \"#ed7953\"], [0.7777777777777778, \"#fb9f3a\"], [0.8888888888888888, \"#fdca26\"], [1.0, \"#f0f921\"]], \"type\": \"histogram2d\"}], \"histogram2dcontour\": [{\"colorbar\": {\"outlinewidth\": 0, \"ticks\": \"\"}, \"colorscale\": [[0.0, \"#0d0887\"], [0.1111111111111111, \"#46039f\"], [0.2222222222222222, \"#7201a8\"], [0.3333333333333333, \"#9c179e\"], [0.4444444444444444, \"#bd3786\"], [0.5555555555555556, \"#d8576b\"], [0.6666666666666666, \"#ed7953\"], [0.7777777777777778, \"#fb9f3a\"], [0.8888888888888888, \"#fdca26\"], [1.0, \"#f0f921\"]], \"type\": \"histogram2dcontour\"}], \"mesh3d\": [{\"colorbar\": {\"outlinewidth\": 0, \"ticks\": \"\"}, \"type\": \"mesh3d\"}], \"parcoords\": [{\"line\": {\"colorbar\": {\"outlinewidth\": 0, \"ticks\": \"\"}}, \"type\": \"parcoords\"}], \"pie\": [{\"automargin\": true, \"type\": \"pie\"}], \"scatter\": [{\"marker\": {\"colorbar\": {\"outlinewidth\": 0, \"ticks\": \"\"}}, \"type\": \"scatter\"}], \"scatter3d\": [{\"line\": {\"colorbar\": {\"outlinewidth\": 0, \"ticks\": \"\"}}, \"marker\": {\"colorbar\": {\"outlinewidth\": 0, \"ticks\": \"\"}}, \"type\": \"scatter3d\"}], \"scattercarpet\": [{\"marker\": {\"colorbar\": {\"outlinewidth\": 0, \"ticks\": \"\"}}, \"type\": \"scattercarpet\"}], \"scattergeo\": [{\"marker\": {\"colorbar\": {\"outlinewidth\": 0, \"ticks\": \"\"}}, \"type\": \"scattergeo\"}], \"scattergl\": [{\"marker\": {\"colorbar\": {\"outlinewidth\": 0, \"ticks\": \"\"}}, \"type\": \"scattergl\"}], \"scattermapbox\": [{\"marker\": {\"colorbar\": {\"outlinewidth\": 0, \"ticks\": \"\"}}, \"type\": \"scattermapbox\"}], \"scatterpolar\": [{\"marker\": {\"colorbar\": {\"outlinewidth\": 0, \"ticks\": \"\"}}, \"type\": \"scatterpolar\"}], \"scatterpolargl\": [{\"marker\": {\"colorbar\": {\"outlinewidth\": 0, \"ticks\": \"\"}}, \"type\": \"scatterpolargl\"}], \"scatterternary\": [{\"marker\": {\"colorbar\": {\"outlinewidth\": 0, \"ticks\": \"\"}}, \"type\": \"scatterternary\"}], \"surface\": [{\"colorbar\": {\"outlinewidth\": 0, \"ticks\": \"\"}, \"colorscale\": [[0.0, \"#0d0887\"], [0.1111111111111111, \"#46039f\"], [0.2222222222222222, \"#7201a8\"], [0.3333333333333333, \"#9c179e\"], [0.4444444444444444, \"#bd3786\"], [0.5555555555555556, \"#d8576b\"], [0.6666666666666666, \"#ed7953\"], [0.7777777777777778, \"#fb9f3a\"], [0.8888888888888888, \"#fdca26\"], [1.0, \"#f0f921\"]], \"type\": \"surface\"}], \"table\": [{\"cells\": {\"fill\": {\"color\": \"#EBF0F8\"}, \"line\": {\"color\": \"white\"}}, \"header\": {\"fill\": {\"color\": \"#C8D4E3\"}, \"line\": {\"color\": \"white\"}}, \"type\": \"table\"}]}, \"layout\": {\"annotationdefaults\": {\"arrowcolor\": \"#2a3f5f\", \"arrowhead\": 0, \"arrowwidth\": 1}, \"coloraxis\": {\"colorbar\": {\"outlinewidth\": 0, \"ticks\": \"\"}}, \"colorscale\": {\"diverging\": [[0, \"#8e0152\"], [0.1, \"#c51b7d\"], [0.2, \"#de77ae\"], [0.3, \"#f1b6da\"], [0.4, \"#fde0ef\"], [0.5, \"#f7f7f7\"], [0.6, \"#e6f5d0\"], [0.7, \"#b8e186\"], [0.8, \"#7fbc41\"], [0.9, \"#4d9221\"], [1, \"#276419\"]], \"sequential\": [[0.0, \"#0d0887\"], [0.1111111111111111, \"#46039f\"], [0.2222222222222222, \"#7201a8\"], [0.3333333333333333, \"#9c179e\"], [0.4444444444444444, \"#bd3786\"], [0.5555555555555556, \"#d8576b\"], [0.6666666666666666, \"#ed7953\"], [0.7777777777777778, \"#fb9f3a\"], [0.8888888888888888, \"#fdca26\"], [1.0, \"#f0f921\"]], \"sequentialminus\": [[0.0, \"#0d0887\"], [0.1111111111111111, \"#46039f\"], [0.2222222222222222, \"#7201a8\"], [0.3333333333333333, \"#9c179e\"], [0.4444444444444444, \"#bd3786\"], [0.5555555555555556, \"#d8576b\"], [0.6666666666666666, \"#ed7953\"], [0.7777777777777778, \"#fb9f3a\"], [0.8888888888888888, \"#fdca26\"], [1.0, \"#f0f921\"]]}, \"colorway\": [\"#636efa\", \"#EF553B\", \"#00cc96\", \"#ab63fa\", \"#FFA15A\", \"#19d3f3\", \"#FF6692\", \"#B6E880\", \"#FF97FF\", \"#FECB52\"], \"font\": {\"color\": \"#2a3f5f\"}, \"geo\": {\"bgcolor\": \"white\", \"lakecolor\": \"white\", \"landcolor\": \"#E5ECF6\", \"showlakes\": true, \"showland\": true, \"subunitcolor\": \"white\"}, \"hoverlabel\": {\"align\": \"left\"}, \"hovermode\": \"closest\", \"mapbox\": {\"style\": \"light\"}, \"paper_bgcolor\": \"white\", \"plot_bgcolor\": \"#E5ECF6\", \"polar\": {\"angularaxis\": {\"gridcolor\": \"white\", \"linecolor\": \"white\", \"ticks\": \"\"}, \"bgcolor\": \"#E5ECF6\", \"radialaxis\": {\"gridcolor\": \"white\", \"linecolor\": \"white\", \"ticks\": \"\"}}, \"scene\": {\"xaxis\": {\"backgroundcolor\": \"#E5ECF6\", \"gridcolor\": \"white\", \"gridwidth\": 2, \"linecolor\": \"white\", \"showbackground\": true, \"ticks\": \"\", \"zerolinecolor\": \"white\"}, \"yaxis\": {\"backgroundcolor\": \"#E5ECF6\", \"gridcolor\": \"white\", \"gridwidth\": 2, \"linecolor\": \"white\", \"showbackground\": true, \"ticks\": \"\", \"zerolinecolor\": \"white\"}, \"zaxis\": {\"backgroundcolor\": \"#E5ECF6\", \"gridcolor\": \"white\", \"gridwidth\": 2, \"linecolor\": \"white\", \"showbackground\": true, \"ticks\": \"\", \"zerolinecolor\": \"white\"}}, \"shapedefaults\": {\"line\": {\"color\": \"#2a3f5f\"}}, \"ternary\": {\"aaxis\": {\"gridcolor\": \"white\", \"linecolor\": \"white\", \"ticks\": \"\"}, \"baxis\": {\"gridcolor\": \"white\", \"linecolor\": \"white\", \"ticks\": \"\"}, \"bgcolor\": \"#E5ECF6\", \"caxis\": {\"gridcolor\": \"white\", \"linecolor\": \"white\", \"ticks\": \"\"}}, \"title\": {\"x\": 0.05}, \"xaxis\": {\"automargin\": true, \"gridcolor\": \"white\", \"linecolor\": \"white\", \"ticks\": \"\", \"title\": {\"standoff\": 15}, \"zerolinecolor\": \"white\", \"zerolinewidth\": 2}, \"yaxis\": {\"automargin\": true, \"gridcolor\": \"white\", \"linecolor\": \"white\", \"ticks\": \"\", \"title\": {\"standoff\": 15}, \"zerolinecolor\": \"white\", \"zerolinewidth\": 2}}}, \"title\": {\"text\": \"Wealth Segment by Customer Amount and Age Groups\"}, \"xaxis\": {\"anchor\": \"y\", \"domain\": [0.0, 1.0], \"title\": {\"text\": \"Age Groups\"}}, \"yaxis\": {\"anchor\": \"x\", \"domain\": [0.0, 1.0], \"title\": {\"text\": \"Customer Amount\"}}},\n                        {\"responsive\": true}\n                    ).then(function(){\n                            \nvar gd = document.getElementById('4f8dc4a8-cad3-4217-9f19-380523234a09');\nvar x = new MutationObserver(function (mutations, observer) {{\n        var display = window.getComputedStyle(gd).display;\n        if (!display || display === 'none') {{\n            console.log([gd, 'removed!']);\n            Plotly.purge(gd);\n            observer.disconnect();\n        }}\n}});\n\n// Listen for the removal of the full notebook cells\nvar notebookContainer = gd.closest('#notebook-container');\nif (notebookContainer) {{\n    x.observe(notebookContainer, {childList: true});\n}}\n\n// Listen for the clearing of the current output cell\nvar outputEl = gd.closest('.output');\nif (outputEl) {{\n    x.observe(outputEl, {childList: true});\n}}\n\n                        })\n                };\n                });\n            </script>\n        </div>"
     },
     "metadata": {},
     "output_type": "display_data"
    }
   ],
   "source": [
    "import plotly.express as px\n",
    "\n",
    "\n",
    "fig = px.bar(wealth_ppl_flat,\n",
    "             x=\"A_group\",\n",
    "             y=\"fname\",\n",
    "             color=\"wealth_segment\",\n",
    "             title=\"Wealth Segment by Customer Amount and Age Groups\",\n",
    "             labels={'fname':'Customer Amount',\n",
    "                     'A_group':'Age Groups',\n",
    "                     'wealth_segment':'Wealth Segment'},\n",
    "             #text=Age_label,\n",
    "\n",
    "             )\n",
    "fig.show()\n"
   ],
   "metadata": {
    "collapsed": false,
    "pycharm": {
     "name": "#%%\n"
    }
   }
  },
  {
   "cell_type": "markdown",
   "source": [
    "<h1>Car Owner Investigation"
   ],
   "metadata": {
    "collapsed": false,
    "pycharm": {
     "name": "#%% md\n"
    }
   }
  },
  {
   "cell_type": "code",
   "execution_count": 208,
   "outputs": [
    {
     "data": {
      "text/plain": "     fname      lname  gender  3y_bike_purchases        DOB  \\\n0  Chickie    Brister    Male                 86 1957-07-12   \n3   Lucine      Stutt  Female                 64 1979-01-28   \n5    Druci    Brandli  Female                 39 1951-04-29   \n7   Nancie       Vian  Female                 74 1972-12-27   \n8     Duff  Karlowicz    Male                 50 1972-04-28   \n\n                             JT       Category     wealth_segment D_Indicator  \\\n0               General Manager  Manufacturing      Mass Customer           N   \n3    Account Representative III  Manufacturing  Affluent Customer           N   \n5       Assistant Media Planner  Entertainment     High Net Worth           N   \n7  Human Resources Assistant II         Retail      Mass Customer           N   \n8            Speech Pathologist  Manufacturing      Mass Customer           N   \n\n  owns_car  ...  property_valuation Unnamed: 16  Unnamed: 17 Unnamed: 18  \\\n0      Yes  ...                   6        0.56         0.70        0.88   \n3      Yes  ...                   1        0.87         1.09        1.09   \n5      Yes  ...                   7        0.43         0.54        0.54   \n7      Yes  ...                   5        0.58         0.72        0.72   \n8      Yes  ...                  10        1.03         1.29        1.61   \n\n  Unnamed: 19  Unnamed: 20  Rank  Value   Age  A_group  \n0        0.74            1     1   1.72 63.05      >60  \n3        1.09            4     4   1.70 41.50    41-50  \n5        0.54            6     6   1.67 69.26      >60  \n7        0.62            8     8   1.66 47.59    41-50  \n8        1.37            8     8   1.66 48.26    41-50  \n\n[5 rows x 25 columns]",
      "text/html": "<div>\n<style scoped>\n    .dataframe tbody tr th:only-of-type {\n        vertical-align: middle;\n    }\n\n    .dataframe tbody tr th {\n        vertical-align: top;\n    }\n\n    .dataframe thead th {\n        text-align: right;\n    }\n</style>\n<table border=\"1\" class=\"dataframe\">\n  <thead>\n    <tr style=\"text-align: right;\">\n      <th></th>\n      <th>fname</th>\n      <th>lname</th>\n      <th>gender</th>\n      <th>3y_bike_purchases</th>\n      <th>DOB</th>\n      <th>JT</th>\n      <th>Category</th>\n      <th>wealth_segment</th>\n      <th>D_Indicator</th>\n      <th>owns_car</th>\n      <th>...</th>\n      <th>property_valuation</th>\n      <th>Unnamed: 16</th>\n      <th>Unnamed: 17</th>\n      <th>Unnamed: 18</th>\n      <th>Unnamed: 19</th>\n      <th>Unnamed: 20</th>\n      <th>Rank</th>\n      <th>Value</th>\n      <th>Age</th>\n      <th>A_group</th>\n    </tr>\n  </thead>\n  <tbody>\n    <tr>\n      <th>0</th>\n      <td>Chickie</td>\n      <td>Brister</td>\n      <td>Male</td>\n      <td>86</td>\n      <td>1957-07-12</td>\n      <td>General Manager</td>\n      <td>Manufacturing</td>\n      <td>Mass Customer</td>\n      <td>N</td>\n      <td>Yes</td>\n      <td>...</td>\n      <td>6</td>\n      <td>0.56</td>\n      <td>0.70</td>\n      <td>0.88</td>\n      <td>0.74</td>\n      <td>1</td>\n      <td>1</td>\n      <td>1.72</td>\n      <td>63.05</td>\n      <td>&gt;60</td>\n    </tr>\n    <tr>\n      <th>3</th>\n      <td>Lucine</td>\n      <td>Stutt</td>\n      <td>Female</td>\n      <td>64</td>\n      <td>1979-01-28</td>\n      <td>Account Representative III</td>\n      <td>Manufacturing</td>\n      <td>Affluent Customer</td>\n      <td>N</td>\n      <td>Yes</td>\n      <td>...</td>\n      <td>1</td>\n      <td>0.87</td>\n      <td>1.09</td>\n      <td>1.09</td>\n      <td>1.09</td>\n      <td>4</td>\n      <td>4</td>\n      <td>1.70</td>\n      <td>41.50</td>\n      <td>41-50</td>\n    </tr>\n    <tr>\n      <th>5</th>\n      <td>Druci</td>\n      <td>Brandli</td>\n      <td>Female</td>\n      <td>39</td>\n      <td>1951-04-29</td>\n      <td>Assistant Media Planner</td>\n      <td>Entertainment</td>\n      <td>High Net Worth</td>\n      <td>N</td>\n      <td>Yes</td>\n      <td>...</td>\n      <td>7</td>\n      <td>0.43</td>\n      <td>0.54</td>\n      <td>0.54</td>\n      <td>0.54</td>\n      <td>6</td>\n      <td>6</td>\n      <td>1.67</td>\n      <td>69.26</td>\n      <td>&gt;60</td>\n    </tr>\n    <tr>\n      <th>7</th>\n      <td>Nancie</td>\n      <td>Vian</td>\n      <td>Female</td>\n      <td>74</td>\n      <td>1972-12-27</td>\n      <td>Human Resources Assistant II</td>\n      <td>Retail</td>\n      <td>Mass Customer</td>\n      <td>N</td>\n      <td>Yes</td>\n      <td>...</td>\n      <td>5</td>\n      <td>0.58</td>\n      <td>0.72</td>\n      <td>0.72</td>\n      <td>0.62</td>\n      <td>8</td>\n      <td>8</td>\n      <td>1.66</td>\n      <td>47.59</td>\n      <td>41-50</td>\n    </tr>\n    <tr>\n      <th>8</th>\n      <td>Duff</td>\n      <td>Karlowicz</td>\n      <td>Male</td>\n      <td>50</td>\n      <td>1972-04-28</td>\n      <td>Speech Pathologist</td>\n      <td>Manufacturing</td>\n      <td>Mass Customer</td>\n      <td>N</td>\n      <td>Yes</td>\n      <td>...</td>\n      <td>10</td>\n      <td>1.03</td>\n      <td>1.29</td>\n      <td>1.61</td>\n      <td>1.37</td>\n      <td>8</td>\n      <td>8</td>\n      <td>1.66</td>\n      <td>48.26</td>\n      <td>41-50</td>\n    </tr>\n  </tbody>\n</table>\n<p>5 rows × 25 columns</p>\n</div>"
     },
     "execution_count": 208,
     "metadata": {},
     "output_type": "execute_result"
    }
   ],
   "source": [
    "\n",
    "df_cars = df[df.owns_car == \"Yes\"]\n",
    "df_cars.head()"
   ],
   "metadata": {
    "collapsed": false,
    "pycharm": {
     "name": "#%%\n"
    }
   }
  },
  {
   "cell_type": "code",
   "execution_count": 209,
   "outputs": [
    {
     "data": {
      "text/plain": "gender  A_group\nFemale  0-20        18\n        21-30       74\n        31-40       59\n        41-50      122\n        51-60       95\n        >60        145\nMale    0-20        14\n        21-30       90\n        31-40       52\n        41-50      101\n        51-60       80\n        >60        133\nName: owns_car, dtype: int64"
     },
     "execution_count": 209,
     "metadata": {},
     "output_type": "execute_result"
    }
   ],
   "source": [
    "df[['gender', \"A_group\", \"owns_car\"]].groupby(['gender',\"A_group\"])[\"owns_car\"].count()"
   ],
   "metadata": {
    "collapsed": false,
    "pycharm": {
     "name": "#%%\n"
    }
   }
  },
  {
   "cell_type": "code",
   "execution_count": 210,
   "outputs": [
    {
     "data": {
      "text/plain": "gender  A_group\nFemale  0-20       12\n        21-30      37\n        31-40      26\n        41-50      62\n        51-60      52\n        >60        72\nMale    0-20        6\n        21-30      42\n        31-40      20\n        41-50      45\n        51-60      40\n        >60        72\nName: owns_car, dtype: int64"
     },
     "execution_count": 210,
     "metadata": {},
     "output_type": "execute_result"
    }
   ],
   "source": [
    "df_car_gen_age = df_cars[['gender', \"A_group\", \"owns_car\"]].groupby(['gender',\"A_group\"])[\"owns_car\"].count()\n",
    "\n",
    "df_car_gen_age"
   ],
   "metadata": {
    "collapsed": false,
    "pycharm": {
     "name": "#%%\n"
    }
   }
  },
  {
   "cell_type": "code",
   "execution_count": 211,
   "outputs": [
    {
     "data": {
      "text/plain": "   gender A_group  owns_car\n0  Female    0-20        12\n1  Female   21-30        37\n2  Female   31-40        26\n3  Female   41-50        62\n4  Female   51-60        52",
      "text/html": "<div>\n<style scoped>\n    .dataframe tbody tr th:only-of-type {\n        vertical-align: middle;\n    }\n\n    .dataframe tbody tr th {\n        vertical-align: top;\n    }\n\n    .dataframe thead th {\n        text-align: right;\n    }\n</style>\n<table border=\"1\" class=\"dataframe\">\n  <thead>\n    <tr style=\"text-align: right;\">\n      <th></th>\n      <th>gender</th>\n      <th>A_group</th>\n      <th>owns_car</th>\n    </tr>\n  </thead>\n  <tbody>\n    <tr>\n      <th>0</th>\n      <td>Female</td>\n      <td>0-20</td>\n      <td>12</td>\n    </tr>\n    <tr>\n      <th>1</th>\n      <td>Female</td>\n      <td>21-30</td>\n      <td>37</td>\n    </tr>\n    <tr>\n      <th>2</th>\n      <td>Female</td>\n      <td>31-40</td>\n      <td>26</td>\n    </tr>\n    <tr>\n      <th>3</th>\n      <td>Female</td>\n      <td>41-50</td>\n      <td>62</td>\n    </tr>\n    <tr>\n      <th>4</th>\n      <td>Female</td>\n      <td>51-60</td>\n      <td>52</td>\n    </tr>\n  </tbody>\n</table>\n</div>"
     },
     "execution_count": 211,
     "metadata": {},
     "output_type": "execute_result"
    }
   ],
   "source": [
    "df_car_gen_age = df_car_gen_age.reset_index()\n",
    "df_car_gen_age.head()"
   ],
   "metadata": {
    "collapsed": false,
    "pycharm": {
     "name": "#%%\n"
    }
   }
  },
  {
   "cell_type": "markdown",
   "source": [
    "<h1>Auto Count"
   ],
   "metadata": {
    "collapsed": false,
    "pycharm": {
     "name": "#%% md\n"
    }
   }
  },
  {
   "cell_type": "code",
   "execution_count": 212,
   "outputs": [
    {
     "data": {
      "application/vnd.plotly.v1+json": {
       "config": {
        "plotlyServerURL": "https://plot.ly"
       },
       "data": [
        {
         "alignmentgroup": "True",
         "bingroup": "x",
         "hoverlabel": {
          "namelength": 0
         },
         "hovertemplate": "Genders=Male<br>Age=%{x}<br>count of Owning A Car=%{y}",
         "legendgroup": "Male",
         "marker": {
          "color": "#636efa"
         },
         "name": "Male",
         "offsetgroup": "Male",
         "orientation": "v",
         "showlegend": true,
         "type": "histogram",
         "x": [
          63.05,
          48.26,
          34.99,
          66.33,
          51.61,
          26.84,
          68.67,
          65.13,
          26.92,
          21.36,
          26.61,
          54.01,
          37.47,
          48.59,
          21.15,
          45.87,
          59.36,
          70.47,
          67.86,
          20.78,
          77.47,
          73.77,
          80.64,
          74.06,
          32.81,
          79.43,
          64.48,
          45.39,
          55.08,
          52.84,
          54.04,
          19.4,
          71.4,
          44.59,
          51.47,
          69.06,
          64.44,
          30.7,
          25.44,
          69.6,
          74.35,
          46.35,
          28.01,
          81.79,
          79.65,
          75.46,
          36.68,
          40.45,
          39.11,
          41.48,
          20.1,
          42.17,
          76.85,
          59.18,
          50.86,
          49.26,
          41.64,
          53.49,
          27.7,
          24.45,
          68.62,
          24.08,
          59.57,
          57.82,
          63.36,
          29.71,
          55.42,
          32.55,
          38.99,
          65.72,
          48.95,
          38.88,
          43.73,
          60.6,
          22.84,
          42.18,
          64.11,
          55.84,
          59.47,
          66.78,
          61.13,
          56.95,
          59.88,
          56.5,
          25.2,
          66.13,
          37.64,
          30.2,
          77.98,
          65.46,
          42.52,
          56.79,
          22.55,
          50.52,
          74.73,
          45.63,
          46.71,
          22.93,
          45.98,
          62.28,
          69.26,
          55.49,
          53.38,
          64.28,
          41.01,
          18.59,
          41.01,
          61.42,
          58.93,
          75.76,
          53.88,
          26.38,
          22.75,
          43.86,
          59.61,
          19.11,
          64.2,
          69.83,
          40.17,
          66.39,
          67.65,
          41.64,
          22.44,
          21.28,
          26.12,
          64.68,
          33.85,
          69.64,
          43.97,
          26.29,
          24.62,
          26.29,
          41.58,
          24.52,
          23.09,
          59.19,
          65.05,
          50.2,
          70.23,
          69.37,
          57.0,
          64.84,
          22.54,
          26.86,
          80.94,
          33.25,
          66.56,
          25.03,
          62.1,
          43.75,
          61.01,
          44.04,
          64.37,
          49.89,
          25.6,
          81.91,
          42.28,
          42.81,
          29.17,
          73.94,
          47.9,
          37.2,
          48.8,
          54.89,
          54.5,
          47.77,
          22.77,
          26.74,
          63.87,
          23.34,
          39.3,
          30.32,
          56.91,
          46.44,
          19.29,
          45.02,
          70.29,
          24.37,
          37.47,
          59.83,
          67.33,
          47.72,
          73.05,
          29.48,
          80.2,
          53.73,
          41.56,
          68.87,
          72.58,
          37.75,
          21.96,
          41.59,
          67.34,
          61.0,
          41.47,
          73.32,
          59.0,
          46.01,
          24.78,
          71.99,
          46.81,
          82.14,
          63.82,
          48.08,
          79.12,
          59.59,
          39.32,
          69.53,
          55.94,
          26.47,
          54.41,
          51.25,
          51.57,
          34.53,
          69.25,
          22.16,
          52.13,
          53.24,
          43.46,
          34.09,
          60.87,
          46.21,
          61.05,
          67.62,
          64.83
         ],
         "xaxis": "x",
         "y": [
          "Yes",
          "Yes",
          "Yes",
          "Yes",
          "Yes",
          "Yes",
          "Yes",
          "Yes",
          "Yes",
          "Yes",
          "Yes",
          "Yes",
          "Yes",
          "Yes",
          "Yes",
          "Yes",
          "Yes",
          "Yes",
          "Yes",
          "Yes",
          "Yes",
          "Yes",
          "Yes",
          "Yes",
          "Yes",
          "Yes",
          "Yes",
          "Yes",
          "Yes",
          "Yes",
          "Yes",
          "Yes",
          "Yes",
          "Yes",
          "Yes",
          "Yes",
          "Yes",
          "Yes",
          "Yes",
          "Yes",
          "Yes",
          "Yes",
          "Yes",
          "Yes",
          "Yes",
          "Yes",
          "Yes",
          "Yes",
          "Yes",
          "Yes",
          "Yes",
          "Yes",
          "Yes",
          "Yes",
          "Yes",
          "Yes",
          "Yes",
          "Yes",
          "Yes",
          "Yes",
          "Yes",
          "Yes",
          "Yes",
          "Yes",
          "Yes",
          "Yes",
          "Yes",
          "Yes",
          "Yes",
          "Yes",
          "Yes",
          "Yes",
          "Yes",
          "Yes",
          "Yes",
          "Yes",
          "Yes",
          "Yes",
          "Yes",
          "Yes",
          "Yes",
          "Yes",
          "Yes",
          "Yes",
          "Yes",
          "Yes",
          "Yes",
          "Yes",
          "Yes",
          "Yes",
          "Yes",
          "Yes",
          "Yes",
          "Yes",
          "Yes",
          "Yes",
          "Yes",
          "Yes",
          "Yes",
          "Yes",
          "Yes",
          "Yes",
          "Yes",
          "Yes",
          "Yes",
          "Yes",
          "Yes",
          "Yes",
          "Yes",
          "Yes",
          "Yes",
          "Yes",
          "Yes",
          "Yes",
          "Yes",
          "Yes",
          "Yes",
          "Yes",
          "Yes",
          "Yes",
          "Yes",
          "Yes",
          "Yes",
          "Yes",
          "Yes",
          "Yes",
          "Yes",
          "Yes",
          "Yes",
          "Yes",
          "Yes",
          "Yes",
          "Yes",
          "Yes",
          "Yes",
          "Yes",
          "Yes",
          "Yes",
          "Yes",
          "Yes",
          "Yes",
          "Yes",
          "Yes",
          "Yes",
          "Yes",
          "Yes",
          "Yes",
          "Yes",
          "Yes",
          "Yes",
          "Yes",
          "Yes",
          "Yes",
          "Yes",
          "Yes",
          "Yes",
          "Yes",
          "Yes",
          "Yes",
          "Yes",
          "Yes",
          "Yes",
          "Yes",
          "Yes",
          "Yes",
          "Yes",
          "Yes",
          "Yes",
          "Yes",
          "Yes",
          "Yes",
          "Yes",
          "Yes",
          "Yes",
          "Yes",
          "Yes",
          "Yes",
          "Yes",
          "Yes",
          "Yes",
          "Yes",
          "Yes",
          "Yes",
          "Yes",
          "Yes",
          "Yes",
          "Yes",
          "Yes",
          "Yes",
          "Yes",
          "Yes",
          "Yes",
          "Yes",
          "Yes",
          "Yes",
          "Yes",
          "Yes",
          "Yes",
          "Yes",
          "Yes",
          "Yes",
          "Yes",
          "Yes",
          "Yes",
          "Yes",
          "Yes",
          "Yes",
          "Yes",
          "Yes",
          "Yes",
          "Yes",
          "Yes",
          "Yes",
          "Yes",
          "Yes",
          "Yes",
          "Yes",
          "Yes",
          "Yes",
          "Yes",
          "Yes",
          "Yes",
          "Yes",
          "Yes",
          "Yes"
         ],
         "yaxis": "y"
        },
        {
         "alignmentgroup": "True",
         "hoverlabel": {
          "namelength": 0
         },
         "hovertemplate": "Genders=Male<br>Age=%{x}",
         "legendgroup": "Male",
         "marker": {
          "color": "#636efa"
         },
         "name": "Male",
         "notched": true,
         "offsetgroup": "Male",
         "showlegend": false,
         "type": "box",
         "x": [
          63.05,
          48.26,
          34.99,
          66.33,
          51.61,
          26.84,
          68.67,
          65.13,
          26.92,
          21.36,
          26.61,
          54.01,
          37.47,
          48.59,
          21.15,
          45.87,
          59.36,
          70.47,
          67.86,
          20.78,
          77.47,
          73.77,
          80.64,
          74.06,
          32.81,
          79.43,
          64.48,
          45.39,
          55.08,
          52.84,
          54.04,
          19.4,
          71.4,
          44.59,
          51.47,
          69.06,
          64.44,
          30.7,
          25.44,
          69.6,
          74.35,
          46.35,
          28.01,
          81.79,
          79.65,
          75.46,
          36.68,
          40.45,
          39.11,
          41.48,
          20.1,
          42.17,
          76.85,
          59.18,
          50.86,
          49.26,
          41.64,
          53.49,
          27.7,
          24.45,
          68.62,
          24.08,
          59.57,
          57.82,
          63.36,
          29.71,
          55.42,
          32.55,
          38.99,
          65.72,
          48.95,
          38.88,
          43.73,
          60.6,
          22.84,
          42.18,
          64.11,
          55.84,
          59.47,
          66.78,
          61.13,
          56.95,
          59.88,
          56.5,
          25.2,
          66.13,
          37.64,
          30.2,
          77.98,
          65.46,
          42.52,
          56.79,
          22.55,
          50.52,
          74.73,
          45.63,
          46.71,
          22.93,
          45.98,
          62.28,
          69.26,
          55.49,
          53.38,
          64.28,
          41.01,
          18.59,
          41.01,
          61.42,
          58.93,
          75.76,
          53.88,
          26.38,
          22.75,
          43.86,
          59.61,
          19.11,
          64.2,
          69.83,
          40.17,
          66.39,
          67.65,
          41.64,
          22.44,
          21.28,
          26.12,
          64.68,
          33.85,
          69.64,
          43.97,
          26.29,
          24.62,
          26.29,
          41.58,
          24.52,
          23.09,
          59.19,
          65.05,
          50.2,
          70.23,
          69.37,
          57.0,
          64.84,
          22.54,
          26.86,
          80.94,
          33.25,
          66.56,
          25.03,
          62.1,
          43.75,
          61.01,
          44.04,
          64.37,
          49.89,
          25.6,
          81.91,
          42.28,
          42.81,
          29.17,
          73.94,
          47.9,
          37.2,
          48.8,
          54.89,
          54.5,
          47.77,
          22.77,
          26.74,
          63.87,
          23.34,
          39.3,
          30.32,
          56.91,
          46.44,
          19.29,
          45.02,
          70.29,
          24.37,
          37.47,
          59.83,
          67.33,
          47.72,
          73.05,
          29.48,
          80.2,
          53.73,
          41.56,
          68.87,
          72.58,
          37.75,
          21.96,
          41.59,
          67.34,
          61.0,
          41.47,
          73.32,
          59.0,
          46.01,
          24.78,
          71.99,
          46.81,
          82.14,
          63.82,
          48.08,
          79.12,
          59.59,
          39.32,
          69.53,
          55.94,
          26.47,
          54.41,
          51.25,
          51.57,
          34.53,
          69.25,
          22.16,
          52.13,
          53.24,
          43.46,
          34.09,
          60.87,
          46.21,
          61.05,
          67.62,
          64.83
         ],
         "xaxis": "x2",
         "yaxis": "y2"
        },
        {
         "alignmentgroup": "True",
         "bingroup": "x",
         "hoverlabel": {
          "namelength": 0
         },
         "hovertemplate": "Genders=Female<br>Age=%{x}<br>count of Owning A Car=%{y}",
         "legendgroup": "Female",
         "marker": {
          "color": "#EF553B"
         },
         "name": "Female",
         "offsetgroup": "Female",
         "orientation": "v",
         "showlegend": true,
         "type": "histogram",
         "x": [
          41.5,
          69.26,
          47.59,
          26.94,
          81.72,
          42.62,
          68.09,
          54.03,
          40.51,
          33.54,
          45.23,
          63.92,
          64.04,
          25.66,
          43.21,
          53.37,
          20.69,
          24.03,
          35.81,
          31.86,
          23.99,
          62.28,
          63.77,
          48.54,
          20.23,
          58.78,
          50.72,
          51.71,
          42.55,
          67.63,
          30.05,
          58.01,
          60.37,
          42.48,
          41.12,
          40.47,
          52.62,
          58.59,
          57.27,
          42.54,
          24.99,
          50.93,
          41.19,
          31.57,
          81.5,
          47.23,
          76.57,
          54.58,
          67.78,
          71.8,
          64.95,
          73.42,
          57.58,
          56.63,
          23.02,
          76.82,
          81.32,
          78.83,
          46.52,
          69.9,
          52.89,
          19.85,
          51.07,
          72.55,
          50.7,
          54.4,
          44.4,
          48.87,
          44.28,
          57.22,
          32.5,
          65.04,
          61.14,
          29.48,
          28.5,
          62.79,
          35.35,
          65.01,
          68.2,
          74.98,
          20.77,
          45.34,
          50.81,
          51.63,
          80.61,
          68.29,
          79.03,
          75.77,
          18.42,
          75.72,
          22.59,
          20.73,
          62.83,
          78.52,
          24.52,
          46.93,
          58.61,
          18.53,
          59.57,
          53.53,
          42.89,
          39.96,
          74.38,
          73.03,
          45.56,
          42.84,
          44.61,
          79.32,
          33.42,
          48.2,
          54.25,
          21.69,
          28.66,
          47.93,
          45.68,
          80.2,
          26.99,
          49.62,
          29.78,
          45.13,
          44.8,
          76.13,
          65.78,
          45.95,
          44.89,
          45.92,
          43.68,
          66.5,
          31.83,
          56.21,
          65.82,
          55.73,
          38.88,
          64.17,
          47.56,
          29.28,
          41.57,
          44.54,
          24.83,
          65.07,
          56.38,
          18.84,
          52.0,
          55.43,
          30.07,
          25.04,
          33.28,
          24.22,
          47.38,
          62.03,
          47.5,
          53.86,
          40.83,
          21.93,
          51.4,
          64.07,
          51.59,
          80.15,
          60.3,
          47.05,
          57.86,
          44.75,
          65.78,
          70.24,
          80.19,
          77.78,
          23.33,
          62.27,
          68.67,
          76.26,
          35.35,
          78.07,
          42.88,
          39.75,
          45.8,
          24.12,
          39.24,
          42.35,
          40.31,
          28.1,
          39.5,
          66.98,
          36.64,
          56.79,
          53.78,
          20.67,
          43.57,
          51.4,
          58.64,
          28.31,
          75.14,
          53.87,
          73.14,
          72.41,
          58.22,
          60.07,
          46.84,
          30.32,
          54.61,
          81.99,
          31.02,
          32.4,
          24.32,
          56.06,
          62.9,
          27.8,
          46.51,
          53.7,
          46.19,
          51.68,
          42.06,
          47.22,
          56.65,
          28.39,
          46.97,
          52.82,
          62.29,
          24.78,
          23.4,
          77.89,
          39.88,
          80.73,
          20.2,
          58.94,
          46.15,
          26.3,
          23.41,
          63.37,
          21.12,
          20.35,
          47.22,
          62.7,
          59.47,
          41.21,
          62.21,
          47.17,
          60.95,
          42.37,
          26.97,
          32.89,
          56.97,
          74.75,
          46.25,
          65.9,
          49.26,
          31.94,
          57.87,
          24.97,
          56.49,
          39.61,
          45.43,
          52.94,
          54.58,
          19.51,
          28.31,
          68.94,
          77.38,
          75.01,
          66.21,
          46.62,
          65.82
         ],
         "xaxis": "x",
         "y": [
          "Yes",
          "Yes",
          "Yes",
          "Yes",
          "Yes",
          "Yes",
          "Yes",
          "Yes",
          "Yes",
          "Yes",
          "Yes",
          "Yes",
          "Yes",
          "Yes",
          "Yes",
          "Yes",
          "Yes",
          "Yes",
          "Yes",
          "Yes",
          "Yes",
          "Yes",
          "Yes",
          "Yes",
          "Yes",
          "Yes",
          "Yes",
          "Yes",
          "Yes",
          "Yes",
          "Yes",
          "Yes",
          "Yes",
          "Yes",
          "Yes",
          "Yes",
          "Yes",
          "Yes",
          "Yes",
          "Yes",
          "Yes",
          "Yes",
          "Yes",
          "Yes",
          "Yes",
          "Yes",
          "Yes",
          "Yes",
          "Yes",
          "Yes",
          "Yes",
          "Yes",
          "Yes",
          "Yes",
          "Yes",
          "Yes",
          "Yes",
          "Yes",
          "Yes",
          "Yes",
          "Yes",
          "Yes",
          "Yes",
          "Yes",
          "Yes",
          "Yes",
          "Yes",
          "Yes",
          "Yes",
          "Yes",
          "Yes",
          "Yes",
          "Yes",
          "Yes",
          "Yes",
          "Yes",
          "Yes",
          "Yes",
          "Yes",
          "Yes",
          "Yes",
          "Yes",
          "Yes",
          "Yes",
          "Yes",
          "Yes",
          "Yes",
          "Yes",
          "Yes",
          "Yes",
          "Yes",
          "Yes",
          "Yes",
          "Yes",
          "Yes",
          "Yes",
          "Yes",
          "Yes",
          "Yes",
          "Yes",
          "Yes",
          "Yes",
          "Yes",
          "Yes",
          "Yes",
          "Yes",
          "Yes",
          "Yes",
          "Yes",
          "Yes",
          "Yes",
          "Yes",
          "Yes",
          "Yes",
          "Yes",
          "Yes",
          "Yes",
          "Yes",
          "Yes",
          "Yes",
          "Yes",
          "Yes",
          "Yes",
          "Yes",
          "Yes",
          "Yes",
          "Yes",
          "Yes",
          "Yes",
          "Yes",
          "Yes",
          "Yes",
          "Yes",
          "Yes",
          "Yes",
          "Yes",
          "Yes",
          "Yes",
          "Yes",
          "Yes",
          "Yes",
          "Yes",
          "Yes",
          "Yes",
          "Yes",
          "Yes",
          "Yes",
          "Yes",
          "Yes",
          "Yes",
          "Yes",
          "Yes",
          "Yes",
          "Yes",
          "Yes",
          "Yes",
          "Yes",
          "Yes",
          "Yes",
          "Yes",
          "Yes",
          "Yes",
          "Yes",
          "Yes",
          "Yes",
          "Yes",
          "Yes",
          "Yes",
          "Yes",
          "Yes",
          "Yes",
          "Yes",
          "Yes",
          "Yes",
          "Yes",
          "Yes",
          "Yes",
          "Yes",
          "Yes",
          "Yes",
          "Yes",
          "Yes",
          "Yes",
          "Yes",
          "Yes",
          "Yes",
          "Yes",
          "Yes",
          "Yes",
          "Yes",
          "Yes",
          "Yes",
          "Yes",
          "Yes",
          "Yes",
          "Yes",
          "Yes",
          "Yes",
          "Yes",
          "Yes",
          "Yes",
          "Yes",
          "Yes",
          "Yes",
          "Yes",
          "Yes",
          "Yes",
          "Yes",
          "Yes",
          "Yes",
          "Yes",
          "Yes",
          "Yes",
          "Yes",
          "Yes",
          "Yes",
          "Yes",
          "Yes",
          "Yes",
          "Yes",
          "Yes",
          "Yes",
          "Yes",
          "Yes",
          "Yes",
          "Yes",
          "Yes",
          "Yes",
          "Yes",
          "Yes",
          "Yes",
          "Yes",
          "Yes",
          "Yes",
          "Yes",
          "Yes",
          "Yes",
          "Yes",
          "Yes",
          "Yes",
          "Yes",
          "Yes",
          "Yes",
          "Yes",
          "Yes",
          "Yes",
          "Yes",
          "Yes",
          "Yes",
          "Yes",
          "Yes",
          "Yes",
          "Yes",
          "Yes",
          "Yes",
          "Yes",
          "Yes",
          "Yes",
          "Yes",
          "Yes",
          "Yes"
         ],
         "yaxis": "y"
        },
        {
         "alignmentgroup": "True",
         "hoverlabel": {
          "namelength": 0
         },
         "hovertemplate": "Genders=Female<br>Age=%{x}",
         "legendgroup": "Female",
         "marker": {
          "color": "#EF553B"
         },
         "name": "Female",
         "notched": true,
         "offsetgroup": "Female",
         "showlegend": false,
         "type": "box",
         "x": [
          41.5,
          69.26,
          47.59,
          26.94,
          81.72,
          42.62,
          68.09,
          54.03,
          40.51,
          33.54,
          45.23,
          63.92,
          64.04,
          25.66,
          43.21,
          53.37,
          20.69,
          24.03,
          35.81,
          31.86,
          23.99,
          62.28,
          63.77,
          48.54,
          20.23,
          58.78,
          50.72,
          51.71,
          42.55,
          67.63,
          30.05,
          58.01,
          60.37,
          42.48,
          41.12,
          40.47,
          52.62,
          58.59,
          57.27,
          42.54,
          24.99,
          50.93,
          41.19,
          31.57,
          81.5,
          47.23,
          76.57,
          54.58,
          67.78,
          71.8,
          64.95,
          73.42,
          57.58,
          56.63,
          23.02,
          76.82,
          81.32,
          78.83,
          46.52,
          69.9,
          52.89,
          19.85,
          51.07,
          72.55,
          50.7,
          54.4,
          44.4,
          48.87,
          44.28,
          57.22,
          32.5,
          65.04,
          61.14,
          29.48,
          28.5,
          62.79,
          35.35,
          65.01,
          68.2,
          74.98,
          20.77,
          45.34,
          50.81,
          51.63,
          80.61,
          68.29,
          79.03,
          75.77,
          18.42,
          75.72,
          22.59,
          20.73,
          62.83,
          78.52,
          24.52,
          46.93,
          58.61,
          18.53,
          59.57,
          53.53,
          42.89,
          39.96,
          74.38,
          73.03,
          45.56,
          42.84,
          44.61,
          79.32,
          33.42,
          48.2,
          54.25,
          21.69,
          28.66,
          47.93,
          45.68,
          80.2,
          26.99,
          49.62,
          29.78,
          45.13,
          44.8,
          76.13,
          65.78,
          45.95,
          44.89,
          45.92,
          43.68,
          66.5,
          31.83,
          56.21,
          65.82,
          55.73,
          38.88,
          64.17,
          47.56,
          29.28,
          41.57,
          44.54,
          24.83,
          65.07,
          56.38,
          18.84,
          52.0,
          55.43,
          30.07,
          25.04,
          33.28,
          24.22,
          47.38,
          62.03,
          47.5,
          53.86,
          40.83,
          21.93,
          51.4,
          64.07,
          51.59,
          80.15,
          60.3,
          47.05,
          57.86,
          44.75,
          65.78,
          70.24,
          80.19,
          77.78,
          23.33,
          62.27,
          68.67,
          76.26,
          35.35,
          78.07,
          42.88,
          39.75,
          45.8,
          24.12,
          39.24,
          42.35,
          40.31,
          28.1,
          39.5,
          66.98,
          36.64,
          56.79,
          53.78,
          20.67,
          43.57,
          51.4,
          58.64,
          28.31,
          75.14,
          53.87,
          73.14,
          72.41,
          58.22,
          60.07,
          46.84,
          30.32,
          54.61,
          81.99,
          31.02,
          32.4,
          24.32,
          56.06,
          62.9,
          27.8,
          46.51,
          53.7,
          46.19,
          51.68,
          42.06,
          47.22,
          56.65,
          28.39,
          46.97,
          52.82,
          62.29,
          24.78,
          23.4,
          77.89,
          39.88,
          80.73,
          20.2,
          58.94,
          46.15,
          26.3,
          23.41,
          63.37,
          21.12,
          20.35,
          47.22,
          62.7,
          59.47,
          41.21,
          62.21,
          47.17,
          60.95,
          42.37,
          26.97,
          32.89,
          56.97,
          74.75,
          46.25,
          65.9,
          49.26,
          31.94,
          57.87,
          24.97,
          56.49,
          39.61,
          45.43,
          52.94,
          54.58,
          19.51,
          28.31,
          68.94,
          77.38,
          75.01,
          66.21,
          46.62,
          65.82
         ],
         "xaxis": "x2",
         "yaxis": "y2"
        }
       ],
       "layout": {
        "barmode": "relative",
        "legend": {
         "title": {
          "text": "Genders"
         },
         "tracegroupgap": 0
        },
        "margin": {
         "t": 60
        },
        "template": {
         "data": {
          "bar": [
           {
            "error_x": {
             "color": "#2a3f5f"
            },
            "error_y": {
             "color": "#2a3f5f"
            },
            "marker": {
             "line": {
              "color": "#E5ECF6",
              "width": 0.5
             }
            },
            "type": "bar"
           }
          ],
          "barpolar": [
           {
            "marker": {
             "line": {
              "color": "#E5ECF6",
              "width": 0.5
             }
            },
            "type": "barpolar"
           }
          ],
          "carpet": [
           {
            "aaxis": {
             "endlinecolor": "#2a3f5f",
             "gridcolor": "white",
             "linecolor": "white",
             "minorgridcolor": "white",
             "startlinecolor": "#2a3f5f"
            },
            "baxis": {
             "endlinecolor": "#2a3f5f",
             "gridcolor": "white",
             "linecolor": "white",
             "minorgridcolor": "white",
             "startlinecolor": "#2a3f5f"
            },
            "type": "carpet"
           }
          ],
          "choropleth": [
           {
            "colorbar": {
             "outlinewidth": 0,
             "ticks": ""
            },
            "type": "choropleth"
           }
          ],
          "contour": [
           {
            "colorbar": {
             "outlinewidth": 0,
             "ticks": ""
            },
            "colorscale": [
             [
              0.0,
              "#0d0887"
             ],
             [
              0.1111111111111111,
              "#46039f"
             ],
             [
              0.2222222222222222,
              "#7201a8"
             ],
             [
              0.3333333333333333,
              "#9c179e"
             ],
             [
              0.4444444444444444,
              "#bd3786"
             ],
             [
              0.5555555555555556,
              "#d8576b"
             ],
             [
              0.6666666666666666,
              "#ed7953"
             ],
             [
              0.7777777777777778,
              "#fb9f3a"
             ],
             [
              0.8888888888888888,
              "#fdca26"
             ],
             [
              1.0,
              "#f0f921"
             ]
            ],
            "type": "contour"
           }
          ],
          "contourcarpet": [
           {
            "colorbar": {
             "outlinewidth": 0,
             "ticks": ""
            },
            "type": "contourcarpet"
           }
          ],
          "heatmap": [
           {
            "colorbar": {
             "outlinewidth": 0,
             "ticks": ""
            },
            "colorscale": [
             [
              0.0,
              "#0d0887"
             ],
             [
              0.1111111111111111,
              "#46039f"
             ],
             [
              0.2222222222222222,
              "#7201a8"
             ],
             [
              0.3333333333333333,
              "#9c179e"
             ],
             [
              0.4444444444444444,
              "#bd3786"
             ],
             [
              0.5555555555555556,
              "#d8576b"
             ],
             [
              0.6666666666666666,
              "#ed7953"
             ],
             [
              0.7777777777777778,
              "#fb9f3a"
             ],
             [
              0.8888888888888888,
              "#fdca26"
             ],
             [
              1.0,
              "#f0f921"
             ]
            ],
            "type": "heatmap"
           }
          ],
          "heatmapgl": [
           {
            "colorbar": {
             "outlinewidth": 0,
             "ticks": ""
            },
            "colorscale": [
             [
              0.0,
              "#0d0887"
             ],
             [
              0.1111111111111111,
              "#46039f"
             ],
             [
              0.2222222222222222,
              "#7201a8"
             ],
             [
              0.3333333333333333,
              "#9c179e"
             ],
             [
              0.4444444444444444,
              "#bd3786"
             ],
             [
              0.5555555555555556,
              "#d8576b"
             ],
             [
              0.6666666666666666,
              "#ed7953"
             ],
             [
              0.7777777777777778,
              "#fb9f3a"
             ],
             [
              0.8888888888888888,
              "#fdca26"
             ],
             [
              1.0,
              "#f0f921"
             ]
            ],
            "type": "heatmapgl"
           }
          ],
          "histogram": [
           {
            "marker": {
             "colorbar": {
              "outlinewidth": 0,
              "ticks": ""
             }
            },
            "type": "histogram"
           }
          ],
          "histogram2d": [
           {
            "colorbar": {
             "outlinewidth": 0,
             "ticks": ""
            },
            "colorscale": [
             [
              0.0,
              "#0d0887"
             ],
             [
              0.1111111111111111,
              "#46039f"
             ],
             [
              0.2222222222222222,
              "#7201a8"
             ],
             [
              0.3333333333333333,
              "#9c179e"
             ],
             [
              0.4444444444444444,
              "#bd3786"
             ],
             [
              0.5555555555555556,
              "#d8576b"
             ],
             [
              0.6666666666666666,
              "#ed7953"
             ],
             [
              0.7777777777777778,
              "#fb9f3a"
             ],
             [
              0.8888888888888888,
              "#fdca26"
             ],
             [
              1.0,
              "#f0f921"
             ]
            ],
            "type": "histogram2d"
           }
          ],
          "histogram2dcontour": [
           {
            "colorbar": {
             "outlinewidth": 0,
             "ticks": ""
            },
            "colorscale": [
             [
              0.0,
              "#0d0887"
             ],
             [
              0.1111111111111111,
              "#46039f"
             ],
             [
              0.2222222222222222,
              "#7201a8"
             ],
             [
              0.3333333333333333,
              "#9c179e"
             ],
             [
              0.4444444444444444,
              "#bd3786"
             ],
             [
              0.5555555555555556,
              "#d8576b"
             ],
             [
              0.6666666666666666,
              "#ed7953"
             ],
             [
              0.7777777777777778,
              "#fb9f3a"
             ],
             [
              0.8888888888888888,
              "#fdca26"
             ],
             [
              1.0,
              "#f0f921"
             ]
            ],
            "type": "histogram2dcontour"
           }
          ],
          "mesh3d": [
           {
            "colorbar": {
             "outlinewidth": 0,
             "ticks": ""
            },
            "type": "mesh3d"
           }
          ],
          "parcoords": [
           {
            "line": {
             "colorbar": {
              "outlinewidth": 0,
              "ticks": ""
             }
            },
            "type": "parcoords"
           }
          ],
          "pie": [
           {
            "automargin": true,
            "type": "pie"
           }
          ],
          "scatter": [
           {
            "marker": {
             "colorbar": {
              "outlinewidth": 0,
              "ticks": ""
             }
            },
            "type": "scatter"
           }
          ],
          "scatter3d": [
           {
            "line": {
             "colorbar": {
              "outlinewidth": 0,
              "ticks": ""
             }
            },
            "marker": {
             "colorbar": {
              "outlinewidth": 0,
              "ticks": ""
             }
            },
            "type": "scatter3d"
           }
          ],
          "scattercarpet": [
           {
            "marker": {
             "colorbar": {
              "outlinewidth": 0,
              "ticks": ""
             }
            },
            "type": "scattercarpet"
           }
          ],
          "scattergeo": [
           {
            "marker": {
             "colorbar": {
              "outlinewidth": 0,
              "ticks": ""
             }
            },
            "type": "scattergeo"
           }
          ],
          "scattergl": [
           {
            "marker": {
             "colorbar": {
              "outlinewidth": 0,
              "ticks": ""
             }
            },
            "type": "scattergl"
           }
          ],
          "scattermapbox": [
           {
            "marker": {
             "colorbar": {
              "outlinewidth": 0,
              "ticks": ""
             }
            },
            "type": "scattermapbox"
           }
          ],
          "scatterpolar": [
           {
            "marker": {
             "colorbar": {
              "outlinewidth": 0,
              "ticks": ""
             }
            },
            "type": "scatterpolar"
           }
          ],
          "scatterpolargl": [
           {
            "marker": {
             "colorbar": {
              "outlinewidth": 0,
              "ticks": ""
             }
            },
            "type": "scatterpolargl"
           }
          ],
          "scatterternary": [
           {
            "marker": {
             "colorbar": {
              "outlinewidth": 0,
              "ticks": ""
             }
            },
            "type": "scatterternary"
           }
          ],
          "surface": [
           {
            "colorbar": {
             "outlinewidth": 0,
             "ticks": ""
            },
            "colorscale": [
             [
              0.0,
              "#0d0887"
             ],
             [
              0.1111111111111111,
              "#46039f"
             ],
             [
              0.2222222222222222,
              "#7201a8"
             ],
             [
              0.3333333333333333,
              "#9c179e"
             ],
             [
              0.4444444444444444,
              "#bd3786"
             ],
             [
              0.5555555555555556,
              "#d8576b"
             ],
             [
              0.6666666666666666,
              "#ed7953"
             ],
             [
              0.7777777777777778,
              "#fb9f3a"
             ],
             [
              0.8888888888888888,
              "#fdca26"
             ],
             [
              1.0,
              "#f0f921"
             ]
            ],
            "type": "surface"
           }
          ],
          "table": [
           {
            "cells": {
             "fill": {
              "color": "#EBF0F8"
             },
             "line": {
              "color": "white"
             }
            },
            "header": {
             "fill": {
              "color": "#C8D4E3"
             },
             "line": {
              "color": "white"
             }
            },
            "type": "table"
           }
          ]
         },
         "layout": {
          "annotationdefaults": {
           "arrowcolor": "#2a3f5f",
           "arrowhead": 0,
           "arrowwidth": 1
          },
          "coloraxis": {
           "colorbar": {
            "outlinewidth": 0,
            "ticks": ""
           }
          },
          "colorscale": {
           "diverging": [
            [
             0,
             "#8e0152"
            ],
            [
             0.1,
             "#c51b7d"
            ],
            [
             0.2,
             "#de77ae"
            ],
            [
             0.3,
             "#f1b6da"
            ],
            [
             0.4,
             "#fde0ef"
            ],
            [
             0.5,
             "#f7f7f7"
            ],
            [
             0.6,
             "#e6f5d0"
            ],
            [
             0.7,
             "#b8e186"
            ],
            [
             0.8,
             "#7fbc41"
            ],
            [
             0.9,
             "#4d9221"
            ],
            [
             1,
             "#276419"
            ]
           ],
           "sequential": [
            [
             0.0,
             "#0d0887"
            ],
            [
             0.1111111111111111,
             "#46039f"
            ],
            [
             0.2222222222222222,
             "#7201a8"
            ],
            [
             0.3333333333333333,
             "#9c179e"
            ],
            [
             0.4444444444444444,
             "#bd3786"
            ],
            [
             0.5555555555555556,
             "#d8576b"
            ],
            [
             0.6666666666666666,
             "#ed7953"
            ],
            [
             0.7777777777777778,
             "#fb9f3a"
            ],
            [
             0.8888888888888888,
             "#fdca26"
            ],
            [
             1.0,
             "#f0f921"
            ]
           ],
           "sequentialminus": [
            [
             0.0,
             "#0d0887"
            ],
            [
             0.1111111111111111,
             "#46039f"
            ],
            [
             0.2222222222222222,
             "#7201a8"
            ],
            [
             0.3333333333333333,
             "#9c179e"
            ],
            [
             0.4444444444444444,
             "#bd3786"
            ],
            [
             0.5555555555555556,
             "#d8576b"
            ],
            [
             0.6666666666666666,
             "#ed7953"
            ],
            [
             0.7777777777777778,
             "#fb9f3a"
            ],
            [
             0.8888888888888888,
             "#fdca26"
            ],
            [
             1.0,
             "#f0f921"
            ]
           ]
          },
          "colorway": [
           "#636efa",
           "#EF553B",
           "#00cc96",
           "#ab63fa",
           "#FFA15A",
           "#19d3f3",
           "#FF6692",
           "#B6E880",
           "#FF97FF",
           "#FECB52"
          ],
          "font": {
           "color": "#2a3f5f"
          },
          "geo": {
           "bgcolor": "white",
           "lakecolor": "white",
           "landcolor": "#E5ECF6",
           "showlakes": true,
           "showland": true,
           "subunitcolor": "white"
          },
          "hoverlabel": {
           "align": "left"
          },
          "hovermode": "closest",
          "mapbox": {
           "style": "light"
          },
          "paper_bgcolor": "white",
          "plot_bgcolor": "#E5ECF6",
          "polar": {
           "angularaxis": {
            "gridcolor": "white",
            "linecolor": "white",
            "ticks": ""
           },
           "bgcolor": "#E5ECF6",
           "radialaxis": {
            "gridcolor": "white",
            "linecolor": "white",
            "ticks": ""
           }
          },
          "scene": {
           "xaxis": {
            "backgroundcolor": "#E5ECF6",
            "gridcolor": "white",
            "gridwidth": 2,
            "linecolor": "white",
            "showbackground": true,
            "ticks": "",
            "zerolinecolor": "white"
           },
           "yaxis": {
            "backgroundcolor": "#E5ECF6",
            "gridcolor": "white",
            "gridwidth": 2,
            "linecolor": "white",
            "showbackground": true,
            "ticks": "",
            "zerolinecolor": "white"
           },
           "zaxis": {
            "backgroundcolor": "#E5ECF6",
            "gridcolor": "white",
            "gridwidth": 2,
            "linecolor": "white",
            "showbackground": true,
            "ticks": "",
            "zerolinecolor": "white"
           }
          },
          "shapedefaults": {
           "line": {
            "color": "#2a3f5f"
           }
          },
          "ternary": {
           "aaxis": {
            "gridcolor": "white",
            "linecolor": "white",
            "ticks": ""
           },
           "baxis": {
            "gridcolor": "white",
            "linecolor": "white",
            "ticks": ""
           },
           "bgcolor": "#E5ECF6",
           "caxis": {
            "gridcolor": "white",
            "linecolor": "white",
            "ticks": ""
           }
          },
          "title": {
           "x": 0.05
          },
          "xaxis": {
           "automargin": true,
           "gridcolor": "white",
           "linecolor": "white",
           "ticks": "",
           "title": {
            "standoff": 15
           },
           "zerolinecolor": "white",
           "zerolinewidth": 2
          },
          "yaxis": {
           "automargin": true,
           "gridcolor": "white",
           "linecolor": "white",
           "ticks": "",
           "title": {
            "standoff": 15
           },
           "zerolinecolor": "white",
           "zerolinewidth": 2
          }
         }
        },
        "xaxis": {
         "anchor": "y",
         "domain": [
          0.0,
          1.0
         ],
         "title": {
          "text": "Age"
         }
        },
        "xaxis2": {
         "anchor": "y2",
         "domain": [
          0.0,
          1.0
         ],
         "matches": "x",
         "showgrid": true,
         "showticklabels": false
        },
        "yaxis": {
         "anchor": "x",
         "domain": [
          0.0,
          0.7326
         ],
         "title": {
          "text": "count of Owning A Car"
         }
        },
        "yaxis2": {
         "anchor": "x2",
         "domain": [
          0.7426,
          1.0
         ],
         "matches": "y2",
         "showgrid": false,
         "showline": false,
         "showticklabels": false,
         "ticks": ""
        }
       }
      },
      "text/html": "<div>\n        \n        \n            <div id=\"29bd5253-4595-4e08-b1bc-4ab7b7c5e811\" class=\"plotly-graph-div\" style=\"height:525px; width:100%;\"></div>\n            <script type=\"text/javascript\">\n                require([\"plotly\"], function(Plotly) {\n                    window.PLOTLYENV=window.PLOTLYENV || {};\n                    \n                if (document.getElementById(\"29bd5253-4595-4e08-b1bc-4ab7b7c5e811\")) {\n                    Plotly.newPlot(\n                        '29bd5253-4595-4e08-b1bc-4ab7b7c5e811',\n                        [{\"alignmentgroup\": \"True\", \"bingroup\": \"x\", \"hoverlabel\": {\"namelength\": 0}, \"hovertemplate\": \"Genders=Male<br>Age=%{x}<br>count of Owning A Car=%{y}\", \"legendgroup\": \"Male\", \"marker\": {\"color\": \"#636efa\"}, \"name\": \"Male\", \"offsetgroup\": \"Male\", \"orientation\": \"v\", \"showlegend\": true, \"type\": \"histogram\", \"x\": [63.05, 48.26, 34.99, 66.33, 51.61, 26.84, 68.67, 65.13, 26.92, 21.36, 26.61, 54.01, 37.47, 48.59, 21.15, 45.87, 59.36, 70.47, 67.86, 20.78, 77.47, 73.77, 80.64, 74.06, 32.81, 79.43, 64.48, 45.39, 55.08, 52.84, 54.04, 19.4, 71.4, 44.59, 51.47, 69.06, 64.44, 30.7, 25.44, 69.6, 74.35, 46.35, 28.01, 81.79, 79.65, 75.46, 36.68, 40.45, 39.11, 41.48, 20.1, 42.17, 76.85, 59.18, 50.86, 49.26, 41.64, 53.49, 27.7, 24.45, 68.62, 24.08, 59.57, 57.82, 63.36, 29.71, 55.42, 32.55, 38.99, 65.72, 48.95, 38.88, 43.73, 60.6, 22.84, 42.18, 64.11, 55.84, 59.47, 66.78, 61.13, 56.95, 59.88, 56.5, 25.2, 66.13, 37.64, 30.2, 77.98, 65.46, 42.52, 56.79, 22.55, 50.52, 74.73, 45.63, 46.71, 22.93, 45.98, 62.28, 69.26, 55.49, 53.38, 64.28, 41.01, 18.59, 41.01, 61.42, 58.93, 75.76, 53.88, 26.38, 22.75, 43.86, 59.61, 19.11, 64.2, 69.83, 40.17, 66.39, 67.65, 41.64, 22.44, 21.28, 26.12, 64.68, 33.85, 69.64, 43.97, 26.29, 24.62, 26.29, 41.58, 24.52, 23.09, 59.19, 65.05, 50.2, 70.23, 69.37, 57.0, 64.84, 22.54, 26.86, 80.94, 33.25, 66.56, 25.03, 62.1, 43.75, 61.01, 44.04, 64.37, 49.89, 25.6, 81.91, 42.28, 42.81, 29.17, 73.94, 47.9, 37.2, 48.8, 54.89, 54.5, 47.77, 22.77, 26.74, 63.87, 23.34, 39.3, 30.32, 56.91, 46.44, 19.29, 45.02, 70.29, 24.37, 37.47, 59.83, 67.33, 47.72, 73.05, 29.48, 80.2, 53.73, 41.56, 68.87, 72.58, 37.75, 21.96, 41.59, 67.34, 61.0, 41.47, 73.32, 59.0, 46.01, 24.78, 71.99, 46.81, 82.14, 63.82, 48.08, 79.12, 59.59, 39.32, 69.53, 55.94, 26.47, 54.41, 51.25, 51.57, 34.53, 69.25, 22.16, 52.13, 53.24, 43.46, 34.09, 60.87, 46.21, 61.05, 67.62, 64.83], \"xaxis\": \"x\", \"y\": [\"Yes\", \"Yes\", \"Yes\", \"Yes\", \"Yes\", \"Yes\", \"Yes\", \"Yes\", \"Yes\", \"Yes\", \"Yes\", \"Yes\", \"Yes\", \"Yes\", \"Yes\", \"Yes\", \"Yes\", \"Yes\", \"Yes\", \"Yes\", \"Yes\", \"Yes\", \"Yes\", \"Yes\", \"Yes\", \"Yes\", \"Yes\", \"Yes\", \"Yes\", \"Yes\", \"Yes\", \"Yes\", \"Yes\", \"Yes\", \"Yes\", \"Yes\", \"Yes\", \"Yes\", \"Yes\", \"Yes\", \"Yes\", \"Yes\", \"Yes\", \"Yes\", \"Yes\", \"Yes\", \"Yes\", \"Yes\", \"Yes\", \"Yes\", \"Yes\", \"Yes\", \"Yes\", \"Yes\", \"Yes\", \"Yes\", \"Yes\", \"Yes\", \"Yes\", \"Yes\", \"Yes\", \"Yes\", \"Yes\", \"Yes\", \"Yes\", \"Yes\", \"Yes\", \"Yes\", \"Yes\", \"Yes\", \"Yes\", \"Yes\", \"Yes\", \"Yes\", \"Yes\", \"Yes\", \"Yes\", \"Yes\", \"Yes\", \"Yes\", \"Yes\", \"Yes\", \"Yes\", \"Yes\", \"Yes\", \"Yes\", \"Yes\", \"Yes\", \"Yes\", \"Yes\", \"Yes\", \"Yes\", \"Yes\", \"Yes\", \"Yes\", \"Yes\", \"Yes\", \"Yes\", \"Yes\", \"Yes\", \"Yes\", \"Yes\", \"Yes\", \"Yes\", \"Yes\", \"Yes\", \"Yes\", \"Yes\", \"Yes\", \"Yes\", \"Yes\", \"Yes\", \"Yes\", \"Yes\", \"Yes\", \"Yes\", \"Yes\", \"Yes\", \"Yes\", \"Yes\", \"Yes\", \"Yes\", \"Yes\", \"Yes\", \"Yes\", \"Yes\", \"Yes\", \"Yes\", \"Yes\", \"Yes\", \"Yes\", \"Yes\", \"Yes\", \"Yes\", \"Yes\", \"Yes\", \"Yes\", \"Yes\", \"Yes\", \"Yes\", \"Yes\", \"Yes\", \"Yes\", \"Yes\", \"Yes\", \"Yes\", \"Yes\", \"Yes\", \"Yes\", \"Yes\", \"Yes\", \"Yes\", \"Yes\", \"Yes\", \"Yes\", \"Yes\", \"Yes\", \"Yes\", \"Yes\", \"Yes\", \"Yes\", \"Yes\", \"Yes\", \"Yes\", \"Yes\", \"Yes\", \"Yes\", \"Yes\", \"Yes\", \"Yes\", \"Yes\", \"Yes\", \"Yes\", \"Yes\", \"Yes\", \"Yes\", \"Yes\", \"Yes\", \"Yes\", \"Yes\", \"Yes\", \"Yes\", \"Yes\", \"Yes\", \"Yes\", \"Yes\", \"Yes\", \"Yes\", \"Yes\", \"Yes\", \"Yes\", \"Yes\", \"Yes\", \"Yes\", \"Yes\", \"Yes\", \"Yes\", \"Yes\", \"Yes\", \"Yes\", \"Yes\", \"Yes\", \"Yes\", \"Yes\", \"Yes\", \"Yes\", \"Yes\", \"Yes\", \"Yes\", \"Yes\", \"Yes\", \"Yes\", \"Yes\", \"Yes\", \"Yes\", \"Yes\", \"Yes\", \"Yes\", \"Yes\", \"Yes\", \"Yes\", \"Yes\", \"Yes\", \"Yes\", \"Yes\"], \"yaxis\": \"y\"}, {\"alignmentgroup\": \"True\", \"hoverlabel\": {\"namelength\": 0}, \"hovertemplate\": \"Genders=Male<br>Age=%{x}\", \"legendgroup\": \"Male\", \"marker\": {\"color\": \"#636efa\"}, \"name\": \"Male\", \"notched\": true, \"offsetgroup\": \"Male\", \"showlegend\": false, \"type\": \"box\", \"x\": [63.05, 48.26, 34.99, 66.33, 51.61, 26.84, 68.67, 65.13, 26.92, 21.36, 26.61, 54.01, 37.47, 48.59, 21.15, 45.87, 59.36, 70.47, 67.86, 20.78, 77.47, 73.77, 80.64, 74.06, 32.81, 79.43, 64.48, 45.39, 55.08, 52.84, 54.04, 19.4, 71.4, 44.59, 51.47, 69.06, 64.44, 30.7, 25.44, 69.6, 74.35, 46.35, 28.01, 81.79, 79.65, 75.46, 36.68, 40.45, 39.11, 41.48, 20.1, 42.17, 76.85, 59.18, 50.86, 49.26, 41.64, 53.49, 27.7, 24.45, 68.62, 24.08, 59.57, 57.82, 63.36, 29.71, 55.42, 32.55, 38.99, 65.72, 48.95, 38.88, 43.73, 60.6, 22.84, 42.18, 64.11, 55.84, 59.47, 66.78, 61.13, 56.95, 59.88, 56.5, 25.2, 66.13, 37.64, 30.2, 77.98, 65.46, 42.52, 56.79, 22.55, 50.52, 74.73, 45.63, 46.71, 22.93, 45.98, 62.28, 69.26, 55.49, 53.38, 64.28, 41.01, 18.59, 41.01, 61.42, 58.93, 75.76, 53.88, 26.38, 22.75, 43.86, 59.61, 19.11, 64.2, 69.83, 40.17, 66.39, 67.65, 41.64, 22.44, 21.28, 26.12, 64.68, 33.85, 69.64, 43.97, 26.29, 24.62, 26.29, 41.58, 24.52, 23.09, 59.19, 65.05, 50.2, 70.23, 69.37, 57.0, 64.84, 22.54, 26.86, 80.94, 33.25, 66.56, 25.03, 62.1, 43.75, 61.01, 44.04, 64.37, 49.89, 25.6, 81.91, 42.28, 42.81, 29.17, 73.94, 47.9, 37.2, 48.8, 54.89, 54.5, 47.77, 22.77, 26.74, 63.87, 23.34, 39.3, 30.32, 56.91, 46.44, 19.29, 45.02, 70.29, 24.37, 37.47, 59.83, 67.33, 47.72, 73.05, 29.48, 80.2, 53.73, 41.56, 68.87, 72.58, 37.75, 21.96, 41.59, 67.34, 61.0, 41.47, 73.32, 59.0, 46.01, 24.78, 71.99, 46.81, 82.14, 63.82, 48.08, 79.12, 59.59, 39.32, 69.53, 55.94, 26.47, 54.41, 51.25, 51.57, 34.53, 69.25, 22.16, 52.13, 53.24, 43.46, 34.09, 60.87, 46.21, 61.05, 67.62, 64.83], \"xaxis\": \"x2\", \"yaxis\": \"y2\"}, {\"alignmentgroup\": \"True\", \"bingroup\": \"x\", \"hoverlabel\": {\"namelength\": 0}, \"hovertemplate\": \"Genders=Female<br>Age=%{x}<br>count of Owning A Car=%{y}\", \"legendgroup\": \"Female\", \"marker\": {\"color\": \"#EF553B\"}, \"name\": \"Female\", \"offsetgroup\": \"Female\", \"orientation\": \"v\", \"showlegend\": true, \"type\": \"histogram\", \"x\": [41.5, 69.26, 47.59, 26.94, 81.72, 42.62, 68.09, 54.03, 40.51, 33.54, 45.23, 63.92, 64.04, 25.66, 43.21, 53.37, 20.69, 24.03, 35.81, 31.86, 23.99, 62.28, 63.77, 48.54, 20.23, 58.78, 50.72, 51.71, 42.55, 67.63, 30.05, 58.01, 60.37, 42.48, 41.12, 40.47, 52.62, 58.59, 57.27, 42.54, 24.99, 50.93, 41.19, 31.57, 81.5, 47.23, 76.57, 54.58, 67.78, 71.8, 64.95, 73.42, 57.58, 56.63, 23.02, 76.82, 81.32, 78.83, 46.52, 69.9, 52.89, 19.85, 51.07, 72.55, 50.7, 54.4, 44.4, 48.87, 44.28, 57.22, 32.5, 65.04, 61.14, 29.48, 28.5, 62.79, 35.35, 65.01, 68.2, 74.98, 20.77, 45.34, 50.81, 51.63, 80.61, 68.29, 79.03, 75.77, 18.42, 75.72, 22.59, 20.73, 62.83, 78.52, 24.52, 46.93, 58.61, 18.53, 59.57, 53.53, 42.89, 39.96, 74.38, 73.03, 45.56, 42.84, 44.61, 79.32, 33.42, 48.2, 54.25, 21.69, 28.66, 47.93, 45.68, 80.2, 26.99, 49.62, 29.78, 45.13, 44.8, 76.13, 65.78, 45.95, 44.89, 45.92, 43.68, 66.5, 31.83, 56.21, 65.82, 55.73, 38.88, 64.17, 47.56, 29.28, 41.57, 44.54, 24.83, 65.07, 56.38, 18.84, 52.0, 55.43, 30.07, 25.04, 33.28, 24.22, 47.38, 62.03, 47.5, 53.86, 40.83, 21.93, 51.4, 64.07, 51.59, 80.15, 60.3, 47.05, 57.86, 44.75, 65.78, 70.24, 80.19, 77.78, 23.33, 62.27, 68.67, 76.26, 35.35, 78.07, 42.88, 39.75, 45.8, 24.12, 39.24, 42.35, 40.31, 28.1, 39.5, 66.98, 36.64, 56.79, 53.78, 20.67, 43.57, 51.4, 58.64, 28.31, 75.14, 53.87, 73.14, 72.41, 58.22, 60.07, 46.84, 30.32, 54.61, 81.99, 31.02, 32.4, 24.32, 56.06, 62.9, 27.8, 46.51, 53.7, 46.19, 51.68, 42.06, 47.22, 56.65, 28.39, 46.97, 52.82, 62.29, 24.78, 23.4, 77.89, 39.88, 80.73, 20.2, 58.94, 46.15, 26.3, 23.41, 63.37, 21.12, 20.35, 47.22, 62.7, 59.47, 41.21, 62.21, 47.17, 60.95, 42.37, 26.97, 32.89, 56.97, 74.75, 46.25, 65.9, 49.26, 31.94, 57.87, 24.97, 56.49, 39.61, 45.43, 52.94, 54.58, 19.51, 28.31, 68.94, 77.38, 75.01, 66.21, 46.62, 65.82], \"xaxis\": \"x\", \"y\": [\"Yes\", \"Yes\", \"Yes\", \"Yes\", \"Yes\", \"Yes\", \"Yes\", \"Yes\", \"Yes\", \"Yes\", \"Yes\", \"Yes\", \"Yes\", \"Yes\", \"Yes\", \"Yes\", \"Yes\", \"Yes\", \"Yes\", \"Yes\", \"Yes\", \"Yes\", \"Yes\", \"Yes\", \"Yes\", \"Yes\", \"Yes\", \"Yes\", \"Yes\", \"Yes\", \"Yes\", \"Yes\", \"Yes\", \"Yes\", \"Yes\", \"Yes\", \"Yes\", \"Yes\", \"Yes\", \"Yes\", \"Yes\", \"Yes\", \"Yes\", \"Yes\", \"Yes\", \"Yes\", \"Yes\", \"Yes\", \"Yes\", \"Yes\", \"Yes\", \"Yes\", \"Yes\", \"Yes\", \"Yes\", \"Yes\", \"Yes\", \"Yes\", \"Yes\", \"Yes\", \"Yes\", \"Yes\", \"Yes\", \"Yes\", \"Yes\", \"Yes\", \"Yes\", \"Yes\", \"Yes\", \"Yes\", \"Yes\", \"Yes\", \"Yes\", \"Yes\", \"Yes\", \"Yes\", \"Yes\", \"Yes\", \"Yes\", \"Yes\", \"Yes\", \"Yes\", \"Yes\", \"Yes\", \"Yes\", \"Yes\", \"Yes\", \"Yes\", \"Yes\", \"Yes\", \"Yes\", \"Yes\", \"Yes\", \"Yes\", \"Yes\", \"Yes\", \"Yes\", \"Yes\", \"Yes\", \"Yes\", \"Yes\", \"Yes\", \"Yes\", \"Yes\", \"Yes\", \"Yes\", \"Yes\", \"Yes\", \"Yes\", \"Yes\", \"Yes\", \"Yes\", \"Yes\", \"Yes\", \"Yes\", \"Yes\", \"Yes\", \"Yes\", \"Yes\", \"Yes\", \"Yes\", \"Yes\", \"Yes\", \"Yes\", \"Yes\", \"Yes\", \"Yes\", \"Yes\", \"Yes\", \"Yes\", \"Yes\", \"Yes\", \"Yes\", \"Yes\", \"Yes\", \"Yes\", \"Yes\", \"Yes\", \"Yes\", \"Yes\", \"Yes\", \"Yes\", \"Yes\", \"Yes\", \"Yes\", \"Yes\", \"Yes\", \"Yes\", \"Yes\", \"Yes\", \"Yes\", \"Yes\", \"Yes\", \"Yes\", \"Yes\", \"Yes\", \"Yes\", \"Yes\", \"Yes\", \"Yes\", \"Yes\", \"Yes\", \"Yes\", \"Yes\", \"Yes\", \"Yes\", \"Yes\", \"Yes\", \"Yes\", \"Yes\", \"Yes\", \"Yes\", \"Yes\", \"Yes\", \"Yes\", \"Yes\", \"Yes\", \"Yes\", \"Yes\", \"Yes\", \"Yes\", \"Yes\", \"Yes\", \"Yes\", \"Yes\", \"Yes\", \"Yes\", \"Yes\", \"Yes\", \"Yes\", \"Yes\", \"Yes\", \"Yes\", \"Yes\", \"Yes\", \"Yes\", \"Yes\", \"Yes\", \"Yes\", \"Yes\", \"Yes\", \"Yes\", \"Yes\", \"Yes\", \"Yes\", \"Yes\", \"Yes\", \"Yes\", \"Yes\", \"Yes\", \"Yes\", \"Yes\", \"Yes\", \"Yes\", \"Yes\", \"Yes\", \"Yes\", \"Yes\", \"Yes\", \"Yes\", \"Yes\", \"Yes\", \"Yes\", \"Yes\", \"Yes\", \"Yes\", \"Yes\", \"Yes\", \"Yes\", \"Yes\", \"Yes\", \"Yes\", \"Yes\", \"Yes\", \"Yes\", \"Yes\", \"Yes\", \"Yes\", \"Yes\", \"Yes\", \"Yes\", \"Yes\", \"Yes\", \"Yes\", \"Yes\", \"Yes\", \"Yes\", \"Yes\", \"Yes\", \"Yes\", \"Yes\", \"Yes\", \"Yes\", \"Yes\", \"Yes\", \"Yes\", \"Yes\", \"Yes\", \"Yes\", \"Yes\", \"Yes\"], \"yaxis\": \"y\"}, {\"alignmentgroup\": \"True\", \"hoverlabel\": {\"namelength\": 0}, \"hovertemplate\": \"Genders=Female<br>Age=%{x}\", \"legendgroup\": \"Female\", \"marker\": {\"color\": \"#EF553B\"}, \"name\": \"Female\", \"notched\": true, \"offsetgroup\": \"Female\", \"showlegend\": false, \"type\": \"box\", \"x\": [41.5, 69.26, 47.59, 26.94, 81.72, 42.62, 68.09, 54.03, 40.51, 33.54, 45.23, 63.92, 64.04, 25.66, 43.21, 53.37, 20.69, 24.03, 35.81, 31.86, 23.99, 62.28, 63.77, 48.54, 20.23, 58.78, 50.72, 51.71, 42.55, 67.63, 30.05, 58.01, 60.37, 42.48, 41.12, 40.47, 52.62, 58.59, 57.27, 42.54, 24.99, 50.93, 41.19, 31.57, 81.5, 47.23, 76.57, 54.58, 67.78, 71.8, 64.95, 73.42, 57.58, 56.63, 23.02, 76.82, 81.32, 78.83, 46.52, 69.9, 52.89, 19.85, 51.07, 72.55, 50.7, 54.4, 44.4, 48.87, 44.28, 57.22, 32.5, 65.04, 61.14, 29.48, 28.5, 62.79, 35.35, 65.01, 68.2, 74.98, 20.77, 45.34, 50.81, 51.63, 80.61, 68.29, 79.03, 75.77, 18.42, 75.72, 22.59, 20.73, 62.83, 78.52, 24.52, 46.93, 58.61, 18.53, 59.57, 53.53, 42.89, 39.96, 74.38, 73.03, 45.56, 42.84, 44.61, 79.32, 33.42, 48.2, 54.25, 21.69, 28.66, 47.93, 45.68, 80.2, 26.99, 49.62, 29.78, 45.13, 44.8, 76.13, 65.78, 45.95, 44.89, 45.92, 43.68, 66.5, 31.83, 56.21, 65.82, 55.73, 38.88, 64.17, 47.56, 29.28, 41.57, 44.54, 24.83, 65.07, 56.38, 18.84, 52.0, 55.43, 30.07, 25.04, 33.28, 24.22, 47.38, 62.03, 47.5, 53.86, 40.83, 21.93, 51.4, 64.07, 51.59, 80.15, 60.3, 47.05, 57.86, 44.75, 65.78, 70.24, 80.19, 77.78, 23.33, 62.27, 68.67, 76.26, 35.35, 78.07, 42.88, 39.75, 45.8, 24.12, 39.24, 42.35, 40.31, 28.1, 39.5, 66.98, 36.64, 56.79, 53.78, 20.67, 43.57, 51.4, 58.64, 28.31, 75.14, 53.87, 73.14, 72.41, 58.22, 60.07, 46.84, 30.32, 54.61, 81.99, 31.02, 32.4, 24.32, 56.06, 62.9, 27.8, 46.51, 53.7, 46.19, 51.68, 42.06, 47.22, 56.65, 28.39, 46.97, 52.82, 62.29, 24.78, 23.4, 77.89, 39.88, 80.73, 20.2, 58.94, 46.15, 26.3, 23.41, 63.37, 21.12, 20.35, 47.22, 62.7, 59.47, 41.21, 62.21, 47.17, 60.95, 42.37, 26.97, 32.89, 56.97, 74.75, 46.25, 65.9, 49.26, 31.94, 57.87, 24.97, 56.49, 39.61, 45.43, 52.94, 54.58, 19.51, 28.31, 68.94, 77.38, 75.01, 66.21, 46.62, 65.82], \"xaxis\": \"x2\", \"yaxis\": \"y2\"}],\n                        {\"barmode\": \"relative\", \"legend\": {\"title\": {\"text\": \"Genders\"}, \"tracegroupgap\": 0}, \"margin\": {\"t\": 60}, \"template\": {\"data\": {\"bar\": [{\"error_x\": {\"color\": \"#2a3f5f\"}, \"error_y\": {\"color\": \"#2a3f5f\"}, \"marker\": {\"line\": {\"color\": \"#E5ECF6\", \"width\": 0.5}}, \"type\": \"bar\"}], \"barpolar\": [{\"marker\": {\"line\": {\"color\": \"#E5ECF6\", \"width\": 0.5}}, \"type\": \"barpolar\"}], \"carpet\": [{\"aaxis\": {\"endlinecolor\": \"#2a3f5f\", \"gridcolor\": \"white\", \"linecolor\": \"white\", \"minorgridcolor\": \"white\", \"startlinecolor\": \"#2a3f5f\"}, \"baxis\": {\"endlinecolor\": \"#2a3f5f\", \"gridcolor\": \"white\", \"linecolor\": \"white\", \"minorgridcolor\": \"white\", \"startlinecolor\": \"#2a3f5f\"}, \"type\": \"carpet\"}], \"choropleth\": [{\"colorbar\": {\"outlinewidth\": 0, \"ticks\": \"\"}, \"type\": \"choropleth\"}], \"contour\": [{\"colorbar\": {\"outlinewidth\": 0, \"ticks\": \"\"}, \"colorscale\": [[0.0, \"#0d0887\"], [0.1111111111111111, \"#46039f\"], [0.2222222222222222, \"#7201a8\"], [0.3333333333333333, \"#9c179e\"], [0.4444444444444444, \"#bd3786\"], [0.5555555555555556, \"#d8576b\"], [0.6666666666666666, \"#ed7953\"], [0.7777777777777778, \"#fb9f3a\"], [0.8888888888888888, \"#fdca26\"], [1.0, \"#f0f921\"]], \"type\": \"contour\"}], \"contourcarpet\": [{\"colorbar\": {\"outlinewidth\": 0, \"ticks\": \"\"}, \"type\": \"contourcarpet\"}], \"heatmap\": [{\"colorbar\": {\"outlinewidth\": 0, \"ticks\": \"\"}, \"colorscale\": [[0.0, \"#0d0887\"], [0.1111111111111111, \"#46039f\"], [0.2222222222222222, \"#7201a8\"], [0.3333333333333333, \"#9c179e\"], [0.4444444444444444, \"#bd3786\"], [0.5555555555555556, \"#d8576b\"], [0.6666666666666666, \"#ed7953\"], [0.7777777777777778, \"#fb9f3a\"], [0.8888888888888888, \"#fdca26\"], [1.0, \"#f0f921\"]], \"type\": \"heatmap\"}], \"heatmapgl\": [{\"colorbar\": {\"outlinewidth\": 0, \"ticks\": \"\"}, \"colorscale\": [[0.0, \"#0d0887\"], [0.1111111111111111, \"#46039f\"], [0.2222222222222222, \"#7201a8\"], [0.3333333333333333, \"#9c179e\"], [0.4444444444444444, \"#bd3786\"], [0.5555555555555556, \"#d8576b\"], [0.6666666666666666, \"#ed7953\"], [0.7777777777777778, \"#fb9f3a\"], [0.8888888888888888, \"#fdca26\"], [1.0, \"#f0f921\"]], \"type\": \"heatmapgl\"}], \"histogram\": [{\"marker\": {\"colorbar\": {\"outlinewidth\": 0, \"ticks\": \"\"}}, \"type\": \"histogram\"}], \"histogram2d\": [{\"colorbar\": {\"outlinewidth\": 0, \"ticks\": \"\"}, \"colorscale\": [[0.0, \"#0d0887\"], [0.1111111111111111, \"#46039f\"], [0.2222222222222222, \"#7201a8\"], [0.3333333333333333, \"#9c179e\"], [0.4444444444444444, \"#bd3786\"], [0.5555555555555556, \"#d8576b\"], [0.6666666666666666, \"#ed7953\"], [0.7777777777777778, \"#fb9f3a\"], [0.8888888888888888, \"#fdca26\"], [1.0, \"#f0f921\"]], \"type\": \"histogram2d\"}], \"histogram2dcontour\": [{\"colorbar\": {\"outlinewidth\": 0, \"ticks\": \"\"}, \"colorscale\": [[0.0, \"#0d0887\"], [0.1111111111111111, \"#46039f\"], [0.2222222222222222, \"#7201a8\"], [0.3333333333333333, \"#9c179e\"], [0.4444444444444444, \"#bd3786\"], [0.5555555555555556, \"#d8576b\"], [0.6666666666666666, \"#ed7953\"], [0.7777777777777778, \"#fb9f3a\"], [0.8888888888888888, \"#fdca26\"], [1.0, \"#f0f921\"]], \"type\": \"histogram2dcontour\"}], \"mesh3d\": [{\"colorbar\": {\"outlinewidth\": 0, \"ticks\": \"\"}, \"type\": \"mesh3d\"}], \"parcoords\": [{\"line\": {\"colorbar\": {\"outlinewidth\": 0, \"ticks\": \"\"}}, \"type\": \"parcoords\"}], \"pie\": [{\"automargin\": true, \"type\": \"pie\"}], \"scatter\": [{\"marker\": {\"colorbar\": {\"outlinewidth\": 0, \"ticks\": \"\"}}, \"type\": \"scatter\"}], \"scatter3d\": [{\"line\": {\"colorbar\": {\"outlinewidth\": 0, \"ticks\": \"\"}}, \"marker\": {\"colorbar\": {\"outlinewidth\": 0, \"ticks\": \"\"}}, \"type\": \"scatter3d\"}], \"scattercarpet\": [{\"marker\": {\"colorbar\": {\"outlinewidth\": 0, \"ticks\": \"\"}}, \"type\": \"scattercarpet\"}], \"scattergeo\": [{\"marker\": {\"colorbar\": {\"outlinewidth\": 0, \"ticks\": \"\"}}, \"type\": \"scattergeo\"}], \"scattergl\": [{\"marker\": {\"colorbar\": {\"outlinewidth\": 0, \"ticks\": \"\"}}, \"type\": \"scattergl\"}], \"scattermapbox\": [{\"marker\": {\"colorbar\": {\"outlinewidth\": 0, \"ticks\": \"\"}}, \"type\": \"scattermapbox\"}], \"scatterpolar\": [{\"marker\": {\"colorbar\": {\"outlinewidth\": 0, \"ticks\": \"\"}}, \"type\": \"scatterpolar\"}], \"scatterpolargl\": [{\"marker\": {\"colorbar\": {\"outlinewidth\": 0, \"ticks\": \"\"}}, \"type\": \"scatterpolargl\"}], \"scatterternary\": [{\"marker\": {\"colorbar\": {\"outlinewidth\": 0, \"ticks\": \"\"}}, \"type\": \"scatterternary\"}], \"surface\": [{\"colorbar\": {\"outlinewidth\": 0, \"ticks\": \"\"}, \"colorscale\": [[0.0, \"#0d0887\"], [0.1111111111111111, \"#46039f\"], [0.2222222222222222, \"#7201a8\"], [0.3333333333333333, \"#9c179e\"], [0.4444444444444444, \"#bd3786\"], [0.5555555555555556, \"#d8576b\"], [0.6666666666666666, \"#ed7953\"], [0.7777777777777778, \"#fb9f3a\"], [0.8888888888888888, \"#fdca26\"], [1.0, \"#f0f921\"]], \"type\": \"surface\"}], \"table\": [{\"cells\": {\"fill\": {\"color\": \"#EBF0F8\"}, \"line\": {\"color\": \"white\"}}, \"header\": {\"fill\": {\"color\": \"#C8D4E3\"}, \"line\": {\"color\": \"white\"}}, \"type\": \"table\"}]}, \"layout\": {\"annotationdefaults\": {\"arrowcolor\": \"#2a3f5f\", \"arrowhead\": 0, \"arrowwidth\": 1}, \"coloraxis\": {\"colorbar\": {\"outlinewidth\": 0, \"ticks\": \"\"}}, \"colorscale\": {\"diverging\": [[0, \"#8e0152\"], [0.1, \"#c51b7d\"], [0.2, \"#de77ae\"], [0.3, \"#f1b6da\"], [0.4, \"#fde0ef\"], [0.5, \"#f7f7f7\"], [0.6, \"#e6f5d0\"], [0.7, \"#b8e186\"], [0.8, \"#7fbc41\"], [0.9, \"#4d9221\"], [1, \"#276419\"]], \"sequential\": [[0.0, \"#0d0887\"], [0.1111111111111111, \"#46039f\"], [0.2222222222222222, \"#7201a8\"], [0.3333333333333333, \"#9c179e\"], [0.4444444444444444, \"#bd3786\"], [0.5555555555555556, \"#d8576b\"], [0.6666666666666666, \"#ed7953\"], [0.7777777777777778, \"#fb9f3a\"], [0.8888888888888888, \"#fdca26\"], [1.0, \"#f0f921\"]], \"sequentialminus\": [[0.0, \"#0d0887\"], [0.1111111111111111, \"#46039f\"], [0.2222222222222222, \"#7201a8\"], [0.3333333333333333, \"#9c179e\"], [0.4444444444444444, \"#bd3786\"], [0.5555555555555556, \"#d8576b\"], [0.6666666666666666, \"#ed7953\"], [0.7777777777777778, \"#fb9f3a\"], [0.8888888888888888, \"#fdca26\"], [1.0, \"#f0f921\"]]}, \"colorway\": [\"#636efa\", \"#EF553B\", \"#00cc96\", \"#ab63fa\", \"#FFA15A\", \"#19d3f3\", \"#FF6692\", \"#B6E880\", \"#FF97FF\", \"#FECB52\"], \"font\": {\"color\": \"#2a3f5f\"}, \"geo\": {\"bgcolor\": \"white\", \"lakecolor\": \"white\", \"landcolor\": \"#E5ECF6\", \"showlakes\": true, \"showland\": true, \"subunitcolor\": \"white\"}, \"hoverlabel\": {\"align\": \"left\"}, \"hovermode\": \"closest\", \"mapbox\": {\"style\": \"light\"}, \"paper_bgcolor\": \"white\", \"plot_bgcolor\": \"#E5ECF6\", \"polar\": {\"angularaxis\": {\"gridcolor\": \"white\", \"linecolor\": \"white\", \"ticks\": \"\"}, \"bgcolor\": \"#E5ECF6\", \"radialaxis\": {\"gridcolor\": \"white\", \"linecolor\": \"white\", \"ticks\": \"\"}}, \"scene\": {\"xaxis\": {\"backgroundcolor\": \"#E5ECF6\", \"gridcolor\": \"white\", \"gridwidth\": 2, \"linecolor\": \"white\", \"showbackground\": true, \"ticks\": \"\", \"zerolinecolor\": \"white\"}, \"yaxis\": {\"backgroundcolor\": \"#E5ECF6\", \"gridcolor\": \"white\", \"gridwidth\": 2, \"linecolor\": \"white\", \"showbackground\": true, \"ticks\": \"\", \"zerolinecolor\": \"white\"}, \"zaxis\": {\"backgroundcolor\": \"#E5ECF6\", \"gridcolor\": \"white\", \"gridwidth\": 2, \"linecolor\": \"white\", \"showbackground\": true, \"ticks\": \"\", \"zerolinecolor\": \"white\"}}, \"shapedefaults\": {\"line\": {\"color\": \"#2a3f5f\"}}, \"ternary\": {\"aaxis\": {\"gridcolor\": \"white\", \"linecolor\": \"white\", \"ticks\": \"\"}, \"baxis\": {\"gridcolor\": \"white\", \"linecolor\": \"white\", \"ticks\": \"\"}, \"bgcolor\": \"#E5ECF6\", \"caxis\": {\"gridcolor\": \"white\", \"linecolor\": \"white\", \"ticks\": \"\"}}, \"title\": {\"x\": 0.05}, \"xaxis\": {\"automargin\": true, \"gridcolor\": \"white\", \"linecolor\": \"white\", \"ticks\": \"\", \"title\": {\"standoff\": 15}, \"zerolinecolor\": \"white\", \"zerolinewidth\": 2}, \"yaxis\": {\"automargin\": true, \"gridcolor\": \"white\", \"linecolor\": \"white\", \"ticks\": \"\", \"title\": {\"standoff\": 15}, \"zerolinecolor\": \"white\", \"zerolinewidth\": 2}}}, \"xaxis\": {\"anchor\": \"y\", \"domain\": [0.0, 1.0], \"title\": {\"text\": \"Age\"}}, \"xaxis2\": {\"anchor\": \"y2\", \"domain\": [0.0, 1.0], \"matches\": \"x\", \"showgrid\": true, \"showticklabels\": false}, \"yaxis\": {\"anchor\": \"x\", \"domain\": [0.0, 0.7326], \"title\": {\"text\": \"count of Owning A Car\"}}, \"yaxis2\": {\"anchor\": \"x2\", \"domain\": [0.7426, 1.0], \"matches\": \"y2\", \"showgrid\": false, \"showline\": false, \"showticklabels\": false, \"ticks\": \"\"}},\n                        {\"responsive\": true}\n                    ).then(function(){\n                            \nvar gd = document.getElementById('29bd5253-4595-4e08-b1bc-4ab7b7c5e811');\nvar x = new MutationObserver(function (mutations, observer) {{\n        var display = window.getComputedStyle(gd).display;\n        if (!display || display === 'none') {{\n            console.log([gd, 'removed!']);\n            Plotly.purge(gd);\n            observer.disconnect();\n        }}\n}});\n\n// Listen for the removal of the full notebook cells\nvar notebookContainer = gd.closest('#notebook-container');\nif (notebookContainer) {{\n    x.observe(notebookContainer, {childList: true});\n}}\n\n// Listen for the clearing of the current output cell\nvar outputEl = gd.closest('.output');\nif (outputEl) {{\n    x.observe(outputEl, {childList: true});\n}}\n\n                        })\n                };\n                });\n            </script>\n        </div>"
     },
     "metadata": {},
     "output_type": "display_data"
    }
   ],
   "source": [
    "import plotly.express as px\n",
    "\n",
    "fig = px.histogram(df_cars,\n",
    "                   x=\"Age\",\n",
    "                   y=\"owns_car\",\n",
    "                   color=\"gender\",\n",
    "                   marginal=\"box\", # or violin, rug\n",
    "                   hover_data=None,\n",
    "                   labels={'owns_car':'Owning A Car',\n",
    "                           'age':'Age',\n",
    "                           'gender':'Genders'},\n",
    "                   )\n",
    "fig.show()"
   ],
   "metadata": {
    "collapsed": false,
    "pycharm": {
     "name": "#%%\n"
    }
   }
  },
  {
   "cell_type": "markdown",
   "source": [
    "<h1> Correlation Investigation"
   ],
   "metadata": {
    "collapsed": false,
    "pycharm": {
     "name": "#%% md\n"
    }
   }
  },
  {
   "cell_type": "code",
   "execution_count": 213,
   "outputs": [
    {
     "data": {
      "text/plain": "   gender  3y_bike_purchases     wealth_segment owns_car   Age\n0    Male                 86      Mass Customer      Yes 63.05\n1    Male                 69      Mass Customer       No 50.36\n2  Female                 10  Affluent Customer       No 45.92\n3  Female                 64  Affluent Customer      Yes 41.50\n4  Female                 34  Affluent Customer       No 54.86",
      "text/html": "<div>\n<style scoped>\n    .dataframe tbody tr th:only-of-type {\n        vertical-align: middle;\n    }\n\n    .dataframe tbody tr th {\n        vertical-align: top;\n    }\n\n    .dataframe thead th {\n        text-align: right;\n    }\n</style>\n<table border=\"1\" class=\"dataframe\">\n  <thead>\n    <tr style=\"text-align: right;\">\n      <th></th>\n      <th>gender</th>\n      <th>3y_bike_purchases</th>\n      <th>wealth_segment</th>\n      <th>owns_car</th>\n      <th>Age</th>\n    </tr>\n  </thead>\n  <tbody>\n    <tr>\n      <th>0</th>\n      <td>Male</td>\n      <td>86</td>\n      <td>Mass Customer</td>\n      <td>Yes</td>\n      <td>63.05</td>\n    </tr>\n    <tr>\n      <th>1</th>\n      <td>Male</td>\n      <td>69</td>\n      <td>Mass Customer</td>\n      <td>No</td>\n      <td>50.36</td>\n    </tr>\n    <tr>\n      <th>2</th>\n      <td>Female</td>\n      <td>10</td>\n      <td>Affluent Customer</td>\n      <td>No</td>\n      <td>45.92</td>\n    </tr>\n    <tr>\n      <th>3</th>\n      <td>Female</td>\n      <td>64</td>\n      <td>Affluent Customer</td>\n      <td>Yes</td>\n      <td>41.50</td>\n    </tr>\n    <tr>\n      <th>4</th>\n      <td>Female</td>\n      <td>34</td>\n      <td>Affluent Customer</td>\n      <td>No</td>\n      <td>54.86</td>\n    </tr>\n  </tbody>\n</table>\n</div>"
     },
     "execution_count": 213,
     "metadata": {},
     "output_type": "execute_result"
    }
   ],
   "source": [
    "\n",
    "df_cor = df[[\"gender\",\"3y_bike_purchases\",\"wealth_segment\",\"owns_car\",\"Age\",]]\n",
    "df_cor.head()"
   ],
   "metadata": {
    "collapsed": false,
    "pycharm": {
     "name": "#%%\n"
    }
   }
  },
  {
   "cell_type": "code",
   "execution_count": 214,
   "outputs": [
    {
     "data": {
      "text/plain": "   3y_bike_purchases   Age  gender_Female  gender_Male  \\\n0                 86 63.05              0            1   \n1                 69 50.36              0            1   \n2                 10 45.92              1            0   \n3                 64 41.50              1            0   \n4                 34 54.86              1            0   \n\n   wealth_segment_Affluent Customer  wealth_segment_High Net Worth  \\\n0                                 0                              0   \n1                                 0                              0   \n2                                 1                              0   \n3                                 1                              0   \n4                                 1                              0   \n\n   wealth_segment_Mass Customer  owns_car_No  owns_car_Yes  \n0                             1            0             1  \n1                             1            1             0  \n2                             0            1             0  \n3                             0            0             1  \n4                             0            1             0  ",
      "text/html": "<div>\n<style scoped>\n    .dataframe tbody tr th:only-of-type {\n        vertical-align: middle;\n    }\n\n    .dataframe tbody tr th {\n        vertical-align: top;\n    }\n\n    .dataframe thead th {\n        text-align: right;\n    }\n</style>\n<table border=\"1\" class=\"dataframe\">\n  <thead>\n    <tr style=\"text-align: right;\">\n      <th></th>\n      <th>3y_bike_purchases</th>\n      <th>Age</th>\n      <th>gender_Female</th>\n      <th>gender_Male</th>\n      <th>wealth_segment_Affluent Customer</th>\n      <th>wealth_segment_High Net Worth</th>\n      <th>wealth_segment_Mass Customer</th>\n      <th>owns_car_No</th>\n      <th>owns_car_Yes</th>\n    </tr>\n  </thead>\n  <tbody>\n    <tr>\n      <th>0</th>\n      <td>86</td>\n      <td>63.05</td>\n      <td>0</td>\n      <td>1</td>\n      <td>0</td>\n      <td>0</td>\n      <td>1</td>\n      <td>0</td>\n      <td>1</td>\n    </tr>\n    <tr>\n      <th>1</th>\n      <td>69</td>\n      <td>50.36</td>\n      <td>0</td>\n      <td>1</td>\n      <td>0</td>\n      <td>0</td>\n      <td>1</td>\n      <td>1</td>\n      <td>0</td>\n    </tr>\n    <tr>\n      <th>2</th>\n      <td>10</td>\n      <td>45.92</td>\n      <td>1</td>\n      <td>0</td>\n      <td>1</td>\n      <td>0</td>\n      <td>0</td>\n      <td>1</td>\n      <td>0</td>\n    </tr>\n    <tr>\n      <th>3</th>\n      <td>64</td>\n      <td>41.50</td>\n      <td>1</td>\n      <td>0</td>\n      <td>1</td>\n      <td>0</td>\n      <td>0</td>\n      <td>0</td>\n      <td>1</td>\n    </tr>\n    <tr>\n      <th>4</th>\n      <td>34</td>\n      <td>54.86</td>\n      <td>1</td>\n      <td>0</td>\n      <td>1</td>\n      <td>0</td>\n      <td>0</td>\n      <td>1</td>\n      <td>0</td>\n    </tr>\n  </tbody>\n</table>\n</div>"
     },
     "execution_count": 214,
     "metadata": {},
     "output_type": "execute_result"
    }
   ],
   "source": [
    "#create df as a copy of tx_user before applying get_dummies\n",
    "df_cor_copy = df_cor.copy()\n",
    "df_cor_dum = pd.get_dummies(df_cor_copy)\n",
    "df_cor_dum.head()"
   ],
   "metadata": {
    "collapsed": false,
    "pycharm": {
     "name": "#%%\n"
    }
   }
  },
  {
   "cell_type": "code",
   "execution_count": 215,
   "outputs": [
    {
     "data": {
      "text/plain": "<Figure size 1440x1080 with 2 Axes>",
      "image/png": "[encoded data removed]"
     },
     "metadata": {},
     "output_type": "display_data"
    }
   ],
   "source": [
    "import seaborn as sns\n",
    "\n",
    "\n",
    "plt.subplots(figsize=(20,15))\n",
    "ax = plt.axes()\n",
    "ax.set_title(\"Correlation\")\n",
    "corr = df_cor_dum.corr()\n",
    "\n",
    "sns.heatmap(corr,\n",
    "            xticklabels=corr.columns.values,\n",
    "            yticklabels=corr.columns.values,\n",
    "            annot = True,\n",
    "            annot_kws={\"size\": 16},\n",
    "            linewidths=0.2,\n",
    "            fmt=\".2f\",)\n",
    "\n",
    "plt.title('Heatmap of Bike Purchase', fontsize = 20) # title with fontsize 20\n",
    "plt.xlabel('', fontsize = 15) # x-axis label with fontsize 15\n",
    "plt.ylabel('', fontsize = 15) # y-axis label with fontsize 15\n",
    "\n",
    "plt.show()"
   ],
   "metadata": {
    "collapsed": false,
    "pycharm": {
     "name": "#%%\n"
    }
   }
  },
  {
   "cell_type": "code",
   "execution_count": 189,
   "outputs": [
    {
     "data": {
      "text/plain": "<Figure size 1440x1080 with 2 Axes>",
      "image/png": "[encoded data removed]"
     },
     "metadata": {},
     "output_type": "display_data"
    }
   ],
   "source": [
    "import seaborn as sns\n",
    "\n",
    "\n",
    "plt.subplots(figsize=(20,15))\n",
    "ax = plt.axes()\n",
    "ax.set_title(\"Correlation\")\n",
    "corr = df_cor_dum.corr()\n",
    "\n",
    "sns.heatmap(corr,\n",
    "            xticklabels=corr.columns.values,\n",
    "            yticklabels=corr.columns.values,\n",
    "            annot = True,\n",
    "            annot_kws={\"size\": 16},\n",
    "            linewidths=0.2,\n",
    "            fmt=\".2f\",)\n",
    "sns.set(font_scale=2)\n",
    "plt.title('Heatmap of Bike Purchase', fontsize = 20) # title with fontsize 20\n",
    "plt.xlabel('', fontsize = 15) # x-axis label with fontsize 15\n",
    "plt.ylabel('', fontsize = 15) # y-axis label with fontsize 15\n",
    "\n",
    "plt.show()\n"
   ],
   "metadata": {
    "collapsed": false,
    "pycharm": {
     "name": "#%%\n"
    }
   }
  },
  {
   "cell_type": "code",
   "execution_count": 127,
   "outputs": [
    {
     "data": {
      "text/plain": "<Figure size 432x288 with 0 Axes>"
     },
     "metadata": {},
     "output_type": "display_data"
    }
   ],
   "source": [
    "plt.savefig('Heatmap.png', dpi=400)\n",
    "\n"
   ],
   "metadata": {
    "collapsed": false,
    "pycharm": {
     "name": "#%%\n"
    }
   }
  },
  {
   "cell_type": "code",
   "execution_count": null,
   "outputs": [],
   "source": [
    "\n"
   ],
   "metadata": {
    "collapsed": false,
    "pycharm": {
     "name": "#%%\n"
    }
   }
  }
 ],
 "metadata": {
  "kernelspec": {
   "display_name": "Python 3",
   "language": "python",
   "name": "python3"
  },
  "language_info": {
   "codemirror_mode": {
    "name": "ipython",
    "version": 3
   },
   "file_extension": ".py",
   "mimetype": "text/x-python",
   "name": "python",
   "nbconvert_exporter": "python",
   "pygments_lexer": "ipython3",
   "version": "3.6.4"
  }
 },
 "nbformat": 4,
 "nbformat_minor": 2
}